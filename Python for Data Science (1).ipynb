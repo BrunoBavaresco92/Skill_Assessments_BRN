{
 "cells": [
  {
   "cell_type": "markdown",
   "metadata": {},
   "source": [
    "<h1> Python for Data Science </h1>"
   ]
  },
  {
   "cell_type": "markdown",
   "metadata": {},
   "source": [
    "<h4> 1. Reading the .csv file as dataframe  </h4>"
   ]
  },
  {
   "cell_type": "code",
   "execution_count": 98,
   "metadata": {},
   "outputs": [
    {
     "name": "stdout",
     "output_type": "stream",
     "text": [
      "<bound method NDFrame.head of       Unnamed: 0 Country Name  Year  Agriculture, value added (% of GDP)   \n",
      "0              0  Afghanistan  1962                                  NaN  \\\n",
      "1              1  Afghanistan  1967                                  NaN   \n",
      "2              2  Afghanistan  1972                                  NaN   \n",
      "3              3  Afghanistan  1977                                  NaN   \n",
      "4              4  Afghanistan  1982                                  NaN   \n",
      "...          ...          ...   ...                                  ...   \n",
      "2602        2602     Zimbabwe  1987                            14.407528   \n",
      "2603        2603     Zimbabwe  1992                             7.413793   \n",
      "2604        2604     Zimbabwe  1997                            18.934082   \n",
      "2605        2605     Zimbabwe  2002                            14.029007   \n",
      "2606        2606     Zimbabwe  2007                            21.597907   \n",
      "\n",
      "      CO2 emissions (metric tons per capita)   \n",
      "0                                   0.073781  \\\n",
      "1                                   0.123782   \n",
      "2                                   0.130820   \n",
      "3                                   0.183118   \n",
      "4                                   0.165879   \n",
      "...                                      ...   \n",
      "2602                                1.598217   \n",
      "2603                                1.533724   \n",
      "2604                                1.194678   \n",
      "2605                                0.942795   \n",
      "2606                                0.743449   \n",
      "\n",
      "      Domestic credit provided by financial sector (% of GDP)   \n",
      "0                                             21.276422        \\\n",
      "1                                              9.917662         \n",
      "2                                             18.880833         \n",
      "3                                             13.836822         \n",
      "4                                                   NaN         \n",
      "...                                                 ...         \n",
      "2602                                          74.161607         \n",
      "2603                                          43.120518         \n",
      "2604                                          63.058320         \n",
      "2605                                         164.559047         \n",
      "2606                                                NaN         \n",
      "\n",
      "      Electric power consumption (kWh per capita)   \n",
      "0                                             NaN  \\\n",
      "1                                             NaN   \n",
      "2                                             NaN   \n",
      "3                                             NaN   \n",
      "4                                             NaN   \n",
      "...                                           ...   \n",
      "2602                                   878.072691   \n",
      "2603                                   778.695133   \n",
      "2604                                   870.988697   \n",
      "2605                                   827.329873   \n",
      "2606                                   700.642317   \n",
      "\n",
      "      Energy use (kg of oil equivalent per capita)   \n",
      "0                                              NaN  \\\n",
      "1                                              NaN   \n",
      "2                                              NaN   \n",
      "3                                              NaN   \n",
      "4                                              NaN   \n",
      "...                                            ...   \n",
      "2602                                    896.673611   \n",
      "2603                                    923.493407   \n",
      "2604                                    804.508892   \n",
      "2605                                    772.676619   \n",
      "2606                                    725.681049   \n",
      "\n",
      "      Exports of goods and services (% of GDP)   \n",
      "0                                     4.878051  \\\n",
      "1                                     6.772908   \n",
      "2                                    14.763231   \n",
      "3                                    11.662904   \n",
      "4                                          NaN   \n",
      "...                                        ...   \n",
      "2602                                 24.015710   \n",
      "2603                                 27.227263   \n",
      "2604                                 37.595273   \n",
      "2605                                 31.834799   \n",
      "2606                                 37.785373   \n",
      "\n",
      "      Fertility rate, total (births per woman)  GDP growth (annual %)   \n",
      "0                                        7.450                    NaN  \\\n",
      "1                                        7.450                    NaN   \n",
      "2                                        7.450                    NaN   \n",
      "3                                        7.449                    NaN   \n",
      "4                                        7.450                    NaN   \n",
      "...                                        ...                    ...   \n",
      "2602                                     5.784               1.150737   \n",
      "2603                                     4.840              -9.015570   \n",
      "2604                                     4.237               2.680594   \n",
      "2605                                     4.018              -8.894023   \n",
      "2606                                     4.022              -3.653327   \n",
      "\n",
      "      Imports of goods and services (% of GDP)   \n",
      "0                                     9.349593  \\\n",
      "1                                    14.209827   \n",
      "2                                    18.105850   \n",
      "3                                    14.823175   \n",
      "4                                          NaN   \n",
      "...                                        ...   \n",
      "2602                                 21.274886   \n",
      "2603                                 36.485231   \n",
      "2604                                 44.609791   \n",
      "2605                                 34.972553   \n",
      "2606                                 46.387531   \n",
      "\n",
      "      Industry, value added (% of GDP)  Inflation, GDP deflator (annual %)   \n",
      "0                                  NaN                                 NaN  \\\n",
      "1                                  NaN                                 NaN   \n",
      "2                                  NaN                                 NaN   \n",
      "3                                  NaN                                 NaN   \n",
      "4                                  NaN                                 NaN   \n",
      "...                                ...                                 ...   \n",
      "2602                         32.451242                            7.189361   \n",
      "2603                         40.862069                          -14.129659   \n",
      "2604                         25.554678                           -2.879048   \n",
      "2605                               NaN                            2.712950   \n",
      "2606                         33.074953                            0.894887   \n",
      "\n",
      "      Life expectancy at birth, total (years)   \n",
      "0                                   33.219902  \\\n",
      "1                                   35.389415   \n",
      "2                                   37.610146   \n",
      "3                                   40.110146   \n",
      "4                                   43.230732   \n",
      "...                                       ...   \n",
      "2602                                61.753805   \n",
      "2603                                56.491976   \n",
      "2604                                46.065902   \n",
      "2605                                40.679146   \n",
      "2606                                44.177756   \n",
      "\n",
      "      Population density (people per sq. km of land area)   \n",
      "0                                             14.312061    \\\n",
      "1                                             15.881812     \n",
      "2                                             17.947027     \n",
      "3                                             19.998926     \n",
      "4                                             19.402324     \n",
      "...                                                 ...     \n",
      "2602                                          24.649495     \n",
      "2603                                          28.485762     \n",
      "2604                                          31.174507     \n",
      "2605                                          32.807111     \n",
      "2606                                          34.374559     \n",
      "\n",
      "      Services, etc., value added (% of GDP)         pop continent   gdpPercap  \n",
      "0                                        NaN  10267083.0      Asia  853.100710  \n",
      "1                                        NaN  11537966.0      Asia  836.197138  \n",
      "2                                        NaN  13079460.0      Asia  739.981106  \n",
      "3                                        NaN  14880372.0      Asia  786.113360  \n",
      "4                                        NaN  12881816.0      Asia  978.011439  \n",
      "...                                      ...         ...       ...         ...  \n",
      "2602                               53.141236   9216418.0    Africa  706.157306  \n",
      "2603                               51.724135  10704340.0    Africa  693.420786  \n",
      "2604                               55.511236  11404948.0    Africa  792.449960  \n",
      "2605                                     NaN  11926563.0    Africa  672.038623  \n",
      "2606                               45.327139  12311143.0    Africa  469.709298  \n",
      "\n",
      "[2607 rows x 20 columns]>\n"
     ]
    }
   ],
   "source": [
    "import pandas as pd\n",
    "\n",
    "df=pd.read_csv('gapminder_clean.csv')\n",
    "\n",
    "print(df.head)"
   ]
  },
  {
   "cell_type": "code",
   "execution_count": 163,
   "metadata": {},
   "outputs": [],
   "source": [
    "#Creates a template for Bokeh plots with common settings.\n",
    "from bokeh.plotting import figure, show\n",
    "from bokeh.io import output_notebook\n",
    "def create_plot_template():\n",
    "\n",
    "    # Create a figure with common settings\n",
    "    p = figure(width=800, height=600)\n",
    "    \n",
    "    # Set default colors and color palette\n",
    "    p.background_fill_color = \"white\"\n",
    "    p.border_fill_color = \"white\"\n",
    "    p.grid.visible = False\n",
    "    p.outline_line_color = None\n",
    "    p.title.text_font_size= \"14pt\"\n",
    "    p.xaxis.axis_label_text_font_size = \"12pt\"\n",
    "    p.yaxis.axis_label_text_font_size = \"12pt\"\n",
    "    p.xaxis.major_label_text_font_size = \"12pt\"\n",
    "    p.yaxis.major_label_text_font_size = \"12pt\"\n",
    "    \n",
    "    \n",
    "    return p"
   ]
  },
  {
   "cell_type": "markdown",
   "metadata": {},
   "source": [
    "<h4> 2. Filter the data to include only rows where Year is 1962 and then make a scatter plot comparing 'CO2 emissions (metric tons per capita)' and gdpPercap for the filtered data.  </h4>"
   ]
  },
  {
   "cell_type": "code",
   "execution_count": 181,
   "metadata": {},
   "outputs": [
    {
     "name": "stdout",
     "output_type": "stream",
     "text": [
      "155 countries were not included in the graph because there is missing data \n"
     ]
    }
   ],
   "source": [
    "import matplotlib.pyplot as plt\n",
    "\n",
    "filter_year= 1962\n",
    "Year_1962=df[df['Year']==filter_year]\n",
    "\n",
    "\n",
    "#Listing the countries that have missing values of CO2 and GDP per capita for the year 1962\n",
    "countries = df['Country Name'].unique()\n",
    "countries_no_data_in_1962 = [country for country in countries if country not in Year_1962['Country Name'].values]\n",
    "\n",
    "Data_gdp_and_Co2= Year_1962.dropna(subset=['CO2 emissions (metric tons per capita)', 'gdpPercap'])\n",
    "Countries_used_for_graph=[country for country in Data_gdp_and_Co2['Country Name']]\n",
    "Countries_not_included_in_graph= [country for country in countries if country not in Data_gdp_and_Co2['Country Name'].values]\n",
    "\n",
    "#Pulling the data to graph\n",
    "Data_gdp_and_Co2= Data_gdp_and_Co2[['Country Name','CO2 emissions (metric tons per capita)', 'gdpPercap']]\n",
    "Data_gdp_and_Co2['gdpPercap']=Data_gdp_and_Co2['gdpPercap']/1000\n",
    "Data_gdp_and_Co2['gdpPercap']=Data_gdp_and_Co2['gdpPercap'].round(1)\n",
    "Data_gdp_and_Co2['CO2 emissions (metric tons per capita)']=Data_gdp_and_Co2['CO2 emissions (metric tons per capita)'].round(1)\n",
    "\n",
    "#There are a few countries that were out of the analysis due to lack of data\n",
    "print(f\"{len(Countries_not_included_in_graph)} countries were not included in the graph because there is missing data \")\n",
    "\n"
   ]
  },
  {
   "cell_type": "code",
   "execution_count": 182,
   "metadata": {},
   "outputs": [
    {
     "name": "stdout",
     "output_type": "stream",
     "text": [
      "        Country Name  CO2 emissions (metric tons per capita)  gdpPercap\n",
      "0        Afghanistan                                     0.1        0.9\n",
      "10           Albania                                     1.4        2.3\n",
      "20           Algeria                                     0.5        2.6\n",
      "50            Angola                                     0.2        4.3\n",
      "80         Argentina                                     2.5        7.1\n",
      "...              ...                                     ...        ...\n",
      "2443          Uganda                                     0.1        0.8\n",
      "2473  United Kingdom                                    11.1       12.5\n",
      "2483   United States                                    16.0       16.2\n",
      "2503         Uruguay                                     1.5        5.6\n",
      "2543         Vietnam                                     0.3        0.8\n",
      "\n",
      "[108 rows x 3 columns]\n"
     ]
    }
   ],
   "source": [
    "\n",
    "\n",
    "print(Data_gdp_and_Co2)\n"
   ]
  },
  {
   "cell_type": "code",
   "execution_count": 185,
   "metadata": {},
   "outputs": [
    {
     "data": {
      "text/html": [
       "    <style>\n",
       "        .bk-notebook-logo {\n",
       "            display: block;\n",
       "            width: 20px;\n",
       "            height: 20px;\n",
       "            background-image: url(data:image/png;base64,iVBORw0KGgoAAAANSUhEUgAAABQAAAAUCAYAAACNiR0NAAAABHNCSVQICAgIfAhkiAAAAAlwSFlzAAALEgAACxIB0t1+/AAAABx0RVh0U29mdHdhcmUAQWRvYmUgRmlyZXdvcmtzIENTNui8sowAAAOkSURBVDiNjZRtaJVlGMd/1/08zzln5zjP1LWcU9N0NkN8m2CYjpgQYQXqSs0I84OLIC0hkEKoPtiH3gmKoiJDU7QpLgoLjLIQCpEsNJ1vqUOdO7ppbuec5+V+rj4ctwzd8IIbbi6u+8f1539dt3A78eXC7QizUF7gyV1fD1Yqg4JWz84yffhm0qkFqBogB9rM8tZdtwVsPUhWhGcFJngGeWrPzHm5oaMmkfEg1usvLFyc8jLRqDOMru7AyC8saQr7GG7f5fvDeH7Ej8CM66nIF+8yngt6HWaKh7k49Soy9nXurCi1o3qUbS3zWfrYeQDTB/Qj6kX6Ybhw4B+bOYoLKCC9H3Nu/leUTZ1JdRWkkn2ldcCamzrcf47KKXdAJllSlxAOkRgyHsGC/zRday5Qld9DyoM4/q/rUoy/CXh3jzOu3bHUVZeU+DEn8FInkPBFlu3+nW3Nw0mk6vCDiWg8CeJaxEwuHS3+z5RgY+YBR6V1Z1nxSOfoaPa4LASWxxdNp+VWTk7+4vzaou8v8PN+xo+KY2xsw6une2frhw05CTYOmQvsEhjhWjn0bmXPjpE1+kplmmkP3suftwTubK9Vq22qKmrBhpY4jvd5afdRA3wGjFAgcnTK2s4hY0/GPNIb0nErGMCRxWOOX64Z8RAC4oCXdklmEvcL8o0BfkNK4lUg9HTl+oPlQxdNo3Mg4Nv175e/1LDGzZen30MEjRUtmXSfiTVu1kK8W4txyV6BMKlbgk3lMwYCiusNy9fVfvvwMxv8Ynl6vxoByANLTWplvuj/nF9m2+PDtt1eiHPBr1oIfhCChQMBw6Aw0UulqTKZdfVvfG7VcfIqLG9bcldL/+pdWTLxLUy8Qq38heUIjh4XlzZxzQm19lLFlr8vdQ97rjZVOLf8nclzckbcD4wxXMidpX30sFd37Fv/GtwwhzhxGVAprjbg0gCAEeIgwCZyTV2Z1REEW8O4py0wsjeloKoMr6iCY6dP92H6Vw/oTyICIthibxjm/DfN9lVz8IqtqKYLUXfoKVMVQVVJOElGjrnnUt9T9wbgp8AyYKaGlqingHZU/uG2NTZSVqwHQTWkx9hxjkpWDaCg6Ckj5qebgBVbT3V3NNXMSiWSDdGV3hrtzla7J+duwPOToIg42ChPQOQjspnSlp1V+Gjdged7+8UN5CRAV7a5EdFNwCjEaBR27b3W890TE7g24NAP/mMDXRWrGoFPQI9ls/MWO2dWFAar/xcOIImbbpA3zgAAAABJRU5ErkJggg==);\n",
       "        }\n",
       "    </style>\n",
       "    <div>\n",
       "        <a href=\"https://bokeh.org\" target=\"_blank\" class=\"bk-notebook-logo\"></a>\n",
       "        <span id=\"efcd99f3-5f84-4cbc-b3c6-92c8e1d775e4\">Loading BokehJS ...</span>\n",
       "    </div>\n"
      ]
     },
     "metadata": {},
     "output_type": "display_data"
    },
    {
     "data": {
      "application/javascript": "(function(root) {\n  function now() {\n    return new Date();\n  }\n\n  const force = true;\n\n  if (typeof root._bokeh_onload_callbacks === \"undefined\" || force === true) {\n    root._bokeh_onload_callbacks = [];\n    root._bokeh_is_loading = undefined;\n  }\n\nconst JS_MIME_TYPE = 'application/javascript';\n  const HTML_MIME_TYPE = 'text/html';\n  const EXEC_MIME_TYPE = 'application/vnd.bokehjs_exec.v0+json';\n  const CLASS_NAME = 'output_bokeh rendered_html';\n\n  /**\n   * Render data to the DOM node\n   */\n  function render(props, node) {\n    const script = document.createElement(\"script\");\n    node.appendChild(script);\n  }\n\n  /**\n   * Handle when an output is cleared or removed\n   */\n  function handleClearOutput(event, handle) {\n    function drop(id) {\n      const view = Bokeh.index.get_by_id(id)\n      if (view != null) {\n        view.model.document.clear()\n        Bokeh.index.delete(view)\n      }\n    }\n\n    const cell = handle.cell;\n\n    const id = cell.output_area._bokeh_element_id;\n    const server_id = cell.output_area._bokeh_server_id;\n\n    // Clean up Bokeh references\n    if (id != null) {\n      drop(id)\n    }\n\n    if (server_id !== undefined) {\n      // Clean up Bokeh references\n      const cmd_clean = \"from bokeh.io.state import curstate; print(curstate().uuid_to_server['\" + server_id + \"'].get_sessions()[0].document.roots[0]._id)\";\n      cell.notebook.kernel.execute(cmd_clean, {\n        iopub: {\n          output: function(msg) {\n            const id = msg.content.text.trim()\n            drop(id)\n          }\n        }\n      });\n      // Destroy server and session\n      const cmd_destroy = \"import bokeh.io.notebook as ion; ion.destroy_server('\" + server_id + \"')\";\n      cell.notebook.kernel.execute(cmd_destroy);\n    }\n  }\n\n  /**\n   * Handle when a new output is added\n   */\n  function handleAddOutput(event, handle) {\n    const output_area = handle.output_area;\n    const output = handle.output;\n\n    // limit handleAddOutput to display_data with EXEC_MIME_TYPE content only\n    if ((output.output_type != \"display_data\") || (!Object.prototype.hasOwnProperty.call(output.data, EXEC_MIME_TYPE))) {\n      return\n    }\n\n    const toinsert = output_area.element.find(\".\" + CLASS_NAME.split(' ')[0]);\n\n    if (output.metadata[EXEC_MIME_TYPE][\"id\"] !== undefined) {\n      toinsert[toinsert.length - 1].firstChild.textContent = output.data[JS_MIME_TYPE];\n      // store reference to embed id on output_area\n      output_area._bokeh_element_id = output.metadata[EXEC_MIME_TYPE][\"id\"];\n    }\n    if (output.metadata[EXEC_MIME_TYPE][\"server_id\"] !== undefined) {\n      const bk_div = document.createElement(\"div\");\n      bk_div.innerHTML = output.data[HTML_MIME_TYPE];\n      const script_attrs = bk_div.children[0].attributes;\n      for (let i = 0; i < script_attrs.length; i++) {\n        toinsert[toinsert.length - 1].firstChild.setAttribute(script_attrs[i].name, script_attrs[i].value);\n        toinsert[toinsert.length - 1].firstChild.textContent = bk_div.children[0].textContent\n      }\n      // store reference to server id on output_area\n      output_area._bokeh_server_id = output.metadata[EXEC_MIME_TYPE][\"server_id\"];\n    }\n  }\n\n  function register_renderer(events, OutputArea) {\n\n    function append_mime(data, metadata, element) {\n      // create a DOM node to render to\n      const toinsert = this.create_output_subarea(\n        metadata,\n        CLASS_NAME,\n        EXEC_MIME_TYPE\n      );\n      this.keyboard_manager.register_events(toinsert);\n      // Render to node\n      const props = {data: data, metadata: metadata[EXEC_MIME_TYPE]};\n      render(props, toinsert[toinsert.length - 1]);\n      element.append(toinsert);\n      return toinsert\n    }\n\n    /* Handle when an output is cleared or removed */\n    events.on('clear_output.CodeCell', handleClearOutput);\n    events.on('delete.Cell', handleClearOutput);\n\n    /* Handle when a new output is added */\n    events.on('output_added.OutputArea', handleAddOutput);\n\n    /**\n     * Register the mime type and append_mime function with output_area\n     */\n    OutputArea.prototype.register_mime_type(EXEC_MIME_TYPE, append_mime, {\n      /* Is output safe? */\n      safe: true,\n      /* Index of renderer in `output_area.display_order` */\n      index: 0\n    });\n  }\n\n  // register the mime type if in Jupyter Notebook environment and previously unregistered\n  if (root.Jupyter !== undefined) {\n    const events = require('base/js/events');\n    const OutputArea = require('notebook/js/outputarea').OutputArea;\n\n    if (OutputArea.prototype.mime_types().indexOf(EXEC_MIME_TYPE) == -1) {\n      register_renderer(events, OutputArea);\n    }\n  }\n  if (typeof (root._bokeh_timeout) === \"undefined\" || force === true) {\n    root._bokeh_timeout = Date.now() + 5000;\n    root._bokeh_failed_load = false;\n  }\n\n  const NB_LOAD_WARNING = {'data': {'text/html':\n     \"<div style='background-color: #fdd'>\\n\"+\n     \"<p>\\n\"+\n     \"BokehJS does not appear to have successfully loaded. If loading BokehJS from CDN, this \\n\"+\n     \"may be due to a slow or bad network connection. Possible fixes:\\n\"+\n     \"</p>\\n\"+\n     \"<ul>\\n\"+\n     \"<li>re-rerun `output_notebook()` to attempt to load from CDN again, or</li>\\n\"+\n     \"<li>use INLINE resources instead, as so:</li>\\n\"+\n     \"</ul>\\n\"+\n     \"<code>\\n\"+\n     \"from bokeh.resources import INLINE\\n\"+\n     \"output_notebook(resources=INLINE)\\n\"+\n     \"</code>\\n\"+\n     \"</div>\"}};\n\n  function display_loaded() {\n    const el = document.getElementById(\"efcd99f3-5f84-4cbc-b3c6-92c8e1d775e4\");\n    if (el != null) {\n      el.textContent = \"BokehJS is loading...\";\n    }\n    if (root.Bokeh !== undefined) {\n      if (el != null) {\n        el.textContent = \"BokehJS \" + root.Bokeh.version + \" successfully loaded.\";\n      }\n    } else if (Date.now() < root._bokeh_timeout) {\n      setTimeout(display_loaded, 100)\n    }\n  }\n\n  function run_callbacks() {\n    try {\n      root._bokeh_onload_callbacks.forEach(function(callback) {\n        if (callback != null)\n          callback();\n      });\n    } finally {\n      delete root._bokeh_onload_callbacks\n    }\n    console.debug(\"Bokeh: all callbacks have finished\");\n  }\n\n  function load_libs(css_urls, js_urls, callback) {\n    if (css_urls == null) css_urls = [];\n    if (js_urls == null) js_urls = [];\n\n    root._bokeh_onload_callbacks.push(callback);\n    if (root._bokeh_is_loading > 0) {\n      console.debug(\"Bokeh: BokehJS is being loaded, scheduling callback at\", now());\n      return null;\n    }\n    if (js_urls == null || js_urls.length === 0) {\n      run_callbacks();\n      return null;\n    }\n    console.debug(\"Bokeh: BokehJS not loaded, scheduling load and callback at\", now());\n    root._bokeh_is_loading = css_urls.length + js_urls.length;\n\n    function on_load() {\n      root._bokeh_is_loading--;\n      if (root._bokeh_is_loading === 0) {\n        console.debug(\"Bokeh: all BokehJS libraries/stylesheets loaded\");\n        run_callbacks()\n      }\n    }\n\n    function on_error(url) {\n      console.error(\"failed to load \" + url);\n    }\n\n    for (let i = 0; i < css_urls.length; i++) {\n      const url = css_urls[i];\n      const element = document.createElement(\"link\");\n      element.onload = on_load;\n      element.onerror = on_error.bind(null, url);\n      element.rel = \"stylesheet\";\n      element.type = \"text/css\";\n      element.href = url;\n      console.debug(\"Bokeh: injecting link tag for BokehJS stylesheet: \", url);\n      document.body.appendChild(element);\n    }\n\n    for (let i = 0; i < js_urls.length; i++) {\n      const url = js_urls[i];\n      const element = document.createElement('script');\n      element.onload = on_load;\n      element.onerror = on_error.bind(null, url);\n      element.async = false;\n      element.src = url;\n      console.debug(\"Bokeh: injecting script tag for BokehJS library: \", url);\n      document.head.appendChild(element);\n    }\n  };\n\n  function inject_raw_css(css) {\n    const element = document.createElement(\"style\");\n    element.appendChild(document.createTextNode(css));\n    document.body.appendChild(element);\n  }\n\n  const js_urls = [\"https://cdn.bokeh.org/bokeh/release/bokeh-3.3.4.min.js\", \"https://cdn.bokeh.org/bokeh/release/bokeh-gl-3.3.4.min.js\", \"https://cdn.bokeh.org/bokeh/release/bokeh-widgets-3.3.4.min.js\", \"https://cdn.bokeh.org/bokeh/release/bokeh-tables-3.3.4.min.js\", \"https://cdn.bokeh.org/bokeh/release/bokeh-mathjax-3.3.4.min.js\"];\n  const css_urls = [];\n\n  const inline_js = [    function(Bokeh) {\n      Bokeh.set_log_level(\"info\");\n    },\nfunction(Bokeh) {\n    }\n  ];\n\n  function run_inline_js() {\n    if (root.Bokeh !== undefined || force === true) {\n          for (let i = 0; i < inline_js.length; i++) {\n      inline_js[i].call(root, root.Bokeh);\n    }\nif (force === true) {\n        display_loaded();\n      }} else if (Date.now() < root._bokeh_timeout) {\n      setTimeout(run_inline_js, 100);\n    } else if (!root._bokeh_failed_load) {\n      console.log(\"Bokeh: BokehJS failed to load within specified timeout.\");\n      root._bokeh_failed_load = true;\n    } else if (force !== true) {\n      const cell = $(document.getElementById(\"efcd99f3-5f84-4cbc-b3c6-92c8e1d775e4\")).parents('.cell').data().cell;\n      cell.output_area.append_execute_result(NB_LOAD_WARNING)\n    }\n  }\n\n  if (root._bokeh_is_loading === 0) {\n    console.debug(\"Bokeh: BokehJS loaded, going straight to plotting\");\n    run_inline_js();\n  } else {\n    load_libs(css_urls, js_urls, function() {\n      console.debug(\"Bokeh: BokehJS plotting callback run at\", now());\n      run_inline_js();\n    });\n  }\n}(window));",
      "application/vnd.bokehjs_load.v0+json": ""
     },
     "metadata": {},
     "output_type": "display_data"
    },
    {
     "data": {
      "text/html": [
       "\n",
       "  <div id=\"b238bdee-5338-4f52-b77e-46e3648386be\" data-root-id=\"p4121\" style=\"display: contents;\"></div>\n"
      ]
     },
     "metadata": {},
     "output_type": "display_data"
    },
    {
     "data": {
      "application/javascript": "(function(root) {\n  function embed_document(root) {\n  const docs_json = {\"e7f4c918-9b6b-4f45-9cb5-9bc0eb9ce78e\":{\"version\":\"3.3.4\",\"title\":\"Bokeh Application\",\"roots\":[{\"type\":\"object\",\"name\":\"Figure\",\"id\":\"p4121\",\"attributes\":{\"width\":800,\"x_range\":{\"type\":\"object\",\"name\":\"Range1d\",\"id\":\"p4162\",\"attributes\":{\"end\":20}},\"y_range\":{\"type\":\"object\",\"name\":\"Range1d\",\"id\":\"p4163\",\"attributes\":{\"end\":40}},\"x_scale\":{\"type\":\"object\",\"name\":\"LinearScale\",\"id\":\"p4130\"},\"y_scale\":{\"type\":\"object\",\"name\":\"LinearScale\",\"id\":\"p4131\"},\"title\":{\"type\":\"object\",\"name\":\"Title\",\"id\":\"p4128\",\"attributes\":{\"text\":\"CO2 Emissions vs. GDP per Capita in 1962\",\"text_font_size\":\"14pt\"}},\"outline_line_color\":null,\"renderers\":[{\"type\":\"object\",\"name\":\"GlyphRenderer\",\"id\":\"p4159\",\"attributes\":{\"data_source\":{\"type\":\"object\",\"name\":\"ColumnDataSource\",\"id\":\"p4118\",\"attributes\":{\"selected\":{\"type\":\"object\",\"name\":\"Selection\",\"id\":\"p4119\",\"attributes\":{\"indices\":[],\"line_indices\":[]}},\"selection_policy\":{\"type\":\"object\",\"name\":\"UnionRenderers\",\"id\":\"p4120\"},\"data\":{\"type\":\"map\",\"entries\":[[\"index\",{\"type\":\"ndarray\",\"array\":{\"type\":\"bytes\",\"data\":\"AAAAAAoAAAAUAAAAMgAAAFAAAABuAAAAeAAAAJYAAAC+AAAA0gAAAPAAAAAOAQAALAEAADYBAABAAQAAVAEAAF4BAABoAQAAhgEAAJoBAACuAQAAuAEAAMIBAADMAQAA6gEAAPQBAAAIAgAAMAIAADoCAABOAgAAgAIAAJQCAACeAgAAvAIAAAwDAAAgAwAANAMAAFwDAABwAwAAmAMAAKIDAACsAwAAwAMAAN4DAADyAwAALgQAADgEAABCBAAAVgQAAGAEAAB0BAAAfgQAAIgEAACSBAAAnAQAALAEAADiBAAAPAUAAFAFAABaBQAAtAUAANwFAAD2BQAAAAYAAAoGAABaBgAAbgYAAHgGAACCBgAAoAYAAKoGAAC+BgAAyAYAANIGAADcBgAA9AYAACYHAAA6BwAATgcAAFgHAABiBwAAbAcAAHYHAACoBwAAvAcAANoHAADkBwAA7gcAAAwIAAAWCAAASwgAAFUIAAB9CAAAhwgAANcIAAD1CAAA/wgAAB0JAAAnCQAAOwkAAE8JAABZCQAAYwkAAIsJAACpCQAAswkAAMcJAADvCQAA\"},\"shape\":[108],\"dtype\":\"int32\",\"order\":\"little\"}],[\"Country Name\",{\"type\":\"ndarray\",\"array\":[\"Afghanistan\",\"Albania\",\"Algeria\",\"Angola\",\"Argentina\",\"Australia\",\"Austria\",\"Bahrain\",\"Belgium\",\"Benin\",\"Bolivia\",\"Brazil\",\"Bulgaria\",\"Burkina Faso\",\"Burundi\",\"Cambodia\",\"Cameroon\",\"Canada\",\"Central African Republic\",\"Chad\",\"Chile\",\"China\",\"Colombia\",\"Comoros\",\"Costa Rica\",\"Cote d'Ivoire\",\"Cuba\",\"Denmark\",\"Djibouti\",\"Dominican Republic\",\"Ecuador\",\"El Salvador\",\"Equatorial Guinea\",\"Ethiopia\",\"Finland\",\"France\",\"Gabon\",\"Ghana\",\"Greece\",\"Guatemala\",\"Guinea\",\"Guinea-Bissau\",\"Haiti\",\"Honduras\",\"Hungary\",\"Iceland\",\"India\",\"Indonesia\",\"Iraq\",\"Ireland\",\"Israel\",\"Italy\",\"Jamaica\",\"Japan\",\"Jordan\",\"Kenya\",\"Kuwait\",\"Lebanon\",\"Liberia\",\"Libya\",\"Madagascar\",\"Mali\",\"Mauritania\",\"Mauritius\",\"Mexico\",\"Mongolia\",\"Morocco\",\"Mozambique\",\"Myanmar\",\"Nepal\",\"Netherlands\",\"New Zealand\",\"Nicaragua\",\"Niger\",\"Nigeria\",\"Norway\",\"Pakistan\",\"Panama\",\"Paraguay\",\"Peru\",\"Philippines\",\"Poland\",\"Portugal\",\"Romania\",\"Rwanda\",\"Sao Tome and Principe\",\"Saudi Arabia\",\"Senegal\",\"Sierra Leone\",\"Singapore\",\"Somalia\",\"South Africa\",\"Spain\",\"Sri Lanka\",\"Sudan\",\"Sweden\",\"Switzerland\",\"Tanzania\",\"Thailand\",\"Togo\",\"Trinidad and Tobago\",\"Tunisia\",\"Turkey\",\"Uganda\",\"United Kingdom\",\"United States\",\"Uruguay\",\"Vietnam\"],\"shape\":[108],\"dtype\":\"object\",\"order\":\"little\"}],[\"CO2 emissions (metric tons per capita)\",{\"type\":\"ndarray\",\"array\":{\"type\":\"bytes\",\"data\":\"mpmZmZmZuT9mZmZmZmb2PwAAAAAAAOA/mpmZmZmZyT8AAAAAAAAEQJqZmZmZmSFAMzMzMzMzE0BmZmZmZmYiQDMzMzMzMyVAmpmZmZmZuT8zMzMzMzPTP2ZmZmZmZuY/ZmZmZmZmDkAAAAAAAAAAAAAAAAAAAAAAmpmZmZmZuT+amZmZmZm5PzMzMzMzMyZAAAAAAAAAAAAAAAAAAAAAAM3MzMzMzABAZmZmZmZm5j+amZmZmZnxP5qZmZmZmbk/mpmZmZmZ2T+amZmZmZnJP2ZmZmZmZv4/mpmZmZmZH0AAAAAAAADgP5qZmZmZmdk/MzMzMzMz0z+amZmZmZnJP5qZmZmZmbk/AAAAAAAAAACamZmZmZkNQM3MzMzMzBhAmpmZmZmZyT+amZmZmZnJPzMzMzMzM/M/MzMzMzMz0z+amZmZmZnJP5qZmZmZmbk/mpmZmZmZuT8zMzMzMzPTPwAAAAAAABRAZmZmZmZmGkAzMzMzMzPTP5qZmZmZmck/MzMzMzMz8z9mZmZmZmYSQAAAAAAAAAxAMzMzMzMzB0DNzMzMzMz0P83MzMzMzAhAmpmZmZmZ8T8zMzMzMzPTP83MzMzMTEVAAAAAAAAA+D+amZmZmZnJP2ZmZmZmZuY/mpmZmZmZuT8AAAAAAAAAAJqZmZmZmbk/mpmZmZmZ2T+amZmZmZn5PwAAAAAAAABAmpmZmZmZyT8zMzMzMzPTP5qZmZmZmbk/AAAAAAAAAABmZmZmZmYcQAAAAAAAABJAMzMzMzMz0z8AAAAAAAAAAJqZmZmZmbk/MzMzMzMzD0AzMzMzMzPTPwAAAAAAAPA/mpmZmZmZyT/NzMzMzMzsP5qZmZmZmdk/zczMzMzMHEAAAAAAAADwPzMzMzMzMwtAAAAAAAAAAACamZmZmZnJP2ZmZmZmZvY/mpmZmZmZyT+amZmZmZm5PwAAAAAAAPg/AAAAAAAAAADNzMzMzMwWQGZmZmZmZv4/mpmZmZmZyT+amZmZmZm5PzMzMzMzMxtAMzMzMzMzEUCamZmZmZm5P5qZmZmZmck/mpmZmZmZuT9mZmZmZmYgQJqZmZmZmdk/ZmZmZmZm5j+amZmZmZm5PzMzMzMzMyZAAAAAAAAAMEAAAAAAAAD4PzMzMzMzM9M/\"},\"shape\":[108],\"dtype\":\"float64\",\"order\":\"little\"}],[\"gdpPercap\",{\"type\":\"ndarray\",\"array\":{\"type\":\"bytes\",\"data\":\"zczMzMzM7D9mZmZmZmYCQM3MzMzMzARAMzMzMzMzEUBmZmZmZmYcQGZmZmZmZihAmpmZmZmZJUCamZmZmZkpQAAAAAAAACZAzczMzMzM7D+amZmZmZkBQGZmZmZmZgpAMzMzMzMzEUBmZmZmZmbmP5qZmZmZmdk/AAAAAAAA4D9mZmZmZmb2PwAAAAAAACtAMzMzMzMz8z9mZmZmZmb2PwAAAAAAABJAAAAAAAAA4D8AAAAAAAAEQGZmZmZmZvY/AAAAAAAADEAzMzMzMzP7P83MzMzMzBRAMzMzMzMzK0AAAAAAAAAIQDMzMzMzM/s/ZmZmZmZmEEBmZmZmZmYOQDMzMzMzM+M/mpmZmZmZ2T/NzMzMzMwiQDMzMzMzMyVAZmZmZmZmGkAzMzMzMzPzPwAAAAAAABhAZmZmZmZmBkBmZmZmZmbmPwAAAAAAAOA/zczMzMzM/D9mZmZmZmYCQGZmZmZmZh5AzczMzMzMJEBmZmZmZmbmP5qZmZmZmek/mpmZmZmZIEBmZmZmZmYaQGZmZmZmZhxAZmZmZmZmIEDNzMzMzMwUQGZmZmZmZhpAZmZmZmZmAkDNzMzMzMzsPwAAAAAA4FdAzczMzMzMFkAzMzMzMzPjPzMzMzMzMxtAmpmZmZmZ+T8AAAAAAADgP5qZmZmZmfE/AAAAAAAABEBmZmZmZmYSQJqZmZmZmfE/mpmZmZmZ+T8zMzMzMzPjP5qZmZmZmdk/ZmZmZmZm5j+amZmZmZkpQGZmZmZmZipAzczMzMzMDEAAAAAAAADwPzMzMzMzM/M/AAAAAAAAK0CamZmZmZnpPwAAAAAAAAxAzczMzMzMAEAAAAAAAAAUQJqZmZmZmfk/MzMzMzMzFUDNzMzMzMwSQM3MzMzMzBJAMzMzMzMz4z+amZmZmZnxPzMzMzMzMydAMzMzMzMz+z+amZmZmZnxP5qZmZmZmQ1AZmZmZmZm9j8zMzMzMzMXQM3MzMzMzBZAmpmZmZmZ8T8AAAAAAAAAQJqZmZmZmShAZmZmZmZmNEBmZmZmZmbmPwAAAAAAAPA/mpmZmZmZ8T8AAAAAAAAUQDMzMzMzM/s/ZmZmZmZmAkCamZmZmZnpPwAAAAAAAClAMzMzMzMzMEBmZmZmZmYWQJqZmZmZmek/\"},\"shape\":[108],\"dtype\":\"float64\",\"order\":\"little\"}]]}}},\"view\":{\"type\":\"object\",\"name\":\"CDSView\",\"id\":\"p4160\",\"attributes\":{\"filter\":{\"type\":\"object\",\"name\":\"AllIndices\",\"id\":\"p4161\"}}},\"glyph\":{\"type\":\"object\",\"name\":\"Circle\",\"id\":\"p4156\",\"attributes\":{\"x\":{\"type\":\"field\",\"field\":\"CO2 emissions (metric tons per capita)\"},\"y\":{\"type\":\"field\",\"field\":\"gdpPercap\"},\"size\":{\"type\":\"value\",\"value\":10},\"line_color\":{\"type\":\"value\",\"value\":\"#1f77b4\"},\"fill_color\":{\"type\":\"value\",\"value\":\"#1f77b4\"}}},\"nonselection_glyph\":{\"type\":\"object\",\"name\":\"Circle\",\"id\":\"p4157\",\"attributes\":{\"x\":{\"type\":\"field\",\"field\":\"CO2 emissions (metric tons per capita)\"},\"y\":{\"type\":\"field\",\"field\":\"gdpPercap\"},\"size\":{\"type\":\"value\",\"value\":10},\"line_color\":{\"type\":\"value\",\"value\":\"#1f77b4\"},\"line_alpha\":{\"type\":\"value\",\"value\":0.1},\"fill_color\":{\"type\":\"value\",\"value\":\"#1f77b4\"},\"fill_alpha\":{\"type\":\"value\",\"value\":0.1},\"hatch_alpha\":{\"type\":\"value\",\"value\":0.1}}},\"muted_glyph\":{\"type\":\"object\",\"name\":\"Circle\",\"id\":\"p4158\",\"attributes\":{\"x\":{\"type\":\"field\",\"field\":\"CO2 emissions (metric tons per capita)\"},\"y\":{\"type\":\"field\",\"field\":\"gdpPercap\"},\"size\":{\"type\":\"value\",\"value\":10},\"line_color\":{\"type\":\"value\",\"value\":\"#1f77b4\"},\"line_alpha\":{\"type\":\"value\",\"value\":0.2},\"fill_color\":{\"type\":\"value\",\"value\":\"#1f77b4\"},\"fill_alpha\":{\"type\":\"value\",\"value\":0.2},\"hatch_alpha\":{\"type\":\"value\",\"value\":0.2}}}}}],\"toolbar\":{\"type\":\"object\",\"name\":\"Toolbar\",\"id\":\"p4129\",\"attributes\":{\"tools\":[{\"type\":\"object\",\"name\":\"PanTool\",\"id\":\"p4142\"},{\"type\":\"object\",\"name\":\"WheelZoomTool\",\"id\":\"p4143\",\"attributes\":{\"renderers\":\"auto\"}},{\"type\":\"object\",\"name\":\"BoxZoomTool\",\"id\":\"p4144\",\"attributes\":{\"overlay\":{\"type\":\"object\",\"name\":\"BoxAnnotation\",\"id\":\"p4145\",\"attributes\":{\"syncable\":false,\"level\":\"overlay\",\"visible\":false,\"left\":{\"type\":\"number\",\"value\":\"nan\"},\"right\":{\"type\":\"number\",\"value\":\"nan\"},\"top\":{\"type\":\"number\",\"value\":\"nan\"},\"bottom\":{\"type\":\"number\",\"value\":\"nan\"},\"left_units\":\"canvas\",\"right_units\":\"canvas\",\"top_units\":\"canvas\",\"bottom_units\":\"canvas\",\"line_color\":\"black\",\"line_alpha\":1.0,\"line_width\":2,\"line_dash\":[4,4],\"fill_color\":\"lightgrey\",\"fill_alpha\":0.5}}}},{\"type\":\"object\",\"name\":\"SaveTool\",\"id\":\"p4150\"},{\"type\":\"object\",\"name\":\"ResetTool\",\"id\":\"p4151\"},{\"type\":\"object\",\"name\":\"HelpTool\",\"id\":\"p4152\"},{\"type\":\"object\",\"name\":\"HoverTool\",\"id\":\"p4164\",\"attributes\":{\"renderers\":[{\"id\":\"p4159\"}],\"tooltips\":[[\"Country\",\"@{Country Name}\"],[\"CO2 emissions\",\"@{CO2 emissions (metric tons per capita)}\"],[\"GDP per Capita\",\"@gdpPercap{0.0}\"]]}}]}},\"left\":[{\"type\":\"object\",\"name\":\"LinearAxis\",\"id\":\"p4137\",\"attributes\":{\"ticker\":{\"type\":\"object\",\"name\":\"BasicTicker\",\"id\":\"p4138\",\"attributes\":{\"mantissas\":[1,2,5]}},\"formatter\":{\"type\":\"object\",\"name\":\"BasicTickFormatter\",\"id\":\"p4139\"},\"axis_label\":\"GDP per Capita (Thousand of USD)\",\"axis_label_text_font_size\":\"12pt\",\"major_label_policy\":{\"type\":\"object\",\"name\":\"AllLabels\",\"id\":\"p4140\"},\"major_label_text_font_size\":\"12pt\"}}],\"below\":[{\"type\":\"object\",\"name\":\"LinearAxis\",\"id\":\"p4132\",\"attributes\":{\"ticker\":{\"type\":\"object\",\"name\":\"BasicTicker\",\"id\":\"p4133\",\"attributes\":{\"mantissas\":[1,2,5]}},\"formatter\":{\"type\":\"object\",\"name\":\"BasicTickFormatter\",\"id\":\"p4134\"},\"axis_label\":\"CO2 emissions (metric tons per capita)\",\"axis_label_text_font_size\":\"12pt\",\"major_label_policy\":{\"type\":\"object\",\"name\":\"AllLabels\",\"id\":\"p4135\"},\"major_label_text_font_size\":\"12pt\"}}],\"center\":[{\"type\":\"object\",\"name\":\"Grid\",\"id\":\"p4136\",\"attributes\":{\"visible\":false,\"axis\":{\"id\":\"p4132\"}}},{\"type\":\"object\",\"name\":\"Grid\",\"id\":\"p4141\",\"attributes\":{\"visible\":false,\"dimension\":1,\"axis\":{\"id\":\"p4137\"}}}],\"background_fill_color\":\"white\",\"border_fill_color\":\"white\"}}]}};\n  const render_items = [{\"docid\":\"e7f4c918-9b6b-4f45-9cb5-9bc0eb9ce78e\",\"roots\":{\"p4121\":\"b238bdee-5338-4f52-b77e-46e3648386be\"},\"root_ids\":[\"p4121\"]}];\n  root.Bokeh.embed.embed_items_notebook(docs_json, render_items);\n  }\n  if (root.Bokeh !== undefined) {\n    embed_document(root);\n  } else {\n    let attempts = 0;\n    const timer = setInterval(function(root) {\n      if (root.Bokeh !== undefined) {\n        clearInterval(timer);\n        embed_document(root);\n      } else {\n        attempts++;\n        if (attempts > 100) {\n          clearInterval(timer);\n          console.log(\"Bokeh: ERROR: Unable to run BokehJS code because BokehJS library is missing\");\n        }\n      }\n    }, 10, root)\n  }\n})(window);",
      "application/vnd.bokehjs_exec.v0+json": ""
     },
     "metadata": {
      "application/vnd.bokehjs_exec.v0+json": {
       "id": "p4121"
      }
     },
     "output_type": "display_data"
    }
   ],
   "source": [
    "from bokeh.plotting import figure, output_notebook, show\n",
    "from bokeh.models import HoverTool, ColumnDataSource, Range1d\n",
    "\n",
    "\n",
    "source = ColumnDataSource(data=Data_gdp_and_Co2)\n",
    "\n",
    "template_plot = create_plot_template()\n",
    "\n",
    "scatter=template_plot.circle('CO2 emissions (metric tons per capita)', 'gdpPercap', size=10, source=source)\n",
    "\n",
    "template_plot.title.text = \"CO2 Emissions vs. GDP per Capita in 1962\"\n",
    "template_plot.xaxis.axis_label = \"CO2 emissions (metric tons per capita)\"\n",
    "template_plot.yaxis.axis_label = \"GDP per Capita (Thousand of USD)\"\n",
    "template_plot.x_range =Range1d(0, 20)  # We are leaving Kuwait out of the graph. It is an outlayer\n",
    "template_plot.y_range = Range1d(0, 40)\n",
    "\n",
    "hover = HoverTool(\n",
    "    tooltips=[\n",
    "    ('Country', '@{Country Name}'),\n",
    "    ('CO2 emissions', '@{CO2 emissions (metric tons per capita)}'),\n",
    "    ('GDP per Capita', '@gdpPercap{0.0}')\n",
    "    ],\n",
    "    renderers=[scatter]\n",
    ")\n",
    "template_plot.add_tools(hover)\n",
    "\n",
    "# Show the plot\n",
    "output_notebook()\n",
    "show(template_plot)"
   ]
  },
  {
   "cell_type": "markdown",
   "metadata": {},
   "source": [
    "<h4>3. On the filtered data, calculate the correlation of 'CO2 emissions (metric tons per capita)' and gdpPercap. What is the correlation and associated p value? </h4>"
   ]
  },
  {
   "cell_type": "code",
   "execution_count": 187,
   "metadata": {},
   "outputs": [
    {
     "name": "stdout",
     "output_type": "stream",
     "text": [
      "Correlation Coefficient: 0.9262883290273864\n",
      "P-value: 9.783715519394783e-47\n"
     ]
    }
   ],
   "source": [
    "\n",
    "from scipy.stats import pearsonr\n",
    "\n",
    "correlation_coefficient, p_value = pearsonr(Data_gdp_and_Co2['CO2 emissions (metric tons per capita)'],Data_gdp_and_Co2['gdpPercap'])\n",
    "\n",
    "print(f\"Correlation Coefficient: {correlation_coefficient}\")\n",
    "print(f\"P-value: {p_value}\")"
   ]
  },
  {
   "cell_type": "markdown",
   "metadata": {},
   "source": [
    "<h4>4. On the unfiltered data, answer \"In what year is the correlation between 'CO2 emissions (metric tons per capita)' and gdpPercap the strongest?\" Filter the dataset to that year for the next step...</h4>"
   ]
  },
  {
   "cell_type": "code",
   "execution_count": 188,
   "metadata": {},
   "outputs": [
    {
     "name": "stdout",
     "output_type": "stream",
     "text": [
      "The year of max correlation is 1967\n"
     ]
    }
   ],
   "source": [
    "#Keeping data only where there is values for both variables\n",
    "\n",
    "Data= df.dropna(subset=['CO2 emissions (metric tons per capita)', 'gdpPercap'])\n",
    "\n",
    "Data_subset= Data[['Country Name','Year','CO2 emissions (metric tons per capita)', 'gdpPercap']]\n",
    "\n",
    "Years= Data_subset['Year'].unique()\n",
    "\n",
    "max=0\n",
    "for y in Years:\n",
    "    Year_y=Data_subset[Data_subset['Year']==y]\n",
    "    correlation_coefficient=Year_y['CO2 emissions (metric tons per capita)'].corr(Year_y['gdpPercap'])\n",
    "    if (correlation_coefficient>max):\n",
    "        max= correlation_coefficient\n",
    "        year_of_max_correlation=y\n",
    "\n",
    "\n",
    "print(f\"The year of max correlation is {year_of_max_correlation}\")    \n",
    "\n",
    "Data_Year_Max_Correlation= df[df['Year']==year_of_max_correlation]\n",
    "\n",
    "\n"
   ]
  },
  {
   "cell_type": "markdown",
   "metadata": {},
   "source": [
    "<h4>5. Using plotly or bokeh, create an interactive scatter plot comparing 'CO2 emissions (metric tons per capita)' and gdpPercap, where the point size is determined by pop (population) and the color is determined by the continent.</h4>"
   ]
  },
  {
   "cell_type": "code",
   "execution_count": 51,
   "metadata": {},
   "outputs": [],
   "source": [
    "#Again, there are countries that do not have data for CO2 emissions or gdp per capita, so those will be filtered out\n",
    "\n",
    "Data_Year_Max_Correlation= Data_Year_Max_Correlation[['Country Name','CO2 emissions (metric tons per capita)', 'gdpPercap', 'pop', 'continent']]\n",
    "Data_Year_Max_Correlation= Data_Year_Max_Correlation.dropna(subset=['CO2 emissions (metric tons per capita)', 'gdpPercap'])\n",
    "\n"
   ]
  },
  {
   "cell_type": "code",
   "execution_count": 52,
   "metadata": {},
   "outputs": [
    {
     "data": {
      "application/vnd.plotly.v1+json": {
       "config": {
        "plotlyServerURL": "https://plot.ly"
       },
       "data": [
        {
         "hovertemplate": "<b>%{hovertext}</b><br><br>continent=Asia<br>CO2 emissions (metric tons per capita)=%{x}<br>gdpPercap=%{y}<br>pop=%{marker.size}<extra></extra>",
         "hovertext": [
          "Afghanistan",
          "Bahrain",
          "Cambodia",
          "China",
          "India",
          "Indonesia",
          "Iraq",
          "Israel",
          "Japan",
          "Jordan",
          "Kuwait",
          "Lebanon",
          "Mongolia",
          "Myanmar",
          "Nepal",
          "Oman",
          "Pakistan",
          "Philippines",
          "Saudi Arabia",
          "Singapore",
          "Sri Lanka",
          "Thailand",
          "Vietnam"
         ],
         "legendgroup": "Asia",
         "marker": {
          "color": "#636efa",
          "opacity": 0.8,
          "size": [
           11537966,
           202182,
           6960067,
           754550000,
           506000000,
           109343000,
           8519282,
           2693585,
           100825279,
           1255058,
           575003,
           2186894,
           1149500,
           25870271,
           11261690,
           714775,
           60641899,
           35356600,
           5618198,
           1977600,
           11737396,
           34024249,
           39463910
          ],
          "sizemode": "area",
          "sizeref": 1886375,
          "symbol": "circle"
         },
         "mode": "markers",
         "name": "Asia",
         "orientation": "v",
         "showlegend": true,
         "type": "scatter",
         "x": [
          0.123782381421,
          5.12101242081,
          0.0624360387486,
          0.574162146975,
          0.331763432432,
          0.23191547809,
          2.05575631533,
          4.93341748634,
          4.86355784562,
          1.0719834839700002,
          43.4283027016,
          1.64225486815,
          1.83477215037,
          0.143519517019,
          0.0188098863912,
          0.205537806177,
          0.402522332305,
          0.555413076261,
          4.90876421118,
          1.54645934466,
          0.25192412202,
          0.360202673298,
          0.574906353177
         ],
         "xaxis": "x",
         "y": [
          836.1971382,
          14804.6727,
          523.4323142,
          612.7056934,
          700.7706107000001,
          762.4317721,
          8931.459811,
          8393.741404,
          9847.788607,
          2741.796252,
          80894.88326,
          6006.983042,
          1226.04113,
          349,
          676.4422254,
          4720.942687,
          942.4082588,
          1814.12743,
          16903.04886,
          4977.41854,
          1135.514326,
          1295.46066,
          637.1232887
         ],
         "yaxis": "y"
        },
        {
         "hovertemplate": "<b>%{hovertext}</b><br><br>continent=Europe<br>CO2 emissions (metric tons per capita)=%{x}<br>gdpPercap=%{y}<br>pop=%{marker.size}<extra></extra>",
         "hovertext": [
          "Albania",
          "Austria",
          "Belgium",
          "Bulgaria",
          "Denmark",
          "Finland",
          "France",
          "Greece",
          "Hungary",
          "Iceland",
          "Ireland",
          "Italy",
          "Netherlands",
          "Norway",
          "Poland",
          "Portugal",
          "Romania",
          "Spain",
          "Sweden",
          "Switzerland",
          "Turkey",
          "United Kingdom"
         ],
         "legendgroup": "Europe",
         "marker": {
          "color": "#EF553B",
          "opacity": 0.8,
          "size": [
           1984060,
           7376998,
           9556500,
           8310226,
           4838800,
           4605744,
           49569000,
           8716441,
           10223422,
           198676,
           2900100,
           52667100,
           12596822,
           3786019,
           31785378,
           9103000,
           19284814,
           32850275,
           7867931,
           6063000,
           33411317,
           54959000
          ],
          "sizemode": "area",
          "sizeref": 1886375,
          "symbol": "circle"
         },
         "mode": "markers",
         "name": "Europe",
         "orientation": "v",
         "showlegend": true,
         "type": "scatter",
         "x": [
          1.36374630011,
          5.41773672705,
          11.2172567535,
          6.63836916108,
          10.1493005476,
          6.21338658857,
          7.3064221599,
          2.24941398567,
          5.758242269149999,
          7.269387323839999,
          5.65504728764,
          4.43148255688,
          8.47605463669,
          5.1072949704,
          8.105834013680001,
          1.39828723131,
          4.71631855487,
          2.64722755876,
          8.770023402589999,
          5.43460087436,
          1.03313907211,
          10.7841045545
         ],
         "xaxis": "x",
         "y": [
          2760.196931,
          12834.6024,
          13149.04119,
          5577.0028,
          15937.21123,
          10921.63626,
          12999.91766,
          8513.097016,
          9326.64467,
          13319.89568,
          7655.568963,
          10022.40131,
          15363.25136,
          16361.87647,
          6557.152776,
          6361.517993,
          6470.866545,
          7993.512294,
          15258.29697,
          22966.14432,
          2826.3563870000003,
          14142.85089
         ],
         "yaxis": "y"
        },
        {
         "hovertemplate": "<b>%{hovertext}</b><br><br>continent=Africa<br>CO2 emissions (metric tons per capita)=%{x}<br>gdpPercap=%{y}<br>pop=%{marker.size}<extra></extra>",
         "hovertext": [
          "Algeria",
          "Angola",
          "Benin",
          "Burkina Faso",
          "Burundi",
          "Cameroon",
          "Central African Republic",
          "Chad",
          "Comoros",
          "Cote d'Ivoire",
          "Djibouti",
          "Equatorial Guinea",
          "Ethiopia",
          "Gabon",
          "Ghana",
          "Guinea",
          "Guinea-Bissau",
          "Kenya",
          "Liberia",
          "Libya",
          "Madagascar",
          "Malawi",
          "Mali",
          "Mauritania",
          "Mauritius",
          "Morocco",
          "Mozambique",
          "Niger",
          "Nigeria",
          "Rwanda",
          "Sao Tome and Principe",
          "Senegal",
          "Sierra Leone",
          "Somalia",
          "South Africa",
          "Sudan",
          "Swaziland",
          "Tanzania",
          "Togo",
          "Tunisia",
          "Uganda",
          "Zambia",
          "Zimbabwe"
         ],
         "legendgroup": "Africa",
         "marker": {
          "color": "#00cc96",
          "opacity": 0.8,
          "size": [
           12760499,
           5247469,
           2427334,
           5127935,
           3330989,
           6335506,
           1733638,
           3495967,
           217378,
           4744870,
           127617,
           259864,
           27860297,
           489004,
           8490213,
           3451418,
           601287,
           10191512,
           1279406,
           1759224,
           6334556,
           4147252,
           5212416,
           1230542,
           789309,
           14770296,
           8680909,
           4534062,
           47287752,
           3451079,
           70787,
           3965841,
           2662190,
           3428839,
           20997321,
           12716129,
           420690,
           12607312,
           1735550,
           4786986,
           8900294,
           3900000,
           4995432
          ],
          "sizemode": "area",
          "sizeref": 1886375,
          "symbol": "circle"
         },
         "mode": "markers",
         "name": "Africa",
         "orientation": "v",
         "showlegend": true,
         "type": "scatter",
         "x": [
          0.632118426889,
          0.166658588848,
          0.0523195961148,
          0.0192168474009,
          0.0147354429891,
          0.0729810151442,
          0.0533441408437,
          0.0341490827003,
          0.0856623590204,
          0.324270273072,
          0.669756398256,
          0.0908814105401,
          0.0408827807982,
          1.82744493336,
          0.185683744295,
          0.180529006335,
          0.0707397168393,
          0.266146233454,
          0.465652918101,
          9.94130993774,
          0.138895338975,
          0.086039155676,
          0.0392007077217,
          0.188179057955,
          0.6361795955439999,
          0.3615857767970001,
          0.216165510896,
          0.0318543481335,
          0.244682890582,
          0.0118002652184999,
          0.1620797359809999,
          0.181319271624,
          0.105440879922,
          0.0704483235701,
          6.46564779364,
          0.250771072594,
          0.55253014742,
          0.141879278158,
          0.10672264605,
          0.638870927594,
          0.0944460734361,
          1.2636279603,
          1.12296052314
         ],
         "xaxis": "x",
         "y": [
          3246.991771,
          5522.776375,
          1035.831411,
          794.8265597,
          412.97751360000007,
          1508.453148,
          1136.056615,
          1196.810565,
          1876.029643,
          2052.050473,
          3020.050513,
          915.5960025,
          516.1186438,
          8358.761987,
          1125.69716,
          708.7595409,
          715.5806402000001,
          1056.736457,
          713.6036482999999,
          18772.75169,
          1634.047282,
          495.5147806,
          545.0098873,
          1421.145193,
          2475.387562,
          1711.04477,
          566.6691539,
          1054.384891,
          1014.514104,
          510.9637142,
          1384.840593,
          1612.404632,
          1206.043465,
          1284.7331800000002,
          7114.477970999999,
          1687.997641,
          2613.101665,
          848.2186575,
          1477.59676,
          1932.3601670000005,
          908.9185217,
          1777.077318,
          569.7950712
         ],
         "yaxis": "y"
        },
        {
         "hovertemplate": "<b>%{hovertext}</b><br><br>continent=Americas<br>CO2 emissions (metric tons per capita)=%{x}<br>gdpPercap=%{y}<br>pop=%{marker.size}<extra></extra>",
         "hovertext": [
          "Argentina",
          "Bolivia",
          "Brazil",
          "Canada",
          "Chile",
          "Colombia",
          "Costa Rica",
          "Cuba",
          "Dominican Republic",
          "Ecuador",
          "El Salvador",
          "Guatemala",
          "Haiti",
          "Honduras",
          "Jamaica",
          "Mexico",
          "Nicaragua",
          "Panama",
          "Paraguay",
          "Peru",
          "Trinidad and Tobago",
          "United States",
          "Uruguay"
         ],
         "legendgroup": "Americas",
         "marker": {
          "color": "#ab63fa",
          "opacity": 0.8,
          "size": [
           22934225,
           4040665,
           88049823,
           20819767,
           8858908,
           19764027,
           1588717,
           8139332,
           4049146,
           5432424,
           3232927,
           4690773,
           4318137,
           2500689,
           1861096,
           47995559,
           1865490,
           1405486,
           2287985,
           12132200,
           960155,
           198712000,
           2748579
          ],
          "sizemode": "area",
          "sizeref": 1886375,
          "symbol": "circle"
         },
         "mode": "markers",
         "name": "Americas",
         "orientation": "v",
         "showlegend": true,
         "type": "scatter",
         "x": [
          2.85816254619,
          0.446569679542,
          0.744966530874,
          13.8103545953,
          2.1409901271900003,
          1.21683476874,
          0.517145991263,
          1.90593276713,
          0.380469161164,
          0.465781970972,
          0.342459705043,
          0.397317380131,
          0.0585660070754,
          0.352498584235,
          2.14463346178,
          1.8996986330400003,
          0.493983688604,
          1.21812383412,
          0.213013396786,
          1.1118562074299998,
          5.00989828473,
          18.5983178822,
          1.77610139003
         ],
         "xaxis": "x",
         "y": [
          8052.953020999999,
          2586.886053,
          3429.864357,
          16076.58803,
          5106.654313,
          2678.729839,
          4161.727834,
          5690.268015,
          1653.7230029999998,
          4579.074215,
          4358.595393,
          3242.531147,
          1452.057666,
          2538.269358,
          6124.703450999999,
          5754.733883,
          4643.393534000001,
          4421.009084,
          2299.376311,
          5788.09333,
          5621.368472,
          19530.36557,
          5444.61962
         ],
         "yaxis": "y"
        },
        {
         "hovertemplate": "<b>%{hovertext}</b><br><br>continent=Oceania<br>CO2 emissions (metric tons per capita)=%{x}<br>gdpPercap=%{y}<br>pop=%{marker.size}<extra></extra>",
         "hovertext": [
          "Australia",
          "New Zealand"
         ],
         "legendgroup": "Oceania",
         "marker": {
          "color": "#FFA15A",
          "opacity": 0.8,
          "size": [
           11872264,
           2728150
          ],
          "sizemode": "area",
          "sizeref": 1886375,
          "symbol": "circle"
         },
         "mode": "markers",
         "name": "Oceania",
         "orientation": "v",
         "showlegend": true,
         "type": "scatter",
         "x": [
          10.9556247987,
          5.00761352373
         ],
         "xaxis": "x",
         "y": [
          14526.12465,
          14463.918930000002
         ],
         "yaxis": "y"
        }
       ],
       "layout": {
        "legend": {
         "itemsizing": "constant",
         "title": {
          "text": "continent"
         },
         "tracegroupgap": 0
        },
        "template": {
         "data": {
          "bar": [
           {
            "error_x": {
             "color": "#2a3f5f"
            },
            "error_y": {
             "color": "#2a3f5f"
            },
            "marker": {
             "line": {
              "color": "white",
              "width": 0.5
             },
             "pattern": {
              "fillmode": "overlay",
              "size": 10,
              "solidity": 0.2
             }
            },
            "type": "bar"
           }
          ],
          "barpolar": [
           {
            "marker": {
             "line": {
              "color": "white",
              "width": 0.5
             },
             "pattern": {
              "fillmode": "overlay",
              "size": 10,
              "solidity": 0.2
             }
            },
            "type": "barpolar"
           }
          ],
          "carpet": [
           {
            "aaxis": {
             "endlinecolor": "#2a3f5f",
             "gridcolor": "#C8D4E3",
             "linecolor": "#C8D4E3",
             "minorgridcolor": "#C8D4E3",
             "startlinecolor": "#2a3f5f"
            },
            "baxis": {
             "endlinecolor": "#2a3f5f",
             "gridcolor": "#C8D4E3",
             "linecolor": "#C8D4E3",
             "minorgridcolor": "#C8D4E3",
             "startlinecolor": "#2a3f5f"
            },
            "type": "carpet"
           }
          ],
          "choropleth": [
           {
            "colorbar": {
             "outlinewidth": 0,
             "ticks": ""
            },
            "type": "choropleth"
           }
          ],
          "contour": [
           {
            "colorbar": {
             "outlinewidth": 0,
             "ticks": ""
            },
            "colorscale": [
             [
              0,
              "#0d0887"
             ],
             [
              0.1111111111111111,
              "#46039f"
             ],
             [
              0.2222222222222222,
              "#7201a8"
             ],
             [
              0.3333333333333333,
              "#9c179e"
             ],
             [
              0.4444444444444444,
              "#bd3786"
             ],
             [
              0.5555555555555556,
              "#d8576b"
             ],
             [
              0.6666666666666666,
              "#ed7953"
             ],
             [
              0.7777777777777778,
              "#fb9f3a"
             ],
             [
              0.8888888888888888,
              "#fdca26"
             ],
             [
              1,
              "#f0f921"
             ]
            ],
            "type": "contour"
           }
          ],
          "contourcarpet": [
           {
            "colorbar": {
             "outlinewidth": 0,
             "ticks": ""
            },
            "type": "contourcarpet"
           }
          ],
          "heatmap": [
           {
            "colorbar": {
             "outlinewidth": 0,
             "ticks": ""
            },
            "colorscale": [
             [
              0,
              "#0d0887"
             ],
             [
              0.1111111111111111,
              "#46039f"
             ],
             [
              0.2222222222222222,
              "#7201a8"
             ],
             [
              0.3333333333333333,
              "#9c179e"
             ],
             [
              0.4444444444444444,
              "#bd3786"
             ],
             [
              0.5555555555555556,
              "#d8576b"
             ],
             [
              0.6666666666666666,
              "#ed7953"
             ],
             [
              0.7777777777777778,
              "#fb9f3a"
             ],
             [
              0.8888888888888888,
              "#fdca26"
             ],
             [
              1,
              "#f0f921"
             ]
            ],
            "type": "heatmap"
           }
          ],
          "heatmapgl": [
           {
            "colorbar": {
             "outlinewidth": 0,
             "ticks": ""
            },
            "colorscale": [
             [
              0,
              "#0d0887"
             ],
             [
              0.1111111111111111,
              "#46039f"
             ],
             [
              0.2222222222222222,
              "#7201a8"
             ],
             [
              0.3333333333333333,
              "#9c179e"
             ],
             [
              0.4444444444444444,
              "#bd3786"
             ],
             [
              0.5555555555555556,
              "#d8576b"
             ],
             [
              0.6666666666666666,
              "#ed7953"
             ],
             [
              0.7777777777777778,
              "#fb9f3a"
             ],
             [
              0.8888888888888888,
              "#fdca26"
             ],
             [
              1,
              "#f0f921"
             ]
            ],
            "type": "heatmapgl"
           }
          ],
          "histogram": [
           {
            "marker": {
             "pattern": {
              "fillmode": "overlay",
              "size": 10,
              "solidity": 0.2
             }
            },
            "type": "histogram"
           }
          ],
          "histogram2d": [
           {
            "colorbar": {
             "outlinewidth": 0,
             "ticks": ""
            },
            "colorscale": [
             [
              0,
              "#0d0887"
             ],
             [
              0.1111111111111111,
              "#46039f"
             ],
             [
              0.2222222222222222,
              "#7201a8"
             ],
             [
              0.3333333333333333,
              "#9c179e"
             ],
             [
              0.4444444444444444,
              "#bd3786"
             ],
             [
              0.5555555555555556,
              "#d8576b"
             ],
             [
              0.6666666666666666,
              "#ed7953"
             ],
             [
              0.7777777777777778,
              "#fb9f3a"
             ],
             [
              0.8888888888888888,
              "#fdca26"
             ],
             [
              1,
              "#f0f921"
             ]
            ],
            "type": "histogram2d"
           }
          ],
          "histogram2dcontour": [
           {
            "colorbar": {
             "outlinewidth": 0,
             "ticks": ""
            },
            "colorscale": [
             [
              0,
              "#0d0887"
             ],
             [
              0.1111111111111111,
              "#46039f"
             ],
             [
              0.2222222222222222,
              "#7201a8"
             ],
             [
              0.3333333333333333,
              "#9c179e"
             ],
             [
              0.4444444444444444,
              "#bd3786"
             ],
             [
              0.5555555555555556,
              "#d8576b"
             ],
             [
              0.6666666666666666,
              "#ed7953"
             ],
             [
              0.7777777777777778,
              "#fb9f3a"
             ],
             [
              0.8888888888888888,
              "#fdca26"
             ],
             [
              1,
              "#f0f921"
             ]
            ],
            "type": "histogram2dcontour"
           }
          ],
          "mesh3d": [
           {
            "colorbar": {
             "outlinewidth": 0,
             "ticks": ""
            },
            "type": "mesh3d"
           }
          ],
          "parcoords": [
           {
            "line": {
             "colorbar": {
              "outlinewidth": 0,
              "ticks": ""
             }
            },
            "type": "parcoords"
           }
          ],
          "pie": [
           {
            "automargin": true,
            "type": "pie"
           }
          ],
          "scatter": [
           {
            "fillpattern": {
             "fillmode": "overlay",
             "size": 10,
             "solidity": 0.2
            },
            "type": "scatter"
           }
          ],
          "scatter3d": [
           {
            "line": {
             "colorbar": {
              "outlinewidth": 0,
              "ticks": ""
             }
            },
            "marker": {
             "colorbar": {
              "outlinewidth": 0,
              "ticks": ""
             }
            },
            "type": "scatter3d"
           }
          ],
          "scattercarpet": [
           {
            "marker": {
             "colorbar": {
              "outlinewidth": 0,
              "ticks": ""
             }
            },
            "type": "scattercarpet"
           }
          ],
          "scattergeo": [
           {
            "marker": {
             "colorbar": {
              "outlinewidth": 0,
              "ticks": ""
             }
            },
            "type": "scattergeo"
           }
          ],
          "scattergl": [
           {
            "marker": {
             "colorbar": {
              "outlinewidth": 0,
              "ticks": ""
             }
            },
            "type": "scattergl"
           }
          ],
          "scattermapbox": [
           {
            "marker": {
             "colorbar": {
              "outlinewidth": 0,
              "ticks": ""
             }
            },
            "type": "scattermapbox"
           }
          ],
          "scatterpolar": [
           {
            "marker": {
             "colorbar": {
              "outlinewidth": 0,
              "ticks": ""
             }
            },
            "type": "scatterpolar"
           }
          ],
          "scatterpolargl": [
           {
            "marker": {
             "colorbar": {
              "outlinewidth": 0,
              "ticks": ""
             }
            },
            "type": "scatterpolargl"
           }
          ],
          "scatterternary": [
           {
            "marker": {
             "colorbar": {
              "outlinewidth": 0,
              "ticks": ""
             }
            },
            "type": "scatterternary"
           }
          ],
          "surface": [
           {
            "colorbar": {
             "outlinewidth": 0,
             "ticks": ""
            },
            "colorscale": [
             [
              0,
              "#0d0887"
             ],
             [
              0.1111111111111111,
              "#46039f"
             ],
             [
              0.2222222222222222,
              "#7201a8"
             ],
             [
              0.3333333333333333,
              "#9c179e"
             ],
             [
              0.4444444444444444,
              "#bd3786"
             ],
             [
              0.5555555555555556,
              "#d8576b"
             ],
             [
              0.6666666666666666,
              "#ed7953"
             ],
             [
              0.7777777777777778,
              "#fb9f3a"
             ],
             [
              0.8888888888888888,
              "#fdca26"
             ],
             [
              1,
              "#f0f921"
             ]
            ],
            "type": "surface"
           }
          ],
          "table": [
           {
            "cells": {
             "fill": {
              "color": "#EBF0F8"
             },
             "line": {
              "color": "white"
             }
            },
            "header": {
             "fill": {
              "color": "#C8D4E3"
             },
             "line": {
              "color": "white"
             }
            },
            "type": "table"
           }
          ]
         },
         "layout": {
          "annotationdefaults": {
           "arrowcolor": "#2a3f5f",
           "arrowhead": 0,
           "arrowwidth": 1
          },
          "autotypenumbers": "strict",
          "coloraxis": {
           "colorbar": {
            "outlinewidth": 0,
            "ticks": ""
           }
          },
          "colorscale": {
           "diverging": [
            [
             0,
             "#8e0152"
            ],
            [
             0.1,
             "#c51b7d"
            ],
            [
             0.2,
             "#de77ae"
            ],
            [
             0.3,
             "#f1b6da"
            ],
            [
             0.4,
             "#fde0ef"
            ],
            [
             0.5,
             "#f7f7f7"
            ],
            [
             0.6,
             "#e6f5d0"
            ],
            [
             0.7,
             "#b8e186"
            ],
            [
             0.8,
             "#7fbc41"
            ],
            [
             0.9,
             "#4d9221"
            ],
            [
             1,
             "#276419"
            ]
           ],
           "sequential": [
            [
             0,
             "#0d0887"
            ],
            [
             0.1111111111111111,
             "#46039f"
            ],
            [
             0.2222222222222222,
             "#7201a8"
            ],
            [
             0.3333333333333333,
             "#9c179e"
            ],
            [
             0.4444444444444444,
             "#bd3786"
            ],
            [
             0.5555555555555556,
             "#d8576b"
            ],
            [
             0.6666666666666666,
             "#ed7953"
            ],
            [
             0.7777777777777778,
             "#fb9f3a"
            ],
            [
             0.8888888888888888,
             "#fdca26"
            ],
            [
             1,
             "#f0f921"
            ]
           ],
           "sequentialminus": [
            [
             0,
             "#0d0887"
            ],
            [
             0.1111111111111111,
             "#46039f"
            ],
            [
             0.2222222222222222,
             "#7201a8"
            ],
            [
             0.3333333333333333,
             "#9c179e"
            ],
            [
             0.4444444444444444,
             "#bd3786"
            ],
            [
             0.5555555555555556,
             "#d8576b"
            ],
            [
             0.6666666666666666,
             "#ed7953"
            ],
            [
             0.7777777777777778,
             "#fb9f3a"
            ],
            [
             0.8888888888888888,
             "#fdca26"
            ],
            [
             1,
             "#f0f921"
            ]
           ]
          },
          "colorway": [
           "#636efa",
           "#EF553B",
           "#00cc96",
           "#ab63fa",
           "#FFA15A",
           "#19d3f3",
           "#FF6692",
           "#B6E880",
           "#FF97FF",
           "#FECB52"
          ],
          "font": {
           "color": "#2a3f5f"
          },
          "geo": {
           "bgcolor": "white",
           "lakecolor": "white",
           "landcolor": "white",
           "showlakes": true,
           "showland": true,
           "subunitcolor": "#C8D4E3"
          },
          "hoverlabel": {
           "align": "left"
          },
          "hovermode": "closest",
          "mapbox": {
           "style": "light"
          },
          "paper_bgcolor": "white",
          "plot_bgcolor": "white",
          "polar": {
           "angularaxis": {
            "gridcolor": "#EBF0F8",
            "linecolor": "#EBF0F8",
            "ticks": ""
           },
           "bgcolor": "white",
           "radialaxis": {
            "gridcolor": "#EBF0F8",
            "linecolor": "#EBF0F8",
            "ticks": ""
           }
          },
          "scene": {
           "xaxis": {
            "backgroundcolor": "white",
            "gridcolor": "#DFE8F3",
            "gridwidth": 2,
            "linecolor": "#EBF0F8",
            "showbackground": true,
            "ticks": "",
            "zerolinecolor": "#EBF0F8"
           },
           "yaxis": {
            "backgroundcolor": "white",
            "gridcolor": "#DFE8F3",
            "gridwidth": 2,
            "linecolor": "#EBF0F8",
            "showbackground": true,
            "ticks": "",
            "zerolinecolor": "#EBF0F8"
           },
           "zaxis": {
            "backgroundcolor": "white",
            "gridcolor": "#DFE8F3",
            "gridwidth": 2,
            "linecolor": "#EBF0F8",
            "showbackground": true,
            "ticks": "",
            "zerolinecolor": "#EBF0F8"
           }
          },
          "shapedefaults": {
           "line": {
            "color": "#2a3f5f"
           }
          },
          "ternary": {
           "aaxis": {
            "gridcolor": "#DFE8F3",
            "linecolor": "#A2B1C6",
            "ticks": ""
           },
           "baxis": {
            "gridcolor": "#DFE8F3",
            "linecolor": "#A2B1C6",
            "ticks": ""
           },
           "bgcolor": "white",
           "caxis": {
            "gridcolor": "#DFE8F3",
            "linecolor": "#A2B1C6",
            "ticks": ""
           }
          },
          "title": {
           "x": 0.05
          },
          "xaxis": {
           "automargin": true,
           "gridcolor": "#EBF0F8",
           "linecolor": "#EBF0F8",
           "ticks": "",
           "title": {
            "standoff": 15
           },
           "zerolinecolor": "#EBF0F8",
           "zerolinewidth": 2
          },
          "yaxis": {
           "automargin": true,
           "gridcolor": "#EBF0F8",
           "linecolor": "#EBF0F8",
           "ticks": "",
           "title": {
            "standoff": 15
           },
           "zerolinecolor": "#EBF0F8",
           "zerolinewidth": 2
          }
         }
        },
        "title": {
         "text": "Data of CO2 emissions and GDP per capita in 1967"
        },
        "xaxis": {
         "anchor": "y",
         "color": "black",
         "domain": [
          0,
          1
         ],
         "gridcolor": "rgba(0,0,0,0)",
         "linewidth": 2,
         "range": [
          0.0118002652184999,
          43.4283027016
         ],
         "title": {
          "text": "CO2 emissions (metric tons per capita)"
         }
        },
        "yaxis": {
         "anchor": "x",
         "color": "black",
         "domain": [
          0,
          1
         ],
         "gridcolor": "rgba(0,0,0,0)",
         "linewidth": 2,
         "range": [
          349,
          80894.88326
         ],
         "title": {
          "text": "gdpPercap"
         }
        }
       }
      }
     },
     "metadata": {},
     "output_type": "display_data"
    }
   ],
   "source": [
    "import plotly.express as px\n",
    "\n",
    "fig = px.scatter(Data_Year_Max_Correlation, x=\"CO2 emissions (metric tons per capita)\", y=\"gdpPercap\", color=\"continent\", size='pop', hover_name =\"Country Name\",  opacity = 0.8,\n",
    "                 title= (f\"Data of CO2 emissions and GDP per capita in {year_of_max_correlation}\"))\n",
    "fig.update_layout(\n",
    "    template='plotly_white',  # Use white template\n",
    "    xaxis=dict(\n",
    "        gridcolor='rgba(0,0,0,0)',  # Set grid lines color to transparent\n",
    "        color='black',              # Set X axis color to black\n",
    "        linewidth=2                 # Set X axis line width to 2 (bold)\n",
    "    ),\n",
    "    yaxis=dict(\n",
    "        gridcolor='rgba(0,0,0,0)',  # Set grid lines color to transparent\n",
    "        color='black',              # Set Y axis color to black\n",
    "        linewidth=2                 # Set Y axis line width to 2 (bold)\n",
    "    )\n",
    ")\n",
    "\n",
    "\n",
    "fig.update_xaxes(range=[(Data_Year_Max_Correlation[\"CO2 emissions (metric tons per capita)\"]).min(), (Data_Year_Max_Correlation[\"CO2 emissions (metric tons per capita)\"]).max()])  \n",
    "fig.update_yaxes(range=[(Data_Year_Max_Correlation[\"gdpPercap\"]).min(), (Data_Year_Max_Correlation[\"gdpPercap\"]).max() ])\n",
    "\n",
    "fig.show()\n",
    "\n"
   ]
  },
  {
   "cell_type": "markdown",
   "metadata": {},
   "source": [
    "<h3>Now, without further guidance, use your Python Data Science skills (and the correct statistical tests) to answer the following (use the unfiltered dataset): </h3>"
   ]
  },
  {
   "cell_type": "markdown",
   "metadata": {},
   "source": [
    "<h4>1. What is the relationship between continent and 'Energy use (kg of oil equivalent per capita)'? (Stats test needed)</h4>"
   ]
  },
  {
   "cell_type": "code",
   "execution_count": 59,
   "metadata": {},
   "outputs": [
    {
     "name": "stdout",
     "output_type": "stream",
     "text": [
      "Country Name                                         Iceland\n",
      "Year                                                    2007\n",
      "Energy use (kg of oil equivalent per capita)    14746.031339\n",
      "continent                                             Europe\n",
      "Name: 1079, dtype: object\n"
     ]
    }
   ],
   "source": [
    "#Given that the predictor variable is Categorical ('Continent') and the outcome variable is Quantitative ('Energy use') we would run an ANOVA test\n",
    "\n",
    "#We will work only with those countries that have values for Energy use and Continent and we will conduct the analysis for each year\n",
    "\n",
    "data_energy= df.dropna(subset=['Energy use (kg of oil equivalent per capita)', 'continent'])\n",
    "data_energy=data_energy[['Country Name','Year','Energy use (kg of oil equivalent per capita)', 'continent']]\n",
    "data_energy['continent'] = data_energy['continent'].astype('category') #Making the continent as categorical variable\n",
    "\n"
   ]
  },
  {
   "cell_type": "code",
   "execution_count": 54,
   "metadata": {},
   "outputs": [
    {
     "name": "stdout",
     "output_type": "stream",
     "text": [
      "   Year  F-statistic   p-value\n",
      "0  1972     7.366889  0.000036\n",
      "1  1977     8.455679  0.000008\n",
      "2  1982     7.551775  0.000027\n",
      "3  1987     8.495935  0.000007\n",
      "4  1992     7.897726  0.000015\n",
      "5  1997     7.057320  0.000049\n",
      "6  2002     6.637304  0.000090\n",
      "7  2007     6.328448  0.000131\n",
      "8  1962     8.737694  0.000664\n",
      "9  1967     9.642467  0.000334\n"
     ]
    }
   ],
   "source": [
    "# Perform one-way ANOVA\n",
    "from scipy.stats import f_oneway\n",
    "\n",
    "Anova_Results=[]\n",
    "\n",
    "for year in data_energy['Year'].unique():\n",
    "\n",
    "    #Filter the data set per year\n",
    "    df_year = data_energy[data_energy['Year'] == year]\n",
    "    #Grouping data according to continent and energy use\n",
    "    grouped_data = [df_year[df_year['continent'] == continent]['Energy use (kg of oil equivalent per capita)'] for continent in df_year['continent'].unique()]    \n",
    "    #Performing ANOVA of the grouped data\n",
    "    f_statistic, p_value = f_oneway(*grouped_data)\n",
    "    \n",
    "    Anova_Results.append({'Year': year, 'F-statistic': f_statistic, 'p-value': p_value})\n",
    "\n",
    "Anova_Results=pd.DataFrame(Anova_Results)\n",
    "# Print the ANOVA results\n",
    "print(Anova_Results)\n",
    "#"
   ]
  },
  {
   "cell_type": "markdown",
   "metadata": {},
   "source": [
    "<h5>We can see that the p-value for all years is less than 0.05 so we reject the null hypothesis and we conclude that there is a significant difference in energy use across continents.\n",
    "We will plot the energy use in each continent for each year to complement this analysis</h5>"
   ]
  },
  {
   "cell_type": "code",
   "execution_count": 56,
   "metadata": {},
   "outputs": [
    {
     "data": {
      "image/png": "[encoded data removed]",
      "text/plain": [
       "<Figure size 3000x1000 with 10 Axes>"
      ]
     },
     "metadata": {},
     "output_type": "display_data"
    }
   ],
   "source": [
    "import matplotlib.pyplot as plt\n",
    "# Group by Year and Continent, calculate mean and standard deviation of Energy use\n",
    "grouped = df.groupby(['Year', 'continent'])['Energy use (kg of oil equivalent per capita)'].agg(['mean', 'std']).reset_index()\n",
    "\n",
    "# Plotting separate histogram for each year\n",
    "years = df['Year'].unique()\n",
    "num_years = len(years)\n",
    "\n",
    "fig, axs = plt.subplots(1, num_years, figsize=(30, 10), sharey=True)\n",
    "\n",
    "for i, year in enumerate(years):\n",
    "    year_data = grouped[grouped['Year'] == year]\n",
    "    ax = axs[i]\n",
    "    year_data.plot(kind='bar', x='continent', y='mean', yerr='std', ax=ax, capsize=4)\n",
    "    ax.set_title(f'Year {year}')\n",
    "    #ax.set_xlabel('Continent')\n",
    "    ax.set_ylabel('Energy Use (Kg per capita)')\n",
    "    ax.legend().remove()  # Remove legend to avoid overlap\n",
    "    \n",
    "plt.tight_layout()\n",
    "plt.show()"
   ]
  },
  {
   "cell_type": "markdown",
   "metadata": {},
   "source": [
    "<h4>2. Is there a significant difference between Europe and Asia with respect to 'Imports of goods and services (% of GDP)' in the years after 1990? (Stats test needed)</h4>"
   ]
  },
  {
   "cell_type": "code",
   "execution_count": 2,
   "metadata": {},
   "outputs": [
    {
     "name": "stdout",
     "output_type": "stream",
     "text": [
      "            Country Name  Year  Imports of goods and services (% of GDP)  \\\n",
      "8            Afghanistan  2002                                 65.287704   \n",
      "9            Afghanistan  2007                                 58.350047   \n",
      "16               Albania  1992                                 88.512248   \n",
      "17               Albania  1997                                 34.189995   \n",
      "18               Albania  2002                                 44.335366   \n",
      "...                  ...   ...                                       ...   \n",
      "2551             Vietnam  2002                                 57.249342   \n",
      "2552             Vietnam  2007                                 84.087509   \n",
      "2564  West Bank and Gaza  1997                                 73.041119   \n",
      "2565  West Bank and Gaza  2002                                 62.815682   \n",
      "2566  West Bank and Gaza  2007                                 77.810672   \n",
      "\n",
      "     continent  \n",
      "8         Asia  \n",
      "9         Asia  \n",
      "16      Europe  \n",
      "17      Europe  \n",
      "18      Europe  \n",
      "...        ...  \n",
      "2551      Asia  \n",
      "2552      Asia  \n",
      "2564      Asia  \n",
      "2565      Asia  \n",
      "2566      Asia  \n",
      "\n",
      "[212 rows x 4 columns]\n"
     ]
    }
   ],
   "source": [
    "#For this item, we will run a T-test between Europe and Asia for the years after 1990 and we will compare the Imports of goods and services\n",
    "# First, we will filter our data set just to have the continent, country name, year and Imports of goods and services (% of GDP)\n",
    "\n",
    "#Data filtering\n",
    "data_imports=df[df['Year']> 1990]\n",
    "data_imports = data_imports[(data_imports['continent'] == 'Asia') | (data_imports['continent'] == 'Europe')]\n",
    "data_imports= data_imports.dropna(subset=['Imports of goods and services (% of GDP)', 'continent']) #Here we drop those rows that have no values for imports or continent\n",
    "data_imports=data_imports[['Country Name','Year','Imports of goods and services (% of GDP)', 'continent']]\n",
    "\n",
    "print(data_imports)"
   ]
  },
  {
   "cell_type": "code",
   "execution_count": 69,
   "metadata": {},
   "outputs": [
    {
     "name": "stdout",
     "output_type": "stream",
     "text": [
      "T-statistic: 1.4185256887958868\n",
      "P-value: 0.15751969325554196\n"
     ]
    }
   ],
   "source": [
    "from scipy.stats import ttest_ind\n",
    "\n",
    "# separating both data sets\n",
    "imports_asia = data_imports[data_imports['continent'] == 'Asia']['Imports of goods and services (% of GDP)']\n",
    "imports_europe = data_imports[data_imports['continent'] == 'Europe']['Imports of goods and services (% of GDP)']\n",
    "\n",
    "# Perform t-test\n",
    "t_statistic, p_value = ttest_ind(imports_asia, imports_europe)\n",
    "\n",
    "# Print the results\n",
    "print(f\"T-statistic: {t_statistic}\")\n",
    "print(f\"P-value: {p_value}\")\n"
   ]
  },
  {
   "cell_type": "markdown",
   "metadata": {},
   "source": [
    "<h5>We can see that the p-value is greater than 0.05 so we conclude that there is no significant evidence between imports of good and services between Asia and Europe after 1990. We will plot the distribution of Imports along with their means to see it graphically</h5>"
   ]
  },
  {
   "cell_type": "code",
   "execution_count": 76,
   "metadata": {},
   "outputs": [
    {
     "data": {
      "image/png": "[encoded data removed]",
      "text/plain": [
       "<Figure size 1000x600 with 1 Axes>"
      ]
     },
     "metadata": {},
     "output_type": "display_data"
    }
   ],
   "source": [
    "import seaborn as sns\n",
    "import matplotlib.pyplot as plt\n",
    "\n",
    "# Set the style of seaborn\n",
    "# Create a figure and axis\n",
    "sns.set_theme(style=\"whitegrid\")\n",
    "plt.figure(figsize=(10, 6))\n",
    "\n",
    "mean_asia = imports_asia.mean()\n",
    "mean_europe = imports_europe.mean()\n",
    "\n",
    "# Plot KDE for Asia\n",
    "sns.kdeplot(imports_asia, color='blue', label='Asia', fill=True)\n",
    "\n",
    "# Plot KDE for Europe\n",
    "sns.kdeplot(imports_europe, color='orange', label='Europe', fill=True)\n",
    "\n",
    "# Perform t-test\n",
    "t_statistic, p_value = ttest_ind(imports_asia, imports_europe)\n",
    "\n",
    "# Add a vertical line for the t-statistic\n",
    "t_statistic_value = t_statistic\n",
    "plt.axvline(t_statistic_value, color='red', linestyle='--', label=f'T-statistic: {t_statistic:.2f}')\n",
    "\n",
    "plt.axvline(mean_asia, color='blue', linestyle='--', label=f'Mean (Asia): {mean_asia:.2f}')\n",
    "plt.axvline(mean_europe, color='orange', linestyle='--', label=f'Mean (Europe): {mean_europe:.2f}')\n",
    "\n",
    "# Add legend and labels\n",
    "plt.title('Distribution of Imports of Goods and Services (% of GDP) in Asia and Europe after 1990')\n",
    "plt.xlabel('Imports of Goods and Services (% of GDP)')\n",
    "plt.ylabel('Density')\n",
    "plt.legend()\n",
    "plt.show()"
   ]
  },
  {
   "cell_type": "markdown",
   "metadata": {},
   "source": [
    "<h3>3. What is the country (or countries) that has the highest 'Population density (people per sq. km of land area)' across all years? (i.e., which country has the highest average ranking in this category across each time point in the dataset?)</h3>"
   ]
  },
  {
   "cell_type": "code",
   "execution_count": 5,
   "metadata": {},
   "outputs": [
    {
     "name": "stdout",
     "output_type": "stream",
     "text": [
      "2607\n",
      "     Country Name  Year  Population density (people per sq. km of land area)\n",
      "0     Afghanistan  1962                                          14.312061  \n",
      "1     Afghanistan  1967                                          15.881812  \n",
      "2     Afghanistan  1972                                          17.947027  \n",
      "3     Afghanistan  1977                                          19.998926  \n",
      "4     Afghanistan  1982                                          19.402324  \n",
      "...           ...   ...                                                ...  \n",
      "2602     Zimbabwe  1987                                          24.649495  \n",
      "2603     Zimbabwe  1992                                          28.485762  \n",
      "2604     Zimbabwe  1997                                          31.174507  \n",
      "2605     Zimbabwe  2002                                          32.807111  \n",
      "2606     Zimbabwe  2007                                          34.374559  \n",
      "\n",
      "[2607 rows x 3 columns]\n"
     ]
    }
   ],
   "source": [
    "#First, we start by cleaning the dataset and discard columns that we will not use\n",
    "\n",
    "\n",
    "data_pop_dens= df.dropna(subset=['Population density (people per sq. km of land area)']) #Actually this line will not drop any row since all of them contain data \n",
    "data_pop_dens=df[['Country Name','Year','Population density (people per sq. km of land area)']]\n",
    "\n",
    "print(len(df))\n",
    "print((data_pop_dens))\n"
   ]
  },
  {
   "cell_type": "code",
   "execution_count": 43,
   "metadata": {},
   "outputs": [
    {
     "name": "stdout",
     "output_type": "stream",
     "text": [
      "      Year          Country Name  \\\n",
      "1616  1962                Monaco   \n",
      "1440  1962      Macao SAR, China   \n",
      "1000  1962  Hong Kong SAR, China   \n",
      "2070  1962             Singapore   \n",
      "870   1962             Gibraltar   \n",
      "1617  1967                Monaco   \n",
      "1441  1967      Macao SAR, China   \n",
      "1001  1967  Hong Kong SAR, China   \n",
      "2071  1967             Singapore   \n",
      "871   1967             Gibraltar   \n",
      "1442  1972      Macao SAR, China   \n",
      "1618  1972                Monaco   \n",
      "1002  1972  Hong Kong SAR, China   \n",
      "2072  1972             Singapore   \n",
      "872   1972             Gibraltar   \n",
      "1619  1977                Monaco   \n",
      "1443  1977      Macao SAR, China   \n",
      "1003  1977  Hong Kong SAR, China   \n",
      "2073  1977             Singapore   \n",
      "873   1977             Gibraltar   \n",
      "1620  1982                Monaco   \n",
      "1444  1982      Macao SAR, China   \n",
      "1004  1982  Hong Kong SAR, China   \n",
      "2074  1982             Singapore   \n",
      "874   1982             Gibraltar   \n",
      "1445  1987      Macao SAR, China   \n",
      "1621  1987                Monaco   \n",
      "1005  1987  Hong Kong SAR, China   \n",
      "2075  1987             Singapore   \n",
      "875   1987             Gibraltar   \n",
      "1446  1992      Macao SAR, China   \n",
      "1622  1992                Monaco   \n",
      "1006  1992  Hong Kong SAR, China   \n",
      "2076  1992             Singapore   \n",
      "876   1992             Gibraltar   \n",
      "1447  1997      Macao SAR, China   \n",
      "1623  1997                Monaco   \n",
      "1007  1997  Hong Kong SAR, China   \n",
      "2077  1997             Singapore   \n",
      "877   1997             Gibraltar   \n",
      "1448  2002      Macao SAR, China   \n",
      "1624  2002                Monaco   \n",
      "1008  2002  Hong Kong SAR, China   \n",
      "2078  2002             Singapore   \n",
      "878   2002             Gibraltar   \n",
      "1625  2007                Monaco   \n",
      "1449  2007      Macao SAR, China   \n",
      "2079  2007             Singapore   \n",
      "1009  2007  Hong Kong SAR, China   \n",
      "879   2007             Gibraltar   \n",
      "\n",
      "      Population density (people per sq. km of land area)  \n",
      "1616                                       11521.000000    \n",
      "1440                                        9051.250000    \n",
      "1000                                        3240.392157    \n",
      "2070                                        2612.238806    \n",
      "870                                         2213.300000    \n",
      "1617                                       11648.500000    \n",
      "1441                                       11362.900000    \n",
      "1001                                        3649.803922    \n",
      "2071                                        2951.641791    \n",
      "871                                         2390.100000    \n",
      "1442                                       12714.100000    \n",
      "1618                                       12026.000000    \n",
      "1002                                        4042.745098    \n",
      "2072                                        3212.537313    \n",
      "872                                         2499.100000    \n",
      "1619                                       12904.500000    \n",
      "1443                                       12186.450000    \n",
      "1003                                        4583.700000    \n",
      "2073                                        3470.597015    \n",
      "873                                         2592.200000    \n",
      "1620                                       13814.500000    \n",
      "1444                                       13046.050000    \n",
      "1004                                        5317.676768    \n",
      "2074                                        3949.949254    \n",
      "874                                         2667.100000    \n",
      "1445                                       16132.750000    \n",
      "1621                                       14584.500000    \n",
      "1005                                        5646.969697    \n",
      "2075                                        4141.476119    \n",
      "875                                         2665.300000    \n",
      "1446                                       18889.950000    \n",
      "1622                                       14932.000000    \n",
      "1006                                        5859.090909    \n",
      "2076                                        4821.937313    \n",
      "876                                         2703.500000    \n",
      "1447                                       20601.550000    \n",
      "1623                                       15621.000000    \n",
      "1007                                        6180.285714    \n",
      "2077                                        5665.728358    \n",
      "877                                         2724.600000    \n",
      "1448                                       16451.037037    \n",
      "1624                                       16324.000000    \n",
      "1008                                        6422.952381    \n",
      "2078                                        6186.592593    \n",
      "878                                         2790.300000    \n",
      "1625                                       17523.000000    \n",
      "1449                                       16884.315069    \n",
      "2079                                        6602.300719    \n",
      "1009                                        6586.952381    \n",
      "879                                         2977.000000    \n"
     ]
    },
    {
     "name": "stderr",
     "output_type": "stream",
     "text": [
      "C:\\Users\\bruno\\AppData\\Local\\Temp\\ipykernel_11768\\2732648246.py:15: FutureWarning: The behavior of DataFrame concatenation with empty or all-NA entries is deprecated. In a future version, this will no longer exclude empty or all-NA columns when determining the result dtypes. To retain the old behavior, exclude the relevant entries before the concat operation.\n",
      "  Results = pd.concat([Results,top_five_countries_year[['Year', 'Country Name', 'Population density (people per sq. km of land area)']]])\n"
     ]
    }
   ],
   "source": [
    "#For each year, we are going to get the top 5 countries with the highest population density per sq km and then we will elaborate a ranking of countries for all years\n",
    "\n",
    "Results = pd.DataFrame(columns=['Year', 'Country Name', 'Population density (people per sq. km of land area)'])\n",
    "\n",
    "#Creating a DF in order to graph the countries\n",
    "\n",
    "for year in data_pop_dens['Year'].unique():\n",
    "\n",
    "    df_year = data_pop_dens[data_pop_dens['Year'] == year]\n",
    "    sorted_df = df_year.sort_values(by='Population density (people per sq. km of land area)', ascending=False)    \n",
    "\n",
    "    top_five_countries_year = sorted_df.head(5)\n",
    "    \n",
    "    # Append the results to the new dataframe\n",
    "    Results = pd.concat([Results,top_five_countries_year[['Year', 'Country Name', 'Population density (people per sq. km of land area)']]])\n",
    "\n",
    "\n",
    "print(Results)\n",
    "\n",
    "\n",
    "    "
   ]
  },
  {
   "cell_type": "code",
   "execution_count": 42,
   "metadata": {},
   "outputs": [
    {
     "name": "stdout",
     "output_type": "stream",
     "text": [
      "['Monaco', 'Monaco', 'Macao SAR, China', 'Monaco', 'Monaco', 'Macao SAR, China', 'Macao SAR, China', 'Macao SAR, China', 'Macao SAR, China', 'Monaco']\n",
      "['Monaco', 'Macao SAR, China']\n",
      "Counter({'Monaco': 5, 'Macao SAR, China': 5})\n"
     ]
    }
   ],
   "source": [
    "from collections import Counter\n",
    "#Getting the country with the highest Pop density across all years\n",
    "top_countries = Results.groupby('Year')['Country Name'].first().tolist()\n",
    "\n",
    "country_counts = Counter(top_countries)\n",
    "max_count = max(country_counts.values())\n",
    "\n",
    "# Find the countries with the maximum count of occurrences\n",
    "most_common_countries = [country for country, count in country_counts.items() if count == max_count]\n",
    "\n",
    "print(top_countries)\n",
    "print(most_common_countries)\n",
    "print(country_counts)"
   ]
  },
  {
   "cell_type": "markdown",
   "metadata": {},
   "source": [
    "<h5> The countries with the highest population density across all years are Monaco and Macao SAR China with 5 appearances each. Let's check the graphs </hs>"
   ]
  },
  {
   "cell_type": "code",
   "execution_count": 44,
   "metadata": {},
   "outputs": [
    {
     "data": {
      "image/png": "[encoded data removed]",
      "text/plain": [
       "<Figure size 3000x1000 with 10 Axes>"
      ]
     },
     "metadata": {},
     "output_type": "display_data"
    }
   ],
   "source": [
    "#Building 10 graphs (one per year) for the pop density top 5 countries\n",
    "import matplotlib.pyplot as plt\n",
    "\n",
    "years = Results['Year'].unique()\n",
    "num_years = len(years)\n",
    "\n",
    "fig, axs = plt.subplots(1, num_years, figsize=(30, 10), sharey=True)\n",
    "\n",
    "for i, year in enumerate(years):\n",
    "    year_data = Results[Results['Year'] == year]\n",
    "    ax = axs[i]\n",
    "    year_data.plot(kind='bar', x='Country Name', y='Population density (people per sq. km of land area)', ax=ax, capsize=4)\n",
    "    ax.set_title(f'Year {year}')\n",
    "    #ax.set_xlabel('Continent')\n",
    "    ax.set_ylabel('Population density (people per sq. km of land area)')\n",
    "    ax.legend().remove()  # Remove legend to avoid overlap\n",
    "    \n",
    "plt.tight_layout()\n",
    "plt.show()"
   ]
  },
  {
   "cell_type": "markdown",
   "metadata": {},
   "source": [
    "<h3>4. What country (or countries) has shown the greatest increase in 'Life expectancy at birth, total (years)' between 1962 and 2007?</h3>"
   ]
  },
  {
   "cell_type": "code",
   "execution_count": 68,
   "metadata": {},
   "outputs": [
    {
     "name": "stdout",
     "output_type": "stream",
     "text": [
      "16 countries were removed from the analysis because they did not contained data for Life Expectancy in the 10 years timepoints\n"
     ]
    }
   ],
   "source": [
    "data_life_expectancy= df.dropna(subset=['Life expectancy at birth, total (years)', 'Year', 'Country Name'])\n",
    "\n",
    "#Leaving only countries that have data for the 10 years\n",
    "countries_to_filter=[]\n",
    "for country in data_life_expectancy['Country Name'].unique():\n",
    "    data_country= data_life_expectancy[data_life_expectancy['Country Name']== country]\n",
    "    if ((data_country['Life expectancy at birth, total (years)'].count())!= 10):\n",
    "        countries_to_filter.append(country)\n",
    "\n",
    "filtered_life_expectancy = data_life_expectancy[~data_life_expectancy['Country Name'].isin(countries_to_filter)]\n",
    "filtered_life_expectancy= filtered_life_expectancy[['Year', 'Country Name','Life expectancy at birth, total (years)','continent']]\n",
    "\n",
    "print(f\"{len(countries_to_filter)} countries were removed from the analysis because they did not contained data for Life Expectancy in the 10 years timepoints\")\n"
   ]
  },
  {
   "cell_type": "code",
   "execution_count": 73,
   "metadata": {},
   "outputs": [
    {
     "name": "stdout",
     "output_type": "stream",
     "text": [
      "      Year Country Name  Life expectancy at birth, total (years) continent\n",
      "0     1962  Afghanistan                                33.219902      Asia\n",
      "1     1967  Afghanistan                                35.389415      Asia\n",
      "2     1972  Afghanistan                                37.610146      Asia\n",
      "3     1977  Afghanistan                                40.110146      Asia\n",
      "4     1982  Afghanistan                                43.230732      Asia\n",
      "...    ...          ...                                      ...       ...\n",
      "2602  1987     Zimbabwe                                61.753805    Africa\n",
      "2603  1992     Zimbabwe                                56.491976    Africa\n",
      "2604  1997     Zimbabwe                                46.065902    Africa\n",
      "2605  2002     Zimbabwe                                40.679146    Africa\n",
      "2606  2007     Zimbabwe                                44.177756    Africa\n",
      "\n",
      "[2360 rows x 4 columns]\n"
     ]
    }
   ],
   "source": [
    "\n",
    "print(filtered_life_expectancy)"
   ]
  },
  {
   "cell_type": "code",
   "execution_count": 84,
   "metadata": {},
   "outputs": [
    {
     "name": "stdout",
     "output_type": "stream",
     "text": [
      "           Country Name  Change in life expectancy\n",
      "136            Maldives                  36.916146\n",
      "20               Bhutan                  33.198951\n",
      "213         Timor-Leste                  31.085146\n",
      "217             Tunisia                  30.860756\n",
      "164                Oman                  30.823098\n",
      "..                  ...                        ...\n",
      "16              Belarus                   1.567585\n",
      "180  Russian Federation                   0.476146\n",
      "221             Ukraine                  -0.923902\n",
      "123             Lesotho                  -2.520024\n",
      "235            Zimbabwe                  -8.100146\n",
      "\n",
      "[236 rows x 2 columns]\n",
      "[('Afghanistan', 24.6139268293), ('Albania', 12.307439024399997), ('Algeria', 25.853365853699998), ('Angola', 15.648146341399993), ('Antigua and Barbuda', 12.204682926800004), ('Arab World', 21.1984053268), ('Argentina', 9.576439024400003), ('Armenia', 7.054804878099986), ('Aruba', 8.161219512200006), ('Australia', 10.350243902399995), ('Austria', 10.870975609799999), ('Azerbaijan', 8.111926829200002), ('Bahamas, The', 10.651439024399998), ('Bahrain', 20.8894878049), ('Bangladesh', 21.775999999999996), ('Barbados', 12.660243902400005), ('Belarus', 1.5675853657999994), ('Belgium', 9.5634146342), ('Belize', 8.377658536599995), ('Benin', 19.677975609800008), ('Bhutan', 33.19895121950001), ('Bolivia', 21.937073170700003), ('Bosnia and Herzegovina', 13.803512195099998), ('Botswana', 7.8195365853999945), ('Brazil', 17.179170731699998), ('Brunei Darussalam', 13.09965853660001), ('Bulgaria', 3.171463414599998), ('Burkina Faso', 19.7829268292), ('Burundi', 11.595682926800002), ('Cabo Verde', 22.78285365859999), ('Cambodia', 23.034902439), ('Cameroon', 10.073195122000001), ('Canada', 9.267317073200005), ('Caribbean small states', 8.264086659999997), ('Central African Republic', 8.3686097561), ('Central Europe and the Baltics', 6.244590015699998), ('Chad', 10.030365853700005), ('Channel Islands', 8.580707317000005), ('Chile', 20.7981463415), ('China', 29.942097560999997), ('Colombia', 14.966292682899997), ('Comoros', 18.474585365799996), ('Congo, Dem. Rep.', 13.612902438999996), ('Congo, Rep.', 5.957365853700004), ('Costa Rica', 16.346536585399996), (\"Cote d'Ivoire\", 10.545000000000002), ('Croatia', 10.2973658537), ('Cuba', 13.310975609799996), ('Cyprus', 8.617268292700004), ('Czech Republic', 6.937560975600007), ('Denmark', 5.8753658535999875), ('Djibouti', 13.954902439000001), ('Dominican Republic', 18.832073170799994), ('Early-demographic dividend', 20.290744968400006), ('East Asia & Pacific', 24.161698983100003), ('East Asia & Pacific (IDA & IBRD countries)', 26.140864032799996), ('East Asia & Pacific (excluding high income)', 26.017740384299998), ('Ecuador', 20.1074878048), ('Egypt, Arab Rep.', 20.67578048779999), ('El Salvador', 19.541780487800004), ('Equatorial Guinea', 17.183902439100002), ('Eritrea', 21.8178292682), ('Estonia', 4.072585365799995), ('Ethiopia', 18.7093414634), ('Euro area', 10.496936269599999), ('Europe & Central Asia', 7.432086828400003), ('Europe & Central Asia (IDA & IBRD countries)', 5.372748366599993), ('Europe & Central Asia (excluding high income)', 5.120779302600013), ('European Union', 9.453641894300006), ('Fiji', 12.025951219500001), ('Finland', 10.685609756100007), ('Fragile and conflict affected situations', 17.27174285880001), ('France', 10.797560975700009), ('French Polynesia', 17.721317073199998), ('Gabon', 20.0187804878), ('Gambia, The', 25.9083414634), ('Georgia', 9.186682926800003), ('Germany', 9.841634146399983), ('Ghana', 12.953317073099996), ('Greece', 10.546756097499994), ('Grenada', 11.174658536599992), ('Guam', 15.088219512099997), ('Guatemala', 23.4224878049), ('Guinea', 18.739097561), ('Guinea-Bissau', 14.3882439024), ('Guyana', 5.1327560976000015), ('Haiti', 16.713585365899995), ('Heavily indebted poor countries (HIPC)', 16.157162581), ('High income', 10.391097357600003), ('Honduras', 24.225780487799994), ('Hong Kong SAR, China', 14.196731707300003), ('Hungary', 5.2853658537), ('IBRD only', 20.768728024899993), ('IDA & IBRD total', 19.228998882800006), ('IDA blend', 12.308476757200005), ('IDA only', 17.809934495700006), ('IDA total', 15.695900832700005), ('Iceland', 7.731707317100003), ('India', 22.883024390299994), ('Indonesia', 17.681926829299996), ('Iran, Islamic Rep.', 26.608390244), ('Iraq', 17.780658536500006), ('Ireland', 9.5534878048), ('Israel', 8.392682926799992), ('Italy', 12.284390243899992), ('Jamaica', 8.612658536599994), ('Japan', 13.912195121899998), ('Jordan', 18.709853658499995), ('Kazakhstan', 7.305804878099998), ('Kenya', 8.047048780499999), ('Kiribati', 14.70646341470001), ('Korea, Dem. People�s Rep.', 16.5508780488), ('Korea, Rep.', 24.8654146341), ('Kuwait', 11.9615121951), ('Kyrgyz Republic', 10.892463414599995), ('Lao PDR', 19.018609756100005), ('Late-demographic dividend', 22.300966809099997), ('Latin America & Caribbean', 16.378939963800008), ('Latin America & Caribbean (excluding high income)', 16.525586640499988), ('Latin America & the Caribbean (IDA & IBRD countries)', 16.658012623699996), ('Latvia', 1.5890243902000094), ('Least developed countries: UN classification', 18.434845975200005), ('Lebanon', 13.735487804899996), ('Lesotho', -2.5200243901999997), ('Liberia', 21.837073170800004), ('Libya', 25.867439024299998), ('Lithuania', 1.8046341463000033), ('Low & middle income', 19.426140362099993), ('Low income', 16.923596187500003), ('Lower middle income', 18.313580842000007), ('Luxembourg', 10.384804878099999), ('Macao SAR, China', 13.440463414600003), ('Macedonia, FYR', 12.4624878049), ('Madagascar', 21.115195121999996), ('Malawi', 13.298317073199996), ('Malaysia', 13.201585365900009), ('Maldives', 36.916146341499996), ('Mali', 25.7134634147), ('Malta', 11.587902439000004), ('Mauritania', 16.3145121951), ('Mauritius', 11.9438292683), ('Mexico', 17.4076829269), ('Micronesia, Fed. Sts.', 9.836902439000006), ('Middle East & North Africa', 23.022387012099998), ('Middle East & North Africa (IDA & IBRD countries)', 23.021217616199998), ('Middle East & North Africa (excluding high income)', 23.031226136199997), ('Middle income', 19.9152178534), ('Moldova', 5.665707316999992), ('Mongolia', 15.908121951200009), ('Montenegro', 8.978731707300028), ('Morocco', 21.990048780400002), ('Mozambique', 15.709829268299998), ('Myanmar', 19.9423170731), ('Namibia', 10.679707317000009), ('Nepal', 30.5996341464), ('Netherlands', 6.77365853660001), ('New Caledonia', 16.507317073200007), ('New Zealand', 8.919512195099998), ('Nicaragua', 24.2757804878), ('Niger', 19.789560975600004), ('Nigeria', 11.7290731708), ('North America', 8.015739247300004), ('Norway', 6.947073170699994), ('OECD members', 11.0214569754), ('Oman', 30.823097560999983), ('Other small states', 10.9766562115), ('Pacific island small states', 13.905312479900005), ('Pakistan', 17.2217560975), ('Panama', 14.418097560900001), ('Papua New Guinea', 21.594024390199998), ('Paraguay', 7.467926829299998), ('Peru', 24.244170731700002), ('Philippines', 9.050170731700007), ('Poland', 7.817073170699999), ('Portugal', 14.627804877999992), ('Post-demographic dividend', 9.881827049500004), ('Pre-demographic dividend', 14.744958255500002), ('Puerto Rico', 9.280926829199998), ('Qatar', 14.5568292683), ('Romania', 5.5367804878000015), ('Russian Federation', 0.4761463415000122), ('Rwanda', 15.108292682900014), ('Samoa', 20.5912682927), ('Sao Tome and Principe', 13.590707317100005), ('Saudi Arabia', 26.650560975599987), ('Senegal', 23.338170731700004), ('Sierra Leone', 14.7355853659), ('Singapore', 14.00921951219999), ('Slovak Republic', 3.7129756097999973), ('Slovenia', 9.582926829299993), ('Small states', 9.635960698200009), ('Solomon Islands', 15.8850975609), ('Somalia', 15.2574390244), ('South Africa', 2.1832195122000044), ('South Asia', 22.304956571699996), ('South Asia (IDA & IBRD)', 22.304956571699996), ('South Sudan', 19.558731707300005), ('Spain', 11.354146341499998), ('Sri Lanka', 13.682536585300006), ('St. Lucia', 14.948512195100001), ('St. Vincent and the Grenadines', 11.860195121899991), ('Sub-Saharan Africa', 13.1291145541), ('Sub-Saharan Africa (IDA & IBRD countries)', 13.1291145541), ('Sub-Saharan Africa (excluding high income)', 13.127105735500002), ('Sudan', 11.6734146342), ('Suriname', 9.070634146299987), ('Swaziland', 1.9544390244000027), ('Sweden', 7.549512195100007), ('Switzerland', 10.545365853600003), ('Syrian Arab Republic', 20.3782682927), ('Tajikistan', 10.232804878099998), ('Tanzania', 13.915536585399998), ('Thailand', 17.129219512199988), ('Timor-Leste', 31.085146341499993), ('Togo', 13.878341463400005), ('Tonga', 9.639707317099997), ('Trinidad and Tobago', 5.499463414600001), ('Tunisia', 30.860756097599996), ('Turkey', 26.340365853599998), ('Turkmenistan', 9.3516341463), ('Uganda', 8.507097561000002), ('Ukraine', -0.9239024390000026), ('United Arab Emirates', 21.7841707317), ('United Kingdom', 8.521951219499996), ('United States', 7.868292682900005), ('Upper middle income', 22.1216112849), ('Uruguay', 7.6543902438999964), ('Uzbekistan', 7.818195121999992), ('Vanuatu', 22.260536585299995), ('Venezuela, RB', 12.95858536579999), ('Vietnam', 14.073317073100007), ('Virgin Islands', 14.3618292683), ('World', 16.236963813899997), ('Yemen, Rep.', 27.215243902399997), ('Zambia', 6.623487804900002), ('Zimbabwe', -8.100146341399999)]\n"
     ]
    }
   ],
   "source": [
    "# We will calculate de difference between each time point (in total 10 time points) for each country and then we will aggregate this values. \n",
    "# The countries with the highest values will be those who experienced the highest change in life expectancy between 1962 and 2007\n",
    "\n",
    "data_life_exp_change=[]\n",
    "for country in filtered_life_expectancy['Country Name'].unique():\n",
    "    data_filter= filtered_life_expectancy[filtered_life_expectancy['Country Name']== country]\n",
    "    change= ((data_filter['Life expectancy at birth, total (years)'].diff()).sum())\n",
    "    data_life_exp_change.append((country,change))\n",
    "\n",
    "final_data=pd.DataFrame(data_life_exp_change, columns=['Country Name', 'Change in life expectancy'])\n",
    "final_data2 =final_data.sort_values(by='Change in life expectancy', ascending=False)\n",
    "\n",
    "\n",
    "print(final_data2)\n",
    "print(data_life_exp_change)\n"
   ]
  },
  {
   "cell_type": "code",
   "execution_count": 49,
   "metadata": {},
   "outputs": [
    {
     "name": "stdout",
     "output_type": "stream",
     "text": [
      "      Year              Country Name  Life expectancy at birth, total (years)\n",
      "1179  2007                     Japan                                82.507073\n",
      "1009  2007      Hong Kong SAR, China                                82.326829\n",
      "2312  2007               Switzerland                                81.741463\n",
      "1079  2007                   Iceland                                81.453659\n",
      "1159  2007                     Italy                                81.434146\n",
      "...    ...                       ...                                      ...\n",
      "2292  2007                 Swaziland                                46.772390\n",
      "399   2007  Central African Republic                                45.687390\n",
      "2069  2007              Sierra Leone                                45.488366\n",
      "1359  2007                   Lesotho                                44.882220\n",
      "2606  2007                  Zimbabwe                                44.177756\n",
      "\n",
      "[236 rows x 3 columns]\n"
     ]
    }
   ],
   "source": [
    "\n",
    "filtered_life_expectancy= filtered_life_expectancy[filtered_life_expectancy['Year']==2007].sort_values(by='Life expectancy at birth, total (years)', ascending=False)\n",
    "\n",
    "print(filtered_life_expectancy)"
   ]
  },
  {
   "cell_type": "code",
   "execution_count": 59,
   "metadata": {},
   "outputs": [
    {
     "name": "stdout",
     "output_type": "stream",
     "text": [
      "Those are the top 5 countries that shown the greatest increase in Life expectancy between 1962 and 2007 \n",
      "    Country Name  Change in life expectancy\n",
      "136     Maldives                  36.916146\n",
      "20        Bhutan                  33.198951\n",
      "213  Timor-Leste                  31.085146\n",
      "217      Tunisia                  30.860756\n",
      "164         Oman                  30.823098\n",
      "\n",
      "Those are the top 5 countries that shown the lowest increase in Life expectancy between 1962 and 2007\n",
      "           Country Name  Change in life expectancy\n",
      "16              Belarus                   1.567585\n",
      "180  Russian Federation                   0.476146\n",
      "221             Ukraine                  -0.923902\n",
      "123             Lesotho                  -2.520024\n",
      "235            Zimbabwe                  -8.100146\n",
      "\n",
      "Finally, those are the top 5 countries with the highest life expectancy in 2007\n",
      "              Country Name  Life expectancy at birth, total (years)\n",
      "1179                 Japan                                82.507073\n",
      "1009  Hong Kong SAR, China                                82.326829\n",
      "2312           Switzerland                                81.741463\n",
      "1079               Iceland                                81.453659\n",
      "1159                 Italy                                81.434146\n"
     ]
    }
   ],
   "source": [
    "print('Those are the top 5 countries that shown the greatest increase in Life expectancy between 1962 and 2007 ')\n",
    "print((final_data2[['Country Name','Change in life expectancy']]).head(5) )\n",
    "print('\\nThose are the top 5 countries that shown the lowest increase in Life expectancy between 1962 and 2007')\n",
    "print((final_data2[['Country Name','Change in life expectancy']]).tail(5))\n",
    "print('\\nFinally, those are the top 5 countries with the highest life expectancy in 2007')\n",
    "print((filtered_life_expectancy[['Country Name','Life expectancy at birth, total (years)']]).head(5))\n"
   ]
  },
  {
   "cell_type": "code",
   "execution_count": 97,
   "metadata": {},
   "outputs": [
    {
     "data": {
      "text/html": [
       "    <style>\n",
       "        .bk-notebook-logo {\n",
       "            display: block;\n",
       "            width: 20px;\n",
       "            height: 20px;\n",
       "            background-image: url(data:image/png;base64,iVBORw0KGgoAAAANSUhEUgAAABQAAAAUCAYAAACNiR0NAAAABHNCSVQICAgIfAhkiAAAAAlwSFlzAAALEgAACxIB0t1+/AAAABx0RVh0U29mdHdhcmUAQWRvYmUgRmlyZXdvcmtzIENTNui8sowAAAOkSURBVDiNjZRtaJVlGMd/1/08zzln5zjP1LWcU9N0NkN8m2CYjpgQYQXqSs0I84OLIC0hkEKoPtiH3gmKoiJDU7QpLgoLjLIQCpEsNJ1vqUOdO7ppbuec5+V+rj4ctwzd8IIbbi6u+8f1539dt3A78eXC7QizUF7gyV1fD1Yqg4JWz84yffhm0qkFqBogB9rM8tZdtwVsPUhWhGcFJngGeWrPzHm5oaMmkfEg1usvLFyc8jLRqDOMru7AyC8saQr7GG7f5fvDeH7Ej8CM66nIF+8yngt6HWaKh7k49Soy9nXurCi1o3qUbS3zWfrYeQDTB/Qj6kX6Ybhw4B+bOYoLKCC9H3Nu/leUTZ1JdRWkkn2ldcCamzrcf47KKXdAJllSlxAOkRgyHsGC/zRday5Qld9DyoM4/q/rUoy/CXh3jzOu3bHUVZeU+DEn8FInkPBFlu3+nW3Nw0mk6vCDiWg8CeJaxEwuHS3+z5RgY+YBR6V1Z1nxSOfoaPa4LASWxxdNp+VWTk7+4vzaou8v8PN+xo+KY2xsw6une2frhw05CTYOmQvsEhjhWjn0bmXPjpE1+kplmmkP3suftwTubK9Vq22qKmrBhpY4jvd5afdRA3wGjFAgcnTK2s4hY0/GPNIb0nErGMCRxWOOX64Z8RAC4oCXdklmEvcL8o0BfkNK4lUg9HTl+oPlQxdNo3Mg4Nv175e/1LDGzZen30MEjRUtmXSfiTVu1kK8W4txyV6BMKlbgk3lMwYCiusNy9fVfvvwMxv8Ynl6vxoByANLTWplvuj/nF9m2+PDtt1eiHPBr1oIfhCChQMBw6Aw0UulqTKZdfVvfG7VcfIqLG9bcldL/+pdWTLxLUy8Qq38heUIjh4XlzZxzQm19lLFlr8vdQ97rjZVOLf8nclzckbcD4wxXMidpX30sFd37Fv/GtwwhzhxGVAprjbg0gCAEeIgwCZyTV2Z1REEW8O4py0wsjeloKoMr6iCY6dP92H6Vw/oTyICIthibxjm/DfN9lVz8IqtqKYLUXfoKVMVQVVJOElGjrnnUt9T9wbgp8AyYKaGlqingHZU/uG2NTZSVqwHQTWkx9hxjkpWDaCg6Ckj5qebgBVbT3V3NNXMSiWSDdGV3hrtzla7J+duwPOToIg42ChPQOQjspnSlp1V+Gjdged7+8UN5CRAV7a5EdFNwCjEaBR27b3W890TE7g24NAP/mMDXRWrGoFPQI9ls/MWO2dWFAar/xcOIImbbpA3zgAAAABJRU5ErkJggg==);\n",
       "        }\n",
       "    </style>\n",
       "    <div>\n",
       "        <a href=\"https://bokeh.org\" target=\"_blank\" class=\"bk-notebook-logo\"></a>\n",
       "        <span id=\"bbe270b5-50ed-4040-b15c-4c7d08554c22\">Loading BokehJS ...</span>\n",
       "    </div>\n"
      ]
     },
     "metadata": {},
     "output_type": "display_data"
    },
    {
     "data": {
      "application/javascript": "(function(root) {\n  function now() {\n    return new Date();\n  }\n\n  const force = true;\n\n  if (typeof root._bokeh_onload_callbacks === \"undefined\" || force === true) {\n    root._bokeh_onload_callbacks = [];\n    root._bokeh_is_loading = undefined;\n  }\n\nconst JS_MIME_TYPE = 'application/javascript';\n  const HTML_MIME_TYPE = 'text/html';\n  const EXEC_MIME_TYPE = 'application/vnd.bokehjs_exec.v0+json';\n  const CLASS_NAME = 'output_bokeh rendered_html';\n\n  /**\n   * Render data to the DOM node\n   */\n  function render(props, node) {\n    const script = document.createElement(\"script\");\n    node.appendChild(script);\n  }\n\n  /**\n   * Handle when an output is cleared or removed\n   */\n  function handleClearOutput(event, handle) {\n    function drop(id) {\n      const view = Bokeh.index.get_by_id(id)\n      if (view != null) {\n        view.model.document.clear()\n        Bokeh.index.delete(view)\n      }\n    }\n\n    const cell = handle.cell;\n\n    const id = cell.output_area._bokeh_element_id;\n    const server_id = cell.output_area._bokeh_server_id;\n\n    // Clean up Bokeh references\n    if (id != null) {\n      drop(id)\n    }\n\n    if (server_id !== undefined) {\n      // Clean up Bokeh references\n      const cmd_clean = \"from bokeh.io.state import curstate; print(curstate().uuid_to_server['\" + server_id + \"'].get_sessions()[0].document.roots[0]._id)\";\n      cell.notebook.kernel.execute(cmd_clean, {\n        iopub: {\n          output: function(msg) {\n            const id = msg.content.text.trim()\n            drop(id)\n          }\n        }\n      });\n      // Destroy server and session\n      const cmd_destroy = \"import bokeh.io.notebook as ion; ion.destroy_server('\" + server_id + \"')\";\n      cell.notebook.kernel.execute(cmd_destroy);\n    }\n  }\n\n  /**\n   * Handle when a new output is added\n   */\n  function handleAddOutput(event, handle) {\n    const output_area = handle.output_area;\n    const output = handle.output;\n\n    // limit handleAddOutput to display_data with EXEC_MIME_TYPE content only\n    if ((output.output_type != \"display_data\") || (!Object.prototype.hasOwnProperty.call(output.data, EXEC_MIME_TYPE))) {\n      return\n    }\n\n    const toinsert = output_area.element.find(\".\" + CLASS_NAME.split(' ')[0]);\n\n    if (output.metadata[EXEC_MIME_TYPE][\"id\"] !== undefined) {\n      toinsert[toinsert.length - 1].firstChild.textContent = output.data[JS_MIME_TYPE];\n      // store reference to embed id on output_area\n      output_area._bokeh_element_id = output.metadata[EXEC_MIME_TYPE][\"id\"];\n    }\n    if (output.metadata[EXEC_MIME_TYPE][\"server_id\"] !== undefined) {\n      const bk_div = document.createElement(\"div\");\n      bk_div.innerHTML = output.data[HTML_MIME_TYPE];\n      const script_attrs = bk_div.children[0].attributes;\n      for (let i = 0; i < script_attrs.length; i++) {\n        toinsert[toinsert.length - 1].firstChild.setAttribute(script_attrs[i].name, script_attrs[i].value);\n        toinsert[toinsert.length - 1].firstChild.textContent = bk_div.children[0].textContent\n      }\n      // store reference to server id on output_area\n      output_area._bokeh_server_id = output.metadata[EXEC_MIME_TYPE][\"server_id\"];\n    }\n  }\n\n  function register_renderer(events, OutputArea) {\n\n    function append_mime(data, metadata, element) {\n      // create a DOM node to render to\n      const toinsert = this.create_output_subarea(\n        metadata,\n        CLASS_NAME,\n        EXEC_MIME_TYPE\n      );\n      this.keyboard_manager.register_events(toinsert);\n      // Render to node\n      const props = {data: data, metadata: metadata[EXEC_MIME_TYPE]};\n      render(props, toinsert[toinsert.length - 1]);\n      element.append(toinsert);\n      return toinsert\n    }\n\n    /* Handle when an output is cleared or removed */\n    events.on('clear_output.CodeCell', handleClearOutput);\n    events.on('delete.Cell', handleClearOutput);\n\n    /* Handle when a new output is added */\n    events.on('output_added.OutputArea', handleAddOutput);\n\n    /**\n     * Register the mime type and append_mime function with output_area\n     */\n    OutputArea.prototype.register_mime_type(EXEC_MIME_TYPE, append_mime, {\n      /* Is output safe? */\n      safe: true,\n      /* Index of renderer in `output_area.display_order` */\n      index: 0\n    });\n  }\n\n  // register the mime type if in Jupyter Notebook environment and previously unregistered\n  if (root.Jupyter !== undefined) {\n    const events = require('base/js/events');\n    const OutputArea = require('notebook/js/outputarea').OutputArea;\n\n    if (OutputArea.prototype.mime_types().indexOf(EXEC_MIME_TYPE) == -1) {\n      register_renderer(events, OutputArea);\n    }\n  }\n  if (typeof (root._bokeh_timeout) === \"undefined\" || force === true) {\n    root._bokeh_timeout = Date.now() + 5000;\n    root._bokeh_failed_load = false;\n  }\n\n  const NB_LOAD_WARNING = {'data': {'text/html':\n     \"<div style='background-color: #fdd'>\\n\"+\n     \"<p>\\n\"+\n     \"BokehJS does not appear to have successfully loaded. If loading BokehJS from CDN, this \\n\"+\n     \"may be due to a slow or bad network connection. Possible fixes:\\n\"+\n     \"</p>\\n\"+\n     \"<ul>\\n\"+\n     \"<li>re-rerun `output_notebook()` to attempt to load from CDN again, or</li>\\n\"+\n     \"<li>use INLINE resources instead, as so:</li>\\n\"+\n     \"</ul>\\n\"+\n     \"<code>\\n\"+\n     \"from bokeh.resources import INLINE\\n\"+\n     \"output_notebook(resources=INLINE)\\n\"+\n     \"</code>\\n\"+\n     \"</div>\"}};\n\n  function display_loaded() {\n    const el = document.getElementById(\"bbe270b5-50ed-4040-b15c-4c7d08554c22\");\n    if (el != null) {\n      el.textContent = \"BokehJS is loading...\";\n    }\n    if (root.Bokeh !== undefined) {\n      if (el != null) {\n        el.textContent = \"BokehJS \" + root.Bokeh.version + \" successfully loaded.\";\n      }\n    } else if (Date.now() < root._bokeh_timeout) {\n      setTimeout(display_loaded, 100)\n    }\n  }\n\n  function run_callbacks() {\n    try {\n      root._bokeh_onload_callbacks.forEach(function(callback) {\n        if (callback != null)\n          callback();\n      });\n    } finally {\n      delete root._bokeh_onload_callbacks\n    }\n    console.debug(\"Bokeh: all callbacks have finished\");\n  }\n\n  function load_libs(css_urls, js_urls, callback) {\n    if (css_urls == null) css_urls = [];\n    if (js_urls == null) js_urls = [];\n\n    root._bokeh_onload_callbacks.push(callback);\n    if (root._bokeh_is_loading > 0) {\n      console.debug(\"Bokeh: BokehJS is being loaded, scheduling callback at\", now());\n      return null;\n    }\n    if (js_urls == null || js_urls.length === 0) {\n      run_callbacks();\n      return null;\n    }\n    console.debug(\"Bokeh: BokehJS not loaded, scheduling load and callback at\", now());\n    root._bokeh_is_loading = css_urls.length + js_urls.length;\n\n    function on_load() {\n      root._bokeh_is_loading--;\n      if (root._bokeh_is_loading === 0) {\n        console.debug(\"Bokeh: all BokehJS libraries/stylesheets loaded\");\n        run_callbacks()\n      }\n    }\n\n    function on_error(url) {\n      console.error(\"failed to load \" + url);\n    }\n\n    for (let i = 0; i < css_urls.length; i++) {\n      const url = css_urls[i];\n      const element = document.createElement(\"link\");\n      element.onload = on_load;\n      element.onerror = on_error.bind(null, url);\n      element.rel = \"stylesheet\";\n      element.type = \"text/css\";\n      element.href = url;\n      console.debug(\"Bokeh: injecting link tag for BokehJS stylesheet: \", url);\n      document.body.appendChild(element);\n    }\n\n    for (let i = 0; i < js_urls.length; i++) {\n      const url = js_urls[i];\n      const element = document.createElement('script');\n      element.onload = on_load;\n      element.onerror = on_error.bind(null, url);\n      element.async = false;\n      element.src = url;\n      console.debug(\"Bokeh: injecting script tag for BokehJS library: \", url);\n      document.head.appendChild(element);\n    }\n  };\n\n  function inject_raw_css(css) {\n    const element = document.createElement(\"style\");\n    element.appendChild(document.createTextNode(css));\n    document.body.appendChild(element);\n  }\n\n  const js_urls = [\"https://cdn.bokeh.org/bokeh/release/bokeh-3.3.4.min.js\", \"https://cdn.bokeh.org/bokeh/release/bokeh-gl-3.3.4.min.js\", \"https://cdn.bokeh.org/bokeh/release/bokeh-widgets-3.3.4.min.js\", \"https://cdn.bokeh.org/bokeh/release/bokeh-tables-3.3.4.min.js\", \"https://cdn.bokeh.org/bokeh/release/bokeh-mathjax-3.3.4.min.js\"];\n  const css_urls = [];\n\n  const inline_js = [    function(Bokeh) {\n      Bokeh.set_log_level(\"info\");\n    },\nfunction(Bokeh) {\n    }\n  ];\n\n  function run_inline_js() {\n    if (root.Bokeh !== undefined || force === true) {\n          for (let i = 0; i < inline_js.length; i++) {\n      inline_js[i].call(root, root.Bokeh);\n    }\nif (force === true) {\n        display_loaded();\n      }} else if (Date.now() < root._bokeh_timeout) {\n      setTimeout(run_inline_js, 100);\n    } else if (!root._bokeh_failed_load) {\n      console.log(\"Bokeh: BokehJS failed to load within specified timeout.\");\n      root._bokeh_failed_load = true;\n    } else if (force !== true) {\n      const cell = $(document.getElementById(\"bbe270b5-50ed-4040-b15c-4c7d08554c22\")).parents('.cell').data().cell;\n      cell.output_area.append_execute_result(NB_LOAD_WARNING)\n    }\n  }\n\n  if (root._bokeh_is_loading === 0) {\n    console.debug(\"Bokeh: BokehJS loaded, going straight to plotting\");\n    run_inline_js();\n  } else {\n    load_libs(css_urls, js_urls, function() {\n      console.debug(\"Bokeh: BokehJS plotting callback run at\", now());\n      run_inline_js();\n    });\n  }\n}(window));",
      "application/vnd.bokehjs_load.v0+json": ""
     },
     "metadata": {},
     "output_type": "display_data"
    },
    {
     "ename": "RuntimeError",
     "evalue": "\n\nExpected fill_color to reference fields in the supplied data source.\n\nWhen a 'source' argument is passed to a glyph method, values that are sequences\n(like lists or arrays) must come from references to data columns in the source.\n\nFor instance, as an example:\n\n    source = ColumnDataSource(data=dict(x=a_list, y=an_array))\n\n    p.circle(x='x', y='y', source=source, ...) # pass column names and a source\n\nAlternatively, *all* data sequences may be provided as literals as long as a\nsource is *not* provided:\n\n    p.circle(x=a_list, y=an_array, ...)  # pass actual sequences and no source\n\n",
     "output_type": "error",
     "traceback": [
      "\u001b[1;31m---------------------------------------------------------------------------\u001b[0m",
      "\u001b[1;31mRuntimeError\u001b[0m                              Traceback (most recent call last)",
      "Cell \u001b[1;32mIn[97], line 14\u001b[0m\n\u001b[0;32m     11\u001b[0m colors \u001b[38;5;241m=\u001b[39m data[\u001b[38;5;124m'\u001b[39m\u001b[38;5;124mChange in life expectancy\u001b[39m\u001b[38;5;124m'\u001b[39m]\n\u001b[0;32m     13\u001b[0m p \u001b[38;5;241m=\u001b[39m figure(y_range\u001b[38;5;241m=\u001b[39mdata[\u001b[38;5;124m'\u001b[39m\u001b[38;5;124mCountry Name\u001b[39m\u001b[38;5;124m'\u001b[39m], width\u001b[38;5;241m=\u001b[39m\u001b[38;5;241m1000\u001b[39m, height\u001b[38;5;241m=\u001b[39m\u001b[38;5;241m400\u001b[39m, title\u001b[38;5;241m=\u001b[39m\u001b[38;5;124m\"\u001b[39m\u001b[38;5;124mTop 5 countries with thie highest and lowest increase in life expectancy between 1962 and 2007\u001b[39m\u001b[38;5;124m\"\u001b[39m)\n\u001b[1;32m---> 14\u001b[0m \u001b[43mp\u001b[49m\u001b[38;5;241;43m.\u001b[39;49m\u001b[43mhbar\u001b[49m\u001b[43m(\u001b[49m\u001b[43my\u001b[49m\u001b[38;5;241;43m=\u001b[39;49m\u001b[38;5;124;43m'\u001b[39;49m\u001b[38;5;124;43mCountry Name\u001b[39;49m\u001b[38;5;124;43m'\u001b[39;49m\u001b[43m,\u001b[49m\u001b[43m \u001b[49m\u001b[43mright\u001b[49m\u001b[38;5;241;43m=\u001b[39;49m\u001b[38;5;124;43m'\u001b[39;49m\u001b[38;5;124;43mChange in life expectancy\u001b[39;49m\u001b[38;5;124;43m'\u001b[39;49m\u001b[43m,\u001b[49m\u001b[43m \u001b[49m\u001b[43mheight\u001b[49m\u001b[38;5;241;43m=\u001b[39;49m\u001b[38;5;241;43m0.3\u001b[39;49m\u001b[43m,\u001b[49m\u001b[43m \u001b[49m\u001b[43msource\u001b[49m\u001b[38;5;241;43m=\u001b[39;49m\u001b[43msource\u001b[49m\u001b[43m \u001b[49m\u001b[43m,\u001b[49m\u001b[43mfill_color\u001b[49m\u001b[38;5;241;43m=\u001b[39;49m\u001b[43mcolors\u001b[49m\u001b[43m)\u001b[49m\n\u001b[0;32m     16\u001b[0m p\u001b[38;5;241m.\u001b[39mygrid\u001b[38;5;241m.\u001b[39mgrid_line_color \u001b[38;5;241m=\u001b[39m \u001b[38;5;28;01mNone\u001b[39;00m\n\u001b[0;32m     17\u001b[0m p\u001b[38;5;241m.\u001b[39mxaxis\u001b[38;5;241m.\u001b[39maxis_label \u001b[38;5;241m=\u001b[39m \u001b[38;5;124m\"\u001b[39m\u001b[38;5;124mIncrease in life expectancy (year)\u001b[39m\u001b[38;5;124m\"\u001b[39m\n",
      "File \u001b[1;32mc:\\Users\\Bruno\\AppData\\Local\\Programs\\Python\\Python310\\lib\\site-packages\\bokeh\\plotting\\_decorators.py:87\u001b[0m, in \u001b[0;36mglyph_method.<locals>.decorator.<locals>.wrapped\u001b[1;34m(self, *args, **kwargs)\u001b[0m\n\u001b[0;32m     85\u001b[0m \u001b[38;5;28;01mif\u001b[39;00m \u001b[38;5;28mself\u001b[39m\u001b[38;5;241m.\u001b[39mcoordinates \u001b[38;5;129;01mis\u001b[39;00m \u001b[38;5;129;01mnot\u001b[39;00m \u001b[38;5;28;01mNone\u001b[39;00m:\n\u001b[0;32m     86\u001b[0m     kwargs\u001b[38;5;241m.\u001b[39msetdefault(\u001b[38;5;124m\"\u001b[39m\u001b[38;5;124mcoordinates\u001b[39m\u001b[38;5;124m\"\u001b[39m, \u001b[38;5;28mself\u001b[39m\u001b[38;5;241m.\u001b[39mcoordinates)\n\u001b[1;32m---> 87\u001b[0m \u001b[38;5;28;01mreturn\u001b[39;00m create_renderer(glyphclass, \u001b[38;5;28mself\u001b[39m\u001b[38;5;241m.\u001b[39mplot, \u001b[38;5;241m*\u001b[39m\u001b[38;5;241m*\u001b[39mkwargs)\n",
      "File \u001b[1;32mc:\\Users\\Bruno\\AppData\\Local\\Programs\\Python\\Python310\\lib\\site-packages\\bokeh\\plotting\\_renderer.py:93\u001b[0m, in \u001b[0;36mcreate_renderer\u001b[1;34m(glyphclass, plot, **kwargs)\u001b[0m\n\u001b[0;32m     91\u001b[0m incompatible_literal_spec_values \u001b[38;5;241m+\u001b[39m\u001b[38;5;241m=\u001b[39m _process_sequence_literals(glyphclass, glyph_visuals, source, is_user_source)\n\u001b[0;32m     92\u001b[0m \u001b[38;5;28;01mif\u001b[39;00m incompatible_literal_spec_values:\n\u001b[1;32m---> 93\u001b[0m     \u001b[38;5;28;01mraise\u001b[39;00m \u001b[38;5;167;01mRuntimeError\u001b[39;00m(_GLYPH_SOURCE_MSG \u001b[38;5;241m%\u001b[39m nice_join(incompatible_literal_spec_values, conjunction\u001b[38;5;241m=\u001b[39m\u001b[38;5;124m\"\u001b[39m\u001b[38;5;124mand\u001b[39m\u001b[38;5;124m\"\u001b[39m))\n\u001b[0;32m     95\u001b[0m \u001b[38;5;66;03m# handle the nonselection glyph, we always set one\u001b[39;00m\n\u001b[0;32m     96\u001b[0m nonselection_visuals \u001b[38;5;241m=\u001b[39m pop_visuals(glyphclass, kwargs, prefix\u001b[38;5;241m=\u001b[39m\u001b[38;5;124m'\u001b[39m\u001b[38;5;124mnonselection_\u001b[39m\u001b[38;5;124m'\u001b[39m, defaults\u001b[38;5;241m=\u001b[39mglyph_visuals, override_defaults\u001b[38;5;241m=\u001b[39m{\u001b[38;5;124m'\u001b[39m\u001b[38;5;124malpha\u001b[39m\u001b[38;5;124m'\u001b[39m:\u001b[38;5;241m0.1\u001b[39m})\n",
      "\u001b[1;31mRuntimeError\u001b[0m: \n\nExpected fill_color to reference fields in the supplied data source.\n\nWhen a 'source' argument is passed to a glyph method, values that are sequences\n(like lists or arrays) must come from references to data columns in the source.\n\nFor instance, as an example:\n\n    source = ColumnDataSource(data=dict(x=a_list, y=an_array))\n\n    p.circle(x='x', y='y', source=source, ...) # pass column names and a source\n\nAlternatively, *all* data sequences may be provided as literals as long as a\nsource is *not* provided:\n\n    p.circle(x=a_list, y=an_array, ...)  # pass actual sequences and no source\n\n"
     ]
    }
   ],
   "source": [
    "from bokeh.models import ColumnDataSource\n",
    "from bokeh.plotting import figure, show,output_notebook\n",
    "from bokeh.sampledata.sprint import sprint\n",
    "from bokeh.transform import linear_cmap\n",
    "from bokeh.palettes import Reds, Greens\n",
    "\n",
    "output_notebook()\n",
    "\n",
    "data= pd.concat([final_data2.head(5), final_data2.tail(5)])\n",
    "source = ColumnDataSource(data=)\n",
    "colors = data['Change in life expectancy']\n",
    "\n",
    "p = figure(y_range=data['Country Name'], tools=\"hover\", width=1000, height=400, title=\"Top 5 countries with thie highest and lowest increase in life expectancy between 1962 and 2007\")\n",
    "p.hbar(y='Country Name', right='Change in life expectancy', height=0.3, source=source ,fill_color=colors)\n",
    "\n",
    "p.ygrid.grid_line_color = None\n",
    "p.xaxis.axis_label = \"Increase in life expectancy (year)\"\n",
    "p.outline_line_color = None\n",
    "\n",
    "show(p)"
   ]
  },
  {
   "cell_type": "markdown",
   "metadata": {},
   "source": []
  }
 ],
 "metadata": {
  "kernelspec": {
   "display_name": "Python 3",
   "language": "python",
   "name": "python3"
  },
  "language_info": {
   "codemirror_mode": {
    "name": "ipython",
    "version": 3
   },
   "file_extension": ".py",
   "mimetype": "text/x-python",
   "name": "python",
   "nbconvert_exporter": "python",
   "pygments_lexer": "ipython3",
   "version": "3.10.11"
  }
 },
 "nbformat": 4,
 "nbformat_minor": 2
}
