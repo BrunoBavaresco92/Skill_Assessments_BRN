{
 "cells": [
  {
   "cell_type": "markdown",
   "metadata": {},
   "source": [
    "<h1> Python for Data Science </h1>"
   ]
  },
  {
   "cell_type": "markdown",
   "metadata": {},
   "source": [
    "<h4> 1. Reading the .csv file as dataframe  </h4>"
   ]
  },
  {
   "cell_type": "code",
   "execution_count": 273,
   "metadata": {},
   "outputs": [
    {
     "name": "stdout",
     "output_type": "stream",
     "text": [
      "<bound method NDFrame.head of       Unnamed: 0 Country Name  Year  Agriculture, value added (% of GDP)   \n",
      "0              0  Afghanistan  1962                                  NaN  \\\n",
      "1              1  Afghanistan  1967                                  NaN   \n",
      "2              2  Afghanistan  1972                                  NaN   \n",
      "3              3  Afghanistan  1977                                  NaN   \n",
      "4              4  Afghanistan  1982                                  NaN   \n",
      "...          ...          ...   ...                                  ...   \n",
      "2602        2602     Zimbabwe  1987                            14.407528   \n",
      "2603        2603     Zimbabwe  1992                             7.413793   \n",
      "2604        2604     Zimbabwe  1997                            18.934082   \n",
      "2605        2605     Zimbabwe  2002                            14.029007   \n",
      "2606        2606     Zimbabwe  2007                            21.597907   \n",
      "\n",
      "      CO2 emissions (metric tons per capita)   \n",
      "0                                   0.073781  \\\n",
      "1                                   0.123782   \n",
      "2                                   0.130820   \n",
      "3                                   0.183118   \n",
      "4                                   0.165879   \n",
      "...                                      ...   \n",
      "2602                                1.598217   \n",
      "2603                                1.533724   \n",
      "2604                                1.194678   \n",
      "2605                                0.942795   \n",
      "2606                                0.743449   \n",
      "\n",
      "      Domestic credit provided by financial sector (% of GDP)   \n",
      "0                                             21.276422        \\\n",
      "1                                              9.917662         \n",
      "2                                             18.880833         \n",
      "3                                             13.836822         \n",
      "4                                                   NaN         \n",
      "...                                                 ...         \n",
      "2602                                          74.161607         \n",
      "2603                                          43.120518         \n",
      "2604                                          63.058320         \n",
      "2605                                         164.559047         \n",
      "2606                                                NaN         \n",
      "\n",
      "      Electric power consumption (kWh per capita)   \n",
      "0                                             NaN  \\\n",
      "1                                             NaN   \n",
      "2                                             NaN   \n",
      "3                                             NaN   \n",
      "4                                             NaN   \n",
      "...                                           ...   \n",
      "2602                                   878.072691   \n",
      "2603                                   778.695133   \n",
      "2604                                   870.988697   \n",
      "2605                                   827.329873   \n",
      "2606                                   700.642317   \n",
      "\n",
      "      Energy use (kg of oil equivalent per capita)   \n",
      "0                                              NaN  \\\n",
      "1                                              NaN   \n",
      "2                                              NaN   \n",
      "3                                              NaN   \n",
      "4                                              NaN   \n",
      "...                                            ...   \n",
      "2602                                    896.673611   \n",
      "2603                                    923.493407   \n",
      "2604                                    804.508892   \n",
      "2605                                    772.676619   \n",
      "2606                                    725.681049   \n",
      "\n",
      "      Exports of goods and services (% of GDP)   \n",
      "0                                     4.878051  \\\n",
      "1                                     6.772908   \n",
      "2                                    14.763231   \n",
      "3                                    11.662904   \n",
      "4                                          NaN   \n",
      "...                                        ...   \n",
      "2602                                 24.015710   \n",
      "2603                                 27.227263   \n",
      "2604                                 37.595273   \n",
      "2605                                 31.834799   \n",
      "2606                                 37.785373   \n",
      "\n",
      "      Fertility rate, total (births per woman)  GDP growth (annual %)   \n",
      "0                                        7.450                    NaN  \\\n",
      "1                                        7.450                    NaN   \n",
      "2                                        7.450                    NaN   \n",
      "3                                        7.449                    NaN   \n",
      "4                                        7.450                    NaN   \n",
      "...                                        ...                    ...   \n",
      "2602                                     5.784               1.150737   \n",
      "2603                                     4.840              -9.015570   \n",
      "2604                                     4.237               2.680594   \n",
      "2605                                     4.018              -8.894023   \n",
      "2606                                     4.022              -3.653327   \n",
      "\n",
      "      Imports of goods and services (% of GDP)   \n",
      "0                                     9.349593  \\\n",
      "1                                    14.209827   \n",
      "2                                    18.105850   \n",
      "3                                    14.823175   \n",
      "4                                          NaN   \n",
      "...                                        ...   \n",
      "2602                                 21.274886   \n",
      "2603                                 36.485231   \n",
      "2604                                 44.609791   \n",
      "2605                                 34.972553   \n",
      "2606                                 46.387531   \n",
      "\n",
      "      Industry, value added (% of GDP)  Inflation, GDP deflator (annual %)   \n",
      "0                                  NaN                                 NaN  \\\n",
      "1                                  NaN                                 NaN   \n",
      "2                                  NaN                                 NaN   \n",
      "3                                  NaN                                 NaN   \n",
      "4                                  NaN                                 NaN   \n",
      "...                                ...                                 ...   \n",
      "2602                         32.451242                            7.189361   \n",
      "2603                         40.862069                          -14.129659   \n",
      "2604                         25.554678                           -2.879048   \n",
      "2605                               NaN                            2.712950   \n",
      "2606                         33.074953                            0.894887   \n",
      "\n",
      "      Life expectancy at birth, total (years)   \n",
      "0                                   33.219902  \\\n",
      "1                                   35.389415   \n",
      "2                                   37.610146   \n",
      "3                                   40.110146   \n",
      "4                                   43.230732   \n",
      "...                                       ...   \n",
      "2602                                61.753805   \n",
      "2603                                56.491976   \n",
      "2604                                46.065902   \n",
      "2605                                40.679146   \n",
      "2606                                44.177756   \n",
      "\n",
      "      Population density (people per sq. km of land area)   \n",
      "0                                             14.312061    \\\n",
      "1                                             15.881812     \n",
      "2                                             17.947027     \n",
      "3                                             19.998926     \n",
      "4                                             19.402324     \n",
      "...                                                 ...     \n",
      "2602                                          24.649495     \n",
      "2603                                          28.485762     \n",
      "2604                                          31.174507     \n",
      "2605                                          32.807111     \n",
      "2606                                          34.374559     \n",
      "\n",
      "      Services, etc., value added (% of GDP)         pop continent   gdpPercap  \n",
      "0                                        NaN  10267083.0      Asia  853.100710  \n",
      "1                                        NaN  11537966.0      Asia  836.197138  \n",
      "2                                        NaN  13079460.0      Asia  739.981106  \n",
      "3                                        NaN  14880372.0      Asia  786.113360  \n",
      "4                                        NaN  12881816.0      Asia  978.011439  \n",
      "...                                      ...         ...       ...         ...  \n",
      "2602                               53.141236   9216418.0    Africa  706.157306  \n",
      "2603                               51.724135  10704340.0    Africa  693.420786  \n",
      "2604                               55.511236  11404948.0    Africa  792.449960  \n",
      "2605                                     NaN  11926563.0    Africa  672.038623  \n",
      "2606                               45.327139  12311143.0    Africa  469.709298  \n",
      "\n",
      "[2607 rows x 20 columns]>\n"
     ]
    }
   ],
   "source": [
    "import pandas as pd\n",
    "\n",
    "df=pd.read_csv('gapminder_clean.csv')\n",
    "\n",
    "print(df.head)"
   ]
  },
  {
   "cell_type": "markdown",
   "metadata": {},
   "source": [
    "<h4> 2. Filter the data to include only rows where Year is 1962 and then make a scatter plot comparing 'CO2 emissions (metric tons per capita)' and gdpPercap for the filtered data.  </h4>"
   ]
  },
  {
   "cell_type": "code",
   "execution_count": 275,
   "metadata": {},
   "outputs": [
    {
     "name": "stdout",
     "output_type": "stream",
     "text": [
      "155 countries were not included in the graph because there is missing data \n"
     ]
    }
   ],
   "source": [
    "import matplotlib.pyplot as plt\n",
    "\n",
    "filter_year= 1962\n",
    "Year_1962=df[df['Year']==filter_year]\n",
    "\n",
    "\n",
    "#Listing the countries that have missing values of CO2 and GDP per capita for the year 1962\n",
    "countries = df['Country Name'].unique()\n",
    "countries_no_data_in_1962 = [country for country in countries if country not in Year_1962['Country Name'].values]\n",
    "\n",
    "Data_gdp_and_Co2= Year_1962.dropna(subset=['CO2 emissions (metric tons per capita)', 'gdpPercap'])\n",
    "Countries_used_for_graph=[country for country in Data_gdp_and_Co2['Country Name']]\n",
    "Countries_not_included_in_graph= [country for country in countries if country not in Data_gdp_and_Co2['Country Name'].values]\n",
    "\n",
    "#Pulling the data to graph\n",
    "Data_gdp_and_Co2= Data_gdp_and_Co2[['Country Name','CO2 emissions (metric tons per capita)', 'gdpPercap']]\n",
    "Data_gdp_and_Co2['CO2 emissions (metric tons per capita)']=Data_gdp_and_Co2['CO2 emissions (metric tons per capita)'].round(1)\n",
    "\n",
    "#There are a few countries that were out of the analysis due to lack of data\n",
    "print(f\"{len(Countries_not_included_in_graph)} countries were not included in the graph because there is missing data \")\n",
    "\n"
   ]
  },
  {
   "cell_type": "code",
   "execution_count": 276,
   "metadata": {},
   "outputs": [
    {
     "data": {
      "text/html": [
       "    <style>\n",
       "        .bk-notebook-logo {\n",
       "            display: block;\n",
       "            width: 20px;\n",
       "            height: 20px;\n",
       "            background-image: url(data:image/png;base64,iVBORw0KGgoAAAANSUhEUgAAABQAAAAUCAYAAACNiR0NAAAABHNCSVQICAgIfAhkiAAAAAlwSFlzAAALEgAACxIB0t1+/AAAABx0RVh0U29mdHdhcmUAQWRvYmUgRmlyZXdvcmtzIENTNui8sowAAAOkSURBVDiNjZRtaJVlGMd/1/08zzln5zjP1LWcU9N0NkN8m2CYjpgQYQXqSs0I84OLIC0hkEKoPtiH3gmKoiJDU7QpLgoLjLIQCpEsNJ1vqUOdO7ppbuec5+V+rj4ctwzd8IIbbi6u+8f1539dt3A78eXC7QizUF7gyV1fD1Yqg4JWz84yffhm0qkFqBogB9rM8tZdtwVsPUhWhGcFJngGeWrPzHm5oaMmkfEg1usvLFyc8jLRqDOMru7AyC8saQr7GG7f5fvDeH7Ej8CM66nIF+8yngt6HWaKh7k49Soy9nXurCi1o3qUbS3zWfrYeQDTB/Qj6kX6Ybhw4B+bOYoLKCC9H3Nu/leUTZ1JdRWkkn2ldcCamzrcf47KKXdAJllSlxAOkRgyHsGC/zRday5Qld9DyoM4/q/rUoy/CXh3jzOu3bHUVZeU+DEn8FInkPBFlu3+nW3Nw0mk6vCDiWg8CeJaxEwuHS3+z5RgY+YBR6V1Z1nxSOfoaPa4LASWxxdNp+VWTk7+4vzaou8v8PN+xo+KY2xsw6une2frhw05CTYOmQvsEhjhWjn0bmXPjpE1+kplmmkP3suftwTubK9Vq22qKmrBhpY4jvd5afdRA3wGjFAgcnTK2s4hY0/GPNIb0nErGMCRxWOOX64Z8RAC4oCXdklmEvcL8o0BfkNK4lUg9HTl+oPlQxdNo3Mg4Nv175e/1LDGzZen30MEjRUtmXSfiTVu1kK8W4txyV6BMKlbgk3lMwYCiusNy9fVfvvwMxv8Ynl6vxoByANLTWplvuj/nF9m2+PDtt1eiHPBr1oIfhCChQMBw6Aw0UulqTKZdfVvfG7VcfIqLG9bcldL/+pdWTLxLUy8Qq38heUIjh4XlzZxzQm19lLFlr8vdQ97rjZVOLf8nclzckbcD4wxXMidpX30sFd37Fv/GtwwhzhxGVAprjbg0gCAEeIgwCZyTV2Z1REEW8O4py0wsjeloKoMr6iCY6dP92H6Vw/oTyICIthibxjm/DfN9lVz8IqtqKYLUXfoKVMVQVVJOElGjrnnUt9T9wbgp8AyYKaGlqingHZU/uG2NTZSVqwHQTWkx9hxjkpWDaCg6Ckj5qebgBVbT3V3NNXMSiWSDdGV3hrtzla7J+duwPOToIg42ChPQOQjspnSlp1V+Gjdged7+8UN5CRAV7a5EdFNwCjEaBR27b3W890TE7g24NAP/mMDXRWrGoFPQI9ls/MWO2dWFAar/xcOIImbbpA3zgAAAABJRU5ErkJggg==);\n",
       "        }\n",
       "    </style>\n",
       "    <div>\n",
       "        <a href=\"https://bokeh.org\" target=\"_blank\" class=\"bk-notebook-logo\"></a>\n",
       "        <span id=\"b7fbd97c-cb97-4d2a-aff6-7bf50d880046\">Loading BokehJS ...</span>\n",
       "    </div>\n"
      ]
     },
     "metadata": {},
     "output_type": "display_data"
    },
    {
     "data": {
      "application/javascript": "(function(root) {\n  function now() {\n    return new Date();\n  }\n\n  const force = true;\n\n  if (typeof root._bokeh_onload_callbacks === \"undefined\" || force === true) {\n    root._bokeh_onload_callbacks = [];\n    root._bokeh_is_loading = undefined;\n  }\n\nconst JS_MIME_TYPE = 'application/javascript';\n  const HTML_MIME_TYPE = 'text/html';\n  const EXEC_MIME_TYPE = 'application/vnd.bokehjs_exec.v0+json';\n  const CLASS_NAME = 'output_bokeh rendered_html';\n\n  /**\n   * Render data to the DOM node\n   */\n  function render(props, node) {\n    const script = document.createElement(\"script\");\n    node.appendChild(script);\n  }\n\n  /**\n   * Handle when an output is cleared or removed\n   */\n  function handleClearOutput(event, handle) {\n    function drop(id) {\n      const view = Bokeh.index.get_by_id(id)\n      if (view != null) {\n        view.model.document.clear()\n        Bokeh.index.delete(view)\n      }\n    }\n\n    const cell = handle.cell;\n\n    const id = cell.output_area._bokeh_element_id;\n    const server_id = cell.output_area._bokeh_server_id;\n\n    // Clean up Bokeh references\n    if (id != null) {\n      drop(id)\n    }\n\n    if (server_id !== undefined) {\n      // Clean up Bokeh references\n      const cmd_clean = \"from bokeh.io.state import curstate; print(curstate().uuid_to_server['\" + server_id + \"'].get_sessions()[0].document.roots[0]._id)\";\n      cell.notebook.kernel.execute(cmd_clean, {\n        iopub: {\n          output: function(msg) {\n            const id = msg.content.text.trim()\n            drop(id)\n          }\n        }\n      });\n      // Destroy server and session\n      const cmd_destroy = \"import bokeh.io.notebook as ion; ion.destroy_server('\" + server_id + \"')\";\n      cell.notebook.kernel.execute(cmd_destroy);\n    }\n  }\n\n  /**\n   * Handle when a new output is added\n   */\n  function handleAddOutput(event, handle) {\n    const output_area = handle.output_area;\n    const output = handle.output;\n\n    // limit handleAddOutput to display_data with EXEC_MIME_TYPE content only\n    if ((output.output_type != \"display_data\") || (!Object.prototype.hasOwnProperty.call(output.data, EXEC_MIME_TYPE))) {\n      return\n    }\n\n    const toinsert = output_area.element.find(\".\" + CLASS_NAME.split(' ')[0]);\n\n    if (output.metadata[EXEC_MIME_TYPE][\"id\"] !== undefined) {\n      toinsert[toinsert.length - 1].firstChild.textContent = output.data[JS_MIME_TYPE];\n      // store reference to embed id on output_area\n      output_area._bokeh_element_id = output.metadata[EXEC_MIME_TYPE][\"id\"];\n    }\n    if (output.metadata[EXEC_MIME_TYPE][\"server_id\"] !== undefined) {\n      const bk_div = document.createElement(\"div\");\n      bk_div.innerHTML = output.data[HTML_MIME_TYPE];\n      const script_attrs = bk_div.children[0].attributes;\n      for (let i = 0; i < script_attrs.length; i++) {\n        toinsert[toinsert.length - 1].firstChild.setAttribute(script_attrs[i].name, script_attrs[i].value);\n        toinsert[toinsert.length - 1].firstChild.textContent = bk_div.children[0].textContent\n      }\n      // store reference to server id on output_area\n      output_area._bokeh_server_id = output.metadata[EXEC_MIME_TYPE][\"server_id\"];\n    }\n  }\n\n  function register_renderer(events, OutputArea) {\n\n    function append_mime(data, metadata, element) {\n      // create a DOM node to render to\n      const toinsert = this.create_output_subarea(\n        metadata,\n        CLASS_NAME,\n        EXEC_MIME_TYPE\n      );\n      this.keyboard_manager.register_events(toinsert);\n      // Render to node\n      const props = {data: data, metadata: metadata[EXEC_MIME_TYPE]};\n      render(props, toinsert[toinsert.length - 1]);\n      element.append(toinsert);\n      return toinsert\n    }\n\n    /* Handle when an output is cleared or removed */\n    events.on('clear_output.CodeCell', handleClearOutput);\n    events.on('delete.Cell', handleClearOutput);\n\n    /* Handle when a new output is added */\n    events.on('output_added.OutputArea', handleAddOutput);\n\n    /**\n     * Register the mime type and append_mime function with output_area\n     */\n    OutputArea.prototype.register_mime_type(EXEC_MIME_TYPE, append_mime, {\n      /* Is output safe? */\n      safe: true,\n      /* Index of renderer in `output_area.display_order` */\n      index: 0\n    });\n  }\n\n  // register the mime type if in Jupyter Notebook environment and previously unregistered\n  if (root.Jupyter !== undefined) {\n    const events = require('base/js/events');\n    const OutputArea = require('notebook/js/outputarea').OutputArea;\n\n    if (OutputArea.prototype.mime_types().indexOf(EXEC_MIME_TYPE) == -1) {\n      register_renderer(events, OutputArea);\n    }\n  }\n  if (typeof (root._bokeh_timeout) === \"undefined\" || force === true) {\n    root._bokeh_timeout = Date.now() + 5000;\n    root._bokeh_failed_load = false;\n  }\n\n  const NB_LOAD_WARNING = {'data': {'text/html':\n     \"<div style='background-color: #fdd'>\\n\"+\n     \"<p>\\n\"+\n     \"BokehJS does not appear to have successfully loaded. If loading BokehJS from CDN, this \\n\"+\n     \"may be due to a slow or bad network connection. Possible fixes:\\n\"+\n     \"</p>\\n\"+\n     \"<ul>\\n\"+\n     \"<li>re-rerun `output_notebook()` to attempt to load from CDN again, or</li>\\n\"+\n     \"<li>use INLINE resources instead, as so:</li>\\n\"+\n     \"</ul>\\n\"+\n     \"<code>\\n\"+\n     \"from bokeh.resources import INLINE\\n\"+\n     \"output_notebook(resources=INLINE)\\n\"+\n     \"</code>\\n\"+\n     \"</div>\"}};\n\n  function display_loaded() {\n    const el = document.getElementById(\"b7fbd97c-cb97-4d2a-aff6-7bf50d880046\");\n    if (el != null) {\n      el.textContent = \"BokehJS is loading...\";\n    }\n    if (root.Bokeh !== undefined) {\n      if (el != null) {\n        el.textContent = \"BokehJS \" + root.Bokeh.version + \" successfully loaded.\";\n      }\n    } else if (Date.now() < root._bokeh_timeout) {\n      setTimeout(display_loaded, 100)\n    }\n  }\n\n  function run_callbacks() {\n    try {\n      root._bokeh_onload_callbacks.forEach(function(callback) {\n        if (callback != null)\n          callback();\n      });\n    } finally {\n      delete root._bokeh_onload_callbacks\n    }\n    console.debug(\"Bokeh: all callbacks have finished\");\n  }\n\n  function load_libs(css_urls, js_urls, callback) {\n    if (css_urls == null) css_urls = [];\n    if (js_urls == null) js_urls = [];\n\n    root._bokeh_onload_callbacks.push(callback);\n    if (root._bokeh_is_loading > 0) {\n      console.debug(\"Bokeh: BokehJS is being loaded, scheduling callback at\", now());\n      return null;\n    }\n    if (js_urls == null || js_urls.length === 0) {\n      run_callbacks();\n      return null;\n    }\n    console.debug(\"Bokeh: BokehJS not loaded, scheduling load and callback at\", now());\n    root._bokeh_is_loading = css_urls.length + js_urls.length;\n\n    function on_load() {\n      root._bokeh_is_loading--;\n      if (root._bokeh_is_loading === 0) {\n        console.debug(\"Bokeh: all BokehJS libraries/stylesheets loaded\");\n        run_callbacks()\n      }\n    }\n\n    function on_error(url) {\n      console.error(\"failed to load \" + url);\n    }\n\n    for (let i = 0; i < css_urls.length; i++) {\n      const url = css_urls[i];\n      const element = document.createElement(\"link\");\n      element.onload = on_load;\n      element.onerror = on_error.bind(null, url);\n      element.rel = \"stylesheet\";\n      element.type = \"text/css\";\n      element.href = url;\n      console.debug(\"Bokeh: injecting link tag for BokehJS stylesheet: \", url);\n      document.body.appendChild(element);\n    }\n\n    for (let i = 0; i < js_urls.length; i++) {\n      const url = js_urls[i];\n      const element = document.createElement('script');\n      element.onload = on_load;\n      element.onerror = on_error.bind(null, url);\n      element.async = false;\n      element.src = url;\n      console.debug(\"Bokeh: injecting script tag for BokehJS library: \", url);\n      document.head.appendChild(element);\n    }\n  };\n\n  function inject_raw_css(css) {\n    const element = document.createElement(\"style\");\n    element.appendChild(document.createTextNode(css));\n    document.body.appendChild(element);\n  }\n\n  const js_urls = [\"https://cdn.bokeh.org/bokeh/release/bokeh-3.3.4.min.js\", \"https://cdn.bokeh.org/bokeh/release/bokeh-gl-3.3.4.min.js\", \"https://cdn.bokeh.org/bokeh/release/bokeh-widgets-3.3.4.min.js\", \"https://cdn.bokeh.org/bokeh/release/bokeh-tables-3.3.4.min.js\", \"https://cdn.bokeh.org/bokeh/release/bokeh-mathjax-3.3.4.min.js\"];\n  const css_urls = [];\n\n  const inline_js = [    function(Bokeh) {\n      Bokeh.set_log_level(\"info\");\n    },\nfunction(Bokeh) {\n    }\n  ];\n\n  function run_inline_js() {\n    if (root.Bokeh !== undefined || force === true) {\n          for (let i = 0; i < inline_js.length; i++) {\n      inline_js[i].call(root, root.Bokeh);\n    }\nif (force === true) {\n        display_loaded();\n      }} else if (Date.now() < root._bokeh_timeout) {\n      setTimeout(run_inline_js, 100);\n    } else if (!root._bokeh_failed_load) {\n      console.log(\"Bokeh: BokehJS failed to load within specified timeout.\");\n      root._bokeh_failed_load = true;\n    } else if (force !== true) {\n      const cell = $(document.getElementById(\"b7fbd97c-cb97-4d2a-aff6-7bf50d880046\")).parents('.cell').data().cell;\n      cell.output_area.append_execute_result(NB_LOAD_WARNING)\n    }\n  }\n\n  if (root._bokeh_is_loading === 0) {\n    console.debug(\"Bokeh: BokehJS loaded, going straight to plotting\");\n    run_inline_js();\n  } else {\n    load_libs(css_urls, js_urls, function() {\n      console.debug(\"Bokeh: BokehJS plotting callback run at\", now());\n      run_inline_js();\n    });\n  }\n}(window));",
      "application/vnd.bokehjs_load.v0+json": ""
     },
     "metadata": {},
     "output_type": "display_data"
    },
    {
     "data": {
      "text/html": [
       "\n",
       "  <div id=\"a39b35e6-eed8-4acd-a52a-961631843db9\" data-root-id=\"p4662\" style=\"display: contents;\"></div>\n"
      ]
     },
     "metadata": {},
     "output_type": "display_data"
    },
    {
     "data": {
      "application/javascript": "(function(root) {\n  function embed_document(root) {\n  const docs_json = {\"24b5f988-b50e-4f32-adb5-68db8a13fb58\":{\"version\":\"3.3.4\",\"title\":\"Bokeh Application\",\"roots\":[{\"type\":\"object\",\"name\":\"Figure\",\"id\":\"p4662\",\"attributes\":{\"x_range\":{\"type\":\"object\",\"name\":\"Range1d\",\"id\":\"p4704\",\"attributes\":{\"end\":20}},\"y_range\":{\"type\":\"object\",\"name\":\"Range1d\",\"id\":\"p4705\",\"attributes\":{\"end\":40}},\"x_scale\":{\"type\":\"object\",\"name\":\"LinearScale\",\"id\":\"p4672\"},\"y_scale\":{\"type\":\"object\",\"name\":\"LinearScale\",\"id\":\"p4673\"},\"title\":{\"type\":\"object\",\"name\":\"Title\",\"id\":\"p4665\",\"attributes\":{\"text\":\"CO2 Emissions vs. GDP per Capita in 1962\",\"text_font_size\":\"14pt\"}},\"outline_line_color\":null,\"renderers\":[{\"type\":\"object\",\"name\":\"GlyphRenderer\",\"id\":\"p4701\",\"attributes\":{\"data_source\":{\"type\":\"object\",\"name\":\"ColumnDataSource\",\"id\":\"p4659\",\"attributes\":{\"selected\":{\"type\":\"object\",\"name\":\"Selection\",\"id\":\"p4660\",\"attributes\":{\"indices\":[],\"line_indices\":[]}},\"selection_policy\":{\"type\":\"object\",\"name\":\"UnionRenderers\",\"id\":\"p4661\"},\"data\":{\"type\":\"map\",\"entries\":[[\"index\",{\"type\":\"ndarray\",\"array\":{\"type\":\"bytes\",\"data\":\"AAAAAAoAAAAUAAAAMgAAAFAAAABuAAAAeAAAAJYAAAC+AAAA0gAAAPAAAAAOAQAALAEAADYBAABAAQAAVAEAAF4BAABoAQAAhgEAAJoBAACuAQAAuAEAAMIBAADMAQAA6gEAAPQBAAAIAgAAMAIAADoCAABOAgAAgAIAAJQCAACeAgAAvAIAAAwDAAAgAwAANAMAAFwDAABwAwAAmAMAAKIDAACsAwAAwAMAAN4DAADyAwAALgQAADgEAABCBAAAVgQAAGAEAAB0BAAAfgQAAIgEAACSBAAAnAQAALAEAADiBAAAPAUAAFAFAABaBQAAtAUAANwFAAD2BQAAAAYAAAoGAABaBgAAbgYAAHgGAACCBgAAoAYAAKoGAAC+BgAAyAYAANIGAADcBgAA9AYAACYHAAA6BwAATgcAAFgHAABiBwAAbAcAAHYHAACoBwAAvAcAANoHAADkBwAA7gcAAAwIAAAWCAAASwgAAFUIAAB9CAAAhwgAANcIAAD1CAAA/wgAAB0JAAAnCQAAOwkAAE8JAABZCQAAYwkAAIsJAACpCQAAswkAAMcJAADvCQAA\"},\"shape\":[108],\"dtype\":\"int32\",\"order\":\"little\"}],[\"Country Name\",{\"type\":\"ndarray\",\"array\":[\"Afghanistan\",\"Albania\",\"Algeria\",\"Angola\",\"Argentina\",\"Australia\",\"Austria\",\"Bahrain\",\"Belgium\",\"Benin\",\"Bolivia\",\"Brazil\",\"Bulgaria\",\"Burkina Faso\",\"Burundi\",\"Cambodia\",\"Cameroon\",\"Canada\",\"Central African Republic\",\"Chad\",\"Chile\",\"China\",\"Colombia\",\"Comoros\",\"Costa Rica\",\"Cote d'Ivoire\",\"Cuba\",\"Denmark\",\"Djibouti\",\"Dominican Republic\",\"Ecuador\",\"El Salvador\",\"Equatorial Guinea\",\"Ethiopia\",\"Finland\",\"France\",\"Gabon\",\"Ghana\",\"Greece\",\"Guatemala\",\"Guinea\",\"Guinea-Bissau\",\"Haiti\",\"Honduras\",\"Hungary\",\"Iceland\",\"India\",\"Indonesia\",\"Iraq\",\"Ireland\",\"Israel\",\"Italy\",\"Jamaica\",\"Japan\",\"Jordan\",\"Kenya\",\"Kuwait\",\"Lebanon\",\"Liberia\",\"Libya\",\"Madagascar\",\"Mali\",\"Mauritania\",\"Mauritius\",\"Mexico\",\"Mongolia\",\"Morocco\",\"Mozambique\",\"Myanmar\",\"Nepal\",\"Netherlands\",\"New Zealand\",\"Nicaragua\",\"Niger\",\"Nigeria\",\"Norway\",\"Pakistan\",\"Panama\",\"Paraguay\",\"Peru\",\"Philippines\",\"Poland\",\"Portugal\",\"Romania\",\"Rwanda\",\"Sao Tome and Principe\",\"Saudi Arabia\",\"Senegal\",\"Sierra Leone\",\"Singapore\",\"Somalia\",\"South Africa\",\"Spain\",\"Sri Lanka\",\"Sudan\",\"Sweden\",\"Switzerland\",\"Tanzania\",\"Thailand\",\"Togo\",\"Trinidad and Tobago\",\"Tunisia\",\"Turkey\",\"Uganda\",\"United Kingdom\",\"United States\",\"Uruguay\",\"Vietnam\"],\"shape\":[108],\"dtype\":\"object\",\"order\":\"little\"}],[\"CO2 emissions (metric tons per capita)\",{\"type\":\"ndarray\",\"array\":{\"type\":\"bytes\",\"data\":\"mpmZmZmZuT9mZmZmZmb2PwAAAAAAAOA/mpmZmZmZyT8AAAAAAAAEQJqZmZmZmSFAMzMzMzMzE0BmZmZmZmYiQDMzMzMzMyVAmpmZmZmZuT8zMzMzMzPTP2ZmZmZmZuY/ZmZmZmZmDkAAAAAAAAAAAAAAAAAAAAAAmpmZmZmZuT+amZmZmZm5PzMzMzMzMyZAAAAAAAAAAAAAAAAAAAAAAM3MzMzMzABAZmZmZmZm5j+amZmZmZnxP5qZmZmZmbk/mpmZmZmZ2T+amZmZmZnJP2ZmZmZmZv4/mpmZmZmZH0AAAAAAAADgP5qZmZmZmdk/MzMzMzMz0z+amZmZmZnJP5qZmZmZmbk/AAAAAAAAAACamZmZmZkNQM3MzMzMzBhAmpmZmZmZyT+amZmZmZnJPzMzMzMzM/M/MzMzMzMz0z+amZmZmZnJP5qZmZmZmbk/mpmZmZmZuT8zMzMzMzPTPwAAAAAAABRAZmZmZmZmGkAzMzMzMzPTP5qZmZmZmck/MzMzMzMz8z9mZmZmZmYSQAAAAAAAAAxAMzMzMzMzB0DNzMzMzMz0P83MzMzMzAhAmpmZmZmZ8T8zMzMzMzPTP83MzMzMTEVAAAAAAAAA+D+amZmZmZnJP2ZmZmZmZuY/mpmZmZmZuT8AAAAAAAAAAJqZmZmZmbk/mpmZmZmZ2T+amZmZmZn5PwAAAAAAAABAmpmZmZmZyT8zMzMzMzPTP5qZmZmZmbk/AAAAAAAAAABmZmZmZmYcQAAAAAAAABJAMzMzMzMz0z8AAAAAAAAAAJqZmZmZmbk/MzMzMzMzD0AzMzMzMzPTPwAAAAAAAPA/mpmZmZmZyT/NzMzMzMzsP5qZmZmZmdk/zczMzMzMHEAAAAAAAADwPzMzMzMzMwtAAAAAAAAAAACamZmZmZnJP2ZmZmZmZvY/mpmZmZmZyT+amZmZmZm5PwAAAAAAAPg/AAAAAAAAAADNzMzMzMwWQGZmZmZmZv4/mpmZmZmZyT+amZmZmZm5PzMzMzMzMxtAMzMzMzMzEUCamZmZmZm5P5qZmZmZmck/mpmZmZmZuT9mZmZmZmYgQJqZmZmZmdk/ZmZmZmZm5j+amZmZmZm5PzMzMzMzMyZAAAAAAAAAMEAAAAAAAAD4PzMzMzMzM9M/\"},\"shape\":[108],\"dtype\":\"float64\",\"order\":\"little\"}],[\"gdpPercap\",{\"type\":\"ndarray\",\"array\":{\"type\":\"bytes\",\"data\":\"w5403JlM6z+7HQ/ty4ACQGF6La4SaARAjdpBSL0TEUC/5IasXIgcQIoG51s4byhA0LtvhF6AJUAwYXZHrYEpQFmM03N/+yVAJox83Eti7j/RWfS7oXIBQHwan+VTsQpAro9yI3EEEUBBNG6H0R7nP1b6K1Gmu9Y/SDJY5m7N3z/+VKXFymT2P8I+8OfK7CpAZjvAQs8W8z8XbwtmsTz2P2q83HaNExJAIkbtFQ023z9GbzrHVfADQGXB75+hgfY/0R8/wP+vC0ATB0X9cqn7P+4IyBMYuRRAqoeBEagqK0CXNzFr/CoIQEXW5VcdmPo/1/DySS5YEECQCOvR5DYOQPrFvDSkpuI/r8xPuV/Y2j8Dg+0lYr4iQGN2mvX3HiVAjP0MP52GGkDRSCuOaArzP/gdkHKaERhAkjUdE78ABkA8jEfsxfblP+7PqG2BtOA/Qa0MJNS+/D+qp+IISlQCQHr7IoqRMx5AOjJeDEizJEAH+FALLhHlP/wEbb1hLes/h3ZGQviuIEBbfD9ywYYaQMHkrnQqbBxAx10Q07Z8IEClhFucA/wUQA0BQTJ9ThpASIyCBrnIAkDzLtDS8rPsPzvH/LNR3VdA5ATdxrXbFkBHAUenU0vkPwQjExYzBxtAJONBSFBL+j/DLdwHUsHfP2CJ6T3z5PA/01UQvIc7BECYfB5pkVMSQDTDaWjT5vA/25AmrsgP+T/QKITmX9DhP6JFtvP91Ng/k5zWYG/g5D8Rg8g76pQpQN1AgXfyWSpAuSFMpS0TDUBJUOMys+3vP4A+Ye4yavI/vAnXBpvmKkCxUXDW+7TpP3s/LqTVSgxA9+s32ygvAUAd4cbDAdQTQPjmYsyQZPo/J4p+1+FaFUCM36QBbekSQCoJCjWj8BJAk5Zv2X8e4z8mjkHJEiXxPxGj5xa6QCdAdYqIdNV6+j/M/ZHGwd3xP7mAecPbZQ1AsPn1mWzp9T/R6QfiLRMXQNFWgwJ/xhZAT7SKggkx8T/7XWv+flr/P7OpgJysqChAWgtYF1xuNECOHH66pxrnP6wXvf8BCfA/SqqEYZ8U8T8pr4Hsdv0TQBdNRhmakPo/vcd90TyVAkCvwLJ2fY3oPyoajI1Q9ChARyN+SVMsMECGN/ma1mkWQBHTvnCgtOg/\"},\"shape\":[108],\"dtype\":\"float64\",\"order\":\"little\"}]]}}},\"view\":{\"type\":\"object\",\"name\":\"CDSView\",\"id\":\"p4702\",\"attributes\":{\"filter\":{\"type\":\"object\",\"name\":\"AllIndices\",\"id\":\"p4703\"}}},\"glyph\":{\"type\":\"object\",\"name\":\"Circle\",\"id\":\"p4698\",\"attributes\":{\"x\":{\"type\":\"field\",\"field\":\"CO2 emissions (metric tons per capita)\"},\"y\":{\"type\":\"field\",\"field\":\"gdpPercap\"},\"size\":{\"type\":\"value\",\"value\":5},\"line_color\":{\"type\":\"value\",\"value\":\"#1f77b4\"},\"fill_color\":{\"type\":\"value\",\"value\":\"#1f77b4\"}}},\"nonselection_glyph\":{\"type\":\"object\",\"name\":\"Circle\",\"id\":\"p4699\",\"attributes\":{\"x\":{\"type\":\"field\",\"field\":\"CO2 emissions (metric tons per capita)\"},\"y\":{\"type\":\"field\",\"field\":\"gdpPercap\"},\"size\":{\"type\":\"value\",\"value\":5},\"line_color\":{\"type\":\"value\",\"value\":\"#1f77b4\"},\"line_alpha\":{\"type\":\"value\",\"value\":0.1},\"fill_color\":{\"type\":\"value\",\"value\":\"#1f77b4\"},\"fill_alpha\":{\"type\":\"value\",\"value\":0.1},\"hatch_alpha\":{\"type\":\"value\",\"value\":0.1}}},\"muted_glyph\":{\"type\":\"object\",\"name\":\"Circle\",\"id\":\"p4700\",\"attributes\":{\"x\":{\"type\":\"field\",\"field\":\"CO2 emissions (metric tons per capita)\"},\"y\":{\"type\":\"field\",\"field\":\"gdpPercap\"},\"size\":{\"type\":\"value\",\"value\":5},\"line_color\":{\"type\":\"value\",\"value\":\"#1f77b4\"},\"line_alpha\":{\"type\":\"value\",\"value\":0.2},\"fill_color\":{\"type\":\"value\",\"value\":\"#1f77b4\"},\"fill_alpha\":{\"type\":\"value\",\"value\":0.2},\"hatch_alpha\":{\"type\":\"value\",\"value\":0.2}}}}}],\"toolbar\":{\"type\":\"object\",\"name\":\"Toolbar\",\"id\":\"p4671\",\"attributes\":{\"tools\":[{\"type\":\"object\",\"name\":\"PanTool\",\"id\":\"p4684\"},{\"type\":\"object\",\"name\":\"WheelZoomTool\",\"id\":\"p4685\",\"attributes\":{\"renderers\":\"auto\"}},{\"type\":\"object\",\"name\":\"BoxZoomTool\",\"id\":\"p4686\",\"attributes\":{\"overlay\":{\"type\":\"object\",\"name\":\"BoxAnnotation\",\"id\":\"p4687\",\"attributes\":{\"syncable\":false,\"level\":\"overlay\",\"visible\":false,\"left\":{\"type\":\"number\",\"value\":\"nan\"},\"right\":{\"type\":\"number\",\"value\":\"nan\"},\"top\":{\"type\":\"number\",\"value\":\"nan\"},\"bottom\":{\"type\":\"number\",\"value\":\"nan\"},\"left_units\":\"canvas\",\"right_units\":\"canvas\",\"top_units\":\"canvas\",\"bottom_units\":\"canvas\",\"line_color\":\"black\",\"line_alpha\":1.0,\"line_width\":2,\"line_dash\":[4,4],\"fill_color\":\"lightgrey\",\"fill_alpha\":0.5}}}},{\"type\":\"object\",\"name\":\"SaveTool\",\"id\":\"p4692\"},{\"type\":\"object\",\"name\":\"ResetTool\",\"id\":\"p4693\"},{\"type\":\"object\",\"name\":\"HelpTool\",\"id\":\"p4694\"},{\"type\":\"object\",\"name\":\"HoverTool\",\"id\":\"p4706\",\"attributes\":{\"renderers\":\"auto\",\"tooltips\":[[\"Country\",\"@{Country Name}\"],[\"CO2 emissions\",\"@{CO2 emissions (metric tons per capita)}\"],[\"GDP per Capita\",\"@gdpPercap{0.0}\"]]}}]}},\"left\":[{\"type\":\"object\",\"name\":\"LinearAxis\",\"id\":\"p4679\",\"attributes\":{\"ticker\":{\"type\":\"object\",\"name\":\"BasicTicker\",\"id\":\"p4680\",\"attributes\":{\"mantissas\":[1,2,5]}},\"formatter\":{\"type\":\"object\",\"name\":\"BasicTickFormatter\",\"id\":\"p4681\"},\"axis_label\":\"GDP per Capita (Thousand of USD)\",\"axis_label_text_font_size\":\"12pt\",\"major_label_policy\":{\"type\":\"object\",\"name\":\"AllLabels\",\"id\":\"p4682\"},\"major_label_text_font_size\":\"12pt\"}}],\"below\":[{\"type\":\"object\",\"name\":\"LinearAxis\",\"id\":\"p4674\",\"attributes\":{\"ticker\":{\"type\":\"object\",\"name\":\"BasicTicker\",\"id\":\"p4675\",\"attributes\":{\"mantissas\":[1,2,5]}},\"formatter\":{\"type\":\"object\",\"name\":\"BasicTickFormatter\",\"id\":\"p4676\"},\"axis_label\":\"CO2 emissions (metric tons per capita)\",\"axis_label_text_font_size\":\"12pt\",\"major_label_policy\":{\"type\":\"object\",\"name\":\"AllLabels\",\"id\":\"p4677\"},\"major_label_text_font_size\":\"12pt\"}}],\"center\":[{\"type\":\"object\",\"name\":\"Grid\",\"id\":\"p4678\",\"attributes\":{\"visible\":false,\"axis\":{\"id\":\"p4674\"}}},{\"type\":\"object\",\"name\":\"Grid\",\"id\":\"p4683\",\"attributes\":{\"visible\":false,\"dimension\":1,\"axis\":{\"id\":\"p4679\"}}}],\"background_fill_color\":\"white\",\"border_fill_color\":\"white\"}}]}};\n  const render_items = [{\"docid\":\"24b5f988-b50e-4f32-adb5-68db8a13fb58\",\"roots\":{\"p4662\":\"a39b35e6-eed8-4acd-a52a-961631843db9\"},\"root_ids\":[\"p4662\"]}];\n  root.Bokeh.embed.embed_items_notebook(docs_json, render_items);\n  }\n  if (root.Bokeh !== undefined) {\n    embed_document(root);\n  } else {\n    let attempts = 0;\n    const timer = setInterval(function(root) {\n      if (root.Bokeh !== undefined) {\n        clearInterval(timer);\n        embed_document(root);\n      } else {\n        attempts++;\n        if (attempts > 100) {\n          clearInterval(timer);\n          console.log(\"Bokeh: ERROR: Unable to run BokehJS code because BokehJS library is missing\");\n        }\n      }\n    }, 10, root)\n  }\n})(window);",
      "application/vnd.bokehjs_exec.v0+json": ""
     },
     "metadata": {
      "application/vnd.bokehjs_exec.v0+json": {
       "id": "p4662"
      }
     },
     "output_type": "display_data"
    }
   ],
   "source": [
    "from bokeh.plotting import figure, output_notebook, show\n",
    "from bokeh.models import HoverTool, ColumnDataSource, Range1d\n",
    "\n",
    "Data_gdp_and_Co2['gdpPercap']=Data_gdp_and_Co2['gdpPercap']/1000 #This is to have better numbers in the Y axis\n",
    "source = ColumnDataSource(data=Data_gdp_and_Co2)\n",
    "p=figure(title=\"CO2 Emissions vs. GDP per Capita in 1962\", x_axis_label='CO2 emissions (metric tons per capita)', y_axis_label='GDP per Capita (Thousand of USD)')\n",
    "p.circle('CO2 emissions (metric tons per capita)', 'gdpPercap', size=5, source=source)\n",
    "\n",
    "p.x_range =Range1d(0, 20)  # We are leaving Kuwait out of the graph for visualizatin purposes\n",
    "p.y_range = Range1d(0, 40)\n",
    "\n",
    "hover = HoverTool(\n",
    "    tooltips=[\n",
    "    ('Country', '@{Country Name}'),\n",
    "    ('CO2 emissions', '@{CO2 emissions (metric tons per capita)}'),\n",
    "    ('GDP per Capita', '@gdpPercap{0.0}')\n",
    "    ],\n",
    "\n",
    ")\n",
    "#Details of the graph\n",
    "p.add_tools(hover)\n",
    "p.background_fill_color = \"white\"\n",
    "p.border_fill_color = \"white\"\n",
    "p.grid.visible = False\n",
    "p.outline_line_color = None\n",
    "p.title.text_font_size= \"14pt\"\n",
    "p.xaxis.axis_label_text_font_size = \"12pt\"\n",
    "p.yaxis.axis_label_text_font_size = \"12pt\"\n",
    "p.xaxis.major_label_text_font_size = \"12pt\"\n",
    "p.yaxis.major_label_text_font_size = \"12pt\"\n",
    "# Show the plot\n",
    "output_notebook()\n",
    "show(p)"
   ]
  },
  {
   "cell_type": "markdown",
   "metadata": {},
   "source": [
    "<h4>3. On the filtered data, calculate the correlation of 'CO2 emissions (metric tons per capita)' and gdpPercap. What is the correlation and associated p value? </h4>"
   ]
  },
  {
   "cell_type": "code",
   "execution_count": 32,
   "metadata": {},
   "outputs": [
    {
     "name": "stdout",
     "output_type": "stream",
     "text": [
      "Correlation Coefficient: 0.9261174384645389\n",
      "P-value: 1.1011375887286842e-46\n"
     ]
    }
   ],
   "source": [
    "#We will use stats from scipy to get the correlation coefficient and the p value\n",
    "from scipy.stats import pearsonr\n",
    "\n",
    "correlation_coefficient, p_value = pearsonr(Data_gdp_and_Co2['CO2 emissions (metric tons per capita)'],Data_gdp_and_Co2['gdpPercap'])\n",
    "\n",
    "print(f\"Correlation Coefficient: {correlation_coefficient}\")\n",
    "print(f\"P-value: {p_value}\")"
   ]
  },
  {
   "cell_type": "markdown",
   "metadata": {},
   "source": [
    "<h4>4. On the unfiltered data, answer \"In what year is the correlation between 'CO2 emissions (metric tons per capita)' and gdpPercap the strongest?\" Filter the dataset to that year for the next step...</h4>"
   ]
  },
  {
   "cell_type": "code",
   "execution_count": 33,
   "metadata": {},
   "outputs": [
    {
     "name": "stdout",
     "output_type": "stream",
     "text": [
      "The year of max correlation is 1967\n"
     ]
    }
   ],
   "source": [
    "#Keeping data only where there is values for both variables\n",
    "\n",
    "Data= df.dropna(subset=['CO2 emissions (metric tons per capita)', 'gdpPercap'])\n",
    "Data_subset= Data[['Country Name','Year','CO2 emissions (metric tons per capita)', 'gdpPercap']]\n",
    "\n",
    "#Now we will iterate over our data frame and see which year has the highest correlation\n",
    "Years= Data_subset['Year'].unique()\n",
    "max=0\n",
    "for y in Years:\n",
    "    Year_y=Data_subset[Data_subset['Year']==y]\n",
    "    correlation_coefficient=Year_y['CO2 emissions (metric tons per capita)'].corr(Year_y['gdpPercap'])\n",
    "    if (correlation_coefficient>max):\n",
    "        max= correlation_coefficient\n",
    "        year_of_max_correlation=y\n",
    "\n",
    "\n",
    "print(f\"The year of max correlation is {year_of_max_correlation}\")    \n",
    "\n",
    "#We filter the DF for the next excercise \n",
    "Data_Year_Max_Correlation= df[df['Year']==year_of_max_correlation]\n",
    "\n",
    "\n"
   ]
  },
  {
   "cell_type": "markdown",
   "metadata": {},
   "source": [
    "<h4>5. Using plotly or bokeh, create an interactive scatter plot comparing 'CO2 emissions (metric tons per capita)' and gdpPercap, where the point size is determined by pop (population) and the color is determined by the continent.</h4>"
   ]
  },
  {
   "cell_type": "code",
   "execution_count": 277,
   "metadata": {},
   "outputs": [],
   "source": [
    "#Again, there are countries that do not have data for CO2 emissions or gdp per capita, so those will be filtered out\n",
    "\n",
    "Data_Year_Max_Correlation= Data_Year_Max_Correlation[['Country Name','CO2 emissions (metric tons per capita)', 'gdpPercap', 'pop', 'continent']]\n",
    "Data_Year_Max_Correlation= Data_Year_Max_Correlation.dropna(subset=['CO2 emissions (metric tons per capita)', 'gdpPercap'])\n",
    "\n"
   ]
  },
  {
   "cell_type": "code",
   "execution_count": 280,
   "metadata": {},
   "outputs": [
    {
     "data": {
      "application/vnd.plotly.v1+json": {
       "config": {
        "plotlyServerURL": "https://plot.ly"
       },
       "data": [
        {
         "hovertemplate": "<b>%{hovertext}</b><br><br>continent=Asia<br>CO2 emissions (metric tons per capita)=%{x}<br>gdpPercap=%{y}<br>pop=%{marker.size}<extra></extra>",
         "hovertext": [
          "Afghanistan",
          "Bahrain",
          "Cambodia",
          "China",
          "India",
          "Indonesia",
          "Iraq",
          "Israel",
          "Japan",
          "Jordan",
          "Kuwait",
          "Lebanon",
          "Mongolia",
          "Myanmar",
          "Nepal",
          "Oman",
          "Pakistan",
          "Philippines",
          "Saudi Arabia",
          "Singapore",
          "Sri Lanka",
          "Thailand",
          "Vietnam"
         ],
         "legendgroup": "Asia",
         "marker": {
          "color": "#636efa",
          "opacity": 0.6,
          "size": [
           11537966,
           202182,
           6960067,
           754550000,
           506000000,
           109343000,
           8519282,
           2693585,
           100825279,
           1255058,
           575003,
           2186894,
           1149500,
           25870271,
           11261690,
           714775,
           60641899,
           35356600,
           5618198,
           1977600,
           11737396,
           34024249,
           39463910
          ],
          "sizemode": "area",
          "sizeref": 1886375,
          "symbol": "circle"
         },
         "mode": "markers",
         "name": "Asia",
         "orientation": "v",
         "showlegend": true,
         "type": "scatter",
         "x": [
          0.123782381421,
          5.12101242081,
          0.0624360387486,
          0.574162146975,
          0.331763432432,
          0.23191547809,
          2.05575631533,
          4.93341748634,
          4.86355784562,
          1.0719834839700002,
          43.4283027016,
          1.64225486815,
          1.83477215037,
          0.143519517019,
          0.0188098863912,
          0.205537806177,
          0.402522332305,
          0.555413076261,
          4.90876421118,
          1.54645934466,
          0.25192412202,
          0.360202673298,
          0.574906353177
         ],
         "xaxis": "x",
         "y": [
          836.1971382,
          14804.6727,
          523.4323142,
          612.7056934,
          700.7706107000001,
          762.4317721,
          8931.459811,
          8393.741404,
          9847.788607,
          2741.796252,
          80894.88326,
          6006.983042,
          1226.04113,
          349,
          676.4422254,
          4720.942687,
          942.4082588,
          1814.12743,
          16903.04886,
          4977.41854,
          1135.514326,
          1295.46066,
          637.1232887
         ],
         "yaxis": "y"
        },
        {
         "hovertemplate": "<b>%{hovertext}</b><br><br>continent=Europe<br>CO2 emissions (metric tons per capita)=%{x}<br>gdpPercap=%{y}<br>pop=%{marker.size}<extra></extra>",
         "hovertext": [
          "Albania",
          "Austria",
          "Belgium",
          "Bulgaria",
          "Denmark",
          "Finland",
          "France",
          "Greece",
          "Hungary",
          "Iceland",
          "Ireland",
          "Italy",
          "Netherlands",
          "Norway",
          "Poland",
          "Portugal",
          "Romania",
          "Spain",
          "Sweden",
          "Switzerland",
          "Turkey",
          "United Kingdom"
         ],
         "legendgroup": "Europe",
         "marker": {
          "color": "#EF553B",
          "opacity": 0.6,
          "size": [
           1984060,
           7376998,
           9556500,
           8310226,
           4838800,
           4605744,
           49569000,
           8716441,
           10223422,
           198676,
           2900100,
           52667100,
           12596822,
           3786019,
           31785378,
           9103000,
           19284814,
           32850275,
           7867931,
           6063000,
           33411317,
           54959000
          ],
          "sizemode": "area",
          "sizeref": 1886375,
          "symbol": "circle"
         },
         "mode": "markers",
         "name": "Europe",
         "orientation": "v",
         "showlegend": true,
         "type": "scatter",
         "x": [
          1.36374630011,
          5.41773672705,
          11.2172567535,
          6.63836916108,
          10.1493005476,
          6.21338658857,
          7.3064221599,
          2.24941398567,
          5.758242269149999,
          7.269387323839999,
          5.65504728764,
          4.43148255688,
          8.47605463669,
          5.1072949704,
          8.105834013680001,
          1.39828723131,
          4.71631855487,
          2.64722755876,
          8.770023402589999,
          5.43460087436,
          1.03313907211,
          10.7841045545
         ],
         "xaxis": "x",
         "y": [
          2760.196931,
          12834.6024,
          13149.04119,
          5577.0028,
          15937.21123,
          10921.63626,
          12999.91766,
          8513.097016,
          9326.64467,
          13319.89568,
          7655.568963,
          10022.40131,
          15363.25136,
          16361.87647,
          6557.152776,
          6361.517993,
          6470.866545,
          7993.512294,
          15258.29697,
          22966.14432,
          2826.3563870000003,
          14142.85089
         ],
         "yaxis": "y"
        },
        {
         "hovertemplate": "<b>%{hovertext}</b><br><br>continent=Africa<br>CO2 emissions (metric tons per capita)=%{x}<br>gdpPercap=%{y}<br>pop=%{marker.size}<extra></extra>",
         "hovertext": [
          "Algeria",
          "Angola",
          "Benin",
          "Burkina Faso",
          "Burundi",
          "Cameroon",
          "Central African Republic",
          "Chad",
          "Comoros",
          "Cote d'Ivoire",
          "Djibouti",
          "Equatorial Guinea",
          "Ethiopia",
          "Gabon",
          "Ghana",
          "Guinea",
          "Guinea-Bissau",
          "Kenya",
          "Liberia",
          "Libya",
          "Madagascar",
          "Malawi",
          "Mali",
          "Mauritania",
          "Mauritius",
          "Morocco",
          "Mozambique",
          "Niger",
          "Nigeria",
          "Rwanda",
          "Sao Tome and Principe",
          "Senegal",
          "Sierra Leone",
          "Somalia",
          "South Africa",
          "Sudan",
          "Swaziland",
          "Tanzania",
          "Togo",
          "Tunisia",
          "Uganda",
          "Zambia",
          "Zimbabwe"
         ],
         "legendgroup": "Africa",
         "marker": {
          "color": "#00cc96",
          "opacity": 0.6,
          "size": [
           12760499,
           5247469,
           2427334,
           5127935,
           3330989,
           6335506,
           1733638,
           3495967,
           217378,
           4744870,
           127617,
           259864,
           27860297,
           489004,
           8490213,
           3451418,
           601287,
           10191512,
           1279406,
           1759224,
           6334556,
           4147252,
           5212416,
           1230542,
           789309,
           14770296,
           8680909,
           4534062,
           47287752,
           3451079,
           70787,
           3965841,
           2662190,
           3428839,
           20997321,
           12716129,
           420690,
           12607312,
           1735550,
           4786986,
           8900294,
           3900000,
           4995432
          ],
          "sizemode": "area",
          "sizeref": 1886375,
          "symbol": "circle"
         },
         "mode": "markers",
         "name": "Africa",
         "orientation": "v",
         "showlegend": true,
         "type": "scatter",
         "x": [
          0.632118426889,
          0.166658588848,
          0.0523195961148,
          0.0192168474009,
          0.0147354429891,
          0.0729810151442,
          0.0533441408437,
          0.0341490827003,
          0.0856623590204,
          0.324270273072,
          0.669756398256,
          0.0908814105401,
          0.0408827807982,
          1.82744493336,
          0.185683744295,
          0.180529006335,
          0.0707397168393,
          0.266146233454,
          0.465652918101,
          9.94130993774,
          0.138895338975,
          0.086039155676,
          0.0392007077217,
          0.188179057955,
          0.6361795955439999,
          0.3615857767970001,
          0.216165510896,
          0.0318543481335,
          0.244682890582,
          0.0118002652184999,
          0.1620797359809999,
          0.181319271624,
          0.105440879922,
          0.0704483235701,
          6.46564779364,
          0.250771072594,
          0.55253014742,
          0.141879278158,
          0.10672264605,
          0.638870927594,
          0.0944460734361,
          1.2636279603,
          1.12296052314
         ],
         "xaxis": "x",
         "y": [
          3246.991771,
          5522.776375,
          1035.831411,
          794.8265597,
          412.97751360000007,
          1508.453148,
          1136.056615,
          1196.810565,
          1876.029643,
          2052.050473,
          3020.050513,
          915.5960025,
          516.1186438,
          8358.761987,
          1125.69716,
          708.7595409,
          715.5806402000001,
          1056.736457,
          713.6036482999999,
          18772.75169,
          1634.047282,
          495.5147806,
          545.0098873,
          1421.145193,
          2475.387562,
          1711.04477,
          566.6691539,
          1054.384891,
          1014.514104,
          510.9637142,
          1384.840593,
          1612.404632,
          1206.043465,
          1284.7331800000002,
          7114.477970999999,
          1687.997641,
          2613.101665,
          848.2186575,
          1477.59676,
          1932.3601670000005,
          908.9185217,
          1777.077318,
          569.7950712
         ],
         "yaxis": "y"
        },
        {
         "hovertemplate": "<b>%{hovertext}</b><br><br>continent=Americas<br>CO2 emissions (metric tons per capita)=%{x}<br>gdpPercap=%{y}<br>pop=%{marker.size}<extra></extra>",
         "hovertext": [
          "Argentina",
          "Bolivia",
          "Brazil",
          "Canada",
          "Chile",
          "Colombia",
          "Costa Rica",
          "Cuba",
          "Dominican Republic",
          "Ecuador",
          "El Salvador",
          "Guatemala",
          "Haiti",
          "Honduras",
          "Jamaica",
          "Mexico",
          "Nicaragua",
          "Panama",
          "Paraguay",
          "Peru",
          "Trinidad and Tobago",
          "United States",
          "Uruguay"
         ],
         "legendgroup": "Americas",
         "marker": {
          "color": "#ab63fa",
          "opacity": 0.6,
          "size": [
           22934225,
           4040665,
           88049823,
           20819767,
           8858908,
           19764027,
           1588717,
           8139332,
           4049146,
           5432424,
           3232927,
           4690773,
           4318137,
           2500689,
           1861096,
           47995559,
           1865490,
           1405486,
           2287985,
           12132200,
           960155,
           198712000,
           2748579
          ],
          "sizemode": "area",
          "sizeref": 1886375,
          "symbol": "circle"
         },
         "mode": "markers",
         "name": "Americas",
         "orientation": "v",
         "showlegend": true,
         "type": "scatter",
         "x": [
          2.85816254619,
          0.446569679542,
          0.744966530874,
          13.8103545953,
          2.1409901271900003,
          1.21683476874,
          0.517145991263,
          1.90593276713,
          0.380469161164,
          0.465781970972,
          0.342459705043,
          0.397317380131,
          0.0585660070754,
          0.352498584235,
          2.14463346178,
          1.8996986330400003,
          0.493983688604,
          1.21812383412,
          0.213013396786,
          1.1118562074299998,
          5.00989828473,
          18.5983178822,
          1.77610139003
         ],
         "xaxis": "x",
         "y": [
          8052.953020999999,
          2586.886053,
          3429.864357,
          16076.58803,
          5106.654313,
          2678.729839,
          4161.727834,
          5690.268015,
          1653.7230029999998,
          4579.074215,
          4358.595393,
          3242.531147,
          1452.057666,
          2538.269358,
          6124.703450999999,
          5754.733883,
          4643.393534000001,
          4421.009084,
          2299.376311,
          5788.09333,
          5621.368472,
          19530.36557,
          5444.61962
         ],
         "yaxis": "y"
        },
        {
         "hovertemplate": "<b>%{hovertext}</b><br><br>continent=Oceania<br>CO2 emissions (metric tons per capita)=%{x}<br>gdpPercap=%{y}<br>pop=%{marker.size}<extra></extra>",
         "hovertext": [
          "Australia",
          "New Zealand"
         ],
         "legendgroup": "Oceania",
         "marker": {
          "color": "#FFA15A",
          "opacity": 0.6,
          "size": [
           11872264,
           2728150
          ],
          "sizemode": "area",
          "sizeref": 1886375,
          "symbol": "circle"
         },
         "mode": "markers",
         "name": "Oceania",
         "orientation": "v",
         "showlegend": true,
         "type": "scatter",
         "x": [
          10.9556247987,
          5.00761352373
         ],
         "xaxis": "x",
         "y": [
          14526.12465,
          14463.918930000002
         ],
         "yaxis": "y"
        }
       ],
       "layout": {
        "legend": {
         "itemsizing": "constant",
         "title": {
          "text": "continent"
         },
         "tracegroupgap": 0
        },
        "template": {
         "data": {
          "bar": [
           {
            "error_x": {
             "color": "#2a3f5f"
            },
            "error_y": {
             "color": "#2a3f5f"
            },
            "marker": {
             "line": {
              "color": "white",
              "width": 0.5
             },
             "pattern": {
              "fillmode": "overlay",
              "size": 10,
              "solidity": 0.2
             }
            },
            "type": "bar"
           }
          ],
          "barpolar": [
           {
            "marker": {
             "line": {
              "color": "white",
              "width": 0.5
             },
             "pattern": {
              "fillmode": "overlay",
              "size": 10,
              "solidity": 0.2
             }
            },
            "type": "barpolar"
           }
          ],
          "carpet": [
           {
            "aaxis": {
             "endlinecolor": "#2a3f5f",
             "gridcolor": "#C8D4E3",
             "linecolor": "#C8D4E3",
             "minorgridcolor": "#C8D4E3",
             "startlinecolor": "#2a3f5f"
            },
            "baxis": {
             "endlinecolor": "#2a3f5f",
             "gridcolor": "#C8D4E3",
             "linecolor": "#C8D4E3",
             "minorgridcolor": "#C8D4E3",
             "startlinecolor": "#2a3f5f"
            },
            "type": "carpet"
           }
          ],
          "choropleth": [
           {
            "colorbar": {
             "outlinewidth": 0,
             "ticks": ""
            },
            "type": "choropleth"
           }
          ],
          "contour": [
           {
            "colorbar": {
             "outlinewidth": 0,
             "ticks": ""
            },
            "colorscale": [
             [
              0,
              "#0d0887"
             ],
             [
              0.1111111111111111,
              "#46039f"
             ],
             [
              0.2222222222222222,
              "#7201a8"
             ],
             [
              0.3333333333333333,
              "#9c179e"
             ],
             [
              0.4444444444444444,
              "#bd3786"
             ],
             [
              0.5555555555555556,
              "#d8576b"
             ],
             [
              0.6666666666666666,
              "#ed7953"
             ],
             [
              0.7777777777777778,
              "#fb9f3a"
             ],
             [
              0.8888888888888888,
              "#fdca26"
             ],
             [
              1,
              "#f0f921"
             ]
            ],
            "type": "contour"
           }
          ],
          "contourcarpet": [
           {
            "colorbar": {
             "outlinewidth": 0,
             "ticks": ""
            },
            "type": "contourcarpet"
           }
          ],
          "heatmap": [
           {
            "colorbar": {
             "outlinewidth": 0,
             "ticks": ""
            },
            "colorscale": [
             [
              0,
              "#0d0887"
             ],
             [
              0.1111111111111111,
              "#46039f"
             ],
             [
              0.2222222222222222,
              "#7201a8"
             ],
             [
              0.3333333333333333,
              "#9c179e"
             ],
             [
              0.4444444444444444,
              "#bd3786"
             ],
             [
              0.5555555555555556,
              "#d8576b"
             ],
             [
              0.6666666666666666,
              "#ed7953"
             ],
             [
              0.7777777777777778,
              "#fb9f3a"
             ],
             [
              0.8888888888888888,
              "#fdca26"
             ],
             [
              1,
              "#f0f921"
             ]
            ],
            "type": "heatmap"
           }
          ],
          "heatmapgl": [
           {
            "colorbar": {
             "outlinewidth": 0,
             "ticks": ""
            },
            "colorscale": [
             [
              0,
              "#0d0887"
             ],
             [
              0.1111111111111111,
              "#46039f"
             ],
             [
              0.2222222222222222,
              "#7201a8"
             ],
             [
              0.3333333333333333,
              "#9c179e"
             ],
             [
              0.4444444444444444,
              "#bd3786"
             ],
             [
              0.5555555555555556,
              "#d8576b"
             ],
             [
              0.6666666666666666,
              "#ed7953"
             ],
             [
              0.7777777777777778,
              "#fb9f3a"
             ],
             [
              0.8888888888888888,
              "#fdca26"
             ],
             [
              1,
              "#f0f921"
             ]
            ],
            "type": "heatmapgl"
           }
          ],
          "histogram": [
           {
            "marker": {
             "pattern": {
              "fillmode": "overlay",
              "size": 10,
              "solidity": 0.2
             }
            },
            "type": "histogram"
           }
          ],
          "histogram2d": [
           {
            "colorbar": {
             "outlinewidth": 0,
             "ticks": ""
            },
            "colorscale": [
             [
              0,
              "#0d0887"
             ],
             [
              0.1111111111111111,
              "#46039f"
             ],
             [
              0.2222222222222222,
              "#7201a8"
             ],
             [
              0.3333333333333333,
              "#9c179e"
             ],
             [
              0.4444444444444444,
              "#bd3786"
             ],
             [
              0.5555555555555556,
              "#d8576b"
             ],
             [
              0.6666666666666666,
              "#ed7953"
             ],
             [
              0.7777777777777778,
              "#fb9f3a"
             ],
             [
              0.8888888888888888,
              "#fdca26"
             ],
             [
              1,
              "#f0f921"
             ]
            ],
            "type": "histogram2d"
           }
          ],
          "histogram2dcontour": [
           {
            "colorbar": {
             "outlinewidth": 0,
             "ticks": ""
            },
            "colorscale": [
             [
              0,
              "#0d0887"
             ],
             [
              0.1111111111111111,
              "#46039f"
             ],
             [
              0.2222222222222222,
              "#7201a8"
             ],
             [
              0.3333333333333333,
              "#9c179e"
             ],
             [
              0.4444444444444444,
              "#bd3786"
             ],
             [
              0.5555555555555556,
              "#d8576b"
             ],
             [
              0.6666666666666666,
              "#ed7953"
             ],
             [
              0.7777777777777778,
              "#fb9f3a"
             ],
             [
              0.8888888888888888,
              "#fdca26"
             ],
             [
              1,
              "#f0f921"
             ]
            ],
            "type": "histogram2dcontour"
           }
          ],
          "mesh3d": [
           {
            "colorbar": {
             "outlinewidth": 0,
             "ticks": ""
            },
            "type": "mesh3d"
           }
          ],
          "parcoords": [
           {
            "line": {
             "colorbar": {
              "outlinewidth": 0,
              "ticks": ""
             }
            },
            "type": "parcoords"
           }
          ],
          "pie": [
           {
            "automargin": true,
            "type": "pie"
           }
          ],
          "scatter": [
           {
            "fillpattern": {
             "fillmode": "overlay",
             "size": 10,
             "solidity": 0.2
            },
            "type": "scatter"
           }
          ],
          "scatter3d": [
           {
            "line": {
             "colorbar": {
              "outlinewidth": 0,
              "ticks": ""
             }
            },
            "marker": {
             "colorbar": {
              "outlinewidth": 0,
              "ticks": ""
             }
            },
            "type": "scatter3d"
           }
          ],
          "scattercarpet": [
           {
            "marker": {
             "colorbar": {
              "outlinewidth": 0,
              "ticks": ""
             }
            },
            "type": "scattercarpet"
           }
          ],
          "scattergeo": [
           {
            "marker": {
             "colorbar": {
              "outlinewidth": 0,
              "ticks": ""
             }
            },
            "type": "scattergeo"
           }
          ],
          "scattergl": [
           {
            "marker": {
             "colorbar": {
              "outlinewidth": 0,
              "ticks": ""
             }
            },
            "type": "scattergl"
           }
          ],
          "scattermapbox": [
           {
            "marker": {
             "colorbar": {
              "outlinewidth": 0,
              "ticks": ""
             }
            },
            "type": "scattermapbox"
           }
          ],
          "scatterpolar": [
           {
            "marker": {
             "colorbar": {
              "outlinewidth": 0,
              "ticks": ""
             }
            },
            "type": "scatterpolar"
           }
          ],
          "scatterpolargl": [
           {
            "marker": {
             "colorbar": {
              "outlinewidth": 0,
              "ticks": ""
             }
            },
            "type": "scatterpolargl"
           }
          ],
          "scatterternary": [
           {
            "marker": {
             "colorbar": {
              "outlinewidth": 0,
              "ticks": ""
             }
            },
            "type": "scatterternary"
           }
          ],
          "surface": [
           {
            "colorbar": {
             "outlinewidth": 0,
             "ticks": ""
            },
            "colorscale": [
             [
              0,
              "#0d0887"
             ],
             [
              0.1111111111111111,
              "#46039f"
             ],
             [
              0.2222222222222222,
              "#7201a8"
             ],
             [
              0.3333333333333333,
              "#9c179e"
             ],
             [
              0.4444444444444444,
              "#bd3786"
             ],
             [
              0.5555555555555556,
              "#d8576b"
             ],
             [
              0.6666666666666666,
              "#ed7953"
             ],
             [
              0.7777777777777778,
              "#fb9f3a"
             ],
             [
              0.8888888888888888,
              "#fdca26"
             ],
             [
              1,
              "#f0f921"
             ]
            ],
            "type": "surface"
           }
          ],
          "table": [
           {
            "cells": {
             "fill": {
              "color": "#EBF0F8"
             },
             "line": {
              "color": "white"
             }
            },
            "header": {
             "fill": {
              "color": "#C8D4E3"
             },
             "line": {
              "color": "white"
             }
            },
            "type": "table"
           }
          ]
         },
         "layout": {
          "annotationdefaults": {
           "arrowcolor": "#2a3f5f",
           "arrowhead": 0,
           "arrowwidth": 1
          },
          "autotypenumbers": "strict",
          "coloraxis": {
           "colorbar": {
            "outlinewidth": 0,
            "ticks": ""
           }
          },
          "colorscale": {
           "diverging": [
            [
             0,
             "#8e0152"
            ],
            [
             0.1,
             "#c51b7d"
            ],
            [
             0.2,
             "#de77ae"
            ],
            [
             0.3,
             "#f1b6da"
            ],
            [
             0.4,
             "#fde0ef"
            ],
            [
             0.5,
             "#f7f7f7"
            ],
            [
             0.6,
             "#e6f5d0"
            ],
            [
             0.7,
             "#b8e186"
            ],
            [
             0.8,
             "#7fbc41"
            ],
            [
             0.9,
             "#4d9221"
            ],
            [
             1,
             "#276419"
            ]
           ],
           "sequential": [
            [
             0,
             "#0d0887"
            ],
            [
             0.1111111111111111,
             "#46039f"
            ],
            [
             0.2222222222222222,
             "#7201a8"
            ],
            [
             0.3333333333333333,
             "#9c179e"
            ],
            [
             0.4444444444444444,
             "#bd3786"
            ],
            [
             0.5555555555555556,
             "#d8576b"
            ],
            [
             0.6666666666666666,
             "#ed7953"
            ],
            [
             0.7777777777777778,
             "#fb9f3a"
            ],
            [
             0.8888888888888888,
             "#fdca26"
            ],
            [
             1,
             "#f0f921"
            ]
           ],
           "sequentialminus": [
            [
             0,
             "#0d0887"
            ],
            [
             0.1111111111111111,
             "#46039f"
            ],
            [
             0.2222222222222222,
             "#7201a8"
            ],
            [
             0.3333333333333333,
             "#9c179e"
            ],
            [
             0.4444444444444444,
             "#bd3786"
            ],
            [
             0.5555555555555556,
             "#d8576b"
            ],
            [
             0.6666666666666666,
             "#ed7953"
            ],
            [
             0.7777777777777778,
             "#fb9f3a"
            ],
            [
             0.8888888888888888,
             "#fdca26"
            ],
            [
             1,
             "#f0f921"
            ]
           ]
          },
          "colorway": [
           "#636efa",
           "#EF553B",
           "#00cc96",
           "#ab63fa",
           "#FFA15A",
           "#19d3f3",
           "#FF6692",
           "#B6E880",
           "#FF97FF",
           "#FECB52"
          ],
          "font": {
           "color": "#2a3f5f"
          },
          "geo": {
           "bgcolor": "white",
           "lakecolor": "white",
           "landcolor": "white",
           "showlakes": true,
           "showland": true,
           "subunitcolor": "#C8D4E3"
          },
          "hoverlabel": {
           "align": "left"
          },
          "hovermode": "closest",
          "mapbox": {
           "style": "light"
          },
          "paper_bgcolor": "white",
          "plot_bgcolor": "white",
          "polar": {
           "angularaxis": {
            "gridcolor": "#EBF0F8",
            "linecolor": "#EBF0F8",
            "ticks": ""
           },
           "bgcolor": "white",
           "radialaxis": {
            "gridcolor": "#EBF0F8",
            "linecolor": "#EBF0F8",
            "ticks": ""
           }
          },
          "scene": {
           "xaxis": {
            "backgroundcolor": "white",
            "gridcolor": "#DFE8F3",
            "gridwidth": 2,
            "linecolor": "#EBF0F8",
            "showbackground": true,
            "ticks": "",
            "zerolinecolor": "#EBF0F8"
           },
           "yaxis": {
            "backgroundcolor": "white",
            "gridcolor": "#DFE8F3",
            "gridwidth": 2,
            "linecolor": "#EBF0F8",
            "showbackground": true,
            "ticks": "",
            "zerolinecolor": "#EBF0F8"
           },
           "zaxis": {
            "backgroundcolor": "white",
            "gridcolor": "#DFE8F3",
            "gridwidth": 2,
            "linecolor": "#EBF0F8",
            "showbackground": true,
            "ticks": "",
            "zerolinecolor": "#EBF0F8"
           }
          },
          "shapedefaults": {
           "line": {
            "color": "#2a3f5f"
           }
          },
          "ternary": {
           "aaxis": {
            "gridcolor": "#DFE8F3",
            "linecolor": "#A2B1C6",
            "ticks": ""
           },
           "baxis": {
            "gridcolor": "#DFE8F3",
            "linecolor": "#A2B1C6",
            "ticks": ""
           },
           "bgcolor": "white",
           "caxis": {
            "gridcolor": "#DFE8F3",
            "linecolor": "#A2B1C6",
            "ticks": ""
           }
          },
          "title": {
           "x": 0.05
          },
          "xaxis": {
           "automargin": true,
           "gridcolor": "#EBF0F8",
           "linecolor": "#EBF0F8",
           "ticks": "",
           "title": {
            "standoff": 15
           },
           "zerolinecolor": "#EBF0F8",
           "zerolinewidth": 2
          },
          "yaxis": {
           "automargin": true,
           "gridcolor": "#EBF0F8",
           "linecolor": "#EBF0F8",
           "ticks": "",
           "title": {
            "standoff": 15
           },
           "zerolinecolor": "#EBF0F8",
           "zerolinewidth": 2
          }
         }
        },
        "title": {
         "text": "Data of CO2 emissions and GDP per capita in 1967"
        },
        "xaxis": {
         "anchor": "y",
         "color": "black",
         "domain": [
          0,
          1
         ],
         "gridcolor": "rgba(0,0,0,0)",
         "linewidth": 2,
         "range": [
          0,
          25
         ],
         "title": {
          "text": "CO2 emissions (metric tons per capita)"
         }
        },
        "yaxis": {
         "anchor": "x",
         "color": "black",
         "domain": [
          0,
          1
         ],
         "gridcolor": "rgba(0,0,0,0)",
         "linewidth": 2,
         "range": [
          0,
          40000
         ],
         "title": {
          "text": "Gdp per capita (USD)"
         }
        }
       }
      }
     },
     "metadata": {},
     "output_type": "display_data"
    }
   ],
   "source": [
    "import plotly.express as px\n",
    "\n",
    "fig = px.scatter(Data_Year_Max_Correlation, x=\"CO2 emissions (metric tons per capita)\", y=\"gdpPercap\", color=\"continent\", size='pop', hover_name =\"Country Name\",  opacity = 0.6,\n",
    "                 title= (f\"Data of CO2 emissions and GDP per capita in {year_of_max_correlation}\"))\n",
    "fig.update_layout(\n",
    "    template='plotly_white',  # Use white template\n",
    "    xaxis=dict(\n",
    "        title= 'CO2 emissions (metric tons per capita)',\n",
    "        gridcolor='rgba(0,0,0,0)',  # Set grid lines color to transparent\n",
    "        color='black',              # Set X axis color to black\n",
    "        linewidth=2                 # Set X axis line width to 2 (bold)\n",
    "    ),\n",
    "    yaxis=dict(\n",
    "        title='Gdp per capita (USD)',\n",
    "        gridcolor='rgba(0,0,0,0)',  # Set grid lines color to transparent\n",
    "        color='black',              # Set Y axis color to black\n",
    "        linewidth=2,                # Set Y axis line width to 2 (bold)\n",
    "    )\n",
    ")\n",
    "\n",
    "fig.update_xaxes(range=[0,25])  \n",
    "fig.update_yaxes(range=[0,40000]) #We are not displaying Kuwait\n",
    "\n",
    "fig.show()\n",
    "\n"
   ]
  },
  {
   "cell_type": "markdown",
   "metadata": {},
   "source": [
    "<h3>Now, without further guidance, use your Python Data Science skills (and the correct statistical tests) to answer the following (use the unfiltered dataset): </h3>"
   ]
  },
  {
   "cell_type": "markdown",
   "metadata": {},
   "source": [
    "<h4>1. What is the relationship between continent and 'Energy use (kg of oil equivalent per capita)'? (Stats test needed)</h4>"
   ]
  },
  {
   "cell_type": "code",
   "execution_count": 281,
   "metadata": {},
   "outputs": [],
   "source": [
    "#Given that the predictor variable is Categorical ('Continent') and the outcome variable is Quantitative ('Energy use') we would run an ANOVA test\n",
    "\n",
    "#We will work only with those countries that have values for Energy use and Continent and we will conduct the analysis for each year\n",
    "\n",
    "data_energy= df.dropna(subset=['Energy use (kg of oil equivalent per capita)', 'continent'])\n",
    "data_energy=data_energy[['Country Name','Year','Energy use (kg of oil equivalent per capita)', 'continent']]\n",
    "\n",
    "\n",
    "\n"
   ]
  },
  {
   "cell_type": "code",
   "execution_count": 282,
   "metadata": {},
   "outputs": [
    {
     "name": "stdout",
     "output_type": "stream",
     "text": [
      "   Year  F-statistic   p-value\n",
      "0  1972     7.366889  0.000036\n",
      "1  1977     8.455679  0.000008\n",
      "2  1982     7.551775  0.000027\n",
      "3  1987     8.495935  0.000007\n",
      "4  1992     7.897726  0.000015\n",
      "5  1997     7.057320  0.000049\n",
      "6  2002     6.637304  0.000090\n",
      "7  2007     6.328448  0.000131\n",
      "8  1962     8.737694  0.000664\n",
      "9  1967     9.642467  0.000334\n"
     ]
    }
   ],
   "source": [
    "# Perform one-way ANOVA\n",
    "from scipy.stats import f_oneway\n",
    "\n",
    "Anova_Results=[]\n",
    "\n",
    "for year in data_energy['Year'].unique():\n",
    "\n",
    "    #Filter the data set per year\n",
    "    df_year = data_energy[data_energy['Year'] == year]\n",
    "    #Grouping data according to continent and energy use\n",
    "    grouped_data = [df_year[df_year['continent'] == continent]['Energy use (kg of oil equivalent per capita)'] for continent in df_year['continent'].unique()]    \n",
    "    #Performing ANOVA of the grouped data\n",
    "    f_statistic, p_value = f_oneway(*grouped_data)\n",
    "    \n",
    "    Anova_Results.append({'Year': year, 'F-statistic': f_statistic, 'p-value': p_value})\n",
    "\n",
    "Anova_Results=pd.DataFrame(Anova_Results)\n",
    "# Print the ANOVA results\n",
    "print(Anova_Results)\n",
    "#"
   ]
  },
  {
   "cell_type": "markdown",
   "metadata": {},
   "source": [
    "<h5>We can see that the p-value for all years is less than 0.05 so we reject the null hypothesis and we conclude that there is a significant difference in energy use across continents.\n",
    "We will plot the energy use in each continent for each year to complement this analysis</h5>"
   ]
  },
  {
   "cell_type": "code",
   "execution_count": 283,
   "metadata": {},
   "outputs": [
    {
     "data": {
      "application/vnd.plotly.v1+json": {
       "config": {
        "plotlyServerURL": "https://plot.ly"
       },
       "data": [
        {
         "boxpoints": "suspectedoutliers",
         "marker": {
          "color": "rgba(255, 100, 0, 0.1)"
         },
         "name": "1962",
         "type": "box",
         "x": [
          "Oceania",
          "Europe",
          "Europe",
          "Americas",
          "Europe",
          "Europe",
          "Europe",
          "Europe",
          "Europe",
          "Europe",
          "Europe",
          "Europe",
          "Asia",
          "Europe",
          "Oceania",
          "Europe",
          "Europe",
          "Europe",
          "Europe",
          "Europe",
          "Europe",
          "Europe",
          "Europe",
          "Americas"
         ],
         "y": [
          3172.97486502,
          1675.87362115,
          2810.06114801,
          4451.56011604,
          2296.28956262,
          2361.74387608,
          1852.7357712,
          2124.84853926,
          350.101257861,
          3028.29836932,
          1412.72967684,
          1007.04834663,
          1003.75225394,
          2081.01162075,
          1791.46132151,
          2052.05448433,
          1976.85979181,
          363.164047972,
          605.223527325,
          2887.23625249,
          1568.91106002,
          410.021796967,
          3087.34197183,
          5774.58631485
         ]
        },
        {
         "boxpoints": "suspectedoutliers",
         "marker": {
          "color": "rgba(255, 100, 0, 0.2)"
         },
         "name": "1967",
         "type": "box",
         "x": [
          "Oceania",
          "Europe",
          "Europe",
          "Americas",
          "Europe",
          "Europe",
          "Europe",
          "Europe",
          "Europe",
          "Europe",
          "Europe",
          "Europe",
          "Europe",
          "Asia",
          "Europe",
          "Oceania",
          "Europe",
          "Europe",
          "Europe",
          "Europe",
          "Europe",
          "Europe",
          "Europe",
          "Europe",
          "Americas"
         ],
         "y": [
          3692.80794983,
          1920.21212423,
          3182.9234575,
          5557.29174015,
          3061.11010693,
          3126.42604539,
          2241.91139524,
          2388.41234673,
          607.702155943,
          1476.04957577,
          3594.36178937,
          1767.42510638,
          1551.51917279,
          1720.54974435,
          2762.80248267,
          2188.69351345,
          2815.68798736,
          2199.05462052,
          486.585415324,
          881.3832485789999,
          3630.19413871,
          2040.8279002,
          484.393315616,
          3345.55349486,
          6809.82048392
         ]
        },
        {
         "boxpoints": "suspectedoutliers",
         "marker": {
          "color": "rgba(255, 100, 0, 0.3)"
         },
         "name": "1972",
         "type": "box",
         "x": [
          "Europe",
          "Africa",
          "Africa",
          "Americas",
          "Oceania",
          "Europe",
          "Asia",
          "Asia",
          "Europe",
          "Africa",
          "Americas",
          "Americas",
          "Europe",
          "Africa",
          "Americas",
          "Americas",
          "Asia",
          "Americas",
          "Americas",
          "Africa",
          "Americas",
          "Europe",
          "Europe",
          "Americas",
          "Americas",
          "Americas",
          "Africa",
          "Europe",
          "Europe",
          "Africa",
          "Europe",
          "Africa",
          "Europe",
          "Americas",
          "Americas",
          "Americas",
          "Europe",
          "Europe",
          "Asia",
          "Asia",
          "Asia",
          "Europe",
          "Asia",
          "Europe",
          "Americas",
          "Asia",
          "Asia",
          "Africa",
          "Asia",
          "Asia",
          "Africa",
          "Asia",
          "Africa",
          "Americas",
          "Africa",
          "Africa",
          "Asia",
          "Asia",
          "Europe",
          "Oceania",
          "Americas",
          "Africa",
          "Europe",
          "Asia",
          "Asia",
          "Americas",
          "Americas",
          "Americas",
          "Asia",
          "Europe",
          "Europe",
          "Europe",
          "Asia",
          "Africa",
          "Asia",
          "Europe",
          "Africa",
          "Europe",
          "Asia",
          "Africa",
          "Europe",
          "Europe",
          "Africa",
          "Asia",
          "Africa",
          "Americas",
          "Africa",
          "Europe",
          "Europe",
          "Americas",
          "Americas",
          "Asia",
          "Africa",
          "Africa"
         ],
         "y": [
          865.592481207,
          261.465250751,
          629.301934363,
          1379.81886741,
          4035.20634439,
          2627.32249578,
          5960.21133509,
          86.903766977,
          4473.92951273,
          380.812029086,
          240.157170254,
          741.6918705969998,
          2262.78654882,
          386.14642293800006,
          6933.60655182,
          891.2738674039999,
          477.168708746,
          598.975288294,
          442.444664949,
          453.243100247,
          1154.55654156,
          4613.78059093,
          3858.59212164,
          573.372745636,
          360.600661999,
          484.967888203,
          434.793195834,
          4188.16067653,
          3160.80483651,
          1707.3062928,
          4017.33738516,
          348.93189080300004,
          1134.78649348,
          491.473442413,
          317.810225983,
          499.277043223,
          1880.53879751,
          4403.96964669,
          268.485083335,
          301.357990782,
          405.152489951,
          2194.51306452,
          1756.33100381,
          2050.73787712,
          1331.9860874,
          2667.04674964,
          297.830418297,
          455.513600948,
          7802.76597438,
          789.565543378,
          952.733553333,
          536.095210505,
          435.059790882,
          856.81120942,
          190.387995598,
          699.0228986210001,
          281.931848431,
          300.972670494,
          4381.04179488,
          2617.16105927,
          487.96346663800006,
          583.794808164,
          3503.4299482,
          112.054808283,
          285.16407106400004,
          1159.6892715999998,
          540.588375968,
          648.807999388,
          406.49229803800006,
          2693.74527501,
          745.283954565,
          2131.63973572,
          979.423249943,
          280.837670795,
          1569.47082327,
          3224.51944058,
          1997.49821372,
          1299.43101563,
          314.546613794,
          485.018934669,
          4527.21372025,
          2727.71921732,
          527.0538798619999,
          367.864327681,
          332.041867346,
          2772.88276961,
          341.737804158,
          605.1364652890001,
          3747.96247517,
          7940.99783226,
          872.986354117,
          298.157558425,
          857.0932537580002,
          994.184786353
         ]
        },
        {
         "boxpoints": "suspectedoutliers",
         "marker": {
          "color": "rgba(255, 100, 0, 0.4)"
         },
         "name": "1977",
         "type": "box",
         "x": [
          "Europe",
          "Africa",
          "Africa",
          "Americas",
          "Oceania",
          "Europe",
          "Asia",
          "Asia",
          "Europe",
          "Africa",
          "Americas",
          "Americas",
          "Europe",
          "Africa",
          "Americas",
          "Americas",
          "Asia",
          "Americas",
          "Americas",
          "Africa",
          "Americas",
          "Europe",
          "Europe",
          "Americas",
          "Americas",
          "Americas",
          "Africa",
          "Europe",
          "Europe",
          "Africa",
          "Europe",
          "Africa",
          "Europe",
          "Americas",
          "Americas",
          "Americas",
          "Europe",
          "Europe",
          "Asia",
          "Asia",
          "Asia",
          "Europe",
          "Asia",
          "Europe",
          "Americas",
          "Asia",
          "Asia",
          "Africa",
          "Asia",
          "Asia",
          "Africa",
          "Asia",
          "Africa",
          "Americas",
          "Africa",
          "Africa",
          "Asia",
          "Asia",
          "Europe",
          "Oceania",
          "Americas",
          "Africa",
          "Europe",
          "Asia",
          "Asia",
          "Americas",
          "Americas",
          "Americas",
          "Asia",
          "Europe",
          "Europe",
          "Europe",
          "Asia",
          "Africa",
          "Asia",
          "Europe",
          "Africa",
          "Europe",
          "Asia",
          "Africa",
          "Europe",
          "Europe",
          "Africa",
          "Asia",
          "Africa",
          "Americas",
          "Africa",
          "Europe",
          "Europe",
          "Americas",
          "Americas",
          "Asia",
          "Africa",
          "Africa"
         ],
         "y": [
          923.728867504,
          398.656113469,
          535.2524622330001,
          1420.56765898,
          4671.19567362,
          2797.42192238,
          8187.11498635,
          97.860763105,
          4589.52441,
          363.746124276,
          331.439253894,
          868.475086329,
          2954.26673889,
          402.624623832,
          7409.53000504,
          779.391621026,
          577.211010594,
          638.025434659,
          528.165846592,
          449.52124719,
          1424.73743541,
          4716.46270083,
          3830.10381024,
          601.951784846,
          568.073705272,
          622.1297874219999,
          432.458375494,
          4516.24806759,
          3155.62146854,
          2000.90013642,
          4336.0874042,
          381.515147025,
          1469.54942907,
          574.359356263,
          350.433910995,
          512.605428263,
          2428.82933004,
          5602.87016623,
          283.275393642,
          347.868204367,
          626.354937731,
          2203.82152215,
          1786.48768337,
          2204.17980667,
          1153.48652689,
          2899.90421823,
          473.5437315580001,
          455.626061673,
          6429.99850119,
          696.1964896339999,
          1455.08414725,
          621.740086559,
          474.222876797,
          1063.78037111,
          252.036810104,
          608.405141326,
          276.246179043,
          302.06554296,
          4560.27311991,
          3055.08108455,
          585.0413863719999,
          634.258748201,
          4060.10627707,
          761.662333837,
          302.558312012,
          899.7691370580002,
          580.530937274,
          678.509067152,
          456.743021869,
          3251.8025717,
          845.368945104,
          2735.43911555,
          1368.95037047,
          281.840462003,
          1763.23012084,
          3780.58944725,
          2208.54919916,
          1667.64601643,
          293.833883231,
          445.524031505,
          5054.83376436,
          2877.79290941,
          455.445767964,
          451.510578157,
          327.998948608,
          2808.51679767,
          427.302747359,
          778.4328071839999,
          3695.38387114,
          8285.57089798,
          868.792103341,
          257.872313351,
          819.7872201060001,
          921.65469562
         ]
        },
        {
         "boxpoints": "suspectedoutliers",
         "marker": {
          "color": "rgba(255, 100, 0, 0.5)"
         },
         "name": "1982",
         "type": "box",
         "x": [
          "Europe",
          "Africa",
          "Africa",
          "Americas",
          "Oceania",
          "Europe",
          "Asia",
          "Asia",
          "Europe",
          "Africa",
          "Americas",
          "Africa",
          "Americas",
          "Europe",
          "Africa",
          "Americas",
          "Americas",
          "Asia",
          "Americas",
          "Americas",
          "Africa",
          "Americas",
          "Europe",
          "Europe",
          "Americas",
          "Americas",
          "Americas",
          "Africa",
          "Europe",
          "Europe",
          "Africa",
          "Europe",
          "Africa",
          "Europe",
          "Americas",
          "Americas",
          "Americas",
          "Europe",
          "Europe",
          "Asia",
          "Asia",
          "Asia",
          "Europe",
          "Asia",
          "Europe",
          "Americas",
          "Asia",
          "Asia",
          "Africa",
          "Asia",
          "Asia",
          "Africa",
          "Asia",
          "Africa",
          "Americas",
          "Africa",
          "Africa",
          "Asia",
          "Asia",
          "Europe",
          "Oceania",
          "Americas",
          "Africa",
          "Europe",
          "Asia",
          "Asia",
          "Americas",
          "Americas",
          "Americas",
          "Asia",
          "Europe",
          "Europe",
          "Europe",
          "Asia",
          "Africa",
          "Asia",
          "Europe",
          "Africa",
          "Europe",
          "Asia",
          "Africa",
          "Europe",
          "Europe",
          "Africa",
          "Asia",
          "Africa",
          "Americas",
          "Africa",
          "Europe",
          "Europe",
          "Americas",
          "Americas",
          "Asia",
          "Africa",
          "Africa"
         ],
         "y": [
          966.683283781,
          771.235497639,
          514.415934309,
          1416.53992488,
          4817.48952431,
          2830.22178095,
          9071.02474414,
          105.482961637,
          4208.25780214,
          355.338045025,
          462.43170312,
          739.29915268,
          867.193602187,
          3309.20642511,
          423.360959463,
          7149.344059999999,
          763.201224638,
          606.830437326,
          635.432893568,
          455.822967416,
          393.432418022,
          1536.90510757,
          4633.61136678,
          3422.37480485,
          596.93367919,
          666.635807378,
          595.2355137530001,
          434.058222854,
          4805.49388193,
          3272.05274478,
          2069.78785109,
          4257.86440736,
          376.7088969880001,
          1537.27769706,
          482.712477796,
          301.847692756,
          520.393217065,
          2630.75848148,
          7076.20798768,
          299.592677132,
          388.834624998,
          690.323799679,
          2356.8942567,
          1958.31704292,
          2206.54273411,
          1040.31180401,
          2840.60843908,
          875.54040491,
          437.652286948,
          7548.12934744,
          678.5814280469999,
          2397.98259634,
          898.6549052380002,
          414.601806914,
          1465.05024708,
          268.259441677,
          523.782627433,
          270.238811656,
          305.746943514,
          3785.11593558,
          3012.97138874,
          469.268615848,
          689.4945390439999,
          4262.39171068,
          1151.87126892,
          336.92280827900004,
          796.469906347,
          630.648885594,
          632.7254874390001,
          461.890994003,
          3412.49866376,
          1119.20463053,
          2876.73333115,
          4215.42559694,
          260.719421235,
          1987.08730813,
          3754.67958194,
          2699.72841558,
          1762.40454547,
          324.13036566,
          431.003010124,
          4877.79989653,
          2984.22326318,
          414.717967022,
          456.467867425,
          327.324375984,
          3648.18714807,
          493.048630903,
          732.662049648,
          3397.12228872,
          7259.07889875,
          766.1430987780002,
          271.162299998,
          756.612333199,
          842.372683813
         ]
        },
        {
         "boxpoints": "suspectedoutliers",
         "marker": {
          "color": "rgba(255, 100, 0, 0.6)"
         },
         "name": "1987",
         "type": "box",
         "x": [
          "Europe",
          "Africa",
          "Africa",
          "Americas",
          "Oceania",
          "Europe",
          "Asia",
          "Asia",
          "Europe",
          "Africa",
          "Americas",
          "Africa",
          "Americas",
          "Europe",
          "Africa",
          "Americas",
          "Americas",
          "Asia",
          "Americas",
          "Americas",
          "Africa",
          "Americas",
          "Europe",
          "Europe",
          "Americas",
          "Americas",
          "Americas",
          "Africa",
          "Europe",
          "Europe",
          "Africa",
          "Europe",
          "Africa",
          "Europe",
          "Americas",
          "Americas",
          "Americas",
          "Europe",
          "Europe",
          "Asia",
          "Asia",
          "Asia",
          "Europe",
          "Asia",
          "Europe",
          "Americas",
          "Asia",
          "Asia",
          "Africa",
          "Asia",
          "Asia",
          "Africa",
          "Asia",
          "Africa",
          "Americas",
          "Asia",
          "Africa",
          "Africa",
          "Asia",
          "Asia",
          "Europe",
          "Oceania",
          "Americas",
          "Africa",
          "Europe",
          "Asia",
          "Asia",
          "Americas",
          "Americas",
          "Americas",
          "Asia",
          "Europe",
          "Europe",
          "Europe",
          "Asia",
          "Africa",
          "Asia",
          "Europe",
          "Africa",
          "Europe",
          "Asia",
          "Africa",
          "Europe",
          "Europe",
          "Africa",
          "Asia",
          "Africa",
          "Americas",
          "Africa",
          "Europe",
          "Europe",
          "Americas",
          "Americas",
          "Asia",
          "Africa",
          "Africa"
         ],
         "y": [
          921.893044018,
          827.552506829,
          502.598458911,
          1477.07652885,
          4772.37046465,
          3174.74539203,
          9523.46356521,
          106.866835127,
          4727.68639528,
          347.306591796,
          341.493450003,
          743.685354401,
          987.562557183,
          3411.07339479,
          417.73292245,
          7641.32410546,
          826.260796732,
          694.4223599789999,
          696.0663928460001,
          491.495062694,
          383.372484812,
          1578.25907104,
          4978.254944899999,
          3819.83212874,
          594.381238984,
          602.470062495,
          503.481769676,
          437.234995296,
          5960.69258613,
          3690.65145306,
          1470.39664628,
          4616.39706207,
          363.852104774,
          1791.83338591,
          448.694681999,
          226.326971354,
          481.319956646,
          2894.82745315,
          7857.45488268,
          325.73809089400004,
          436.663234979,
          958.189471661,
          2608.80658136,
          2278.47928588,
          2407.25635314,
          765.4628605460001,
          3044.11508629,
          998.355658577,
          464.00933684,
          8616.57655309,
          996.943321974,
          2700.28315715,
          1078.98626036,
          512.011597538,
          1379.33314201,
          1746.24080026,
          277.485699249,
          474.548861116,
          269.30095308,
          307.065111322,
          4387.67068914,
          3452.96268019,
          502.383245685,
          674.47298453,
          5048.49930916,
          1412.3831509,
          376.344243754,
          730.8000538289999,
          699.102776962,
          540.974320389,
          433.357672285,
          3535.48197152,
          1241.1956653,
          3027.56521622,
          3750.91313869,
          254.211898654,
          2757.88068931,
          4074.77904741,
          2831.14750181,
          1919.44664907,
          328.090886835,
          397.42097884300006,
          5763.0704408,
          3430.8555125,
          394.145177081,
          531.762695185,
          328.062332773,
          4188.6453215,
          542.645168334,
          917.976137079,
          3619.07726922,
          7622.17301652,
          718.448623294,
          286.657214575,
          700.14084375,
          896.673611477
         ]
        },
        {
         "boxpoints": "suspectedoutliers",
         "marker": {
          "color": "rgba(255, 100, 0, 0.7)"
         },
         "name": "1992",
         "type": "box",
         "x": [
          "Europe",
          "Africa",
          "Africa",
          "Americas",
          "Oceania",
          "Europe",
          "Asia",
          "Asia",
          "Europe",
          "Africa",
          "Americas",
          "Europe",
          "Africa",
          "Americas",
          "Europe",
          "Africa",
          "Americas",
          "Americas",
          "Asia",
          "Americas",
          "Americas",
          "Africa",
          "Europe",
          "Americas",
          "Europe",
          "Europe",
          "Americas",
          "Americas",
          "Americas",
          "Africa",
          "Africa",
          "Europe",
          "Europe",
          "Africa",
          "Europe",
          "Africa",
          "Europe",
          "Americas",
          "Americas",
          "Americas",
          "Europe",
          "Europe",
          "Asia",
          "Asia",
          "Asia",
          "Europe",
          "Asia",
          "Europe",
          "Americas",
          "Asia",
          "Asia",
          "Africa",
          "Asia",
          "Africa",
          "Asia",
          "Africa",
          "Americas",
          "Asia",
          "Africa",
          "Africa",
          "Asia",
          "Africa",
          "Asia",
          "Europe",
          "Oceania",
          "Americas",
          "Africa",
          "Europe",
          "Asia",
          "Asia",
          "Americas",
          "Americas",
          "Americas",
          "Asia",
          "Europe",
          "Europe",
          "Europe",
          "Asia",
          "Africa",
          "Europe",
          "Asia",
          "Europe",
          "Europe",
          "Africa",
          "Europe",
          "Asia",
          "Africa",
          "Europe",
          "Europe",
          "Africa",
          "Asia",
          "Africa",
          "Americas",
          "Africa",
          "Europe",
          "Europe",
          "Americas",
          "Americas",
          "Asia",
          "Africa",
          "Africa"
         ],
         "y": [
          418.286629757,
          883.7458819,
          511.237051724,
          1484.0589177000004,
          4959.21491855,
          3239.0639673,
          10844.7550254,
          119.405481659,
          5092.96578511,
          321.349456122,
          399.828007323,
          1034.34415156,
          979.087310581,
          929.003678998,
          2396.00726637,
          397.277540786,
          7479.477427399999,
          1141.81007039,
          752.628662541,
          704.354798517,
          705.487675532,
          373.659519455,
          1502.13713647,
          1214.11700599,
          4222.41657552,
          3561.89036948,
          603.781376066,
          629.220777401,
          525.453706523,
          277.580928028,
          431.15182408,
          5380.99306782,
          3954.00370317,
          1298.09635297,
          4190.98422047,
          366.522645114,
          2129.89451644,
          497.344297754,
          219.075496949,
          483.335543947,
          2423.17944795,
          7755.39441578,
          365.379491444,
          574.344890279,
          1311.18896852,
          2775.21800345,
          2580.96935389,
          2627.34000777,
          1215.0555252,
          3652.07124745,
          1015.41769856,
          445.111805733,
          868.56933067,
          2452.19740381,
          1566.72481216,
          657.7868228880001,
          1452.97190576,
          1488.63742731,
          327.952990834,
          420.272139083,
          251.060745819,
          496.518769708,
          309.74507691900004,
          4501.66087489,
          3808.4772206,
          509.839947747,
          719.308370017,
          5159.65421807,
          2756.42578415,
          412.405215402,
          715.38365957,
          712.691343364,
          408.43313224,
          460.545976337,
          2569.17533457,
          1813.8858461,
          2052.96292702,
          4421.45445335,
          222.634685966,
          2020.15373461,
          4588.43321165,
          3410.7278847,
          2584.33517088,
          2414.3981946,
          2435.96962149,
          327.882389865,
          386.72897561,
          5369.37035674,
          3613.49260926,
          369.835021604,
          840.141111806,
          328.69853999,
          5286.28687516,
          641.6905970619999,
          960.859171935,
          3684.72453527,
          7677.40140109,
          855.1247871139999,
          276.1308749,
          662.721536129,
          923.493407317
         ]
        },
        {
         "boxpoints": "suspectedoutliers",
         "marker": {
          "color": "rgba(255, 100, 0, 0.8)"
         },
         "name": "1997",
         "type": "box",
         "x": [
          "Europe",
          "Africa",
          "Africa",
          "Americas",
          "Oceania",
          "Europe",
          "Asia",
          "Asia",
          "Europe",
          "Africa",
          "Americas",
          "Europe",
          "Africa",
          "Americas",
          "Europe",
          "Asia",
          "Africa",
          "Americas",
          "Americas",
          "Asia",
          "Americas",
          "Americas",
          "Africa",
          "Europe",
          "Americas",
          "Europe",
          "Europe",
          "Americas",
          "Americas",
          "Americas",
          "Africa",
          "Africa",
          "Europe",
          "Europe",
          "Africa",
          "Europe",
          "Africa",
          "Europe",
          "Americas",
          "Americas",
          "Americas",
          "Europe",
          "Europe",
          "Asia",
          "Asia",
          "Asia",
          "Europe",
          "Asia",
          "Europe",
          "Americas",
          "Asia",
          "Asia",
          "Africa",
          "Asia",
          "Asia",
          "Africa",
          "Asia",
          "Africa",
          "Americas",
          "Asia",
          "Africa",
          "Africa",
          "Asia",
          "Africa",
          "Asia",
          "Europe",
          "Oceania",
          "Americas",
          "Africa",
          "Europe",
          "Asia",
          "Asia",
          "Americas",
          "Americas",
          "Americas",
          "Asia",
          "Europe",
          "Europe",
          "Europe",
          "Asia",
          "Africa",
          "Europe",
          "Asia",
          "Europe",
          "Europe",
          "Africa",
          "Europe",
          "Asia",
          "Africa",
          "Europe",
          "Europe",
          "Africa",
          "Asia",
          "Africa",
          "Americas",
          "Africa",
          "Europe",
          "Europe",
          "Americas",
          "Americas",
          "Asia",
          "Africa",
          "Africa"
         ],
         "y": [
          384.594958328,
          804.842705115,
          494.174484207,
          1614.33824027,
          5469.5999892,
          3542.5214303,
          12122.0506027,
          135.210016124,
          5579.51075728,
          350.78972053,
          561.077061465,
          712.9252777060001,
          900.173527778,
          1061.83829204,
          2504.12268042,
          265.896639422,
          396.727156517,
          7965.51932158,
          1558.78524634,
          871.6462695360001,
          709.8217022360001,
          647.0037811669999,
          386.175169435,
          1704.81692913,
          1125.97333686,
          4184.88468363,
          3848.1558436,
          749.844735219,
          721.687588695,
          624.096762293,
          319.16492977400003,
          435.145404589,
          6276.95169203,
          4049.35046526,
          1236.01768782,
          4203.3573666,
          398.339353834,
          2282.13703466,
          526.326033275,
          252.463093356,
          528.901564325,
          2527.30162599,
          8584.10049866,
          399.052528907,
          690.7954914339999,
          1861.7960965,
          3255.49845122,
          2881.12834133,
          2834.40294607,
          1333.59707253,
          4048.98200021,
          991.96787502,
          441.007660811,
          8764.51262442,
          1698.3102702999995,
          2991.94395278,
          2063.52696529,
          712.571976967,
          1398.88398183,
          951.851569598,
          362.27042057,
          390.685096382,
          263.20255292,
          594.756148267,
          316.822270368,
          4579.47478164,
          4258.75677677,
          503.04461939,
          696.8847876410001,
          5477.88285412,
          3027.90856152,
          448.925191849,
          777.742373207,
          877.0448880460001,
          440.557973649,
          500.989771655,
          2643.12353589,
          2083.48767635,
          1989.99418196,
          4354.65523263,
          221.005820684,
          2299.90425855,
          5818.15092473,
          3361.88402225,
          3310.40063325,
          2655.26925959,
          2666.2640552,
          380.086721607,
          392.294923579,
          5672.0081772,
          3526.10543855,
          357.261154316,
          1164.94784692,
          384.078207642,
          5437.91312128,
          679.079751272,
          1165.81161631,
          3760.71236505,
          7828.5810964,
          880.633650605,
          335.170556166,
          617.209365016,
          804.5088922269998
         ]
        },
        {
         "boxpoints": "suspectedoutliers",
         "marker": {
          "color": "rgba(255, 100, 0, 0.9)"
         },
         "name": "2002",
         "type": "box",
         "x": [
          "Europe",
          "Africa",
          "Africa",
          "Americas",
          "Oceania",
          "Europe",
          "Asia",
          "Asia",
          "Europe",
          "Africa",
          "Americas",
          "Europe",
          "Africa",
          "Americas",
          "Europe",
          "Asia",
          "Africa",
          "Americas",
          "Americas",
          "Asia",
          "Americas",
          "Americas",
          "Africa",
          "Europe",
          "Americas",
          "Europe",
          "Europe",
          "Americas",
          "Americas",
          "Americas",
          "Africa",
          "Africa",
          "Europe",
          "Europe",
          "Africa",
          "Europe",
          "Africa",
          "Europe",
          "Americas",
          "Americas",
          "Americas",
          "Europe",
          "Europe",
          "Asia",
          "Asia",
          "Asia",
          "Europe",
          "Asia",
          "Europe",
          "Americas",
          "Asia",
          "Asia",
          "Africa",
          "Asia",
          "Asia",
          "Africa",
          "Asia",
          "Africa",
          "Americas",
          "Asia",
          "Africa",
          "Africa",
          "Asia",
          "Africa",
          "Asia",
          "Europe",
          "Oceania",
          "Americas",
          "Africa",
          "Africa",
          "Europe",
          "Asia",
          "Asia",
          "Americas",
          "Americas",
          "Americas",
          "Asia",
          "Europe",
          "Europe",
          "Europe",
          "Asia",
          "Africa",
          "Europe",
          "Asia",
          "Europe",
          "Europe",
          "Africa",
          "Europe",
          "Asia",
          "Africa",
          "Europe",
          "Europe",
          "Africa",
          "Asia",
          "Africa",
          "Americas",
          "Africa",
          "Europe",
          "Europe",
          "Americas",
          "Americas",
          "Asia",
          "Africa",
          "Africa"
         ],
         "y": [
          645.080153785,
          904.456391853,
          515.4034564030001,
          1502.22488095,
          5569.6409925,
          3765.28296302,
          11704.3047293,
          149.933182829,
          5461.40290348,
          305.04923703400004,
          528.760849998,
          1156.99672325,
          1032.6780741,
          1081.26747985,
          2401.37660851,
          314.97027594400004,
          389.52261441,
          7920.11022894,
          1644.79154564,
          978.61898313,
          606.266720641,
          748.21348058,
          406.144021726,
          1856.86891892,
          1053.28051042,
          4163.45010589,
          3535.09801372,
          819.797049144,
          739.4547575380002,
          720.3532811819998,
          197.54986892,
          439.254909387,
          6705.43983596,
          4225.60695353,
          1229.36459426,
          4108.40129887,
          317.525749335,
          2597.74828926,
          590.478746775,
          261.374331488,
          516.4041365740001,
          2520.15246577,
          10804.6417156,
          423.580114419,
          760.140852043,
          1130.94271589,
          3661.32224061,
          2862.7957382,
          3017.97165871,
          1371.65658542,
          4005.94409353,
          1024.4838209,
          440.968733004,
          10105.8321479,
          1484.22892653,
          3071.77483233,
          2183.8734214,
          873.195801833,
          1412.86939872,
          1058.16485595,
          402.312789339,
          395.127686774,
          266.385844866,
          579.8782172790001,
          345.37079196,
          4687.98228043,
          4337.38052425,
          508.740585366,
          130.047629217,
          721.312209806,
          5503.46451061,
          3890.79215204,
          455.934635667,
          834.670915895,
          705.433761481,
          446.340827194,
          477.457211125,
          2314.20257992,
          2477.48974988,
          1755.13002556,
          4907.82867485,
          253.315356135,
          2119.78208028,
          5065.98450652,
          3483.86750611,
          3424.45287862,
          2421.00577767,
          3107.86734112,
          432.84856645,
          411.137505242,
          5802.11010517,
          3553.18855698,
          416.002267994,
          1282.58023503,
          424.034097572,
          9356.78097414,
          801.489193653,
          1139.69490969,
          3685.8654787,
          7843.34484914,
          762.6981432010001,
          420.446832131,
          598.548219754,
          772.6766193660001
         ]
        },
        {
         "boxpoints": "suspectedoutliers",
         "marker": {
          "color": "rgba(255, 100, 0, 1.0)"
         },
         "name": "2007",
         "type": "box",
         "x": [
          "Europe",
          "Africa",
          "Africa",
          "Americas",
          "Oceania",
          "Europe",
          "Asia",
          "Asia",
          "Europe",
          "Africa",
          "Americas",
          "Europe",
          "Africa",
          "Americas",
          "Europe",
          "Asia",
          "Africa",
          "Americas",
          "Americas",
          "Asia",
          "Americas",
          "Africa",
          "Americas",
          "Africa",
          "Europe",
          "Americas",
          "Europe",
          "Europe",
          "Africa",
          "Americas",
          "Americas",
          "Americas",
          "Africa",
          "Africa",
          "Africa",
          "Europe",
          "Europe",
          "Africa",
          "Europe",
          "Africa",
          "Europe",
          "Americas",
          "Africa",
          "Americas",
          "Americas",
          "Europe",
          "Europe",
          "Asia",
          "Asia",
          "Asia",
          "Europe",
          "Asia",
          "Europe",
          "Americas",
          "Asia",
          "Asia",
          "Africa",
          "Asia",
          "Asia",
          "Africa",
          "Africa",
          "Asia",
          "Africa",
          "Americas",
          "Asia",
          "Europe",
          "Africa",
          "Africa",
          "Asia",
          "Africa",
          "Asia",
          "Europe",
          "Oceania",
          "Americas",
          "Africa",
          "Africa",
          "Europe",
          "Asia",
          "Asia",
          "Americas",
          "Americas",
          "Americas",
          "Asia",
          "Europe",
          "Europe",
          "Europe",
          "Africa",
          "Asia",
          "Africa",
          "Europe",
          "Asia",
          "Europe",
          "Europe",
          "Africa",
          "Europe",
          "Asia",
          "Africa",
          "Africa",
          "Europe",
          "Europe",
          "Africa",
          "Asia",
          "Africa",
          "Americas",
          "Africa",
          "Europe",
          "Europe",
          "Americas",
          "Americas",
          "Asia",
          "Africa",
          "Africa"
         ],
         "y": [
          679.861765101,
          1075.19412704,
          561.5501055130001,
          1846.93675639,
          5868.34709712,
          4029.62695258,
          11291.126355,
          173.580998621,
          5389.28164733,
          368.216084341,
          561.052703379,
          1381.12205494,
          1028.07041536,
          1221.36231051,
          2666.11144524,
          253.343288148,
          332.30332161,
          8130.58019344,
          1860.10017433,
          1550.53027085,
          637.510761494,
          63.1348128438,
          1031.80869969,
          539.7271851830001,
          2102.14585212,
          904.662628457,
          4468.96035161,
          3622.59683256,
          178.904528787,
          763.408932512,
          833.203582927,
          748.1199930380002,
          2641.94245101,
          162.700034655,
          442.86665148300006,
          6967.21323874,
          4120.3058212,
          1281.68189093,
          3985.80810152,
          278.760989471,
          2734.92011068,
          616.892076168,
          62.1995597581,
          384.513775199,
          657.398639731,
          2658.03637311,
          14746.0313385,
          486.292374786,
          788.5836582439999,
          892.39580238,
          3416.03094562,
          2898.15336834,
          3062.36054739,
          1578.42891649,
          4024.99795314,
          1251.68193903,
          462.22025237800005,
          10395.1176066,
          1034.92218437,
          9.71541007212,
          2725.88792504,
          2742.50027319,
          1007.57484088,
          1551.28978352,
          1376.98860218,
          1927.97889182,
          487.448713086,
          407.278749651,
          307.913041122,
          659.366428344,
          357.131793555,
          4843.79608802,
          4054.4950045,
          521.961949752,
          128.026173022,
          747.1012487439999,
          5864.97593092,
          6881.62081928,
          523.2672101530001,
          879.523836391,
          708.7828687130002,
          506.633143848,
          434.402352876,
          2526.9949602,
          2402.47799385,
          1904.09688616,
          274.890043982,
          5379.69097885,
          252.409846662,
          2248.15503566,
          4677.20430572,
          3320.45472221,
          3627.52350948,
          2805.48565552,
          3180.03341956,
          470.83709579,
          366.495542,
          372.735499664,
          5472.13539173,
          3410.15494794,
          442.62215764,
          1585.96595222,
          417.118049767,
          14608.0098682,
          883.981281357,
          1438.53526923,
          3441.68876583,
          7758.16570028,
          947.838610674,
          540.08195349,
          588.018958956,
          725.6810488469998
         ]
        }
       ],
       "layout": {
        "boxgroupgap": 0.5,
        "boxmode": "group",
        "template": {
         "data": {
          "bar": [
           {
            "error_x": {
             "color": "#2a3f5f"
            },
            "error_y": {
             "color": "#2a3f5f"
            },
            "marker": {
             "line": {
              "color": "white",
              "width": 0.5
             },
             "pattern": {
              "fillmode": "overlay",
              "size": 10,
              "solidity": 0.2
             }
            },
            "type": "bar"
           }
          ],
          "barpolar": [
           {
            "marker": {
             "line": {
              "color": "white",
              "width": 0.5
             },
             "pattern": {
              "fillmode": "overlay",
              "size": 10,
              "solidity": 0.2
             }
            },
            "type": "barpolar"
           }
          ],
          "carpet": [
           {
            "aaxis": {
             "endlinecolor": "#2a3f5f",
             "gridcolor": "#C8D4E3",
             "linecolor": "#C8D4E3",
             "minorgridcolor": "#C8D4E3",
             "startlinecolor": "#2a3f5f"
            },
            "baxis": {
             "endlinecolor": "#2a3f5f",
             "gridcolor": "#C8D4E3",
             "linecolor": "#C8D4E3",
             "minorgridcolor": "#C8D4E3",
             "startlinecolor": "#2a3f5f"
            },
            "type": "carpet"
           }
          ],
          "choropleth": [
           {
            "colorbar": {
             "outlinewidth": 0,
             "ticks": ""
            },
            "type": "choropleth"
           }
          ],
          "contour": [
           {
            "colorbar": {
             "outlinewidth": 0,
             "ticks": ""
            },
            "colorscale": [
             [
              0,
              "#0d0887"
             ],
             [
              0.1111111111111111,
              "#46039f"
             ],
             [
              0.2222222222222222,
              "#7201a8"
             ],
             [
              0.3333333333333333,
              "#9c179e"
             ],
             [
              0.4444444444444444,
              "#bd3786"
             ],
             [
              0.5555555555555556,
              "#d8576b"
             ],
             [
              0.6666666666666666,
              "#ed7953"
             ],
             [
              0.7777777777777778,
              "#fb9f3a"
             ],
             [
              0.8888888888888888,
              "#fdca26"
             ],
             [
              1,
              "#f0f921"
             ]
            ],
            "type": "contour"
           }
          ],
          "contourcarpet": [
           {
            "colorbar": {
             "outlinewidth": 0,
             "ticks": ""
            },
            "type": "contourcarpet"
           }
          ],
          "heatmap": [
           {
            "colorbar": {
             "outlinewidth": 0,
             "ticks": ""
            },
            "colorscale": [
             [
              0,
              "#0d0887"
             ],
             [
              0.1111111111111111,
              "#46039f"
             ],
             [
              0.2222222222222222,
              "#7201a8"
             ],
             [
              0.3333333333333333,
              "#9c179e"
             ],
             [
              0.4444444444444444,
              "#bd3786"
             ],
             [
              0.5555555555555556,
              "#d8576b"
             ],
             [
              0.6666666666666666,
              "#ed7953"
             ],
             [
              0.7777777777777778,
              "#fb9f3a"
             ],
             [
              0.8888888888888888,
              "#fdca26"
             ],
             [
              1,
              "#f0f921"
             ]
            ],
            "type": "heatmap"
           }
          ],
          "heatmapgl": [
           {
            "colorbar": {
             "outlinewidth": 0,
             "ticks": ""
            },
            "colorscale": [
             [
              0,
              "#0d0887"
             ],
             [
              0.1111111111111111,
              "#46039f"
             ],
             [
              0.2222222222222222,
              "#7201a8"
             ],
             [
              0.3333333333333333,
              "#9c179e"
             ],
             [
              0.4444444444444444,
              "#bd3786"
             ],
             [
              0.5555555555555556,
              "#d8576b"
             ],
             [
              0.6666666666666666,
              "#ed7953"
             ],
             [
              0.7777777777777778,
              "#fb9f3a"
             ],
             [
              0.8888888888888888,
              "#fdca26"
             ],
             [
              1,
              "#f0f921"
             ]
            ],
            "type": "heatmapgl"
           }
          ],
          "histogram": [
           {
            "marker": {
             "pattern": {
              "fillmode": "overlay",
              "size": 10,
              "solidity": 0.2
             }
            },
            "type": "histogram"
           }
          ],
          "histogram2d": [
           {
            "colorbar": {
             "outlinewidth": 0,
             "ticks": ""
            },
            "colorscale": [
             [
              0,
              "#0d0887"
             ],
             [
              0.1111111111111111,
              "#46039f"
             ],
             [
              0.2222222222222222,
              "#7201a8"
             ],
             [
              0.3333333333333333,
              "#9c179e"
             ],
             [
              0.4444444444444444,
              "#bd3786"
             ],
             [
              0.5555555555555556,
              "#d8576b"
             ],
             [
              0.6666666666666666,
              "#ed7953"
             ],
             [
              0.7777777777777778,
              "#fb9f3a"
             ],
             [
              0.8888888888888888,
              "#fdca26"
             ],
             [
              1,
              "#f0f921"
             ]
            ],
            "type": "histogram2d"
           }
          ],
          "histogram2dcontour": [
           {
            "colorbar": {
             "outlinewidth": 0,
             "ticks": ""
            },
            "colorscale": [
             [
              0,
              "#0d0887"
             ],
             [
              0.1111111111111111,
              "#46039f"
             ],
             [
              0.2222222222222222,
              "#7201a8"
             ],
             [
              0.3333333333333333,
              "#9c179e"
             ],
             [
              0.4444444444444444,
              "#bd3786"
             ],
             [
              0.5555555555555556,
              "#d8576b"
             ],
             [
              0.6666666666666666,
              "#ed7953"
             ],
             [
              0.7777777777777778,
              "#fb9f3a"
             ],
             [
              0.8888888888888888,
              "#fdca26"
             ],
             [
              1,
              "#f0f921"
             ]
            ],
            "type": "histogram2dcontour"
           }
          ],
          "mesh3d": [
           {
            "colorbar": {
             "outlinewidth": 0,
             "ticks": ""
            },
            "type": "mesh3d"
           }
          ],
          "parcoords": [
           {
            "line": {
             "colorbar": {
              "outlinewidth": 0,
              "ticks": ""
             }
            },
            "type": "parcoords"
           }
          ],
          "pie": [
           {
            "automargin": true,
            "type": "pie"
           }
          ],
          "scatter": [
           {
            "fillpattern": {
             "fillmode": "overlay",
             "size": 10,
             "solidity": 0.2
            },
            "type": "scatter"
           }
          ],
          "scatter3d": [
           {
            "line": {
             "colorbar": {
              "outlinewidth": 0,
              "ticks": ""
             }
            },
            "marker": {
             "colorbar": {
              "outlinewidth": 0,
              "ticks": ""
             }
            },
            "type": "scatter3d"
           }
          ],
          "scattercarpet": [
           {
            "marker": {
             "colorbar": {
              "outlinewidth": 0,
              "ticks": ""
             }
            },
            "type": "scattercarpet"
           }
          ],
          "scattergeo": [
           {
            "marker": {
             "colorbar": {
              "outlinewidth": 0,
              "ticks": ""
             }
            },
            "type": "scattergeo"
           }
          ],
          "scattergl": [
           {
            "marker": {
             "colorbar": {
              "outlinewidth": 0,
              "ticks": ""
             }
            },
            "type": "scattergl"
           }
          ],
          "scattermapbox": [
           {
            "marker": {
             "colorbar": {
              "outlinewidth": 0,
              "ticks": ""
             }
            },
            "type": "scattermapbox"
           }
          ],
          "scatterpolar": [
           {
            "marker": {
             "colorbar": {
              "outlinewidth": 0,
              "ticks": ""
             }
            },
            "type": "scatterpolar"
           }
          ],
          "scatterpolargl": [
           {
            "marker": {
             "colorbar": {
              "outlinewidth": 0,
              "ticks": ""
             }
            },
            "type": "scatterpolargl"
           }
          ],
          "scatterternary": [
           {
            "marker": {
             "colorbar": {
              "outlinewidth": 0,
              "ticks": ""
             }
            },
            "type": "scatterternary"
           }
          ],
          "surface": [
           {
            "colorbar": {
             "outlinewidth": 0,
             "ticks": ""
            },
            "colorscale": [
             [
              0,
              "#0d0887"
             ],
             [
              0.1111111111111111,
              "#46039f"
             ],
             [
              0.2222222222222222,
              "#7201a8"
             ],
             [
              0.3333333333333333,
              "#9c179e"
             ],
             [
              0.4444444444444444,
              "#bd3786"
             ],
             [
              0.5555555555555556,
              "#d8576b"
             ],
             [
              0.6666666666666666,
              "#ed7953"
             ],
             [
              0.7777777777777778,
              "#fb9f3a"
             ],
             [
              0.8888888888888888,
              "#fdca26"
             ],
             [
              1,
              "#f0f921"
             ]
            ],
            "type": "surface"
           }
          ],
          "table": [
           {
            "cells": {
             "fill": {
              "color": "#EBF0F8"
             },
             "line": {
              "color": "white"
             }
            },
            "header": {
             "fill": {
              "color": "#C8D4E3"
             },
             "line": {
              "color": "white"
             }
            },
            "type": "table"
           }
          ]
         },
         "layout": {
          "annotationdefaults": {
           "arrowcolor": "#2a3f5f",
           "arrowhead": 0,
           "arrowwidth": 1
          },
          "autotypenumbers": "strict",
          "coloraxis": {
           "colorbar": {
            "outlinewidth": 0,
            "ticks": ""
           }
          },
          "colorscale": {
           "diverging": [
            [
             0,
             "#8e0152"
            ],
            [
             0.1,
             "#c51b7d"
            ],
            [
             0.2,
             "#de77ae"
            ],
            [
             0.3,
             "#f1b6da"
            ],
            [
             0.4,
             "#fde0ef"
            ],
            [
             0.5,
             "#f7f7f7"
            ],
            [
             0.6,
             "#e6f5d0"
            ],
            [
             0.7,
             "#b8e186"
            ],
            [
             0.8,
             "#7fbc41"
            ],
            [
             0.9,
             "#4d9221"
            ],
            [
             1,
             "#276419"
            ]
           ],
           "sequential": [
            [
             0,
             "#0d0887"
            ],
            [
             0.1111111111111111,
             "#46039f"
            ],
            [
             0.2222222222222222,
             "#7201a8"
            ],
            [
             0.3333333333333333,
             "#9c179e"
            ],
            [
             0.4444444444444444,
             "#bd3786"
            ],
            [
             0.5555555555555556,
             "#d8576b"
            ],
            [
             0.6666666666666666,
             "#ed7953"
            ],
            [
             0.7777777777777778,
             "#fb9f3a"
            ],
            [
             0.8888888888888888,
             "#fdca26"
            ],
            [
             1,
             "#f0f921"
            ]
           ],
           "sequentialminus": [
            [
             0,
             "#0d0887"
            ],
            [
             0.1111111111111111,
             "#46039f"
            ],
            [
             0.2222222222222222,
             "#7201a8"
            ],
            [
             0.3333333333333333,
             "#9c179e"
            ],
            [
             0.4444444444444444,
             "#bd3786"
            ],
            [
             0.5555555555555556,
             "#d8576b"
            ],
            [
             0.6666666666666666,
             "#ed7953"
            ],
            [
             0.7777777777777778,
             "#fb9f3a"
            ],
            [
             0.8888888888888888,
             "#fdca26"
            ],
            [
             1,
             "#f0f921"
            ]
           ]
          },
          "colorway": [
           "#636efa",
           "#EF553B",
           "#00cc96",
           "#ab63fa",
           "#FFA15A",
           "#19d3f3",
           "#FF6692",
           "#B6E880",
           "#FF97FF",
           "#FECB52"
          ],
          "font": {
           "color": "#2a3f5f"
          },
          "geo": {
           "bgcolor": "white",
           "lakecolor": "white",
           "landcolor": "white",
           "showlakes": true,
           "showland": true,
           "subunitcolor": "#C8D4E3"
          },
          "hoverlabel": {
           "align": "left"
          },
          "hovermode": "closest",
          "mapbox": {
           "style": "light"
          },
          "paper_bgcolor": "white",
          "plot_bgcolor": "white",
          "polar": {
           "angularaxis": {
            "gridcolor": "#EBF0F8",
            "linecolor": "#EBF0F8",
            "ticks": ""
           },
           "bgcolor": "white",
           "radialaxis": {
            "gridcolor": "#EBF0F8",
            "linecolor": "#EBF0F8",
            "ticks": ""
           }
          },
          "scene": {
           "xaxis": {
            "backgroundcolor": "white",
            "gridcolor": "#DFE8F3",
            "gridwidth": 2,
            "linecolor": "#EBF0F8",
            "showbackground": true,
            "ticks": "",
            "zerolinecolor": "#EBF0F8"
           },
           "yaxis": {
            "backgroundcolor": "white",
            "gridcolor": "#DFE8F3",
            "gridwidth": 2,
            "linecolor": "#EBF0F8",
            "showbackground": true,
            "ticks": "",
            "zerolinecolor": "#EBF0F8"
           },
           "zaxis": {
            "backgroundcolor": "white",
            "gridcolor": "#DFE8F3",
            "gridwidth": 2,
            "linecolor": "#EBF0F8",
            "showbackground": true,
            "ticks": "",
            "zerolinecolor": "#EBF0F8"
           }
          },
          "shapedefaults": {
           "line": {
            "color": "#2a3f5f"
           }
          },
          "ternary": {
           "aaxis": {
            "gridcolor": "#DFE8F3",
            "linecolor": "#A2B1C6",
            "ticks": ""
           },
           "baxis": {
            "gridcolor": "#DFE8F3",
            "linecolor": "#A2B1C6",
            "ticks": ""
           },
           "bgcolor": "white",
           "caxis": {
            "gridcolor": "#DFE8F3",
            "linecolor": "#A2B1C6",
            "ticks": ""
           }
          },
          "title": {
           "x": 0.05
          },
          "xaxis": {
           "automargin": true,
           "gridcolor": "#EBF0F8",
           "linecolor": "#EBF0F8",
           "ticks": "",
           "title": {
            "standoff": 15
           },
           "zerolinecolor": "#EBF0F8",
           "zerolinewidth": 2
          },
          "yaxis": {
           "automargin": true,
           "gridcolor": "#EBF0F8",
           "linecolor": "#EBF0F8",
           "ticks": "",
           "title": {
            "standoff": 15
           },
           "zerolinecolor": "#EBF0F8",
           "zerolinewidth": 2
          }
         }
        },
        "title": {
         "text": "Energy Use by Continent from 1962 to 2007"
        },
        "xaxis": {
         "color": "black",
         "gridcolor": "rgba(0,0,0,0)",
         "linewidth": 2,
         "title": {
          "text": "Continents"
         }
        },
        "yaxis": {
         "color": "black",
         "gridcolor": "rgba(0,0,0,0)",
         "linewidth": 2,
         "title": {
          "text": "Energy use (kg of oil equivalent per capita)"
         }
        }
       }
      }
     },
     "metadata": {},
     "output_type": "display_data"
    }
   ],
   "source": [
    "import plotly.graph_objects as go\n",
    "#One of the best options to visualize these differences is the boxplot\n",
    "# We will create a boxplot for each year\n",
    "fig = go.Figure()\n",
    "df_sorted = data_energy.sort_values(by='Year')\n",
    "\n",
    "years = df_sorted['Year'].unique()\n",
    "for i, year in enumerate(years, start=1):\n",
    "    df_year = data_energy[data_energy['Year'] == year]\n",
    "    fig.add_trace(go.Box(y=df_year['Energy use (kg of oil equivalent per capita)'], x=df_year['continent'], name=str(year), \n",
    "                         marker_color=f'rgba(255, 100, 0, {i/len(years)})',boxpoints='suspectedoutliers'))\n",
    "\n",
    "# Update the layout\n",
    "fig.update_layout(template='plotly_white',\n",
    "                  title='Energy Use by Continent from 1962 to 2007',\n",
    "                  xaxis=dict(title= 'Continents',gridcolor='rgba(0,0,0,0)',color='black',linewidth=2),\n",
    "                  yaxis=dict(title='Energy use (kg of oil equivalent per capita)',gridcolor='rgba(0,0,0,0)',color='black',linewidth=2),\n",
    "                  boxmode='group',\n",
    "                  boxgroupgap=0.5)\n",
    "\n",
    "\n",
    "# Show the plot\n",
    "fig.show()"
   ]
  },
  {
   "cell_type": "code",
   "execution_count": 284,
   "metadata": {},
   "outputs": [],
   "source": [
    "#We arrange our data set to see that for 1962 and 1967 'Americas' contain only values for Canada and USA and Asia only has values for Japan \n",
    "df_americas = data_energy[data_energy['continent'] == 'Americas']\n",
    "df_americas_ordered = df_americas.sort_values(by='Year')\n",
    "df_asia = data_energy[data_energy['continent'] == 'Asia']\n",
    "df_asia_ordered = df_asia.sort_values(by='Year')\n",
    "\n",
    "#We will filtrate our data to delete the first 2 boxplots of The Americas and Asia\n",
    "df_filtered2 = data_energy[~((data_energy['continent'].isin(['Americas', 'Asia']))&(data_energy['Country Name'].isin(['United States', 'Canada', 'Japan'])) & (data_energy['Year'].isin([1962, 1967])))]\n"
   ]
  },
  {
   "cell_type": "code",
   "execution_count": 285,
   "metadata": {},
   "outputs": [
    {
     "data": {
      "application/vnd.plotly.v1+json": {
       "config": {
        "plotlyServerURL": "https://plot.ly"
       },
       "data": [
        {
         "boxpoints": "suspectedoutliers",
         "marker": {
          "color": "rgba(255, 100, 0, 0.1)"
         },
         "name": "1962",
         "type": "box",
         "x": [
          "Oceania",
          "Europe",
          "Europe",
          "Europe",
          "Europe",
          "Europe",
          "Europe",
          "Europe",
          "Europe",
          "Europe",
          "Europe",
          "Europe",
          "Oceania",
          "Europe",
          "Europe",
          "Europe",
          "Europe",
          "Europe",
          "Europe",
          "Europe",
          "Europe"
         ],
         "y": [
          3172.97486502,
          1675.87362115,
          2810.06114801,
          2296.28956262,
          2361.74387608,
          1852.7357712,
          2124.84853926,
          350.101257861,
          3028.29836932,
          1412.72967684,
          1007.04834663,
          2081.01162075,
          1791.46132151,
          2052.05448433,
          1976.85979181,
          363.164047972,
          605.223527325,
          2887.23625249,
          1568.91106002,
          410.021796967,
          3087.34197183
         ]
        },
        {
         "boxpoints": "suspectedoutliers",
         "marker": {
          "color": "rgba(255, 100, 0, 0.2)"
         },
         "name": "1967",
         "type": "box",
         "x": [
          "Oceania",
          "Europe",
          "Europe",
          "Europe",
          "Europe",
          "Europe",
          "Europe",
          "Europe",
          "Europe",
          "Europe",
          "Europe",
          "Europe",
          "Europe",
          "Oceania",
          "Europe",
          "Europe",
          "Europe",
          "Europe",
          "Europe",
          "Europe",
          "Europe",
          "Europe"
         ],
         "y": [
          3692.80794983,
          1920.21212423,
          3182.9234575,
          3061.11010693,
          3126.42604539,
          2241.91139524,
          2388.41234673,
          607.702155943,
          1476.04957577,
          3594.36178937,
          1767.42510638,
          1551.51917279,
          2762.80248267,
          2188.69351345,
          2815.68798736,
          2199.05462052,
          486.585415324,
          881.3832485789999,
          3630.19413871,
          2040.8279002,
          484.393315616,
          3345.55349486
         ]
        },
        {
         "boxpoints": "suspectedoutliers",
         "marker": {
          "color": "rgba(255, 100, 0, 0.3)"
         },
         "name": "1972",
         "type": "box",
         "x": [
          "Europe",
          "Africa",
          "Africa",
          "Americas",
          "Oceania",
          "Europe",
          "Asia",
          "Asia",
          "Europe",
          "Africa",
          "Americas",
          "Americas",
          "Europe",
          "Africa",
          "Americas",
          "Americas",
          "Asia",
          "Americas",
          "Americas",
          "Africa",
          "Americas",
          "Europe",
          "Europe",
          "Americas",
          "Americas",
          "Americas",
          "Africa",
          "Europe",
          "Europe",
          "Africa",
          "Europe",
          "Africa",
          "Europe",
          "Americas",
          "Americas",
          "Americas",
          "Europe",
          "Europe",
          "Asia",
          "Asia",
          "Asia",
          "Europe",
          "Asia",
          "Europe",
          "Americas",
          "Asia",
          "Asia",
          "Africa",
          "Asia",
          "Asia",
          "Africa",
          "Asia",
          "Africa",
          "Americas",
          "Africa",
          "Africa",
          "Asia",
          "Asia",
          "Europe",
          "Oceania",
          "Americas",
          "Africa",
          "Europe",
          "Asia",
          "Asia",
          "Americas",
          "Americas",
          "Americas",
          "Asia",
          "Europe",
          "Europe",
          "Europe",
          "Asia",
          "Africa",
          "Asia",
          "Europe",
          "Africa",
          "Europe",
          "Asia",
          "Africa",
          "Europe",
          "Europe",
          "Africa",
          "Asia",
          "Africa",
          "Americas",
          "Africa",
          "Europe",
          "Europe",
          "Americas",
          "Americas",
          "Asia",
          "Africa",
          "Africa"
         ],
         "y": [
          865.592481207,
          261.465250751,
          629.301934363,
          1379.81886741,
          4035.20634439,
          2627.32249578,
          5960.21133509,
          86.903766977,
          4473.92951273,
          380.812029086,
          240.157170254,
          741.6918705969998,
          2262.78654882,
          386.14642293800006,
          6933.60655182,
          891.2738674039999,
          477.168708746,
          598.975288294,
          442.444664949,
          453.243100247,
          1154.55654156,
          4613.78059093,
          3858.59212164,
          573.372745636,
          360.600661999,
          484.967888203,
          434.793195834,
          4188.16067653,
          3160.80483651,
          1707.3062928,
          4017.33738516,
          348.93189080300004,
          1134.78649348,
          491.473442413,
          317.810225983,
          499.277043223,
          1880.53879751,
          4403.96964669,
          268.485083335,
          301.357990782,
          405.152489951,
          2194.51306452,
          1756.33100381,
          2050.73787712,
          1331.9860874,
          2667.04674964,
          297.830418297,
          455.513600948,
          7802.76597438,
          789.565543378,
          952.733553333,
          536.095210505,
          435.059790882,
          856.81120942,
          190.387995598,
          699.0228986210001,
          281.931848431,
          300.972670494,
          4381.04179488,
          2617.16105927,
          487.96346663800006,
          583.794808164,
          3503.4299482,
          112.054808283,
          285.16407106400004,
          1159.6892715999998,
          540.588375968,
          648.807999388,
          406.49229803800006,
          2693.74527501,
          745.283954565,
          2131.63973572,
          979.423249943,
          280.837670795,
          1569.47082327,
          3224.51944058,
          1997.49821372,
          1299.43101563,
          314.546613794,
          485.018934669,
          4527.21372025,
          2727.71921732,
          527.0538798619999,
          367.864327681,
          332.041867346,
          2772.88276961,
          341.737804158,
          605.1364652890001,
          3747.96247517,
          7940.99783226,
          872.986354117,
          298.157558425,
          857.0932537580002,
          994.184786353
         ]
        },
        {
         "boxpoints": "suspectedoutliers",
         "marker": {
          "color": "rgba(255, 100, 0, 0.4)"
         },
         "name": "1977",
         "type": "box",
         "x": [
          "Europe",
          "Africa",
          "Africa",
          "Americas",
          "Oceania",
          "Europe",
          "Asia",
          "Asia",
          "Europe",
          "Africa",
          "Americas",
          "Americas",
          "Europe",
          "Africa",
          "Americas",
          "Americas",
          "Asia",
          "Americas",
          "Americas",
          "Africa",
          "Americas",
          "Europe",
          "Europe",
          "Americas",
          "Americas",
          "Americas",
          "Africa",
          "Europe",
          "Europe",
          "Africa",
          "Europe",
          "Africa",
          "Europe",
          "Americas",
          "Americas",
          "Americas",
          "Europe",
          "Europe",
          "Asia",
          "Asia",
          "Asia",
          "Europe",
          "Asia",
          "Europe",
          "Americas",
          "Asia",
          "Asia",
          "Africa",
          "Asia",
          "Asia",
          "Africa",
          "Asia",
          "Africa",
          "Americas",
          "Africa",
          "Africa",
          "Asia",
          "Asia",
          "Europe",
          "Oceania",
          "Americas",
          "Africa",
          "Europe",
          "Asia",
          "Asia",
          "Americas",
          "Americas",
          "Americas",
          "Asia",
          "Europe",
          "Europe",
          "Europe",
          "Asia",
          "Africa",
          "Asia",
          "Europe",
          "Africa",
          "Europe",
          "Asia",
          "Africa",
          "Europe",
          "Europe",
          "Africa",
          "Asia",
          "Africa",
          "Americas",
          "Africa",
          "Europe",
          "Europe",
          "Americas",
          "Americas",
          "Asia",
          "Africa",
          "Africa"
         ],
         "y": [
          923.728867504,
          398.656113469,
          535.2524622330001,
          1420.56765898,
          4671.19567362,
          2797.42192238,
          8187.11498635,
          97.860763105,
          4589.52441,
          363.746124276,
          331.439253894,
          868.475086329,
          2954.26673889,
          402.624623832,
          7409.53000504,
          779.391621026,
          577.211010594,
          638.025434659,
          528.165846592,
          449.52124719,
          1424.73743541,
          4716.46270083,
          3830.10381024,
          601.951784846,
          568.073705272,
          622.1297874219999,
          432.458375494,
          4516.24806759,
          3155.62146854,
          2000.90013642,
          4336.0874042,
          381.515147025,
          1469.54942907,
          574.359356263,
          350.433910995,
          512.605428263,
          2428.82933004,
          5602.87016623,
          283.275393642,
          347.868204367,
          626.354937731,
          2203.82152215,
          1786.48768337,
          2204.17980667,
          1153.48652689,
          2899.90421823,
          473.5437315580001,
          455.626061673,
          6429.99850119,
          696.1964896339999,
          1455.08414725,
          621.740086559,
          474.222876797,
          1063.78037111,
          252.036810104,
          608.405141326,
          276.246179043,
          302.06554296,
          4560.27311991,
          3055.08108455,
          585.0413863719999,
          634.258748201,
          4060.10627707,
          761.662333837,
          302.558312012,
          899.7691370580002,
          580.530937274,
          678.509067152,
          456.743021869,
          3251.8025717,
          845.368945104,
          2735.43911555,
          1368.95037047,
          281.840462003,
          1763.23012084,
          3780.58944725,
          2208.54919916,
          1667.64601643,
          293.833883231,
          445.524031505,
          5054.83376436,
          2877.79290941,
          455.445767964,
          451.510578157,
          327.998948608,
          2808.51679767,
          427.302747359,
          778.4328071839999,
          3695.38387114,
          8285.57089798,
          868.792103341,
          257.872313351,
          819.7872201060001,
          921.65469562
         ]
        },
        {
         "boxpoints": "suspectedoutliers",
         "marker": {
          "color": "rgba(255, 100, 0, 0.5)"
         },
         "name": "1982",
         "type": "box",
         "x": [
          "Europe",
          "Africa",
          "Africa",
          "Americas",
          "Oceania",
          "Europe",
          "Asia",
          "Asia",
          "Europe",
          "Africa",
          "Americas",
          "Africa",
          "Americas",
          "Europe",
          "Africa",
          "Americas",
          "Americas",
          "Asia",
          "Americas",
          "Americas",
          "Africa",
          "Americas",
          "Europe",
          "Europe",
          "Americas",
          "Americas",
          "Americas",
          "Africa",
          "Europe",
          "Europe",
          "Africa",
          "Europe",
          "Africa",
          "Europe",
          "Americas",
          "Americas",
          "Americas",
          "Europe",
          "Europe",
          "Asia",
          "Asia",
          "Asia",
          "Europe",
          "Asia",
          "Europe",
          "Americas",
          "Asia",
          "Asia",
          "Africa",
          "Asia",
          "Asia",
          "Africa",
          "Asia",
          "Africa",
          "Americas",
          "Africa",
          "Africa",
          "Asia",
          "Asia",
          "Europe",
          "Oceania",
          "Americas",
          "Africa",
          "Europe",
          "Asia",
          "Asia",
          "Americas",
          "Americas",
          "Americas",
          "Asia",
          "Europe",
          "Europe",
          "Europe",
          "Asia",
          "Africa",
          "Asia",
          "Europe",
          "Africa",
          "Europe",
          "Asia",
          "Africa",
          "Europe",
          "Europe",
          "Africa",
          "Asia",
          "Africa",
          "Americas",
          "Africa",
          "Europe",
          "Europe",
          "Americas",
          "Americas",
          "Asia",
          "Africa",
          "Africa"
         ],
         "y": [
          966.683283781,
          771.235497639,
          514.415934309,
          1416.53992488,
          4817.48952431,
          2830.22178095,
          9071.02474414,
          105.482961637,
          4208.25780214,
          355.338045025,
          462.43170312,
          739.29915268,
          867.193602187,
          3309.20642511,
          423.360959463,
          7149.344059999999,
          763.201224638,
          606.830437326,
          635.432893568,
          455.822967416,
          393.432418022,
          1536.90510757,
          4633.61136678,
          3422.37480485,
          596.93367919,
          666.635807378,
          595.2355137530001,
          434.058222854,
          4805.49388193,
          3272.05274478,
          2069.78785109,
          4257.86440736,
          376.7088969880001,
          1537.27769706,
          482.712477796,
          301.847692756,
          520.393217065,
          2630.75848148,
          7076.20798768,
          299.592677132,
          388.834624998,
          690.323799679,
          2356.8942567,
          1958.31704292,
          2206.54273411,
          1040.31180401,
          2840.60843908,
          875.54040491,
          437.652286948,
          7548.12934744,
          678.5814280469999,
          2397.98259634,
          898.6549052380002,
          414.601806914,
          1465.05024708,
          268.259441677,
          523.782627433,
          270.238811656,
          305.746943514,
          3785.11593558,
          3012.97138874,
          469.268615848,
          689.4945390439999,
          4262.39171068,
          1151.87126892,
          336.92280827900004,
          796.469906347,
          630.648885594,
          632.7254874390001,
          461.890994003,
          3412.49866376,
          1119.20463053,
          2876.73333115,
          4215.42559694,
          260.719421235,
          1987.08730813,
          3754.67958194,
          2699.72841558,
          1762.40454547,
          324.13036566,
          431.003010124,
          4877.79989653,
          2984.22326318,
          414.717967022,
          456.467867425,
          327.324375984,
          3648.18714807,
          493.048630903,
          732.662049648,
          3397.12228872,
          7259.07889875,
          766.1430987780002,
          271.162299998,
          756.612333199,
          842.372683813
         ]
        },
        {
         "boxpoints": "suspectedoutliers",
         "marker": {
          "color": "rgba(255, 100, 0, 0.6)"
         },
         "name": "1987",
         "type": "box",
         "x": [
          "Europe",
          "Africa",
          "Africa",
          "Americas",
          "Oceania",
          "Europe",
          "Asia",
          "Asia",
          "Europe",
          "Africa",
          "Americas",
          "Africa",
          "Americas",
          "Europe",
          "Africa",
          "Americas",
          "Americas",
          "Asia",
          "Americas",
          "Americas",
          "Africa",
          "Americas",
          "Europe",
          "Europe",
          "Americas",
          "Americas",
          "Americas",
          "Africa",
          "Europe",
          "Europe",
          "Africa",
          "Europe",
          "Africa",
          "Europe",
          "Americas",
          "Americas",
          "Americas",
          "Europe",
          "Europe",
          "Asia",
          "Asia",
          "Asia",
          "Europe",
          "Asia",
          "Europe",
          "Americas",
          "Asia",
          "Asia",
          "Africa",
          "Asia",
          "Asia",
          "Africa",
          "Asia",
          "Africa",
          "Americas",
          "Asia",
          "Africa",
          "Africa",
          "Asia",
          "Asia",
          "Europe",
          "Oceania",
          "Americas",
          "Africa",
          "Europe",
          "Asia",
          "Asia",
          "Americas",
          "Americas",
          "Americas",
          "Asia",
          "Europe",
          "Europe",
          "Europe",
          "Asia",
          "Africa",
          "Asia",
          "Europe",
          "Africa",
          "Europe",
          "Asia",
          "Africa",
          "Europe",
          "Europe",
          "Africa",
          "Asia",
          "Africa",
          "Americas",
          "Africa",
          "Europe",
          "Europe",
          "Americas",
          "Americas",
          "Asia",
          "Africa",
          "Africa"
         ],
         "y": [
          921.893044018,
          827.552506829,
          502.598458911,
          1477.07652885,
          4772.37046465,
          3174.74539203,
          9523.46356521,
          106.866835127,
          4727.68639528,
          347.306591796,
          341.493450003,
          743.685354401,
          987.562557183,
          3411.07339479,
          417.73292245,
          7641.32410546,
          826.260796732,
          694.4223599789999,
          696.0663928460001,
          491.495062694,
          383.372484812,
          1578.25907104,
          4978.254944899999,
          3819.83212874,
          594.381238984,
          602.470062495,
          503.481769676,
          437.234995296,
          5960.69258613,
          3690.65145306,
          1470.39664628,
          4616.39706207,
          363.852104774,
          1791.83338591,
          448.694681999,
          226.326971354,
          481.319956646,
          2894.82745315,
          7857.45488268,
          325.73809089400004,
          436.663234979,
          958.189471661,
          2608.80658136,
          2278.47928588,
          2407.25635314,
          765.4628605460001,
          3044.11508629,
          998.355658577,
          464.00933684,
          8616.57655309,
          996.943321974,
          2700.28315715,
          1078.98626036,
          512.011597538,
          1379.33314201,
          1746.24080026,
          277.485699249,
          474.548861116,
          269.30095308,
          307.065111322,
          4387.67068914,
          3452.96268019,
          502.383245685,
          674.47298453,
          5048.49930916,
          1412.3831509,
          376.344243754,
          730.8000538289999,
          699.102776962,
          540.974320389,
          433.357672285,
          3535.48197152,
          1241.1956653,
          3027.56521622,
          3750.91313869,
          254.211898654,
          2757.88068931,
          4074.77904741,
          2831.14750181,
          1919.44664907,
          328.090886835,
          397.42097884300006,
          5763.0704408,
          3430.8555125,
          394.145177081,
          531.762695185,
          328.062332773,
          4188.6453215,
          542.645168334,
          917.976137079,
          3619.07726922,
          7622.17301652,
          718.448623294,
          286.657214575,
          700.14084375,
          896.673611477
         ]
        },
        {
         "boxpoints": "suspectedoutliers",
         "marker": {
          "color": "rgba(255, 100, 0, 0.7)"
         },
         "name": "1992",
         "type": "box",
         "x": [
          "Europe",
          "Africa",
          "Africa",
          "Americas",
          "Oceania",
          "Europe",
          "Asia",
          "Asia",
          "Europe",
          "Africa",
          "Americas",
          "Europe",
          "Africa",
          "Americas",
          "Europe",
          "Africa",
          "Americas",
          "Americas",
          "Asia",
          "Americas",
          "Americas",
          "Africa",
          "Europe",
          "Americas",
          "Europe",
          "Europe",
          "Americas",
          "Americas",
          "Americas",
          "Africa",
          "Africa",
          "Europe",
          "Europe",
          "Africa",
          "Europe",
          "Africa",
          "Europe",
          "Americas",
          "Americas",
          "Americas",
          "Europe",
          "Europe",
          "Asia",
          "Asia",
          "Asia",
          "Europe",
          "Asia",
          "Europe",
          "Americas",
          "Asia",
          "Asia",
          "Africa",
          "Asia",
          "Africa",
          "Asia",
          "Africa",
          "Americas",
          "Asia",
          "Africa",
          "Africa",
          "Asia",
          "Africa",
          "Asia",
          "Europe",
          "Oceania",
          "Americas",
          "Africa",
          "Europe",
          "Asia",
          "Asia",
          "Americas",
          "Americas",
          "Americas",
          "Asia",
          "Europe",
          "Europe",
          "Europe",
          "Asia",
          "Africa",
          "Europe",
          "Asia",
          "Europe",
          "Europe",
          "Africa",
          "Europe",
          "Asia",
          "Africa",
          "Europe",
          "Europe",
          "Africa",
          "Asia",
          "Africa",
          "Americas",
          "Africa",
          "Europe",
          "Europe",
          "Americas",
          "Americas",
          "Asia",
          "Africa",
          "Africa"
         ],
         "y": [
          418.286629757,
          883.7458819,
          511.237051724,
          1484.0589177000004,
          4959.21491855,
          3239.0639673,
          10844.7550254,
          119.405481659,
          5092.96578511,
          321.349456122,
          399.828007323,
          1034.34415156,
          979.087310581,
          929.003678998,
          2396.00726637,
          397.277540786,
          7479.477427399999,
          1141.81007039,
          752.628662541,
          704.354798517,
          705.487675532,
          373.659519455,
          1502.13713647,
          1214.11700599,
          4222.41657552,
          3561.89036948,
          603.781376066,
          629.220777401,
          525.453706523,
          277.580928028,
          431.15182408,
          5380.99306782,
          3954.00370317,
          1298.09635297,
          4190.98422047,
          366.522645114,
          2129.89451644,
          497.344297754,
          219.075496949,
          483.335543947,
          2423.17944795,
          7755.39441578,
          365.379491444,
          574.344890279,
          1311.18896852,
          2775.21800345,
          2580.96935389,
          2627.34000777,
          1215.0555252,
          3652.07124745,
          1015.41769856,
          445.111805733,
          868.56933067,
          2452.19740381,
          1566.72481216,
          657.7868228880001,
          1452.97190576,
          1488.63742731,
          327.952990834,
          420.272139083,
          251.060745819,
          496.518769708,
          309.74507691900004,
          4501.66087489,
          3808.4772206,
          509.839947747,
          719.308370017,
          5159.65421807,
          2756.42578415,
          412.405215402,
          715.38365957,
          712.691343364,
          408.43313224,
          460.545976337,
          2569.17533457,
          1813.8858461,
          2052.96292702,
          4421.45445335,
          222.634685966,
          2020.15373461,
          4588.43321165,
          3410.7278847,
          2584.33517088,
          2414.3981946,
          2435.96962149,
          327.882389865,
          386.72897561,
          5369.37035674,
          3613.49260926,
          369.835021604,
          840.141111806,
          328.69853999,
          5286.28687516,
          641.6905970619999,
          960.859171935,
          3684.72453527,
          7677.40140109,
          855.1247871139999,
          276.1308749,
          662.721536129,
          923.493407317
         ]
        },
        {
         "boxpoints": "suspectedoutliers",
         "marker": {
          "color": "rgba(255, 100, 0, 0.8)"
         },
         "name": "1997",
         "type": "box",
         "x": [
          "Europe",
          "Africa",
          "Africa",
          "Americas",
          "Oceania",
          "Europe",
          "Asia",
          "Asia",
          "Europe",
          "Africa",
          "Americas",
          "Europe",
          "Africa",
          "Americas",
          "Europe",
          "Asia",
          "Africa",
          "Americas",
          "Americas",
          "Asia",
          "Americas",
          "Americas",
          "Africa",
          "Europe",
          "Americas",
          "Europe",
          "Europe",
          "Americas",
          "Americas",
          "Americas",
          "Africa",
          "Africa",
          "Europe",
          "Europe",
          "Africa",
          "Europe",
          "Africa",
          "Europe",
          "Americas",
          "Americas",
          "Americas",
          "Europe",
          "Europe",
          "Asia",
          "Asia",
          "Asia",
          "Europe",
          "Asia",
          "Europe",
          "Americas",
          "Asia",
          "Asia",
          "Africa",
          "Asia",
          "Asia",
          "Africa",
          "Asia",
          "Africa",
          "Americas",
          "Asia",
          "Africa",
          "Africa",
          "Asia",
          "Africa",
          "Asia",
          "Europe",
          "Oceania",
          "Americas",
          "Africa",
          "Europe",
          "Asia",
          "Asia",
          "Americas",
          "Americas",
          "Americas",
          "Asia",
          "Europe",
          "Europe",
          "Europe",
          "Asia",
          "Africa",
          "Europe",
          "Asia",
          "Europe",
          "Europe",
          "Africa",
          "Europe",
          "Asia",
          "Africa",
          "Europe",
          "Europe",
          "Africa",
          "Asia",
          "Africa",
          "Americas",
          "Africa",
          "Europe",
          "Europe",
          "Americas",
          "Americas",
          "Asia",
          "Africa",
          "Africa"
         ],
         "y": [
          384.594958328,
          804.842705115,
          494.174484207,
          1614.33824027,
          5469.5999892,
          3542.5214303,
          12122.0506027,
          135.210016124,
          5579.51075728,
          350.78972053,
          561.077061465,
          712.9252777060001,
          900.173527778,
          1061.83829204,
          2504.12268042,
          265.896639422,
          396.727156517,
          7965.51932158,
          1558.78524634,
          871.6462695360001,
          709.8217022360001,
          647.0037811669999,
          386.175169435,
          1704.81692913,
          1125.97333686,
          4184.88468363,
          3848.1558436,
          749.844735219,
          721.687588695,
          624.096762293,
          319.16492977400003,
          435.145404589,
          6276.95169203,
          4049.35046526,
          1236.01768782,
          4203.3573666,
          398.339353834,
          2282.13703466,
          526.326033275,
          252.463093356,
          528.901564325,
          2527.30162599,
          8584.10049866,
          399.052528907,
          690.7954914339999,
          1861.7960965,
          3255.49845122,
          2881.12834133,
          2834.40294607,
          1333.59707253,
          4048.98200021,
          991.96787502,
          441.007660811,
          8764.51262442,
          1698.3102702999995,
          2991.94395278,
          2063.52696529,
          712.571976967,
          1398.88398183,
          951.851569598,
          362.27042057,
          390.685096382,
          263.20255292,
          594.756148267,
          316.822270368,
          4579.47478164,
          4258.75677677,
          503.04461939,
          696.8847876410001,
          5477.88285412,
          3027.90856152,
          448.925191849,
          777.742373207,
          877.0448880460001,
          440.557973649,
          500.989771655,
          2643.12353589,
          2083.48767635,
          1989.99418196,
          4354.65523263,
          221.005820684,
          2299.90425855,
          5818.15092473,
          3361.88402225,
          3310.40063325,
          2655.26925959,
          2666.2640552,
          380.086721607,
          392.294923579,
          5672.0081772,
          3526.10543855,
          357.261154316,
          1164.94784692,
          384.078207642,
          5437.91312128,
          679.079751272,
          1165.81161631,
          3760.71236505,
          7828.5810964,
          880.633650605,
          335.170556166,
          617.209365016,
          804.5088922269998
         ]
        },
        {
         "boxpoints": "suspectedoutliers",
         "marker": {
          "color": "rgba(255, 100, 0, 0.9)"
         },
         "name": "2002",
         "type": "box",
         "x": [
          "Europe",
          "Africa",
          "Africa",
          "Americas",
          "Oceania",
          "Europe",
          "Asia",
          "Asia",
          "Europe",
          "Africa",
          "Americas",
          "Europe",
          "Africa",
          "Americas",
          "Europe",
          "Asia",
          "Africa",
          "Americas",
          "Americas",
          "Asia",
          "Americas",
          "Americas",
          "Africa",
          "Europe",
          "Americas",
          "Europe",
          "Europe",
          "Americas",
          "Americas",
          "Americas",
          "Africa",
          "Africa",
          "Europe",
          "Europe",
          "Africa",
          "Europe",
          "Africa",
          "Europe",
          "Americas",
          "Americas",
          "Americas",
          "Europe",
          "Europe",
          "Asia",
          "Asia",
          "Asia",
          "Europe",
          "Asia",
          "Europe",
          "Americas",
          "Asia",
          "Asia",
          "Africa",
          "Asia",
          "Asia",
          "Africa",
          "Asia",
          "Africa",
          "Americas",
          "Asia",
          "Africa",
          "Africa",
          "Asia",
          "Africa",
          "Asia",
          "Europe",
          "Oceania",
          "Americas",
          "Africa",
          "Africa",
          "Europe",
          "Asia",
          "Asia",
          "Americas",
          "Americas",
          "Americas",
          "Asia",
          "Europe",
          "Europe",
          "Europe",
          "Asia",
          "Africa",
          "Europe",
          "Asia",
          "Europe",
          "Europe",
          "Africa",
          "Europe",
          "Asia",
          "Africa",
          "Europe",
          "Europe",
          "Africa",
          "Asia",
          "Africa",
          "Americas",
          "Africa",
          "Europe",
          "Europe",
          "Americas",
          "Americas",
          "Asia",
          "Africa",
          "Africa"
         ],
         "y": [
          645.080153785,
          904.456391853,
          515.4034564030001,
          1502.22488095,
          5569.6409925,
          3765.28296302,
          11704.3047293,
          149.933182829,
          5461.40290348,
          305.04923703400004,
          528.760849998,
          1156.99672325,
          1032.6780741,
          1081.26747985,
          2401.37660851,
          314.97027594400004,
          389.52261441,
          7920.11022894,
          1644.79154564,
          978.61898313,
          606.266720641,
          748.21348058,
          406.144021726,
          1856.86891892,
          1053.28051042,
          4163.45010589,
          3535.09801372,
          819.797049144,
          739.4547575380002,
          720.3532811819998,
          197.54986892,
          439.254909387,
          6705.43983596,
          4225.60695353,
          1229.36459426,
          4108.40129887,
          317.525749335,
          2597.74828926,
          590.478746775,
          261.374331488,
          516.4041365740001,
          2520.15246577,
          10804.6417156,
          423.580114419,
          760.140852043,
          1130.94271589,
          3661.32224061,
          2862.7957382,
          3017.97165871,
          1371.65658542,
          4005.94409353,
          1024.4838209,
          440.968733004,
          10105.8321479,
          1484.22892653,
          3071.77483233,
          2183.8734214,
          873.195801833,
          1412.86939872,
          1058.16485595,
          402.312789339,
          395.127686774,
          266.385844866,
          579.8782172790001,
          345.37079196,
          4687.98228043,
          4337.38052425,
          508.740585366,
          130.047629217,
          721.312209806,
          5503.46451061,
          3890.79215204,
          455.934635667,
          834.670915895,
          705.433761481,
          446.340827194,
          477.457211125,
          2314.20257992,
          2477.48974988,
          1755.13002556,
          4907.82867485,
          253.315356135,
          2119.78208028,
          5065.98450652,
          3483.86750611,
          3424.45287862,
          2421.00577767,
          3107.86734112,
          432.84856645,
          411.137505242,
          5802.11010517,
          3553.18855698,
          416.002267994,
          1282.58023503,
          424.034097572,
          9356.78097414,
          801.489193653,
          1139.69490969,
          3685.8654787,
          7843.34484914,
          762.6981432010001,
          420.446832131,
          598.548219754,
          772.6766193660001
         ]
        },
        {
         "boxpoints": "suspectedoutliers",
         "marker": {
          "color": "rgba(255, 100, 0, 1.0)"
         },
         "name": "2007",
         "type": "box",
         "x": [
          "Europe",
          "Africa",
          "Africa",
          "Americas",
          "Oceania",
          "Europe",
          "Asia",
          "Asia",
          "Europe",
          "Africa",
          "Americas",
          "Europe",
          "Africa",
          "Americas",
          "Europe",
          "Asia",
          "Africa",
          "Americas",
          "Americas",
          "Asia",
          "Americas",
          "Africa",
          "Americas",
          "Africa",
          "Europe",
          "Americas",
          "Europe",
          "Europe",
          "Africa",
          "Americas",
          "Americas",
          "Americas",
          "Africa",
          "Africa",
          "Africa",
          "Europe",
          "Europe",
          "Africa",
          "Europe",
          "Africa",
          "Europe",
          "Americas",
          "Africa",
          "Americas",
          "Americas",
          "Europe",
          "Europe",
          "Asia",
          "Asia",
          "Asia",
          "Europe",
          "Asia",
          "Europe",
          "Americas",
          "Asia",
          "Asia",
          "Africa",
          "Asia",
          "Asia",
          "Africa",
          "Africa",
          "Asia",
          "Africa",
          "Americas",
          "Asia",
          "Europe",
          "Africa",
          "Africa",
          "Asia",
          "Africa",
          "Asia",
          "Europe",
          "Oceania",
          "Americas",
          "Africa",
          "Africa",
          "Europe",
          "Asia",
          "Asia",
          "Americas",
          "Americas",
          "Americas",
          "Asia",
          "Europe",
          "Europe",
          "Europe",
          "Africa",
          "Asia",
          "Africa",
          "Europe",
          "Asia",
          "Europe",
          "Europe",
          "Africa",
          "Europe",
          "Asia",
          "Africa",
          "Africa",
          "Europe",
          "Europe",
          "Africa",
          "Asia",
          "Africa",
          "Americas",
          "Africa",
          "Europe",
          "Europe",
          "Americas",
          "Americas",
          "Asia",
          "Africa",
          "Africa"
         ],
         "y": [
          679.861765101,
          1075.19412704,
          561.5501055130001,
          1846.93675639,
          5868.34709712,
          4029.62695258,
          11291.126355,
          173.580998621,
          5389.28164733,
          368.216084341,
          561.052703379,
          1381.12205494,
          1028.07041536,
          1221.36231051,
          2666.11144524,
          253.343288148,
          332.30332161,
          8130.58019344,
          1860.10017433,
          1550.53027085,
          637.510761494,
          63.1348128438,
          1031.80869969,
          539.7271851830001,
          2102.14585212,
          904.662628457,
          4468.96035161,
          3622.59683256,
          178.904528787,
          763.408932512,
          833.203582927,
          748.1199930380002,
          2641.94245101,
          162.700034655,
          442.86665148300006,
          6967.21323874,
          4120.3058212,
          1281.68189093,
          3985.80810152,
          278.760989471,
          2734.92011068,
          616.892076168,
          62.1995597581,
          384.513775199,
          657.398639731,
          2658.03637311,
          14746.0313385,
          486.292374786,
          788.5836582439999,
          892.39580238,
          3416.03094562,
          2898.15336834,
          3062.36054739,
          1578.42891649,
          4024.99795314,
          1251.68193903,
          462.22025237800005,
          10395.1176066,
          1034.92218437,
          9.71541007212,
          2725.88792504,
          2742.50027319,
          1007.57484088,
          1551.28978352,
          1376.98860218,
          1927.97889182,
          487.448713086,
          407.278749651,
          307.913041122,
          659.366428344,
          357.131793555,
          4843.79608802,
          4054.4950045,
          521.961949752,
          128.026173022,
          747.1012487439999,
          5864.97593092,
          6881.62081928,
          523.2672101530001,
          879.523836391,
          708.7828687130002,
          506.633143848,
          434.402352876,
          2526.9949602,
          2402.47799385,
          1904.09688616,
          274.890043982,
          5379.69097885,
          252.409846662,
          2248.15503566,
          4677.20430572,
          3320.45472221,
          3627.52350948,
          2805.48565552,
          3180.03341956,
          470.83709579,
          366.495542,
          372.735499664,
          5472.13539173,
          3410.15494794,
          442.62215764,
          1585.96595222,
          417.118049767,
          14608.0098682,
          883.981281357,
          1438.53526923,
          3441.68876583,
          7758.16570028,
          947.838610674,
          540.08195349,
          588.018958956,
          725.6810488469998
         ]
        }
       ],
       "layout": {
        "boxgroupgap": 0.5,
        "boxmode": "group",
        "template": {
         "data": {
          "bar": [
           {
            "error_x": {
             "color": "#2a3f5f"
            },
            "error_y": {
             "color": "#2a3f5f"
            },
            "marker": {
             "line": {
              "color": "white",
              "width": 0.5
             },
             "pattern": {
              "fillmode": "overlay",
              "size": 10,
              "solidity": 0.2
             }
            },
            "type": "bar"
           }
          ],
          "barpolar": [
           {
            "marker": {
             "line": {
              "color": "white",
              "width": 0.5
             },
             "pattern": {
              "fillmode": "overlay",
              "size": 10,
              "solidity": 0.2
             }
            },
            "type": "barpolar"
           }
          ],
          "carpet": [
           {
            "aaxis": {
             "endlinecolor": "#2a3f5f",
             "gridcolor": "#C8D4E3",
             "linecolor": "#C8D4E3",
             "minorgridcolor": "#C8D4E3",
             "startlinecolor": "#2a3f5f"
            },
            "baxis": {
             "endlinecolor": "#2a3f5f",
             "gridcolor": "#C8D4E3",
             "linecolor": "#C8D4E3",
             "minorgridcolor": "#C8D4E3",
             "startlinecolor": "#2a3f5f"
            },
            "type": "carpet"
           }
          ],
          "choropleth": [
           {
            "colorbar": {
             "outlinewidth": 0,
             "ticks": ""
            },
            "type": "choropleth"
           }
          ],
          "contour": [
           {
            "colorbar": {
             "outlinewidth": 0,
             "ticks": ""
            },
            "colorscale": [
             [
              0,
              "#0d0887"
             ],
             [
              0.1111111111111111,
              "#46039f"
             ],
             [
              0.2222222222222222,
              "#7201a8"
             ],
             [
              0.3333333333333333,
              "#9c179e"
             ],
             [
              0.4444444444444444,
              "#bd3786"
             ],
             [
              0.5555555555555556,
              "#d8576b"
             ],
             [
              0.6666666666666666,
              "#ed7953"
             ],
             [
              0.7777777777777778,
              "#fb9f3a"
             ],
             [
              0.8888888888888888,
              "#fdca26"
             ],
             [
              1,
              "#f0f921"
             ]
            ],
            "type": "contour"
           }
          ],
          "contourcarpet": [
           {
            "colorbar": {
             "outlinewidth": 0,
             "ticks": ""
            },
            "type": "contourcarpet"
           }
          ],
          "heatmap": [
           {
            "colorbar": {
             "outlinewidth": 0,
             "ticks": ""
            },
            "colorscale": [
             [
              0,
              "#0d0887"
             ],
             [
              0.1111111111111111,
              "#46039f"
             ],
             [
              0.2222222222222222,
              "#7201a8"
             ],
             [
              0.3333333333333333,
              "#9c179e"
             ],
             [
              0.4444444444444444,
              "#bd3786"
             ],
             [
              0.5555555555555556,
              "#d8576b"
             ],
             [
              0.6666666666666666,
              "#ed7953"
             ],
             [
              0.7777777777777778,
              "#fb9f3a"
             ],
             [
              0.8888888888888888,
              "#fdca26"
             ],
             [
              1,
              "#f0f921"
             ]
            ],
            "type": "heatmap"
           }
          ],
          "heatmapgl": [
           {
            "colorbar": {
             "outlinewidth": 0,
             "ticks": ""
            },
            "colorscale": [
             [
              0,
              "#0d0887"
             ],
             [
              0.1111111111111111,
              "#46039f"
             ],
             [
              0.2222222222222222,
              "#7201a8"
             ],
             [
              0.3333333333333333,
              "#9c179e"
             ],
             [
              0.4444444444444444,
              "#bd3786"
             ],
             [
              0.5555555555555556,
              "#d8576b"
             ],
             [
              0.6666666666666666,
              "#ed7953"
             ],
             [
              0.7777777777777778,
              "#fb9f3a"
             ],
             [
              0.8888888888888888,
              "#fdca26"
             ],
             [
              1,
              "#f0f921"
             ]
            ],
            "type": "heatmapgl"
           }
          ],
          "histogram": [
           {
            "marker": {
             "pattern": {
              "fillmode": "overlay",
              "size": 10,
              "solidity": 0.2
             }
            },
            "type": "histogram"
           }
          ],
          "histogram2d": [
           {
            "colorbar": {
             "outlinewidth": 0,
             "ticks": ""
            },
            "colorscale": [
             [
              0,
              "#0d0887"
             ],
             [
              0.1111111111111111,
              "#46039f"
             ],
             [
              0.2222222222222222,
              "#7201a8"
             ],
             [
              0.3333333333333333,
              "#9c179e"
             ],
             [
              0.4444444444444444,
              "#bd3786"
             ],
             [
              0.5555555555555556,
              "#d8576b"
             ],
             [
              0.6666666666666666,
              "#ed7953"
             ],
             [
              0.7777777777777778,
              "#fb9f3a"
             ],
             [
              0.8888888888888888,
              "#fdca26"
             ],
             [
              1,
              "#f0f921"
             ]
            ],
            "type": "histogram2d"
           }
          ],
          "histogram2dcontour": [
           {
            "colorbar": {
             "outlinewidth": 0,
             "ticks": ""
            },
            "colorscale": [
             [
              0,
              "#0d0887"
             ],
             [
              0.1111111111111111,
              "#46039f"
             ],
             [
              0.2222222222222222,
              "#7201a8"
             ],
             [
              0.3333333333333333,
              "#9c179e"
             ],
             [
              0.4444444444444444,
              "#bd3786"
             ],
             [
              0.5555555555555556,
              "#d8576b"
             ],
             [
              0.6666666666666666,
              "#ed7953"
             ],
             [
              0.7777777777777778,
              "#fb9f3a"
             ],
             [
              0.8888888888888888,
              "#fdca26"
             ],
             [
              1,
              "#f0f921"
             ]
            ],
            "type": "histogram2dcontour"
           }
          ],
          "mesh3d": [
           {
            "colorbar": {
             "outlinewidth": 0,
             "ticks": ""
            },
            "type": "mesh3d"
           }
          ],
          "parcoords": [
           {
            "line": {
             "colorbar": {
              "outlinewidth": 0,
              "ticks": ""
             }
            },
            "type": "parcoords"
           }
          ],
          "pie": [
           {
            "automargin": true,
            "type": "pie"
           }
          ],
          "scatter": [
           {
            "fillpattern": {
             "fillmode": "overlay",
             "size": 10,
             "solidity": 0.2
            },
            "type": "scatter"
           }
          ],
          "scatter3d": [
           {
            "line": {
             "colorbar": {
              "outlinewidth": 0,
              "ticks": ""
             }
            },
            "marker": {
             "colorbar": {
              "outlinewidth": 0,
              "ticks": ""
             }
            },
            "type": "scatter3d"
           }
          ],
          "scattercarpet": [
           {
            "marker": {
             "colorbar": {
              "outlinewidth": 0,
              "ticks": ""
             }
            },
            "type": "scattercarpet"
           }
          ],
          "scattergeo": [
           {
            "marker": {
             "colorbar": {
              "outlinewidth": 0,
              "ticks": ""
             }
            },
            "type": "scattergeo"
           }
          ],
          "scattergl": [
           {
            "marker": {
             "colorbar": {
              "outlinewidth": 0,
              "ticks": ""
             }
            },
            "type": "scattergl"
           }
          ],
          "scattermapbox": [
           {
            "marker": {
             "colorbar": {
              "outlinewidth": 0,
              "ticks": ""
             }
            },
            "type": "scattermapbox"
           }
          ],
          "scatterpolar": [
           {
            "marker": {
             "colorbar": {
              "outlinewidth": 0,
              "ticks": ""
             }
            },
            "type": "scatterpolar"
           }
          ],
          "scatterpolargl": [
           {
            "marker": {
             "colorbar": {
              "outlinewidth": 0,
              "ticks": ""
             }
            },
            "type": "scatterpolargl"
           }
          ],
          "scatterternary": [
           {
            "marker": {
             "colorbar": {
              "outlinewidth": 0,
              "ticks": ""
             }
            },
            "type": "scatterternary"
           }
          ],
          "surface": [
           {
            "colorbar": {
             "outlinewidth": 0,
             "ticks": ""
            },
            "colorscale": [
             [
              0,
              "#0d0887"
             ],
             [
              0.1111111111111111,
              "#46039f"
             ],
             [
              0.2222222222222222,
              "#7201a8"
             ],
             [
              0.3333333333333333,
              "#9c179e"
             ],
             [
              0.4444444444444444,
              "#bd3786"
             ],
             [
              0.5555555555555556,
              "#d8576b"
             ],
             [
              0.6666666666666666,
              "#ed7953"
             ],
             [
              0.7777777777777778,
              "#fb9f3a"
             ],
             [
              0.8888888888888888,
              "#fdca26"
             ],
             [
              1,
              "#f0f921"
             ]
            ],
            "type": "surface"
           }
          ],
          "table": [
           {
            "cells": {
             "fill": {
              "color": "#EBF0F8"
             },
             "line": {
              "color": "white"
             }
            },
            "header": {
             "fill": {
              "color": "#C8D4E3"
             },
             "line": {
              "color": "white"
             }
            },
            "type": "table"
           }
          ]
         },
         "layout": {
          "annotationdefaults": {
           "arrowcolor": "#2a3f5f",
           "arrowhead": 0,
           "arrowwidth": 1
          },
          "autotypenumbers": "strict",
          "coloraxis": {
           "colorbar": {
            "outlinewidth": 0,
            "ticks": ""
           }
          },
          "colorscale": {
           "diverging": [
            [
             0,
             "#8e0152"
            ],
            [
             0.1,
             "#c51b7d"
            ],
            [
             0.2,
             "#de77ae"
            ],
            [
             0.3,
             "#f1b6da"
            ],
            [
             0.4,
             "#fde0ef"
            ],
            [
             0.5,
             "#f7f7f7"
            ],
            [
             0.6,
             "#e6f5d0"
            ],
            [
             0.7,
             "#b8e186"
            ],
            [
             0.8,
             "#7fbc41"
            ],
            [
             0.9,
             "#4d9221"
            ],
            [
             1,
             "#276419"
            ]
           ],
           "sequential": [
            [
             0,
             "#0d0887"
            ],
            [
             0.1111111111111111,
             "#46039f"
            ],
            [
             0.2222222222222222,
             "#7201a8"
            ],
            [
             0.3333333333333333,
             "#9c179e"
            ],
            [
             0.4444444444444444,
             "#bd3786"
            ],
            [
             0.5555555555555556,
             "#d8576b"
            ],
            [
             0.6666666666666666,
             "#ed7953"
            ],
            [
             0.7777777777777778,
             "#fb9f3a"
            ],
            [
             0.8888888888888888,
             "#fdca26"
            ],
            [
             1,
             "#f0f921"
            ]
           ],
           "sequentialminus": [
            [
             0,
             "#0d0887"
            ],
            [
             0.1111111111111111,
             "#46039f"
            ],
            [
             0.2222222222222222,
             "#7201a8"
            ],
            [
             0.3333333333333333,
             "#9c179e"
            ],
            [
             0.4444444444444444,
             "#bd3786"
            ],
            [
             0.5555555555555556,
             "#d8576b"
            ],
            [
             0.6666666666666666,
             "#ed7953"
            ],
            [
             0.7777777777777778,
             "#fb9f3a"
            ],
            [
             0.8888888888888888,
             "#fdca26"
            ],
            [
             1,
             "#f0f921"
            ]
           ]
          },
          "colorway": [
           "#636efa",
           "#EF553B",
           "#00cc96",
           "#ab63fa",
           "#FFA15A",
           "#19d3f3",
           "#FF6692",
           "#B6E880",
           "#FF97FF",
           "#FECB52"
          ],
          "font": {
           "color": "#2a3f5f"
          },
          "geo": {
           "bgcolor": "white",
           "lakecolor": "white",
           "landcolor": "white",
           "showlakes": true,
           "showland": true,
           "subunitcolor": "#C8D4E3"
          },
          "hoverlabel": {
           "align": "left"
          },
          "hovermode": "closest",
          "mapbox": {
           "style": "light"
          },
          "paper_bgcolor": "white",
          "plot_bgcolor": "white",
          "polar": {
           "angularaxis": {
            "gridcolor": "#EBF0F8",
            "linecolor": "#EBF0F8",
            "ticks": ""
           },
           "bgcolor": "white",
           "radialaxis": {
            "gridcolor": "#EBF0F8",
            "linecolor": "#EBF0F8",
            "ticks": ""
           }
          },
          "scene": {
           "xaxis": {
            "backgroundcolor": "white",
            "gridcolor": "#DFE8F3",
            "gridwidth": 2,
            "linecolor": "#EBF0F8",
            "showbackground": true,
            "ticks": "",
            "zerolinecolor": "#EBF0F8"
           },
           "yaxis": {
            "backgroundcolor": "white",
            "gridcolor": "#DFE8F3",
            "gridwidth": 2,
            "linecolor": "#EBF0F8",
            "showbackground": true,
            "ticks": "",
            "zerolinecolor": "#EBF0F8"
           },
           "zaxis": {
            "backgroundcolor": "white",
            "gridcolor": "#DFE8F3",
            "gridwidth": 2,
            "linecolor": "#EBF0F8",
            "showbackground": true,
            "ticks": "",
            "zerolinecolor": "#EBF0F8"
           }
          },
          "shapedefaults": {
           "line": {
            "color": "#2a3f5f"
           }
          },
          "ternary": {
           "aaxis": {
            "gridcolor": "#DFE8F3",
            "linecolor": "#A2B1C6",
            "ticks": ""
           },
           "baxis": {
            "gridcolor": "#DFE8F3",
            "linecolor": "#A2B1C6",
            "ticks": ""
           },
           "bgcolor": "white",
           "caxis": {
            "gridcolor": "#DFE8F3",
            "linecolor": "#A2B1C6",
            "ticks": ""
           }
          },
          "title": {
           "x": 0.05
          },
          "xaxis": {
           "automargin": true,
           "gridcolor": "#EBF0F8",
           "linecolor": "#EBF0F8",
           "ticks": "",
           "title": {
            "standoff": 15
           },
           "zerolinecolor": "#EBF0F8",
           "zerolinewidth": 2
          },
          "yaxis": {
           "automargin": true,
           "gridcolor": "#EBF0F8",
           "linecolor": "#EBF0F8",
           "ticks": "",
           "title": {
            "standoff": 15
           },
           "zerolinecolor": "#EBF0F8",
           "zerolinewidth": 2
          }
         }
        },
        "title": {
         "text": "Energy Use by Continent from 1962 to 2007"
        },
        "xaxis": {
         "color": "black",
         "gridcolor": "rgba(0,0,0,0)",
         "linewidth": 2,
         "title": {
          "text": "Continents"
         }
        },
        "yaxis": {
         "color": "black",
         "gridcolor": "rgba(0,0,0,0)",
         "linewidth": 2,
         "title": {
          "text": "Energy use (kg of oil equivalent per capita)"
         }
        }
       }
      }
     },
     "metadata": {},
     "output_type": "display_data"
    }
   ],
   "source": [
    "import plotly.graph_objects as go\n",
    "\n",
    "#We make the box plot again\n",
    "# Create a boxplot for each year\n",
    "fig = go.Figure()\n",
    "df_sorted = df_filtered2.sort_values(by='Year')\n",
    "\n",
    "years = df_sorted['Year'].unique()\n",
    "for i, year in enumerate(years, start=1):\n",
    "    df_year = df_filtered2[df_filtered2['Year'] == year]\n",
    "    fig.add_trace(go.Box(y=df_year['Energy use (kg of oil equivalent per capita)'], x=df_year['continent'], name=str(year), \n",
    "                         marker_color=f'rgba(255, 100, 0, {i/len(years)})',boxpoints='suspectedoutliers'))\n",
    "\n",
    "# Update the layout\n",
    "fig.update_layout(template='plotly_white',\n",
    "                  title='Energy Use by Continent from 1962 to 2007',\n",
    "                  xaxis=dict(title= 'Continents',gridcolor='rgba(0,0,0,0)',color='black',linewidth=2),\n",
    "                  yaxis=dict(title='Energy use (kg of oil equivalent per capita)',gridcolor='rgba(0,0,0,0)',color='black',linewidth=2),\n",
    "                  boxmode='group',\n",
    "                  boxgroupgap=0.5)\n",
    "\n",
    "\n",
    "# Show the plot\n",
    "fig.show()"
   ]
  },
  {
   "cell_type": "markdown",
   "metadata": {},
   "source": [
    "<h4>2. Is there a significant difference between Europe and Asia with respect to 'Imports of goods and services (% of GDP)' in the years after 1990? (Stats test needed)</h4>"
   ]
  },
  {
   "cell_type": "code",
   "execution_count": 286,
   "metadata": {},
   "outputs": [
    {
     "name": "stdout",
     "output_type": "stream",
     "text": [
      "            Country Name  Year  Imports of goods and services (% of GDP)   \n",
      "8            Afghanistan  2002                                 65.287704  \\\n",
      "9            Afghanistan  2007                                 58.350047   \n",
      "16               Albania  1992                                 88.512248   \n",
      "17               Albania  1997                                 34.189995   \n",
      "18               Albania  2002                                 44.335366   \n",
      "...                  ...   ...                                       ...   \n",
      "2551             Vietnam  2002                                 57.249342   \n",
      "2552             Vietnam  2007                                 84.087509   \n",
      "2564  West Bank and Gaza  1997                                 73.041119   \n",
      "2565  West Bank and Gaza  2002                                 62.815682   \n",
      "2566  West Bank and Gaza  2007                                 77.810672   \n",
      "\n",
      "     continent  \n",
      "8         Asia  \n",
      "9         Asia  \n",
      "16      Europe  \n",
      "17      Europe  \n",
      "18      Europe  \n",
      "...        ...  \n",
      "2551      Asia  \n",
      "2552      Asia  \n",
      "2564      Asia  \n",
      "2565      Asia  \n",
      "2566      Asia  \n",
      "\n",
      "[212 rows x 4 columns]\n"
     ]
    }
   ],
   "source": [
    "#For this item, we will run a T-test between Europe and Asia for the years after 1990 and we will compare the Imports of goods and services\n",
    "# First, we will filter our data set just to have the continent, country name, year and Imports of goods and services (% of GDP)\n",
    "\n",
    "#Data filtering\n",
    "data_imports=df[df['Year']> 1990]\n",
    "data_imports = data_imports[(data_imports['continent'] == 'Asia') | (data_imports['continent'] == 'Europe')]\n",
    "data_imports= data_imports.dropna(subset=['Imports of goods and services (% of GDP)', 'continent']) #Here we drop those rows that have no values for imports or continent\n",
    "data_imports=data_imports[['Country Name','Year','Imports of goods and services (% of GDP)', 'continent']]\n",
    "\n",
    "print(data_imports)"
   ]
  },
  {
   "cell_type": "code",
   "execution_count": 287,
   "metadata": {},
   "outputs": [
    {
     "name": "stdout",
     "output_type": "stream",
     "text": [
      "T-statistic: 1.4185256887958868\n",
      "P-value: 0.15751969325554196\n"
     ]
    }
   ],
   "source": [
    "from scipy.stats import ttest_ind\n",
    "\n",
    "# separating both data sets\n",
    "imports_asia = data_imports[data_imports['continent'] == 'Asia']['Imports of goods and services (% of GDP)']\n",
    "imports_europe = data_imports[data_imports['continent'] == 'Europe']['Imports of goods and services (% of GDP)']\n",
    "\n",
    "# Perform t-test\n",
    "t_statistic, p_value = ttest_ind(imports_asia, imports_europe)\n",
    "\n",
    "# Print the results\n",
    "print(f\"T-statistic: {t_statistic}\")\n",
    "print(f\"P-value: {p_value}\")\n"
   ]
  },
  {
   "cell_type": "markdown",
   "metadata": {},
   "source": [
    "<h5>We can see that the p-value is greater than 0.05 so we conclude that there is no significant evidence between imports of good and services between Asia and Europe after 1990. We will plot the distribution of Imports along with their means to see it graphically</h5>"
   ]
  },
  {
   "cell_type": "code",
   "execution_count": 184,
   "metadata": {},
   "outputs": [
    {
     "data": {
      "image/png": "[encoded data removed]",
      "text/plain": [
       "<Figure size 1000x600 with 1 Axes>"
      ]
     },
     "metadata": {},
     "output_type": "display_data"
    }
   ],
   "source": [
    "import seaborn as sns\n",
    "import matplotlib.pyplot as plt\n",
    "\n",
    "# Set the style of seaborn\n",
    "# Create a figure and axis\n",
    "sns.set_theme(style=\"whitegrid\")\n",
    "plt.figure(figsize=(10, 6))\n",
    "\n",
    "#Calculate the mean of imports for both continents\n",
    "mean_asia = imports_asia.mean()\n",
    "mean_europe = imports_europe.mean()\n",
    "\n",
    "# Plot KDE for Asia\n",
    "sns.kdeplot(imports_asia, color='blue', label='Asia', fill=True)\n",
    "\n",
    "# Plot KDE for Europe\n",
    "sns.kdeplot(imports_europe, color='orange', label='Europe', fill=True)\n",
    "\n",
    "#Adding both mean lines\n",
    "plt.axvline(mean_asia, color='blue', linestyle='--', label=f'Mean (Asia): {mean_asia:.2f}')\n",
    "plt.axvline(mean_europe, color='orange', linestyle='--', label=f'Mean (Europe): {mean_europe:.2f}')\n",
    "\n",
    "# Add legend and labels\n",
    "plt.title('Distribution of Imports of Goods and Services (% of GDP) in Asia and Europe after 1990')\n",
    "plt.xlabel('Imports of Goods and Services (% of GDP)')\n",
    "plt.grid(None)\n",
    "plt.ylabel('Density')\n",
    "plt.legend()\n",
    "plt.show()"
   ]
  },
  {
   "cell_type": "markdown",
   "metadata": {},
   "source": [
    "<h5><i>The negative data for Asia is because of this type of graph to see distribution. There are not negative values for Imports of good and services</i></h5>"
   ]
  },
  {
   "cell_type": "markdown",
   "metadata": {},
   "source": [
    "<h3>3. What is the country (or countries) that has the highest 'Population density (people per sq. km of land area)' across all years? (i.e., which country has the highest average ranking in this category across each time point in the dataset?)</h3>"
   ]
  },
  {
   "cell_type": "code",
   "execution_count": 289,
   "metadata": {},
   "outputs": [],
   "source": [
    "#First, we start by cleaning the dataset and discard columns that we will not use\n",
    "data_pop_dens= df.dropna(subset=['Population density (people per sq. km of land area)']) #Actually this line will not drop any row since all of them contain data \n",
    "data_pop_dens=df[['Country Name','Year','Population density (people per sq. km of land area)']]\n",
    "\n"
   ]
  },
  {
   "cell_type": "code",
   "execution_count": 291,
   "metadata": {},
   "outputs": [
    {
     "name": "stdout",
     "output_type": "stream",
     "text": [
      "\n",
      " The two countries with the highest population density across all years are Monaco with 10 appearances and Macao SAR, China with 10 appearances.\n"
     ]
    }
   ],
   "source": [
    "#For each year, we are going to get the top 5 countries with the highest population density per sq km and then we will elaborate a ranking of countries for all years\n",
    "#Creating a DF to store our values in order to graph the countries\n",
    "Results = pd.DataFrame(columns=['Year', 'Country Name', 'Population density (people per sq. km of land area)'])\n",
    "\n",
    "for year in data_pop_dens['Year'].unique():\n",
    "    df_year = data_pop_dens[data_pop_dens['Year'] == year] #filtering for each year\n",
    "    sorted_df = df_year.sort_values(by='Population density (people per sq. km of land area)', ascending=False)    \n",
    "    top_five_countries_year = sorted_df.head(5)\n",
    "    \n",
    "    # Append the results to the new dataframe\n",
    "    Results = pd.concat([Results,top_five_countries_year[['Year', 'Country Name', 'Population density (people per sq. km of land area)']]])\n",
    "\n",
    "#This is our data frame with the results, in case you want to print it just erase the # in the line below\n",
    "#print(Results)\n",
    "\n",
    "#Now we will count how many appearances does each country have\n",
    "from collections import Counter\n",
    "country_counts = Counter(Results['Country Name'])\n",
    "country_dict = dict(country_counts.most_common(2))\n",
    "country1, count1 = list(country_counts.keys())[0], list(country_counts.values())[0]\n",
    "country2, count2 = list(country_counts.keys())[1], list(country_counts.values())[1]\n",
    "\n",
    "print(f'\\n The two countries with the highest population density across all years are {country1} with {count1} appearances and {country2} with {count2} appearances.')\n",
    "    "
   ]
  },
  {
   "cell_type": "markdown",
   "metadata": {},
   "source": [
    "<h5> The countries with the highest population density across all years are Monaco and Macao SAR China with 5 appearances each. Let's check the graphs </hs>"
   ]
  },
  {
   "cell_type": "code",
   "execution_count": 299,
   "metadata": {},
   "outputs": [
    {
     "data": {
      "image/png": "[encoded data removed]",
      "text/plain": [
       "<Figure size 2000x1000 with 10 Axes>"
      ]
     },
     "metadata": {},
     "output_type": "display_data"
    }
   ],
   "source": [
    "#Building 10 graphs (one per year) for the pop density top 5 countries\n",
    "import matplotlib.pyplot as plt\n",
    "import plotly.graph_objs as go\n",
    "\n",
    "\n",
    "years = Results['Year'].unique()\n",
    "num_years = len(years)\n",
    "\n",
    "fig, axs = plt.subplots(1, num_years, figsize=(20, 10), sharey=True)\n",
    "\n",
    "#We iterate in each year to have 10 graphs\n",
    "for i, year in enumerate(years):\n",
    "    year_data = Results[Results['Year'] == year]\n",
    "    ax = axs[i]\n",
    "    year_data.plot(kind='bar', x='Country Name', y='Population density (people per sq. km of land area)',color='orange', ax=ax, capsize=4)\n",
    "    ax.set_title(f'Year {year}',fontsize=20)\n",
    "    ax.set_ylabel('Population density (people per sq. km of land area)',fontsize=16)\n",
    "    ax.grid(visible=False)\n",
    "    ax.set_xlabel('')\n",
    "    ax.legend().remove()  # Remove legend to avoid overlap\n",
    "\n",
    "plt.show()"
   ]
  },
  {
   "cell_type": "markdown",
   "metadata": {},
   "source": [
    "<h3>4. What country (or countries) has shown the greatest increase in 'Life expectancy at birth, total (years)' between 1962 and 2007?</h3>"
   ]
  },
  {
   "cell_type": "code",
   "execution_count": 300,
   "metadata": {},
   "outputs": [
    {
     "name": "stdout",
     "output_type": "stream",
     "text": [
      "16 countries were removed from the analysis because they did not contained data for Life Expectancy in the 10 years timepoints\n"
     ]
    }
   ],
   "source": [
    "data_life_expectancy= df.dropna(subset=['Life expectancy at birth, total (years)', 'Year', 'Country Name'])\n",
    "\n",
    "#Leaving only countries that have data for the 10 years\n",
    "countries_to_filter=[]\n",
    "for country in data_life_expectancy['Country Name'].unique():\n",
    "    data_country= data_life_expectancy[data_life_expectancy['Country Name']== country]\n",
    "    if ((data_country['Life expectancy at birth, total (years)'].count())!= 10):\n",
    "        countries_to_filter.append(country)\n",
    "\n",
    "filtered_life_expectancy = data_life_expectancy[~data_life_expectancy['Country Name'].isin(countries_to_filter)]\n",
    "filtered_life_expectancy= filtered_life_expectancy[['Year', 'Country Name','Life expectancy at birth, total (years)','continent']]\n",
    "\n",
    "print(f\"{len(countries_to_filter)} countries were removed from the analysis because they did not contained data for Life Expectancy in the 10 years timepoints\")\n"
   ]
  },
  {
   "cell_type": "code",
   "execution_count": 302,
   "metadata": {},
   "outputs": [
    {
     "name": "stdout",
     "output_type": "stream",
     "text": [
      "           Country Name  Change in life expectancy\n",
      "136            Maldives                  36.916146\n",
      "20               Bhutan                  33.198951\n",
      "213         Timor-Leste                  31.085146\n",
      "217             Tunisia                  30.860756\n",
      "164                Oman                  30.823098\n",
      "..                  ...                        ...\n",
      "16              Belarus                   1.567585\n",
      "180  Russian Federation                   0.476146\n",
      "221             Ukraine                  -0.923902\n",
      "123             Lesotho                  -2.520024\n",
      "235            Zimbabwe                  -8.100146\n",
      "\n",
      "[236 rows x 2 columns]\n"
     ]
    }
   ],
   "source": [
    "# We will calculate de difference between each time point (in total 10 time points) for each country and then we will aggregate this values. \n",
    "# The countries with the highest values will be those who experienced the highest change in life expectancy between 1962 and 2007\n",
    "\n",
    "data_life_exp_change=[]\n",
    "for country in filtered_life_expectancy['Country Name'].unique():\n",
    "    data_filter= filtered_life_expectancy[filtered_life_expectancy['Country Name']== country]\n",
    "    change= ((data_filter['Life expectancy at birth, total (years)'].diff()).sum())\n",
    "    data_life_exp_change.append((country,change))\n",
    "\n",
    "final_data=pd.DataFrame(data_life_exp_change, columns=['Country Name', 'Change in life expectancy'])\n",
    "final_data2 =final_data.sort_values(by='Change in life expectancy', ascending=False)\n",
    "print(final_data2)\n",
    "\n"
   ]
  },
  {
   "cell_type": "code",
   "execution_count": 303,
   "metadata": {},
   "outputs": [
    {
     "name": "stdout",
     "output_type": "stream",
     "text": [
      "      Year              Country Name  Life expectancy at birth, total (years)   \n",
      "1179  2007                     Japan                                82.507073  \\\n",
      "1009  2007      Hong Kong SAR, China                                82.326829   \n",
      "2312  2007               Switzerland                                81.741463   \n",
      "1079  2007                   Iceland                                81.453659   \n",
      "1159  2007                     Italy                                81.434146   \n",
      "...    ...                       ...                                      ...   \n",
      "2292  2007                 Swaziland                                46.772390   \n",
      "399   2007  Central African Republic                                45.687390   \n",
      "2069  2007              Sierra Leone                                45.488366   \n",
      "1359  2007                   Lesotho                                44.882220   \n",
      "2606  2007                  Zimbabwe                                44.177756   \n",
      "\n",
      "     continent  \n",
      "1179      Asia  \n",
      "1009       NaN  \n",
      "2312    Europe  \n",
      "1079    Europe  \n",
      "1159    Europe  \n",
      "...        ...  \n",
      "2292    Africa  \n",
      "399     Africa  \n",
      "2069    Africa  \n",
      "1359    Africa  \n",
      "2606    Africa  \n",
      "\n",
      "[236 rows x 4 columns]\n"
     ]
    }
   ],
   "source": [
    "#Now let's evaluate the life expectancy in 2007\n",
    "filtered_life_expectancy_2007= filtered_life_expectancy[filtered_life_expectancy['Year']==2007].sort_values(by='Life expectancy at birth, total (years)', ascending=False)\n",
    "\n",
    "print(filtered_life_expectancy_2007)"
   ]
  },
  {
   "cell_type": "code",
   "execution_count": 304,
   "metadata": {},
   "outputs": [
    {
     "name": "stdout",
     "output_type": "stream",
     "text": [
      "Those are the top 5 countries that shown the greatest increase in Life expectancy between 1962 and 2007 \n",
      "    Country Name  Change in life expectancy\n",
      "136     Maldives                  36.916146\n",
      "20        Bhutan                  33.198951\n",
      "213  Timor-Leste                  31.085146\n",
      "217      Tunisia                  30.860756\n",
      "164         Oman                  30.823098\n",
      "\n",
      "Those are the top 5 countries that shown the lowest increase in Life expectancy between 1962 and 2007\n",
      "           Country Name  Change in life expectancy\n",
      "16              Belarus                   1.567585\n",
      "180  Russian Federation                   0.476146\n",
      "221             Ukraine                  -0.923902\n",
      "123             Lesotho                  -2.520024\n",
      "235            Zimbabwe                  -8.100146\n",
      "\n",
      "Finally, those are the top 5 countries with the highest life expectancy in 2007\n",
      "              Country Name  Life expectancy at birth, total (years)\n",
      "1179                 Japan                                82.507073\n",
      "1009  Hong Kong SAR, China                                82.326829\n",
      "2312           Switzerland                                81.741463\n",
      "1079               Iceland                                81.453659\n",
      "1159                 Italy                                81.434146\n"
     ]
    }
   ],
   "source": [
    "print('Those are the top 5 countries that shown the greatest increase in Life expectancy between 1962 and 2007 ')\n",
    "print((final_data2[['Country Name','Change in life expectancy']]).head(5) )\n",
    "print('\\nThose are the top 5 countries that shown the lowest increase in Life expectancy between 1962 and 2007')\n",
    "print((final_data2[['Country Name','Change in life expectancy']]).tail(5))\n",
    "print('\\nFinally, those are the top 5 countries with the highest life expectancy in 2007')\n",
    "print((filtered_life_expectancy_2007[['Country Name','Life expectancy at birth, total (years)']]).head(5))\n"
   ]
  },
  {
   "cell_type": "code",
   "execution_count": 305,
   "metadata": {},
   "outputs": [
    {
     "data": {
      "text/html": [
       "    <style>\n",
       "        .bk-notebook-logo {\n",
       "            display: block;\n",
       "            width: 20px;\n",
       "            height: 20px;\n",
       "            background-image: url(data:image/png;base64,iVBORw0KGgoAAAANSUhEUgAAABQAAAAUCAYAAACNiR0NAAAABHNCSVQICAgIfAhkiAAAAAlwSFlzAAALEgAACxIB0t1+/AAAABx0RVh0U29mdHdhcmUAQWRvYmUgRmlyZXdvcmtzIENTNui8sowAAAOkSURBVDiNjZRtaJVlGMd/1/08zzln5zjP1LWcU9N0NkN8m2CYjpgQYQXqSs0I84OLIC0hkEKoPtiH3gmKoiJDU7QpLgoLjLIQCpEsNJ1vqUOdO7ppbuec5+V+rj4ctwzd8IIbbi6u+8f1539dt3A78eXC7QizUF7gyV1fD1Yqg4JWz84yffhm0qkFqBogB9rM8tZdtwVsPUhWhGcFJngGeWrPzHm5oaMmkfEg1usvLFyc8jLRqDOMru7AyC8saQr7GG7f5fvDeH7Ej8CM66nIF+8yngt6HWaKh7k49Soy9nXurCi1o3qUbS3zWfrYeQDTB/Qj6kX6Ybhw4B+bOYoLKCC9H3Nu/leUTZ1JdRWkkn2ldcCamzrcf47KKXdAJllSlxAOkRgyHsGC/zRday5Qld9DyoM4/q/rUoy/CXh3jzOu3bHUVZeU+DEn8FInkPBFlu3+nW3Nw0mk6vCDiWg8CeJaxEwuHS3+z5RgY+YBR6V1Z1nxSOfoaPa4LASWxxdNp+VWTk7+4vzaou8v8PN+xo+KY2xsw6une2frhw05CTYOmQvsEhjhWjn0bmXPjpE1+kplmmkP3suftwTubK9Vq22qKmrBhpY4jvd5afdRA3wGjFAgcnTK2s4hY0/GPNIb0nErGMCRxWOOX64Z8RAC4oCXdklmEvcL8o0BfkNK4lUg9HTl+oPlQxdNo3Mg4Nv175e/1LDGzZen30MEjRUtmXSfiTVu1kK8W4txyV6BMKlbgk3lMwYCiusNy9fVfvvwMxv8Ynl6vxoByANLTWplvuj/nF9m2+PDtt1eiHPBr1oIfhCChQMBw6Aw0UulqTKZdfVvfG7VcfIqLG9bcldL/+pdWTLxLUy8Qq38heUIjh4XlzZxzQm19lLFlr8vdQ97rjZVOLf8nclzckbcD4wxXMidpX30sFd37Fv/GtwwhzhxGVAprjbg0gCAEeIgwCZyTV2Z1REEW8O4py0wsjeloKoMr6iCY6dP92H6Vw/oTyICIthibxjm/DfN9lVz8IqtqKYLUXfoKVMVQVVJOElGjrnnUt9T9wbgp8AyYKaGlqingHZU/uG2NTZSVqwHQTWkx9hxjkpWDaCg6Ckj5qebgBVbT3V3NNXMSiWSDdGV3hrtzla7J+duwPOToIg42ChPQOQjspnSlp1V+Gjdged7+8UN5CRAV7a5EdFNwCjEaBR27b3W890TE7g24NAP/mMDXRWrGoFPQI9ls/MWO2dWFAar/xcOIImbbpA3zgAAAABJRU5ErkJggg==);\n",
       "        }\n",
       "    </style>\n",
       "    <div>\n",
       "        <a href=\"https://bokeh.org\" target=\"_blank\" class=\"bk-notebook-logo\"></a>\n",
       "        <span id=\"abeb34df-35d2-4652-89cc-26862ce51969\">Loading BokehJS ...</span>\n",
       "    </div>\n"
      ]
     },
     "metadata": {},
     "output_type": "display_data"
    },
    {
     "data": {
      "application/javascript": "(function(root) {\n  function now() {\n    return new Date();\n  }\n\n  const force = true;\n\n  if (typeof root._bokeh_onload_callbacks === \"undefined\" || force === true) {\n    root._bokeh_onload_callbacks = [];\n    root._bokeh_is_loading = undefined;\n  }\n\nconst JS_MIME_TYPE = 'application/javascript';\n  const HTML_MIME_TYPE = 'text/html';\n  const EXEC_MIME_TYPE = 'application/vnd.bokehjs_exec.v0+json';\n  const CLASS_NAME = 'output_bokeh rendered_html';\n\n  /**\n   * Render data to the DOM node\n   */\n  function render(props, node) {\n    const script = document.createElement(\"script\");\n    node.appendChild(script);\n  }\n\n  /**\n   * Handle when an output is cleared or removed\n   */\n  function handleClearOutput(event, handle) {\n    function drop(id) {\n      const view = Bokeh.index.get_by_id(id)\n      if (view != null) {\n        view.model.document.clear()\n        Bokeh.index.delete(view)\n      }\n    }\n\n    const cell = handle.cell;\n\n    const id = cell.output_area._bokeh_element_id;\n    const server_id = cell.output_area._bokeh_server_id;\n\n    // Clean up Bokeh references\n    if (id != null) {\n      drop(id)\n    }\n\n    if (server_id !== undefined) {\n      // Clean up Bokeh references\n      const cmd_clean = \"from bokeh.io.state import curstate; print(curstate().uuid_to_server['\" + server_id + \"'].get_sessions()[0].document.roots[0]._id)\";\n      cell.notebook.kernel.execute(cmd_clean, {\n        iopub: {\n          output: function(msg) {\n            const id = msg.content.text.trim()\n            drop(id)\n          }\n        }\n      });\n      // Destroy server and session\n      const cmd_destroy = \"import bokeh.io.notebook as ion; ion.destroy_server('\" + server_id + \"')\";\n      cell.notebook.kernel.execute(cmd_destroy);\n    }\n  }\n\n  /**\n   * Handle when a new output is added\n   */\n  function handleAddOutput(event, handle) {\n    const output_area = handle.output_area;\n    const output = handle.output;\n\n    // limit handleAddOutput to display_data with EXEC_MIME_TYPE content only\n    if ((output.output_type != \"display_data\") || (!Object.prototype.hasOwnProperty.call(output.data, EXEC_MIME_TYPE))) {\n      return\n    }\n\n    const toinsert = output_area.element.find(\".\" + CLASS_NAME.split(' ')[0]);\n\n    if (output.metadata[EXEC_MIME_TYPE][\"id\"] !== undefined) {\n      toinsert[toinsert.length - 1].firstChild.textContent = output.data[JS_MIME_TYPE];\n      // store reference to embed id on output_area\n      output_area._bokeh_element_id = output.metadata[EXEC_MIME_TYPE][\"id\"];\n    }\n    if (output.metadata[EXEC_MIME_TYPE][\"server_id\"] !== undefined) {\n      const bk_div = document.createElement(\"div\");\n      bk_div.innerHTML = output.data[HTML_MIME_TYPE];\n      const script_attrs = bk_div.children[0].attributes;\n      for (let i = 0; i < script_attrs.length; i++) {\n        toinsert[toinsert.length - 1].firstChild.setAttribute(script_attrs[i].name, script_attrs[i].value);\n        toinsert[toinsert.length - 1].firstChild.textContent = bk_div.children[0].textContent\n      }\n      // store reference to server id on output_area\n      output_area._bokeh_server_id = output.metadata[EXEC_MIME_TYPE][\"server_id\"];\n    }\n  }\n\n  function register_renderer(events, OutputArea) {\n\n    function append_mime(data, metadata, element) {\n      // create a DOM node to render to\n      const toinsert = this.create_output_subarea(\n        metadata,\n        CLASS_NAME,\n        EXEC_MIME_TYPE\n      );\n      this.keyboard_manager.register_events(toinsert);\n      // Render to node\n      const props = {data: data, metadata: metadata[EXEC_MIME_TYPE]};\n      render(props, toinsert[toinsert.length - 1]);\n      element.append(toinsert);\n      return toinsert\n    }\n\n    /* Handle when an output is cleared or removed */\n    events.on('clear_output.CodeCell', handleClearOutput);\n    events.on('delete.Cell', handleClearOutput);\n\n    /* Handle when a new output is added */\n    events.on('output_added.OutputArea', handleAddOutput);\n\n    /**\n     * Register the mime type and append_mime function with output_area\n     */\n    OutputArea.prototype.register_mime_type(EXEC_MIME_TYPE, append_mime, {\n      /* Is output safe? */\n      safe: true,\n      /* Index of renderer in `output_area.display_order` */\n      index: 0\n    });\n  }\n\n  // register the mime type if in Jupyter Notebook environment and previously unregistered\n  if (root.Jupyter !== undefined) {\n    const events = require('base/js/events');\n    const OutputArea = require('notebook/js/outputarea').OutputArea;\n\n    if (OutputArea.prototype.mime_types().indexOf(EXEC_MIME_TYPE) == -1) {\n      register_renderer(events, OutputArea);\n    }\n  }\n  if (typeof (root._bokeh_timeout) === \"undefined\" || force === true) {\n    root._bokeh_timeout = Date.now() + 5000;\n    root._bokeh_failed_load = false;\n  }\n\n  const NB_LOAD_WARNING = {'data': {'text/html':\n     \"<div style='background-color: #fdd'>\\n\"+\n     \"<p>\\n\"+\n     \"BokehJS does not appear to have successfully loaded. If loading BokehJS from CDN, this \\n\"+\n     \"may be due to a slow or bad network connection. Possible fixes:\\n\"+\n     \"</p>\\n\"+\n     \"<ul>\\n\"+\n     \"<li>re-rerun `output_notebook()` to attempt to load from CDN again, or</li>\\n\"+\n     \"<li>use INLINE resources instead, as so:</li>\\n\"+\n     \"</ul>\\n\"+\n     \"<code>\\n\"+\n     \"from bokeh.resources import INLINE\\n\"+\n     \"output_notebook(resources=INLINE)\\n\"+\n     \"</code>\\n\"+\n     \"</div>\"}};\n\n  function display_loaded() {\n    const el = document.getElementById(\"abeb34df-35d2-4652-89cc-26862ce51969\");\n    if (el != null) {\n      el.textContent = \"BokehJS is loading...\";\n    }\n    if (root.Bokeh !== undefined) {\n      if (el != null) {\n        el.textContent = \"BokehJS \" + root.Bokeh.version + \" successfully loaded.\";\n      }\n    } else if (Date.now() < root._bokeh_timeout) {\n      setTimeout(display_loaded, 100)\n    }\n  }\n\n  function run_callbacks() {\n    try {\n      root._bokeh_onload_callbacks.forEach(function(callback) {\n        if (callback != null)\n          callback();\n      });\n    } finally {\n      delete root._bokeh_onload_callbacks\n    }\n    console.debug(\"Bokeh: all callbacks have finished\");\n  }\n\n  function load_libs(css_urls, js_urls, callback) {\n    if (css_urls == null) css_urls = [];\n    if (js_urls == null) js_urls = [];\n\n    root._bokeh_onload_callbacks.push(callback);\n    if (root._bokeh_is_loading > 0) {\n      console.debug(\"Bokeh: BokehJS is being loaded, scheduling callback at\", now());\n      return null;\n    }\n    if (js_urls == null || js_urls.length === 0) {\n      run_callbacks();\n      return null;\n    }\n    console.debug(\"Bokeh: BokehJS not loaded, scheduling load and callback at\", now());\n    root._bokeh_is_loading = css_urls.length + js_urls.length;\n\n    function on_load() {\n      root._bokeh_is_loading--;\n      if (root._bokeh_is_loading === 0) {\n        console.debug(\"Bokeh: all BokehJS libraries/stylesheets loaded\");\n        run_callbacks()\n      }\n    }\n\n    function on_error(url) {\n      console.error(\"failed to load \" + url);\n    }\n\n    for (let i = 0; i < css_urls.length; i++) {\n      const url = css_urls[i];\n      const element = document.createElement(\"link\");\n      element.onload = on_load;\n      element.onerror = on_error.bind(null, url);\n      element.rel = \"stylesheet\";\n      element.type = \"text/css\";\n      element.href = url;\n      console.debug(\"Bokeh: injecting link tag for BokehJS stylesheet: \", url);\n      document.body.appendChild(element);\n    }\n\n    for (let i = 0; i < js_urls.length; i++) {\n      const url = js_urls[i];\n      const element = document.createElement('script');\n      element.onload = on_load;\n      element.onerror = on_error.bind(null, url);\n      element.async = false;\n      element.src = url;\n      console.debug(\"Bokeh: injecting script tag for BokehJS library: \", url);\n      document.head.appendChild(element);\n    }\n  };\n\n  function inject_raw_css(css) {\n    const element = document.createElement(\"style\");\n    element.appendChild(document.createTextNode(css));\n    document.body.appendChild(element);\n  }\n\n  const js_urls = [\"https://cdn.bokeh.org/bokeh/release/bokeh-3.3.4.min.js\", \"https://cdn.bokeh.org/bokeh/release/bokeh-gl-3.3.4.min.js\", \"https://cdn.bokeh.org/bokeh/release/bokeh-widgets-3.3.4.min.js\", \"https://cdn.bokeh.org/bokeh/release/bokeh-tables-3.3.4.min.js\", \"https://cdn.bokeh.org/bokeh/release/bokeh-mathjax-3.3.4.min.js\"];\n  const css_urls = [];\n\n  const inline_js = [    function(Bokeh) {\n      Bokeh.set_log_level(\"info\");\n    },\nfunction(Bokeh) {\n    }\n  ];\n\n  function run_inline_js() {\n    if (root.Bokeh !== undefined || force === true) {\n          for (let i = 0; i < inline_js.length; i++) {\n      inline_js[i].call(root, root.Bokeh);\n    }\nif (force === true) {\n        display_loaded();\n      }} else if (Date.now() < root._bokeh_timeout) {\n      setTimeout(run_inline_js, 100);\n    } else if (!root._bokeh_failed_load) {\n      console.log(\"Bokeh: BokehJS failed to load within specified timeout.\");\n      root._bokeh_failed_load = true;\n    } else if (force !== true) {\n      const cell = $(document.getElementById(\"abeb34df-35d2-4652-89cc-26862ce51969\")).parents('.cell').data().cell;\n      cell.output_area.append_execute_result(NB_LOAD_WARNING)\n    }\n  }\n\n  if (root._bokeh_is_loading === 0) {\n    console.debug(\"Bokeh: BokehJS loaded, going straight to plotting\");\n    run_inline_js();\n  } else {\n    load_libs(css_urls, js_urls, function() {\n      console.debug(\"Bokeh: BokehJS plotting callback run at\", now());\n      run_inline_js();\n    });\n  }\n}(window));",
      "application/vnd.bokehjs_load.v0+json": ""
     },
     "metadata": {},
     "output_type": "display_data"
    },
    {
     "data": {
      "text/html": [
       "\n",
       "  <div id=\"dfc9eb04-6eab-45e3-bbc0-b324dbf0b651\" data-root-id=\"p4714\" style=\"display: contents;\"></div>\n"
      ]
     },
     "metadata": {},
     "output_type": "display_data"
    },
    {
     "data": {
      "application/javascript": "(function(root) {\n  function embed_document(root) {\n  const docs_json = {\"29f66149-f5df-4118-a0c0-87d556af3d04\":{\"version\":\"3.3.4\",\"title\":\"Bokeh Application\",\"roots\":[{\"type\":\"object\",\"name\":\"Figure\",\"id\":\"p4714\",\"attributes\":{\"width\":1000,\"height\":400,\"x_range\":{\"type\":\"object\",\"name\":\"DataRange1d\",\"id\":\"p4716\"},\"y_range\":{\"type\":\"object\",\"name\":\"FactorRange\",\"id\":\"p4724\",\"attributes\":{\"factors\":[\"Maldives\",\"Bhutan\",\"Timor-Leste\",\"Tunisia\",\"Oman\",\"Belarus\",\"Russian Federation\",\"Ukraine\",\"Lesotho\",\"Zimbabwe\"]}},\"x_scale\":{\"type\":\"object\",\"name\":\"LinearScale\",\"id\":\"p4725\"},\"y_scale\":{\"type\":\"object\",\"name\":\"CategoricalScale\",\"id\":\"p4726\"},\"title\":{\"type\":\"object\",\"name\":\"Title\",\"id\":\"p4717\",\"attributes\":{\"text\":\"Top 5 countries with the highest and lowest increase in life expectancy between 1962 and 2007\"}},\"outline_line_color\":null,\"renderers\":[{\"type\":\"object\",\"name\":\"GlyphRenderer\",\"id\":\"p4743\",\"attributes\":{\"data_source\":{\"type\":\"object\",\"name\":\"ColumnDataSource\",\"id\":\"p4710\",\"attributes\":{\"selected\":{\"type\":\"object\",\"name\":\"Selection\",\"id\":\"p4711\",\"attributes\":{\"indices\":[],\"line_indices\":[]}},\"selection_policy\":{\"type\":\"object\",\"name\":\"UnionRenderers\",\"id\":\"p4712\"},\"data\":{\"type\":\"map\",\"entries\":[[\"index\",{\"type\":\"ndarray\",\"array\":{\"type\":\"bytes\",\"data\":\"iAAAABQAAADVAAAA2QAAAKQAAAAQAAAAtAAAAN0AAAB7AAAA6wAAAA==\"},\"shape\":[10],\"dtype\":\"int32\",\"order\":\"little\"}],[\"Country Name\",{\"type\":\"ndarray\",\"array\":[\"Maldives\",\"Bhutan\",\"Timor-Leste\",\"Tunisia\",\"Oman\",\"Belarus\",\"Russian Federation\",\"Ukraine\",\"Lesotho\",\"Zimbabwe\"],\"shape\":[10],\"dtype\":\"object\",\"order\":\"little\"}],[\"Change in life expectancy\",{\"type\":\"ndarray\",\"array\":{\"type\":\"bytes\",\"data\":\"2IuHSER1QkA9oMo7d5lAQNQdkCbMFT9ASgb5glrcPkCM6ZGFttI+QIDJfGTUFPk/AJE2gS553j+AYwbZm5DtvzBAKIwCKQTADEGaYUYzIMA=\"},\"shape\":[10],\"dtype\":\"float64\",\"order\":\"little\"}]]}}},\"view\":{\"type\":\"object\",\"name\":\"CDSView\",\"id\":\"p4744\",\"attributes\":{\"filter\":{\"type\":\"object\",\"name\":\"AllIndices\",\"id\":\"p4745\"}}},\"glyph\":{\"type\":\"object\",\"name\":\"HBar\",\"id\":\"p4740\",\"attributes\":{\"y\":{\"type\":\"field\",\"field\":\"Country Name\"},\"height\":{\"type\":\"value\",\"value\":0.3},\"right\":{\"type\":\"field\",\"field\":\"Change in life expectancy\"},\"line_color\":{\"type\":\"value\",\"value\":\"white\"},\"fill_color\":{\"type\":\"field\",\"field\":\"Country Name\",\"transform\":{\"type\":\"object\",\"name\":\"CategoricalColorMapper\",\"id\":\"p4713\",\"attributes\":{\"palette\":[\"#006d2c\",\"#31a354\",\"#74c476\",\"#bae4b3\",\"#edf8e9\",\"#fee5d9\",\"#fcae91\",\"#fb6a4a\",\"#de2d26\",\"#a50f15\"],\"factors\":{\"type\":\"ndarray\",\"array\":[\"Maldives\",\"Bhutan\",\"Timor-Leste\",\"Tunisia\",\"Oman\",\"Belarus\",\"Russian Federation\",\"Ukraine\",\"Lesotho\",\"Zimbabwe\"],\"shape\":[10],\"dtype\":\"object\",\"order\":\"little\"}}}}}},\"nonselection_glyph\":{\"type\":\"object\",\"name\":\"HBar\",\"id\":\"p4741\",\"attributes\":{\"y\":{\"type\":\"field\",\"field\":\"Country Name\"},\"height\":{\"type\":\"value\",\"value\":0.3},\"right\":{\"type\":\"field\",\"field\":\"Change in life expectancy\"},\"line_color\":{\"type\":\"value\",\"value\":\"white\"},\"line_alpha\":{\"type\":\"value\",\"value\":0.1},\"fill_color\":{\"type\":\"field\",\"field\":\"Country Name\",\"transform\":{\"id\":\"p4713\"}},\"fill_alpha\":{\"type\":\"value\",\"value\":0.1},\"hatch_alpha\":{\"type\":\"value\",\"value\":0.1}}},\"muted_glyph\":{\"type\":\"object\",\"name\":\"HBar\",\"id\":\"p4742\",\"attributes\":{\"y\":{\"type\":\"field\",\"field\":\"Country Name\"},\"height\":{\"type\":\"value\",\"value\":0.3},\"right\":{\"type\":\"field\",\"field\":\"Change in life expectancy\"},\"line_color\":{\"type\":\"value\",\"value\":\"white\"},\"line_alpha\":{\"type\":\"value\",\"value\":0.2},\"fill_color\":{\"type\":\"field\",\"field\":\"Country Name\",\"transform\":{\"id\":\"p4713\"}},\"fill_alpha\":{\"type\":\"value\",\"value\":0.2},\"hatch_alpha\":{\"type\":\"value\",\"value\":0.2}}}}}],\"toolbar\":{\"type\":\"object\",\"name\":\"Toolbar\",\"id\":\"p4723\"},\"left\":[{\"type\":\"object\",\"name\":\"CategoricalAxis\",\"id\":\"p4732\",\"attributes\":{\"ticker\":{\"type\":\"object\",\"name\":\"CategoricalTicker\",\"id\":\"p4733\"},\"formatter\":{\"type\":\"object\",\"name\":\"CategoricalTickFormatter\",\"id\":\"p4734\"},\"major_label_policy\":{\"type\":\"object\",\"name\":\"AllLabels\",\"id\":\"p4735\"}}}],\"below\":[{\"type\":\"object\",\"name\":\"LinearAxis\",\"id\":\"p4727\",\"attributes\":{\"ticker\":{\"type\":\"object\",\"name\":\"BasicTicker\",\"id\":\"p4728\",\"attributes\":{\"mantissas\":[1,2,5]}},\"formatter\":{\"type\":\"object\",\"name\":\"BasicTickFormatter\",\"id\":\"p4729\"},\"axis_label\":\"Increase in life expectancy (year)\",\"major_label_policy\":{\"type\":\"object\",\"name\":\"AllLabels\",\"id\":\"p4730\"}}}],\"center\":[{\"type\":\"object\",\"name\":\"Grid\",\"id\":\"p4731\",\"attributes\":{\"axis\":{\"id\":\"p4727\"},\"grid_line_color\":null}},{\"type\":\"object\",\"name\":\"Grid\",\"id\":\"p4736\",\"attributes\":{\"dimension\":1,\"axis\":{\"id\":\"p4732\"},\"grid_line_color\":null}}]}}]}};\n  const render_items = [{\"docid\":\"29f66149-f5df-4118-a0c0-87d556af3d04\",\"roots\":{\"p4714\":\"dfc9eb04-6eab-45e3-bbc0-b324dbf0b651\"},\"root_ids\":[\"p4714\"]}];\n  root.Bokeh.embed.embed_items_notebook(docs_json, render_items);\n  }\n  if (root.Bokeh !== undefined) {\n    embed_document(root);\n  } else {\n    let attempts = 0;\n    const timer = setInterval(function(root) {\n      if (root.Bokeh !== undefined) {\n        clearInterval(timer);\n        embed_document(root);\n      } else {\n        attempts++;\n        if (attempts > 100) {\n          clearInterval(timer);\n          console.log(\"Bokeh: ERROR: Unable to run BokehJS code because BokehJS library is missing\");\n        }\n      }\n    }, 10, root)\n  }\n})(window);",
      "application/vnd.bokehjs_exec.v0+json": ""
     },
     "metadata": {
      "application/vnd.bokehjs_exec.v0+json": {
       "id": "p4714"
      }
     },
     "output_type": "display_data"
    }
   ],
   "source": [
    "#We will plot change in life expectancy in an horizontal bar chart\n",
    "\n",
    "from bokeh.models import ColumnDataSource\n",
    "from bokeh.plotting import figure, show,output_notebook\n",
    "from bokeh.sampledata.sprint import sprint\n",
    "from bokeh.transform import linear_cmap\n",
    "from bokeh.transform import factor_cmap\n",
    "from bokeh.palettes import Reds, Greens\n",
    "\n",
    "output_notebook()\n",
    "\n",
    "data= pd.concat([final_data2.head(5), final_data2.tail(5)])\n",
    "source = ColumnDataSource(data)\n",
    "#We will display in green countries whose life expectancy growth and in red those countries whose life expectancy decreased or didn't increased much\n",
    "green_palette = Greens[5]  # Choose the number of shades of green \n",
    "red_palette = Reds[5]  # Choose the number of shades of red \n",
    "palette = green_palette[::] + red_palette [::-1] #Creating a palette\n",
    "color_mapper = factor_cmap(field_name='Country Name', palette=palette, factors=data['Country Name'])\n",
    "\n",
    "p = figure(y_range=data['Country Name'], tools=\"\", width=1000, height=400, title=\"Top 5 countries with the highest and lowest increase in life expectancy between 1962 and 2007\")\n",
    "p.hbar(y='Country Name', right='Change in life expectancy', height=0.3, source=source,line_color='white' ,fill_color=color_mapper)\n",
    "\n",
    "#Graph details\n",
    "p.ygrid.grid_line_color = None\n",
    "p.xgrid.grid_line_color= None\n",
    "p.xaxis.axis_label = \"Increase in life expectancy (year)\"\n",
    "p.outline_line_color = None\n",
    "\n",
    "show(p)"
   ]
  },
  {
   "cell_type": "markdown",
   "metadata": {},
   "source": [
    "<h4>Finally we can evaluate the mean life expectancy at birth in each continent </h4>"
   ]
  },
  {
   "cell_type": "code",
   "execution_count": 306,
   "metadata": {},
   "outputs": [
    {
     "name": "stdout",
     "output_type": "stream",
     "text": [
      "      Year Country Name  Life expectancy at birth, total (years) continent\n",
      "0     1962  Afghanistan                                33.219902      Asia\n",
      "1     1967  Afghanistan                                35.389415      Asia\n",
      "2     1972  Afghanistan                                37.610146      Asia\n",
      "3     1977  Afghanistan                                40.110146      Asia\n",
      "4     1982  Afghanistan                                43.230732      Asia\n",
      "...    ...          ...                                      ...       ...\n",
      "2602  1987     Zimbabwe                                61.753805    Africa\n",
      "2603  1992     Zimbabwe                                56.491976    Africa\n",
      "2604  1997     Zimbabwe                                46.065902    Africa\n",
      "2605  2002     Zimbabwe                                40.679146    Africa\n",
      "2606  2007     Zimbabwe                                44.177756    Africa\n",
      "\n",
      "[2360 rows x 4 columns]\n",
      "   continent  Year  Life expectancy at birth, total (years)\n",
      "0     Africa  1962                                42.142104\n",
      "1     Africa  1967                                44.282373\n",
      "2     Africa  1972                                46.614318\n",
      "3     Africa  1977                                49.086720\n",
      "4     Africa  1982                                51.421873\n",
      "5     Africa  1987                                52.882758\n",
      "6     Africa  1992                                53.097106\n",
      "7     Africa  1997                                53.210337\n",
      "8     Africa  2002                                53.857333\n",
      "9     Africa  2007                                56.624577\n",
      "10  Americas  1962                                58.031233\n",
      "11  Americas  1967                                60.100416\n",
      "12  Americas  1972                                62.094966\n",
      "13  Americas  1977                                64.089696\n",
      "14  Americas  1982                                65.936541\n",
      "15  Americas  1987                                67.694529\n",
      "16  Americas  1992                                69.308663\n",
      "17  Americas  1997                                70.854733\n",
      "18  Americas  2002                                72.328729\n",
      "19  Americas  2007                                73.571005\n",
      "20      Asia  1962                                52.598705\n",
      "21      Asia  1967                                55.591176\n",
      "22      Asia  1972                                57.679250\n",
      "23      Asia  1977                                59.518280\n",
      "24      Asia  1982                                62.326615\n",
      "25      Asia  1987                                64.854897\n",
      "26      Asia  1992                                66.644872\n",
      "27      Asia  1997                                68.201913\n",
      "28      Asia  2002                                69.863953\n",
      "29      Asia  2007                                71.302917\n",
      "30    Europe  1962                                68.339822\n",
      "31    Europe  1967                                69.573258\n",
      "32    Europe  1972                                70.508382\n",
      "33    Europe  1977                                71.754983\n",
      "34    Europe  1982                                72.702992\n",
      "35    Europe  1987                                73.558006\n",
      "36    Europe  1992                                74.314411\n",
      "37    Europe  1997                                75.314061\n",
      "38    Europe  2002                                76.620025\n",
      "39    Europe  2007                                77.920579\n",
      "40   Oceania  1962                                71.087073\n",
      "41   Oceania  1967                                71.171220\n",
      "42   Oceania  1972                                71.643415\n",
      "43   Oceania  1977                                72.756341\n",
      "44   Oceania  1982                                74.314634\n",
      "45   Oceania  1987                                75.164878\n",
      "46   Oceania  1992                                76.751220\n",
      "47   Oceania  1997                                77.907317\n",
      "48   Oceania  2002                                79.391463\n",
      "49   Oceania  2007                                80.721951\n"
     ]
    }
   ],
   "source": [
    "print(filtered_life_expectancy)\n",
    "\n",
    "grouped_data_life = filtered_life_expectancy.groupby(['continent', 'Year'])['Life expectancy at birth, total (years)'].mean().reset_index()\n",
    "\n",
    "print(grouped_data_life)"
   ]
  },
  {
   "cell_type": "code",
   "execution_count": 307,
   "metadata": {},
   "outputs": [
    {
     "data": {
      "text/html": [
       "\n",
       "  <div id=\"f01c10a9-db59-4542-bf32-a2449775caa0\" data-root-id=\"p4751\" style=\"display: contents;\"></div>\n"
      ]
     },
     "metadata": {},
     "output_type": "display_data"
    },
    {
     "data": {
      "application/javascript": "(function(root) {\n  function embed_document(root) {\n  const docs_json = {\"8089b950-5207-400a-be51-fcd7bc27dc88\":{\"version\":\"3.3.4\",\"title\":\"Bokeh Application\",\"roots\":[{\"type\":\"object\",\"name\":\"Figure\",\"id\":\"p4751\",\"attributes\":{\"x_range\":{\"type\":\"object\",\"name\":\"DataRange1d\",\"id\":\"p4752\"},\"y_range\":{\"type\":\"object\",\"name\":\"DataRange1d\",\"id\":\"p4753\"},\"x_scale\":{\"type\":\"object\",\"name\":\"LinearScale\",\"id\":\"p4761\"},\"y_scale\":{\"type\":\"object\",\"name\":\"LinearScale\",\"id\":\"p4762\"},\"title\":{\"type\":\"object\",\"name\":\"Title\",\"id\":\"p4754\",\"attributes\":{\"text\":\"Evolution of mean life expectancy by continent from 1962 to 2007\"}},\"outline_line_color\":null,\"renderers\":[{\"type\":\"object\",\"name\":\"GlyphRenderer\",\"id\":\"p4793\",\"attributes\":{\"data_source\":{\"type\":\"object\",\"name\":\"ColumnDataSource\",\"id\":\"p4784\",\"attributes\":{\"selected\":{\"type\":\"object\",\"name\":\"Selection\",\"id\":\"p4785\",\"attributes\":{\"indices\":[],\"line_indices\":[]}},\"selection_policy\":{\"type\":\"object\",\"name\":\"UnionRenderers\",\"id\":\"p4786\"},\"data\":{\"type\":\"map\",\"entries\":[[\"index\",{\"type\":\"ndarray\",\"array\":{\"type\":\"bytes\",\"data\":\"AAAAAAEAAAACAAAAAwAAAAQAAAAFAAAABgAAAAcAAAAIAAAACQAAAA==\"},\"shape\":[10],\"dtype\":\"int32\",\"order\":\"little\"}],[\"continent\",{\"type\":\"ndarray\",\"array\":[\"Africa\",\"Africa\",\"Africa\",\"Africa\",\"Africa\",\"Africa\",\"Africa\",\"Africa\",\"Africa\",\"Africa\"],\"shape\":[10],\"dtype\":\"object\",\"order\":\"little\"}],[\"Year\",{\"type\":\"ndarray\",\"array\":{\"type\":\"bytes\",\"data\":\"qgcAAK8HAAC0BwAAuQcAAL4HAADDBwAAyAcAAM0HAADSBwAA1wcAAA==\"},\"shape\":[10],\"dtype\":\"int32\",\"order\":\"little\"}],[\"Life expectancy at birth, total (years)\",{\"type\":\"ndarray\",\"array\":{\"type\":\"bytes\",\"data\":\"ZwpUeTASRUDfVWfNJCRGQP24d/WhTkdAFgiGphmLSEBWb2Xy/7VJQC3v6zP+cEpAW5Fh+22MSkA8budQ7JpKQM68zhe97UpAtkIlJPJPTEA=\"},\"shape\":[10],\"dtype\":\"float64\",\"order\":\"little\"}]]}}},\"view\":{\"type\":\"object\",\"name\":\"CDSView\",\"id\":\"p4794\",\"attributes\":{\"filter\":{\"type\":\"object\",\"name\":\"AllIndices\",\"id\":\"p4795\"}}},\"glyph\":{\"type\":\"object\",\"name\":\"Line\",\"id\":\"p4790\",\"attributes\":{\"x\":{\"type\":\"field\",\"field\":\"Year\"},\"y\":{\"type\":\"field\",\"field\":\"Life expectancy at birth, total (years)\"},\"line_color\":\"#440154\"}},\"nonselection_glyph\":{\"type\":\"object\",\"name\":\"Line\",\"id\":\"p4791\",\"attributes\":{\"x\":{\"type\":\"field\",\"field\":\"Year\"},\"y\":{\"type\":\"field\",\"field\":\"Life expectancy at birth, total (years)\"},\"line_color\":\"#440154\",\"line_alpha\":0.1}},\"muted_glyph\":{\"type\":\"object\",\"name\":\"Line\",\"id\":\"p4792\",\"attributes\":{\"x\":{\"type\":\"field\",\"field\":\"Year\"},\"y\":{\"type\":\"field\",\"field\":\"Life expectancy at birth, total (years)\"},\"line_color\":\"#440154\",\"line_alpha\":0.2}}}},{\"type\":\"object\",\"name\":\"GlyphRenderer\",\"id\":\"p4807\",\"attributes\":{\"data_source\":{\"type\":\"object\",\"name\":\"ColumnDataSource\",\"id\":\"p4798\",\"attributes\":{\"selected\":{\"type\":\"object\",\"name\":\"Selection\",\"id\":\"p4799\",\"attributes\":{\"indices\":[],\"line_indices\":[]}},\"selection_policy\":{\"type\":\"object\",\"name\":\"UnionRenderers\",\"id\":\"p4800\"},\"data\":{\"type\":\"map\",\"entries\":[[\"index\",{\"type\":\"ndarray\",\"array\":{\"type\":\"bytes\",\"data\":\"AAAAAAEAAAACAAAAAwAAAAQAAAAFAAAABgAAAAcAAAAIAAAACQAAAA==\"},\"shape\":[10],\"dtype\":\"int32\",\"order\":\"little\"}],[\"continent\",{\"type\":\"ndarray\",\"array\":[\"Africa\",\"Africa\",\"Africa\",\"Africa\",\"Africa\",\"Africa\",\"Africa\",\"Africa\",\"Africa\",\"Africa\"],\"shape\":[10],\"dtype\":\"object\",\"order\":\"little\"}],[\"Year\",{\"type\":\"ndarray\",\"array\":{\"type\":\"bytes\",\"data\":\"qgcAAK8HAAC0BwAAuQcAAL4HAADDBwAAyAcAAM0HAADSBwAA1wcAAA==\"},\"shape\":[10],\"dtype\":\"int32\",\"order\":\"little\"}],[\"Life expectancy at birth, total (years)\",{\"type\":\"ndarray\",\"array\":{\"type\":\"bytes\",\"data\":\"ZwpUeTASRUDfVWfNJCRGQP24d/WhTkdAFgiGphmLSEBWb2Xy/7VJQC3v6zP+cEpAW5Fh+22MSkA8budQ7JpKQM68zhe97UpAtkIlJPJPTEA=\"},\"shape\":[10],\"dtype\":\"float64\",\"order\":\"little\"}]]}}},\"view\":{\"type\":\"object\",\"name\":\"CDSView\",\"id\":\"p4808\",\"attributes\":{\"filter\":{\"type\":\"object\",\"name\":\"AllIndices\",\"id\":\"p4809\"}}},\"glyph\":{\"type\":\"object\",\"name\":\"Circle\",\"id\":\"p4804\",\"attributes\":{\"x\":{\"type\":\"field\",\"field\":\"Year\"},\"y\":{\"type\":\"field\",\"field\":\"Life expectancy at birth, total (years)\"},\"size\":{\"type\":\"value\",\"value\":2},\"line_color\":{\"type\":\"value\",\"value\":\"#440154\"},\"fill_color\":{\"type\":\"value\",\"value\":\"#440154\"},\"hatch_color\":{\"type\":\"value\",\"value\":\"#440154\"}}},\"nonselection_glyph\":{\"type\":\"object\",\"name\":\"Circle\",\"id\":\"p4805\",\"attributes\":{\"x\":{\"type\":\"field\",\"field\":\"Year\"},\"y\":{\"type\":\"field\",\"field\":\"Life expectancy at birth, total (years)\"},\"size\":{\"type\":\"value\",\"value\":2},\"line_color\":{\"type\":\"value\",\"value\":\"#440154\"},\"line_alpha\":{\"type\":\"value\",\"value\":0.1},\"fill_color\":{\"type\":\"value\",\"value\":\"#440154\"},\"fill_alpha\":{\"type\":\"value\",\"value\":0.1},\"hatch_color\":{\"type\":\"value\",\"value\":\"#440154\"},\"hatch_alpha\":{\"type\":\"value\",\"value\":0.1}}},\"muted_glyph\":{\"type\":\"object\",\"name\":\"Circle\",\"id\":\"p4806\",\"attributes\":{\"x\":{\"type\":\"field\",\"field\":\"Year\"},\"y\":{\"type\":\"field\",\"field\":\"Life expectancy at birth, total (years)\"},\"size\":{\"type\":\"value\",\"value\":2},\"line_color\":{\"type\":\"value\",\"value\":\"#440154\"},\"line_alpha\":{\"type\":\"value\",\"value\":0.2},\"fill_color\":{\"type\":\"value\",\"value\":\"#440154\"},\"fill_alpha\":{\"type\":\"value\",\"value\":0.2},\"hatch_color\":{\"type\":\"value\",\"value\":\"#440154\"},\"hatch_alpha\":{\"type\":\"value\",\"value\":0.2}}}}},{\"type\":\"object\",\"name\":\"GlyphRenderer\",\"id\":\"p4819\",\"attributes\":{\"data_source\":{\"type\":\"object\",\"name\":\"ColumnDataSource\",\"id\":\"p4810\",\"attributes\":{\"selected\":{\"type\":\"object\",\"name\":\"Selection\",\"id\":\"p4811\",\"attributes\":{\"indices\":[],\"line_indices\":[]}},\"selection_policy\":{\"type\":\"object\",\"name\":\"UnionRenderers\",\"id\":\"p4812\"},\"data\":{\"type\":\"map\",\"entries\":[[\"index\",{\"type\":\"ndarray\",\"array\":{\"type\":\"bytes\",\"data\":\"CgAAAAsAAAAMAAAADQAAAA4AAAAPAAAAEAAAABEAAAASAAAAEwAAAA==\"},\"shape\":[10],\"dtype\":\"int32\",\"order\":\"little\"}],[\"continent\",{\"type\":\"ndarray\",\"array\":[\"Americas\",\"Americas\",\"Americas\",\"Americas\",\"Americas\",\"Americas\",\"Americas\",\"Americas\",\"Americas\",\"Americas\"],\"shape\":[10],\"dtype\":\"object\",\"order\":\"little\"}],[\"Year\",{\"type\":\"ndarray\",\"array\":{\"type\":\"bytes\",\"data\":\"qgcAAK8HAAC0BwAAuQcAAL4HAADDBwAAyAcAAM0HAADSBwAA1wcAAA==\"},\"shape\":[10],\"dtype\":\"int32\",\"order\":\"little\"}],[\"Life expectancy at birth, total (years)\",{\"type\":\"ndarray\",\"array\":{\"type\":\"bytes\",\"data\":\"oCYTb/8DTUAJP4dr2gxOQLFLb9wnDE9A9Q3flL0FUEA3ODJI8HtQQJaavStz7FBAbd3IIMFTUUAhp+Hws7ZRQExr7eMJFVJA/YDlWItkUkA=\"},\"shape\":[10],\"dtype\":\"float64\",\"order\":\"little\"}]]}}},\"view\":{\"type\":\"object\",\"name\":\"CDSView\",\"id\":\"p4820\",\"attributes\":{\"filter\":{\"type\":\"object\",\"name\":\"AllIndices\",\"id\":\"p4821\"}}},\"glyph\":{\"type\":\"object\",\"name\":\"Line\",\"id\":\"p4816\",\"attributes\":{\"x\":{\"type\":\"field\",\"field\":\"Year\"},\"y\":{\"type\":\"field\",\"field\":\"Life expectancy at birth, total (years)\"},\"line_color\":\"#3B518A\"}},\"nonselection_glyph\":{\"type\":\"object\",\"name\":\"Line\",\"id\":\"p4817\",\"attributes\":{\"x\":{\"type\":\"field\",\"field\":\"Year\"},\"y\":{\"type\":\"field\",\"field\":\"Life expectancy at birth, total (years)\"},\"line_color\":\"#3B518A\",\"line_alpha\":0.1}},\"muted_glyph\":{\"type\":\"object\",\"name\":\"Line\",\"id\":\"p4818\",\"attributes\":{\"x\":{\"type\":\"field\",\"field\":\"Year\"},\"y\":{\"type\":\"field\",\"field\":\"Life expectancy at birth, total (years)\"},\"line_color\":\"#3B518A\",\"line_alpha\":0.2}}}},{\"type\":\"object\",\"name\":\"GlyphRenderer\",\"id\":\"p4832\",\"attributes\":{\"data_source\":{\"type\":\"object\",\"name\":\"ColumnDataSource\",\"id\":\"p4823\",\"attributes\":{\"selected\":{\"type\":\"object\",\"name\":\"Selection\",\"id\":\"p4824\",\"attributes\":{\"indices\":[],\"line_indices\":[]}},\"selection_policy\":{\"type\":\"object\",\"name\":\"UnionRenderers\",\"id\":\"p4825\"},\"data\":{\"type\":\"map\",\"entries\":[[\"index\",{\"type\":\"ndarray\",\"array\":{\"type\":\"bytes\",\"data\":\"CgAAAAsAAAAMAAAADQAAAA4AAAAPAAAAEAAAABEAAAASAAAAEwAAAA==\"},\"shape\":[10],\"dtype\":\"int32\",\"order\":\"little\"}],[\"continent\",{\"type\":\"ndarray\",\"array\":[\"Americas\",\"Americas\",\"Americas\",\"Americas\",\"Americas\",\"Americas\",\"Americas\",\"Americas\",\"Americas\",\"Americas\"],\"shape\":[10],\"dtype\":\"object\",\"order\":\"little\"}],[\"Year\",{\"type\":\"ndarray\",\"array\":{\"type\":\"bytes\",\"data\":\"qgcAAK8HAAC0BwAAuQcAAL4HAADDBwAAyAcAAM0HAADSBwAA1wcAAA==\"},\"shape\":[10],\"dtype\":\"int32\",\"order\":\"little\"}],[\"Life expectancy at birth, total (years)\",{\"type\":\"ndarray\",\"array\":{\"type\":\"bytes\",\"data\":\"oCYTb/8DTUAJP4dr2gxOQLFLb9wnDE9A9Q3flL0FUEA3ODJI8HtQQJaavStz7FBAbd3IIMFTUUAhp+Hws7ZRQExr7eMJFVJA/YDlWItkUkA=\"},\"shape\":[10],\"dtype\":\"float64\",\"order\":\"little\"}]]}}},\"view\":{\"type\":\"object\",\"name\":\"CDSView\",\"id\":\"p4833\",\"attributes\":{\"filter\":{\"type\":\"object\",\"name\":\"AllIndices\",\"id\":\"p4834\"}}},\"glyph\":{\"type\":\"object\",\"name\":\"Circle\",\"id\":\"p4829\",\"attributes\":{\"x\":{\"type\":\"field\",\"field\":\"Year\"},\"y\":{\"type\":\"field\",\"field\":\"Life expectancy at birth, total (years)\"},\"size\":{\"type\":\"value\",\"value\":2},\"line_color\":{\"type\":\"value\",\"value\":\"#3B518A\"},\"fill_color\":{\"type\":\"value\",\"value\":\"#3B518A\"},\"hatch_color\":{\"type\":\"value\",\"value\":\"#3B518A\"}}},\"nonselection_glyph\":{\"type\":\"object\",\"name\":\"Circle\",\"id\":\"p4830\",\"attributes\":{\"x\":{\"type\":\"field\",\"field\":\"Year\"},\"y\":{\"type\":\"field\",\"field\":\"Life expectancy at birth, total (years)\"},\"size\":{\"type\":\"value\",\"value\":2},\"line_color\":{\"type\":\"value\",\"value\":\"#3B518A\"},\"line_alpha\":{\"type\":\"value\",\"value\":0.1},\"fill_color\":{\"type\":\"value\",\"value\":\"#3B518A\"},\"fill_alpha\":{\"type\":\"value\",\"value\":0.1},\"hatch_color\":{\"type\":\"value\",\"value\":\"#3B518A\"},\"hatch_alpha\":{\"type\":\"value\",\"value\":0.1}}},\"muted_glyph\":{\"type\":\"object\",\"name\":\"Circle\",\"id\":\"p4831\",\"attributes\":{\"x\":{\"type\":\"field\",\"field\":\"Year\"},\"y\":{\"type\":\"field\",\"field\":\"Life expectancy at birth, total (years)\"},\"size\":{\"type\":\"value\",\"value\":2},\"line_color\":{\"type\":\"value\",\"value\":\"#3B518A\"},\"line_alpha\":{\"type\":\"value\",\"value\":0.2},\"fill_color\":{\"type\":\"value\",\"value\":\"#3B518A\"},\"fill_alpha\":{\"type\":\"value\",\"value\":0.2},\"hatch_color\":{\"type\":\"value\",\"value\":\"#3B518A\"},\"hatch_alpha\":{\"type\":\"value\",\"value\":0.2}}}}},{\"type\":\"object\",\"name\":\"GlyphRenderer\",\"id\":\"p4844\",\"attributes\":{\"data_source\":{\"type\":\"object\",\"name\":\"ColumnDataSource\",\"id\":\"p4835\",\"attributes\":{\"selected\":{\"type\":\"object\",\"name\":\"Selection\",\"id\":\"p4836\",\"attributes\":{\"indices\":[],\"line_indices\":[]}},\"selection_policy\":{\"type\":\"object\",\"name\":\"UnionRenderers\",\"id\":\"p4837\"},\"data\":{\"type\":\"map\",\"entries\":[[\"index\",{\"type\":\"ndarray\",\"array\":{\"type\":\"bytes\",\"data\":\"FAAAABUAAAAWAAAAFwAAABgAAAAZAAAAGgAAABsAAAAcAAAAHQAAAA==\"},\"shape\":[10],\"dtype\":\"int32\",\"order\":\"little\"}],[\"continent\",{\"type\":\"ndarray\",\"array\":[\"Asia\",\"Asia\",\"Asia\",\"Asia\",\"Asia\",\"Asia\",\"Asia\",\"Asia\",\"Asia\",\"Asia\"],\"shape\":[10],\"dtype\":\"object\",\"order\":\"little\"}],[\"Year\",{\"type\":\"ndarray\",\"array\":{\"type\":\"bytes\",\"data\":\"qgcAAK8HAAC0BwAAuQcAAL4HAADDBwAAyAcAAM0HAADSBwAA1wcAAA==\"},\"shape\":[10],\"dtype\":\"int32\",\"order\":\"little\"}],[\"Life expectancy at birth, total (years)\",{\"type\":\"ndarray\",\"array\":{\"type\":\"bytes\",\"data\":\"SCWfYKJMSkAlDHOkq8tLQMgf8Kfx1kxAEhjB/1bCTUD3CSKCzilPQIfnKqC2NlBA3gcHlkWpUEAKOTgl7AxRQHJkPQJLd1FA7KhK/mLTUUA=\"},\"shape\":[10],\"dtype\":\"float64\",\"order\":\"little\"}]]}}},\"view\":{\"type\":\"object\",\"name\":\"CDSView\",\"id\":\"p4845\",\"attributes\":{\"filter\":{\"type\":\"object\",\"name\":\"AllIndices\",\"id\":\"p4846\"}}},\"glyph\":{\"type\":\"object\",\"name\":\"Line\",\"id\":\"p4841\",\"attributes\":{\"x\":{\"type\":\"field\",\"field\":\"Year\"},\"y\":{\"type\":\"field\",\"field\":\"Life expectancy at birth, total (years)\"},\"line_color\":\"#208F8C\"}},\"nonselection_glyph\":{\"type\":\"object\",\"name\":\"Line\",\"id\":\"p4842\",\"attributes\":{\"x\":{\"type\":\"field\",\"field\":\"Year\"},\"y\":{\"type\":\"field\",\"field\":\"Life expectancy at birth, total (years)\"},\"line_color\":\"#208F8C\",\"line_alpha\":0.1}},\"muted_glyph\":{\"type\":\"object\",\"name\":\"Line\",\"id\":\"p4843\",\"attributes\":{\"x\":{\"type\":\"field\",\"field\":\"Year\"},\"y\":{\"type\":\"field\",\"field\":\"Life expectancy at birth, total (years)\"},\"line_color\":\"#208F8C\",\"line_alpha\":0.2}}}},{\"type\":\"object\",\"name\":\"GlyphRenderer\",\"id\":\"p4857\",\"attributes\":{\"data_source\":{\"type\":\"object\",\"name\":\"ColumnDataSource\",\"id\":\"p4848\",\"attributes\":{\"selected\":{\"type\":\"object\",\"name\":\"Selection\",\"id\":\"p4849\",\"attributes\":{\"indices\":[],\"line_indices\":[]}},\"selection_policy\":{\"type\":\"object\",\"name\":\"UnionRenderers\",\"id\":\"p4850\"},\"data\":{\"type\":\"map\",\"entries\":[[\"index\",{\"type\":\"ndarray\",\"array\":{\"type\":\"bytes\",\"data\":\"FAAAABUAAAAWAAAAFwAAABgAAAAZAAAAGgAAABsAAAAcAAAAHQAAAA==\"},\"shape\":[10],\"dtype\":\"int32\",\"order\":\"little\"}],[\"continent\",{\"type\":\"ndarray\",\"array\":[\"Asia\",\"Asia\",\"Asia\",\"Asia\",\"Asia\",\"Asia\",\"Asia\",\"Asia\",\"Asia\",\"Asia\"],\"shape\":[10],\"dtype\":\"object\",\"order\":\"little\"}],[\"Year\",{\"type\":\"ndarray\",\"array\":{\"type\":\"bytes\",\"data\":\"qgcAAK8HAAC0BwAAuQcAAL4HAADDBwAAyAcAAM0HAADSBwAA1wcAAA==\"},\"shape\":[10],\"dtype\":\"int32\",\"order\":\"little\"}],[\"Life expectancy at birth, total (years)\",{\"type\":\"ndarray\",\"array\":{\"type\":\"bytes\",\"data\":\"SCWfYKJMSkAlDHOkq8tLQMgf8Kfx1kxAEhjB/1bCTUD3CSKCzilPQIfnKqC2NlBA3gcHlkWpUEAKOTgl7AxRQHJkPQJLd1FA7KhK/mLTUUA=\"},\"shape\":[10],\"dtype\":\"float64\",\"order\":\"little\"}]]}}},\"view\":{\"type\":\"object\",\"name\":\"CDSView\",\"id\":\"p4858\",\"attributes\":{\"filter\":{\"type\":\"object\",\"name\":\"AllIndices\",\"id\":\"p4859\"}}},\"glyph\":{\"type\":\"object\",\"name\":\"Circle\",\"id\":\"p4854\",\"attributes\":{\"x\":{\"type\":\"field\",\"field\":\"Year\"},\"y\":{\"type\":\"field\",\"field\":\"Life expectancy at birth, total (years)\"},\"size\":{\"type\":\"value\",\"value\":2},\"line_color\":{\"type\":\"value\",\"value\":\"#208F8C\"},\"fill_color\":{\"type\":\"value\",\"value\":\"#208F8C\"},\"hatch_color\":{\"type\":\"value\",\"value\":\"#208F8C\"}}},\"nonselection_glyph\":{\"type\":\"object\",\"name\":\"Circle\",\"id\":\"p4855\",\"attributes\":{\"x\":{\"type\":\"field\",\"field\":\"Year\"},\"y\":{\"type\":\"field\",\"field\":\"Life expectancy at birth, total (years)\"},\"size\":{\"type\":\"value\",\"value\":2},\"line_color\":{\"type\":\"value\",\"value\":\"#208F8C\"},\"line_alpha\":{\"type\":\"value\",\"value\":0.1},\"fill_color\":{\"type\":\"value\",\"value\":\"#208F8C\"},\"fill_alpha\":{\"type\":\"value\",\"value\":0.1},\"hatch_color\":{\"type\":\"value\",\"value\":\"#208F8C\"},\"hatch_alpha\":{\"type\":\"value\",\"value\":0.1}}},\"muted_glyph\":{\"type\":\"object\",\"name\":\"Circle\",\"id\":\"p4856\",\"attributes\":{\"x\":{\"type\":\"field\",\"field\":\"Year\"},\"y\":{\"type\":\"field\",\"field\":\"Life expectancy at birth, total (years)\"},\"size\":{\"type\":\"value\",\"value\":2},\"line_color\":{\"type\":\"value\",\"value\":\"#208F8C\"},\"line_alpha\":{\"type\":\"value\",\"value\":0.2},\"fill_color\":{\"type\":\"value\",\"value\":\"#208F8C\"},\"fill_alpha\":{\"type\":\"value\",\"value\":0.2},\"hatch_color\":{\"type\":\"value\",\"value\":\"#208F8C\"},\"hatch_alpha\":{\"type\":\"value\",\"value\":0.2}}}}},{\"type\":\"object\",\"name\":\"GlyphRenderer\",\"id\":\"p4869\",\"attributes\":{\"data_source\":{\"type\":\"object\",\"name\":\"ColumnDataSource\",\"id\":\"p4860\",\"attributes\":{\"selected\":{\"type\":\"object\",\"name\":\"Selection\",\"id\":\"p4861\",\"attributes\":{\"indices\":[],\"line_indices\":[]}},\"selection_policy\":{\"type\":\"object\",\"name\":\"UnionRenderers\",\"id\":\"p4862\"},\"data\":{\"type\":\"map\",\"entries\":[[\"index\",{\"type\":\"ndarray\",\"array\":{\"type\":\"bytes\",\"data\":\"HgAAAB8AAAAgAAAAIQAAACIAAAAjAAAAJAAAACUAAAAmAAAAJwAAAA==\"},\"shape\":[10],\"dtype\":\"int32\",\"order\":\"little\"}],[\"continent\",{\"type\":\"ndarray\",\"array\":[\"Europe\",\"Europe\",\"Europe\",\"Europe\",\"Europe\",\"Europe\",\"Europe\",\"Europe\",\"Europe\",\"Europe\"],\"shape\":[10],\"dtype\":\"object\",\"order\":\"little\"}],[\"Year\",{\"type\":\"ndarray\",\"array\":{\"type\":\"bytes\",\"data\":\"qgcAAK8HAAC0BwAAuQcAAL4HAADDBwAAyAcAAM0HAADSBwAA1wcAAA==\"},\"shape\":[10],\"dtype\":\"int32\",\"order\":\"little\"}],[\"Life expectancy at birth, total (years)\",{\"type\":\"ndarray\",\"array\":{\"type\":\"bytes\",\"data\":\"vNCCo78VUUDTeilDsGRRQE0o9VOJoFFAT9z3pFHwUUD0o2/Q/SxSQIE6U162Y1JAn4FyUB+UUkCdRnGRGdRSQF/FTn6uJ1NA824wxup6U0A=\"},\"shape\":[10],\"dtype\":\"float64\",\"order\":\"little\"}]]}}},\"view\":{\"type\":\"object\",\"name\":\"CDSView\",\"id\":\"p4870\",\"attributes\":{\"filter\":{\"type\":\"object\",\"name\":\"AllIndices\",\"id\":\"p4871\"}}},\"glyph\":{\"type\":\"object\",\"name\":\"Line\",\"id\":\"p4866\",\"attributes\":{\"x\":{\"type\":\"field\",\"field\":\"Year\"},\"y\":{\"type\":\"field\",\"field\":\"Life expectancy at birth, total (years)\"},\"line_color\":\"#5BC862\"}},\"nonselection_glyph\":{\"type\":\"object\",\"name\":\"Line\",\"id\":\"p4867\",\"attributes\":{\"x\":{\"type\":\"field\",\"field\":\"Year\"},\"y\":{\"type\":\"field\",\"field\":\"Life expectancy at birth, total (years)\"},\"line_color\":\"#5BC862\",\"line_alpha\":0.1}},\"muted_glyph\":{\"type\":\"object\",\"name\":\"Line\",\"id\":\"p4868\",\"attributes\":{\"x\":{\"type\":\"field\",\"field\":\"Year\"},\"y\":{\"type\":\"field\",\"field\":\"Life expectancy at birth, total (years)\"},\"line_color\":\"#5BC862\",\"line_alpha\":0.2}}}},{\"type\":\"object\",\"name\":\"GlyphRenderer\",\"id\":\"p4882\",\"attributes\":{\"data_source\":{\"type\":\"object\",\"name\":\"ColumnDataSource\",\"id\":\"p4873\",\"attributes\":{\"selected\":{\"type\":\"object\",\"name\":\"Selection\",\"id\":\"p4874\",\"attributes\":{\"indices\":[],\"line_indices\":[]}},\"selection_policy\":{\"type\":\"object\",\"name\":\"UnionRenderers\",\"id\":\"p4875\"},\"data\":{\"type\":\"map\",\"entries\":[[\"index\",{\"type\":\"ndarray\",\"array\":{\"type\":\"bytes\",\"data\":\"HgAAAB8AAAAgAAAAIQAAACIAAAAjAAAAJAAAACUAAAAmAAAAJwAAAA==\"},\"shape\":[10],\"dtype\":\"int32\",\"order\":\"little\"}],[\"continent\",{\"type\":\"ndarray\",\"array\":[\"Europe\",\"Europe\",\"Europe\",\"Europe\",\"Europe\",\"Europe\",\"Europe\",\"Europe\",\"Europe\",\"Europe\"],\"shape\":[10],\"dtype\":\"object\",\"order\":\"little\"}],[\"Year\",{\"type\":\"ndarray\",\"array\":{\"type\":\"bytes\",\"data\":\"qgcAAK8HAAC0BwAAuQcAAL4HAADDBwAAyAcAAM0HAADSBwAA1wcAAA==\"},\"shape\":[10],\"dtype\":\"int32\",\"order\":\"little\"}],[\"Life expectancy at birth, total (years)\",{\"type\":\"ndarray\",\"array\":{\"type\":\"bytes\",\"data\":\"vNCCo78VUUDTeilDsGRRQE0o9VOJoFFAT9z3pFHwUUD0o2/Q/SxSQIE6U162Y1JAn4FyUB+UUkCdRnGRGdRSQF/FTn6uJ1NA824wxup6U0A=\"},\"shape\":[10],\"dtype\":\"float64\",\"order\":\"little\"}]]}}},\"view\":{\"type\":\"object\",\"name\":\"CDSView\",\"id\":\"p4883\",\"attributes\":{\"filter\":{\"type\":\"object\",\"name\":\"AllIndices\",\"id\":\"p4884\"}}},\"glyph\":{\"type\":\"object\",\"name\":\"Circle\",\"id\":\"p4879\",\"attributes\":{\"x\":{\"type\":\"field\",\"field\":\"Year\"},\"y\":{\"type\":\"field\",\"field\":\"Life expectancy at birth, total (years)\"},\"size\":{\"type\":\"value\",\"value\":2},\"line_color\":{\"type\":\"value\",\"value\":\"#5BC862\"},\"fill_color\":{\"type\":\"value\",\"value\":\"#5BC862\"},\"hatch_color\":{\"type\":\"value\",\"value\":\"#5BC862\"}}},\"nonselection_glyph\":{\"type\":\"object\",\"name\":\"Circle\",\"id\":\"p4880\",\"attributes\":{\"x\":{\"type\":\"field\",\"field\":\"Year\"},\"y\":{\"type\":\"field\",\"field\":\"Life expectancy at birth, total (years)\"},\"size\":{\"type\":\"value\",\"value\":2},\"line_color\":{\"type\":\"value\",\"value\":\"#5BC862\"},\"line_alpha\":{\"type\":\"value\",\"value\":0.1},\"fill_color\":{\"type\":\"value\",\"value\":\"#5BC862\"},\"fill_alpha\":{\"type\":\"value\",\"value\":0.1},\"hatch_color\":{\"type\":\"value\",\"value\":\"#5BC862\"},\"hatch_alpha\":{\"type\":\"value\",\"value\":0.1}}},\"muted_glyph\":{\"type\":\"object\",\"name\":\"Circle\",\"id\":\"p4881\",\"attributes\":{\"x\":{\"type\":\"field\",\"field\":\"Year\"},\"y\":{\"type\":\"field\",\"field\":\"Life expectancy at birth, total (years)\"},\"size\":{\"type\":\"value\",\"value\":2},\"line_color\":{\"type\":\"value\",\"value\":\"#5BC862\"},\"line_alpha\":{\"type\":\"value\",\"value\":0.2},\"fill_color\":{\"type\":\"value\",\"value\":\"#5BC862\"},\"fill_alpha\":{\"type\":\"value\",\"value\":0.2},\"hatch_color\":{\"type\":\"value\",\"value\":\"#5BC862\"},\"hatch_alpha\":{\"type\":\"value\",\"value\":0.2}}}}},{\"type\":\"object\",\"name\":\"GlyphRenderer\",\"id\":\"p4894\",\"attributes\":{\"data_source\":{\"type\":\"object\",\"name\":\"ColumnDataSource\",\"id\":\"p4885\",\"attributes\":{\"selected\":{\"type\":\"object\",\"name\":\"Selection\",\"id\":\"p4886\",\"attributes\":{\"indices\":[],\"line_indices\":[]}},\"selection_policy\":{\"type\":\"object\",\"name\":\"UnionRenderers\",\"id\":\"p4887\"},\"data\":{\"type\":\"map\",\"entries\":[[\"index\",{\"type\":\"ndarray\",\"array\":{\"type\":\"bytes\",\"data\":\"KAAAACkAAAAqAAAAKwAAACwAAAAtAAAALgAAAC8AAAAwAAAAMQAAAA==\"},\"shape\":[10],\"dtype\":\"int32\",\"order\":\"little\"}],[\"continent\",{\"type\":\"ndarray\",\"array\":[\"Oceania\",\"Oceania\",\"Oceania\",\"Oceania\",\"Oceania\",\"Oceania\",\"Oceania\",\"Oceania\",\"Oceania\",\"Oceania\"],\"shape\":[10],\"dtype\":\"object\",\"order\":\"little\"}],[\"Year\",{\"type\":\"ndarray\",\"array\":{\"type\":\"bytes\",\"data\":\"qgcAAK8HAAC0BwAAuQcAAL4HAADDBwAAyAcAAM0HAADSBwAA1wcAAA==\"},\"shape\":[10],\"dtype\":\"int32\",\"order\":\"little\"}],[\"Life expectancy at birth, total (years)\",{\"type\":\"ndarray\",\"array\":{\"type\":\"bytes\",\"data\":\"vS5Zm5LFUUCCVa9C9cpRQEvckrQt6VFAW3oG5mcwUkDNMUL3IpRSQCjbqFyNylJACEEB+xMwU0DGH6F7EXpTQCTgkLwN2VNA1EPjcjQuVEA=\"},\"shape\":[10],\"dtype\":\"float64\",\"order\":\"little\"}]]}}},\"view\":{\"type\":\"object\",\"name\":\"CDSView\",\"id\":\"p4895\",\"attributes\":{\"filter\":{\"type\":\"object\",\"name\":\"AllIndices\",\"id\":\"p4896\"}}},\"glyph\":{\"type\":\"object\",\"name\":\"Line\",\"id\":\"p4891\",\"attributes\":{\"x\":{\"type\":\"field\",\"field\":\"Year\"},\"y\":{\"type\":\"field\",\"field\":\"Life expectancy at birth, total (years)\"},\"line_color\":\"#FDE724\"}},\"nonselection_glyph\":{\"type\":\"object\",\"name\":\"Line\",\"id\":\"p4892\",\"attributes\":{\"x\":{\"type\":\"field\",\"field\":\"Year\"},\"y\":{\"type\":\"field\",\"field\":\"Life expectancy at birth, total (years)\"},\"line_color\":\"#FDE724\",\"line_alpha\":0.1}},\"muted_glyph\":{\"type\":\"object\",\"name\":\"Line\",\"id\":\"p4893\",\"attributes\":{\"x\":{\"type\":\"field\",\"field\":\"Year\"},\"y\":{\"type\":\"field\",\"field\":\"Life expectancy at birth, total (years)\"},\"line_color\":\"#FDE724\",\"line_alpha\":0.2}}}},{\"type\":\"object\",\"name\":\"GlyphRenderer\",\"id\":\"p4907\",\"attributes\":{\"data_source\":{\"type\":\"object\",\"name\":\"ColumnDataSource\",\"id\":\"p4898\",\"attributes\":{\"selected\":{\"type\":\"object\",\"name\":\"Selection\",\"id\":\"p4899\",\"attributes\":{\"indices\":[],\"line_indices\":[]}},\"selection_policy\":{\"type\":\"object\",\"name\":\"UnionRenderers\",\"id\":\"p4900\"},\"data\":{\"type\":\"map\",\"entries\":[[\"index\",{\"type\":\"ndarray\",\"array\":{\"type\":\"bytes\",\"data\":\"KAAAACkAAAAqAAAAKwAAACwAAAAtAAAALgAAAC8AAAAwAAAAMQAAAA==\"},\"shape\":[10],\"dtype\":\"int32\",\"order\":\"little\"}],[\"continent\",{\"type\":\"ndarray\",\"array\":[\"Oceania\",\"Oceania\",\"Oceania\",\"Oceania\",\"Oceania\",\"Oceania\",\"Oceania\",\"Oceania\",\"Oceania\",\"Oceania\"],\"shape\":[10],\"dtype\":\"object\",\"order\":\"little\"}],[\"Year\",{\"type\":\"ndarray\",\"array\":{\"type\":\"bytes\",\"data\":\"qgcAAK8HAAC0BwAAuQcAAL4HAADDBwAAyAcAAM0HAADSBwAA1wcAAA==\"},\"shape\":[10],\"dtype\":\"int32\",\"order\":\"little\"}],[\"Life expectancy at birth, total (years)\",{\"type\":\"ndarray\",\"array\":{\"type\":\"bytes\",\"data\":\"vS5Zm5LFUUCCVa9C9cpRQEvckrQt6VFAW3oG5mcwUkDNMUL3IpRSQCjbqFyNylJACEEB+xMwU0DGH6F7EXpTQCTgkLwN2VNA1EPjcjQuVEA=\"},\"shape\":[10],\"dtype\":\"float64\",\"order\":\"little\"}]]}}},\"view\":{\"type\":\"object\",\"name\":\"CDSView\",\"id\":\"p4908\",\"attributes\":{\"filter\":{\"type\":\"object\",\"name\":\"AllIndices\",\"id\":\"p4909\"}}},\"glyph\":{\"type\":\"object\",\"name\":\"Circle\",\"id\":\"p4904\",\"attributes\":{\"x\":{\"type\":\"field\",\"field\":\"Year\"},\"y\":{\"type\":\"field\",\"field\":\"Life expectancy at birth, total (years)\"},\"size\":{\"type\":\"value\",\"value\":2},\"line_color\":{\"type\":\"value\",\"value\":\"#FDE724\"},\"fill_color\":{\"type\":\"value\",\"value\":\"#FDE724\"},\"hatch_color\":{\"type\":\"value\",\"value\":\"#FDE724\"}}},\"nonselection_glyph\":{\"type\":\"object\",\"name\":\"Circle\",\"id\":\"p4905\",\"attributes\":{\"x\":{\"type\":\"field\",\"field\":\"Year\"},\"y\":{\"type\":\"field\",\"field\":\"Life expectancy at birth, total (years)\"},\"size\":{\"type\":\"value\",\"value\":2},\"line_color\":{\"type\":\"value\",\"value\":\"#FDE724\"},\"line_alpha\":{\"type\":\"value\",\"value\":0.1},\"fill_color\":{\"type\":\"value\",\"value\":\"#FDE724\"},\"fill_alpha\":{\"type\":\"value\",\"value\":0.1},\"hatch_color\":{\"type\":\"value\",\"value\":\"#FDE724\"},\"hatch_alpha\":{\"type\":\"value\",\"value\":0.1}}},\"muted_glyph\":{\"type\":\"object\",\"name\":\"Circle\",\"id\":\"p4906\",\"attributes\":{\"x\":{\"type\":\"field\",\"field\":\"Year\"},\"y\":{\"type\":\"field\",\"field\":\"Life expectancy at birth, total (years)\"},\"size\":{\"type\":\"value\",\"value\":2},\"line_color\":{\"type\":\"value\",\"value\":\"#FDE724\"},\"line_alpha\":{\"type\":\"value\",\"value\":0.2},\"fill_color\":{\"type\":\"value\",\"value\":\"#FDE724\"},\"fill_alpha\":{\"type\":\"value\",\"value\":0.2},\"hatch_color\":{\"type\":\"value\",\"value\":\"#FDE724\"},\"hatch_alpha\":{\"type\":\"value\",\"value\":0.2}}}}}],\"toolbar\":{\"type\":\"object\",\"name\":\"Toolbar\",\"id\":\"p4760\",\"attributes\":{\"tools\":[{\"type\":\"object\",\"name\":\"PanTool\",\"id\":\"p4773\"},{\"type\":\"object\",\"name\":\"WheelZoomTool\",\"id\":\"p4774\",\"attributes\":{\"renderers\":\"auto\"}},{\"type\":\"object\",\"name\":\"BoxZoomTool\",\"id\":\"p4775\",\"attributes\":{\"overlay\":{\"type\":\"object\",\"name\":\"BoxAnnotation\",\"id\":\"p4776\",\"attributes\":{\"syncable\":false,\"level\":\"overlay\",\"visible\":false,\"left\":{\"type\":\"number\",\"value\":\"nan\"},\"right\":{\"type\":\"number\",\"value\":\"nan\"},\"top\":{\"type\":\"number\",\"value\":\"nan\"},\"bottom\":{\"type\":\"number\",\"value\":\"nan\"},\"left_units\":\"canvas\",\"right_units\":\"canvas\",\"top_units\":\"canvas\",\"bottom_units\":\"canvas\",\"line_color\":\"black\",\"line_alpha\":1.0,\"line_width\":2,\"line_dash\":[4,4],\"fill_color\":\"lightgrey\",\"fill_alpha\":0.5}}}},{\"type\":\"object\",\"name\":\"SaveTool\",\"id\":\"p4781\"},{\"type\":\"object\",\"name\":\"ResetTool\",\"id\":\"p4782\"},{\"type\":\"object\",\"name\":\"HelpTool\",\"id\":\"p4783\"},{\"type\":\"object\",\"name\":\"HoverTool\",\"id\":\"p4910\",\"attributes\":{\"renderers\":\"auto\",\"tooltips\":[[\"Continent\",\"@continent\"],[\"Year\",\"@Year\"],[\"Mean Life Expectancy\",\"@{Life expectancy at birth, total (years)}\"]]}}]}},\"left\":[{\"type\":\"object\",\"name\":\"LinearAxis\",\"id\":\"p4768\",\"attributes\":{\"ticker\":{\"type\":\"object\",\"name\":\"BasicTicker\",\"id\":\"p4769\",\"attributes\":{\"mantissas\":[1,2,5]}},\"formatter\":{\"type\":\"object\",\"name\":\"BasicTickFormatter\",\"id\":\"p4770\"},\"axis_label\":\"Mean Life Expectancy (years)\",\"major_label_policy\":{\"type\":\"object\",\"name\":\"AllLabels\",\"id\":\"p4771\"}}}],\"below\":[{\"type\":\"object\",\"name\":\"LinearAxis\",\"id\":\"p4763\",\"attributes\":{\"ticker\":{\"type\":\"object\",\"name\":\"BasicTicker\",\"id\":\"p4764\",\"attributes\":{\"mantissas\":[1,2,5]}},\"formatter\":{\"type\":\"object\",\"name\":\"BasicTickFormatter\",\"id\":\"p4765\"},\"axis_label\":\"Year\",\"major_label_policy\":{\"type\":\"object\",\"name\":\"AllLabels\",\"id\":\"p4766\"}}}],\"center\":[{\"type\":\"object\",\"name\":\"Grid\",\"id\":\"p4767\",\"attributes\":{\"axis\":{\"id\":\"p4763\"},\"grid_line_color\":null}},{\"type\":\"object\",\"name\":\"Grid\",\"id\":\"p4772\",\"attributes\":{\"dimension\":1,\"axis\":{\"id\":\"p4768\"},\"grid_line_color\":null}},{\"type\":\"object\",\"name\":\"Legend\",\"id\":\"p4796\",\"attributes\":{\"location\":\"bottom_right\",\"items\":[{\"type\":\"object\",\"name\":\"LegendItem\",\"id\":\"p4797\",\"attributes\":{\"label\":{\"type\":\"value\",\"value\":\"Africa\"},\"renderers\":[{\"id\":\"p4793\"},{\"id\":\"p4807\"}]}},{\"type\":\"object\",\"name\":\"LegendItem\",\"id\":\"p4822\",\"attributes\":{\"label\":{\"type\":\"value\",\"value\":\"Americas\"},\"renderers\":[{\"id\":\"p4819\"},{\"id\":\"p4832\"}]}},{\"type\":\"object\",\"name\":\"LegendItem\",\"id\":\"p4847\",\"attributes\":{\"label\":{\"type\":\"value\",\"value\":\"Asia\"},\"renderers\":[{\"id\":\"p4844\"},{\"id\":\"p4857\"}]}},{\"type\":\"object\",\"name\":\"LegendItem\",\"id\":\"p4872\",\"attributes\":{\"label\":{\"type\":\"value\",\"value\":\"Europe\"},\"renderers\":[{\"id\":\"p4869\"},{\"id\":\"p4882\"}]}},{\"type\":\"object\",\"name\":\"LegendItem\",\"id\":\"p4897\",\"attributes\":{\"label\":{\"type\":\"value\",\"value\":\"Oceania\"},\"renderers\":[{\"id\":\"p4894\"},{\"id\":\"p4907\"}]}}]}}]}}]}};\n  const render_items = [{\"docid\":\"8089b950-5207-400a-be51-fcd7bc27dc88\",\"roots\":{\"p4751\":\"f01c10a9-db59-4542-bf32-a2449775caa0\"},\"root_ids\":[\"p4751\"]}];\n  root.Bokeh.embed.embed_items_notebook(docs_json, render_items);\n  }\n  if (root.Bokeh !== undefined) {\n    embed_document(root);\n  } else {\n    let attempts = 0;\n    const timer = setInterval(function(root) {\n      if (root.Bokeh !== undefined) {\n        clearInterval(timer);\n        embed_document(root);\n      } else {\n        attempts++;\n        if (attempts > 100) {\n          clearInterval(timer);\n          console.log(\"Bokeh: ERROR: Unable to run BokehJS code because BokehJS library is missing\");\n        }\n      }\n    }, 10, root)\n  }\n})(window);",
      "application/vnd.bokehjs_exec.v0+json": ""
     },
     "metadata": {
      "application/vnd.bokehjs_exec.v0+json": {
       "id": "p4751"
      }
     },
     "output_type": "display_data"
    }
   ],
   "source": [
    "from bokeh.plotting import figure, show\n",
    "from bokeh.models import ColumnDataSource, HoverTool\n",
    "from bokeh.palettes import Category10,Viridis\n",
    "from bokeh.transform import factor_cmap\n",
    "\n",
    "source = ColumnDataSource(grouped_data_life)\n",
    "palette = Viridis[len(grouped_data_life['continent'].unique())]\n",
    "# Create a figure\n",
    "p = figure(title='Evolution of mean life expectancy by continent from 1962 to 2007', x_axis_label='Year', y_axis_label='Mean Life Expectancy (years)')\n",
    "\n",
    "for i, continent in enumerate(sorted(grouped_data_life['continent'].unique())):\n",
    "    continent_data = grouped_data_life[grouped_data_life['continent'] == continent]\n",
    "    p.line(x='Year', y='Life expectancy at birth, total (years)', source=continent_data, legend_label=continent,\n",
    "           line_width=1, line_color=palette[i])\n",
    "    p.circle(x='Year', y='Life expectancy at birth, total (years)', source=continent_data, size=2, color=palette[i], legend_label=continent)\n",
    "\n",
    "# Add a hover tool\n",
    "hover = HoverTool(tooltips=[('Continent', '@continent'), ('Year', '@Year'), ('Mean Life Expectancy', '@{Life expectancy at birth, total (years)}')])\n",
    "p.add_tools(hover)\n",
    "\n",
    "p.ygrid.grid_line_color = None\n",
    "p.xgrid.grid_line_color= None\n",
    "p.legend.location = 'bottom_right'\n",
    "p.outline_line_color = None\n",
    "# Show the plot\n",
    "show(p)"
   ]
  }
 ],
 "metadata": {
  "kernelspec": {
   "display_name": "Python 3",
   "language": "python",
   "name": "python3"
  },
  "language_info": {
   "codemirror_mode": {
    "name": "ipython",
    "version": 3
   },
   "file_extension": ".py",
   "mimetype": "text/x-python",
   "name": "python",
   "nbconvert_exporter": "python",
   "pygments_lexer": "ipython3",
   "version": "3.10.11"
  }
 },
 "nbformat": 4,
 "nbformat_minor": 2
}
